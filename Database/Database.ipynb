{
 "cells": [
  {
   "cell_type": "code",
   "execution_count": 1,
   "id": "e1ef8ee5-3ab3-4a93-ba98-2cbd18971f3b",
   "metadata": {},
   "outputs": [],
   "source": [
    "import pymysql\n",
    "import pandas as pd\n",
    "from sqlalchemy import create_engine\n",
    "import mysql.connector\n",
    "import os\n",
    "from copy import deepcopy\n",
    "import json\n",
    "from mysql.connector import Error\n",
    "from mysql.connector import (connection)\n",
    "import streamlit as st"
   ]
  },
  {
   "cell_type": "code",
   "execution_count": 2,
   "id": "ce917832",
   "metadata": {},
   "outputs": [],
   "source": [
    "DIR = os.getenv('KEA_BASE_DIR')"
   ]
  },
  {
   "cell_type": "code",
   "execution_count": 3,
   "id": "23c7454b",
   "metadata": {},
   "outputs": [],
   "source": [
    "df_config = {'constituency':'object',\n",
    "            'name':'object',\n",
    "            'party':'category',\n",
    "            'age':'Int32',\n",
    "            'gender':'category',\n",
    "            'cases':'Int32',\n",
    "            'assets':'Int64',\n",
    "            'liabilities':'Int64',\n",
    "            'education_category':'category',\n",
    "            'education':'object',\n",
    "            'district':'object',\n",
    "            'self_profession':'object',\n",
    "            'spouse_profession':'object',\n",
    "            'self_profession_category':'object',\n",
    "            'spouse_profession_category':'object',\n",
    "            'total_electors':'Int64',\n",
    "            'total_const_votes':'Int64',\n",
    "            'votes':'Int64',\n",
    "            'candidate_voteshare_percent':'Float64',\n",
    "            'constituency_category':'category',\n",
    "            'percent_votes':'Float64',\n",
    "            'total_electors':'Int64',\n",
    "            'voter_turnout':'Float64',\n",
    "            'is_re_elected':'Int32',\n",
    "            'eligible_male_voters':'Int64',\n",
    "            'eligible_female_voters':'Int64',\n",
    "            'eligible_other_voters':'Int64',\n",
    "            'eligible_total_voters':'Int64',\n",
    "            'const_num':'Int32',\n",
    "            'page_num':'Int32',\n",
    "            'male_voters':'Int64',\n",
    "            'female_voters':'Int64',\n",
    "            'other_voters':'Int64',\n",
    "            'total_voters':'Int64'\n",
    "            }\n",
    "with open('df_config.json','w',encoding='utf-8') as f:\n",
    "    json.dump(df_config, f)"
   ]
  },
  {
   "cell_type": "code",
   "execution_count": 4,
   "metadata": {},
   "outputs": [],
   "source": [
    "conn = connection.MySQLConnection(host=st.secrets['DB_HOST'],user=st.secrets['DB_USER'],password=st.secrets['DB_PASS'],database='kea')"
   ]
  },
  {
   "cell_type": "code",
   "execution_count": 72,
   "id": "9a5e268c",
   "metadata": {},
   "outputs": [],
   "source": [
    "####################################### CHANGE BEFORE PRODUCTION ##############################################\n",
    "\n",
    "def create_database(cursor,DB_NAME):\n",
    "    try:\n",
    "        cursor.execute(\n",
    "            f\"CREATE DATABASE {DB_NAME} DEFAULT CHARACTER SET 'utf8'\")\n",
    "    except mysql.connector.Error as err:\n",
    "        print(f\"Failed creating database: {err}\")\n",
    "        exit(1)"
   ]
  },
  {
   "cell_type": "code",
   "execution_count": 73,
   "id": "fd7bfe08",
   "metadata": {},
   "outputs": [],
   "source": [
    "####################################### CHANGE BEFORE PRODUCTION ##############################################\n",
    "\n",
    "# conn = mysql.connector.connect(host='localhost',user='root',password='')\n",
    "# cursor = conn.cursor()"
   ]
  },
  {
   "cell_type": "code",
   "execution_count": 74,
   "id": "544f03b0",
   "metadata": {},
   "outputs": [],
   "source": [
    "####################################### CHANGE BEFORE PRODUCTION ##############################################\n",
    "\n",
    "# create_database(cursor,'kea')\n",
    "# conn.commit()"
   ]
  },
  {
   "cell_type": "code",
   "execution_count": 4,
   "id": "21fd17ef",
   "metadata": {},
   "outputs": [],
   "source": [
    "with open(f'{DIR}/2013 Elections/const_num.json','r',encoding='utf-8') as f:\n",
    "    const_num = json.load(f)"
   ]
  },
  {
   "cell_type": "code",
   "execution_count": 5,
   "id": "bb64041d",
   "metadata": {},
   "outputs": [],
   "source": [
    "candid_myneta23 = pd.read_csv(f'{DIR}/2023 Elections/candidates2023MyNeta.csv',index_col=0,dtype=df_config)\n",
    "candid_myneta18 = pd.read_csv(f'{DIR}/2018 Elections/candidates2018MyNeta.csv',index_col=0,dtype=df_config)\n",
    "candid_myneta13 = pd.read_csv(f'{DIR}/2013 Elections/candidates2013MyNeta.csv',index_col=0,dtype=df_config)\n",
    "const_myneta23 = pd.read_csv(f'{DIR}/2023 Elections/winners2023MyNeta.csv',index_col=0,dtype=df_config)\n",
    "const_myneta18 = pd.read_csv(f'{DIR}/2018 Elections/winners2018MyNeta.csv',index_col=0,dtype=df_config)\n",
    "const_myneta13 = pd.read_csv(f'{DIR}/2013 Elections/winners2013MyNeta.csv',index_col=0,dtype=df_config)\n",
    "const_num = pd.Series(const_num['Constituency Name']).to_frame().reset_index().rename(columns={'index':'const_num',0:'constituency'})"
   ]
  },
  {
   "cell_type": "code",
   "execution_count": 5,
   "id": "abe4234a",
   "metadata": {},
   "outputs": [],
   "source": [
    "engine = create_engine(f\"mysql+pymysql://{st.secrets['DB_USER']}:{st.secrets['DB_PASS']}@{st.secrets['DB_HOST']}/kea\")\n",
    "# {root}:{password}@{url}/{database}\n"
   ]
  },
  {
   "cell_type": "code",
   "execution_count": 82,
   "id": "fa7e387d",
   "metadata": {},
   "outputs": [
    {
     "data": {
      "text/plain": [
       "2804"
      ]
     },
     "execution_count": 82,
     "metadata": {},
     "output_type": "execute_result"
    }
   ],
   "source": [
    "####################################### CHANGE BEFORE PRODUCTION ##############################################\n",
    "\n",
    "# candid_myneta23.to_sql('candid_myneta23',con=engine)\n",
    "# candid_myneta18.to_sql('candid_myneta18',con=engine)\n",
    "# candid_myneta13.to_sql('candid_myneta13',con=engine)"
   ]
  },
  {
   "cell_type": "code",
   "execution_count": null,
   "id": "a51b15be-657a-47a2-8311-0ba95764cbbc",
   "metadata": {},
   "outputs": [],
   "source": []
  },
  {
   "cell_type": "code",
   "execution_count": 7,
   "id": "811fd6af",
   "metadata": {},
   "outputs": [],
   "source": [
    "candid_opencity13 = pd.read_csv(f'{DIR}/2013 Elections/candidates2013OpenCity.csv',index_col=0,dtype=df_config)\n",
    "const_opencity13 = pd.read_csv(f'{DIR}/2013 Elections/constituency2013OpenCity.csv',index_col=0,dtype=df_config)\n",
    "const_eci18 = pd.read_csv(f'{DIR}/2018 Elections/constituency2018ECI.csv',index_col=0,dtype=df_config)\n",
    "candid_eci18 = pd.read_csv(f'{DIR}/2018 Elections/candidates2018ECI.csv',index_col=0,dtype=df_config)\n",
    "candid_ndtv23 = pd.read_csv(f'{DIR}/2023 Elections/candidates2023NDTV.csv',index_col=0,dtype=df_config)\n",
    "const_ndtv23 = pd.read_csv(f'{DIR}/2023 Elections/constituency2023NDTV.csv',index_col=0,dtype=df_config)\n",
    "eligible_voters = pd.read_csv(f'{DIR}/2023 Elections/eligible_voters_NEW.csv',index_col=0,dtype=df_config)"
   ]
  },
  {
   "cell_type": "code",
   "execution_count": 84,
   "id": "62076162-16af-4a80-bd85-e6223840ba87",
   "metadata": {},
   "outputs": [],
   "source": [
    "const18 = pd.merge(const_myneta18, const_eci18, on='constituency')\n",
    "const18 = const18.drop(['name_y','age_y','party_y'],axis=1).rename(columns={'name_x':'name', 'party_x':'party', 'age_x':'age'})\n",
    "const18 = pd.merge(const18,const_num,on='constituency')\n",
    "const18.const_num = const18.const_num.astype('Int32')"
   ]
  },
  {
   "cell_type": "code",
   "execution_count": 85,
   "id": "7c6e7cc7-16cc-4be7-9a12-d86bafff5257",
   "metadata": {},
   "outputs": [],
   "source": [
    "const13 = pd.merge(const_myneta13, const_opencity13, on='constituency')\n",
    "const13 = const13.drop(['name_y','age_y','party_y','district_y'],axis=1).rename(columns={'name_x':'name','party_x':'party',\n",
    "                                                                                         'age_x':'age','district_x':'district',\n",
    "                                                                                        'const_category':'constituency_category'})\n",
    "const13 = pd.merge(const13,const_num,on='constituency')\n",
    "const13.const_num = const13.const_num.astype('Int32')"
   ]
  },
  {
   "cell_type": "code",
   "execution_count": 86,
   "id": "42cf55d1-095a-4c1a-8e5d-cfceb298bafd",
   "metadata": {},
   "outputs": [],
   "source": [
    "const23 = pd.merge(const_myneta23, const_ndtv23, on='constituency')\n",
    "const23 = const23.drop(['name_y','age_y','party_y'],axis=1).rename(columns={'name_x':'name', 'party_x':'party', 'age_x':'age'})\n",
    "const23 = pd.merge(const23,const_num,on='constituency')\n",
    "const23.const_num = const23.const_num.astype('Int32')"
   ]
  },
  {
   "cell_type": "markdown",
   "id": "0a295bea",
   "metadata": {},
   "source": [
    "### Adding and modifying 2018 results for bye-elections"
   ]
  },
  {
   "cell_type": "code",
   "execution_count": 11,
   "id": "f1ac29f4",
   "metadata": {},
   "outputs": [],
   "source": [
    "consteci_18post = pd.read_excel(f'{DIR}/2018 Elections/constituency2018ECIpost-bye-elections.xlsx',index_col=0,dtype=df_config)\n",
    "const18_post = pd.merge(const_myneta18, consteci_18post, on='constituency')"
   ]
  },
  {
   "cell_type": "code",
   "execution_count": 12,
   "id": "0c9747f6",
   "metadata": {},
   "outputs": [],
   "source": [
    "const18_post.loc[const18_post.name_x!=const18_post.name_y,['cases', 'assets', 'liabilities', 'education_category', 'education','self_profession', 'spouse_profession', 'self_profession_category','spouse_profession_category', 'constituency_category']] = pd.NA\n",
    "const18_post = const18_post.drop(['name_x','age_x','party_x'],axis=1).rename(columns={'name_y':'name', 'party_y':'party', 'age_y':'age'})\n",
    "const18_post = pd.merge(const18_post,const_num,on='constituency')\n",
    "const18_post.const_num = const18_post.const_num.astype('Int32')"
   ]
  },
  {
   "cell_type": "code",
   "execution_count": 14,
   "id": "c72d8cb1",
   "metadata": {},
   "outputs": [
    {
     "data": {
      "text/plain": [
       "224"
      ]
     },
     "execution_count": 14,
     "metadata": {},
     "output_type": "execute_result"
    }
   ],
   "source": [
    "const18_post.to_sql('const18_post',con=engine)"
   ]
  },
  {
   "cell_type": "code",
   "execution_count": null,
   "id": "3484b23c",
   "metadata": {},
   "outputs": [],
   "source": []
  },
  {
   "cell_type": "code",
   "execution_count": null,
   "id": "897d63f0",
   "metadata": {},
   "outputs": [],
   "source": []
  },
  {
   "cell_type": "code",
   "execution_count": 87,
   "id": "45eb5941",
   "metadata": {},
   "outputs": [
    {
     "data": {
      "text/plain": [
       "224"
      ]
     },
     "execution_count": 87,
     "metadata": {},
     "output_type": "execute_result"
    }
   ],
   "source": [
    "####################################### CHANGE BEFORE PRODUCTION ##############################################\n",
    "\n",
    "candid_opencity13.to_sql('candid_opencity13',con=engine)\n",
    "const13.to_sql('const13',con=engine)\n",
    "const18.to_sql('const18',con=engine)\n",
    "candid_eci18.to_sql('candid_eci18',con=engine)\n",
    "candid_ndtv23.to_sql('candid_ndtv23',con=engine)\n",
    "const23.to_sql('const23',con=engine)\n",
    "eligible_voters.to_sql('eligible_voters',con=engine)\n",
    "const_num.to_sql('const_num',con=engine)"
   ]
  },
  {
   "cell_type": "code",
   "execution_count": null,
   "id": "ec5586ef-8de5-4fb2-949f-d88ca4d8e210",
   "metadata": {},
   "outputs": [],
   "source": []
  },
  {
   "cell_type": "code",
   "execution_count": null,
   "id": "f6d82b4b",
   "metadata": {},
   "outputs": [],
   "source": []
  },
  {
   "cell_type": "code",
   "execution_count": 24,
   "id": "d6e96dd2",
   "metadata": {},
   "outputs": [],
   "source": [
    "with open(f'{DIR}/OpenAI/name_merge.json','r',encoding='utf-8') as file:\n",
    "    name_merge = json.load(file)"
   ]
  },
  {
   "cell_type": "code",
   "execution_count": 89,
   "id": "0e5bb35c",
   "metadata": {},
   "outputs": [],
   "source": [
    "# Changing the names from votes dataset to match the names in myneta dataset\n",
    "\n",
    "for year in name_merge.keys():\n",
    "    df  = candid_opencity13 if year=='2013' else candid_eci18 if year=='2018' else candid_ndtv23\n",
    "    for constituency in name_merge[year].keys():\n",
    "        for key in name_merge[year][constituency].keys():\n",
    "            to_change = name_merge[year][constituency][key]\n",
    "            df.loc[(df.constituency==constituency) & (df.name==to_change),'name'] = key"
   ]
  },
  {
   "cell_type": "code",
   "execution_count": 90,
   "id": "0e7a50ed",
   "metadata": {},
   "outputs": [
    {
     "name": "stdout",
     "output_type": "stream",
     "text": [
      "<class 'pandas.core.frame.DataFrame'>\n",
      "Int64Index: 2807 entries, 0 to 2806\n",
      "Data columns (total 20 columns):\n",
      " #   Column                       Non-Null Count  Dtype   \n",
      "---  ------                       --------------  -----   \n",
      " 0   constituency                 2807 non-null   object  \n",
      " 1   name                         2807 non-null   object  \n",
      " 2   cases                        2791 non-null   Int32   \n",
      " 3   assets                       2741 non-null   Int64   \n",
      " 4   liabilities                  1558 non-null   Int64   \n",
      " 5   education_category           2807 non-null   category\n",
      " 6   education                    2807 non-null   object  \n",
      " 7   self_profession              2807 non-null   object  \n",
      " 8   spouse_profession            2807 non-null   object  \n",
      " 9   self_profession_category     2807 non-null   object  \n",
      " 10  spouse_profession_category   2807 non-null   object  \n",
      " 11  district                     2807 non-null   object  \n",
      " 12  gender                       2807 non-null   category\n",
      " 13  age                          2807 non-null   Int32   \n",
      " 14  party                        2807 non-null   category\n",
      " 15  const_category               2807 non-null   object  \n",
      " 16  total_electors               2807 non-null   Int64   \n",
      " 17  total_const_votes            2807 non-null   Int64   \n",
      " 18  votes                        2807 non-null   Int64   \n",
      " 19  candidate_voteshare_percent  2807 non-null   Float64 \n",
      "dtypes: Float64(1), Int32(2), Int64(5), category(3), object(9)\n",
      "memory usage: 406.1+ KB\n"
     ]
    }
   ],
   "source": [
    "candid13 = pd.merge(candid_myneta13, candid_opencity13, on=['name','constituency'],how='inner')\n",
    "candid13 = candid13.drop(columns=['party_x','age_x','district_x']).rename(columns={'party_y':'party','age_y':'age','district_y':'district'})\n",
    "candid13.info()"
   ]
  },
  {
   "cell_type": "code",
   "execution_count": 91,
   "id": "b33dc0b4",
   "metadata": {},
   "outputs": [
    {
     "name": "stdout",
     "output_type": "stream",
     "text": [
      "<class 'pandas.core.frame.DataFrame'>\n",
      "Int64Index: 2577 entries, 0 to 2576\n",
      "Data columns (total 18 columns):\n",
      " #   Column                      Non-Null Count  Dtype   \n",
      "---  ------                      --------------  -----   \n",
      " 0   constituency                2577 non-null   object  \n",
      " 1   name                        2577 non-null   object  \n",
      " 2   cases                       2576 non-null   Int32   \n",
      " 3   assets                      2559 non-null   Int64   \n",
      " 4   liabilities                 1479 non-null   Int64   \n",
      " 5   education_category          2577 non-null   category\n",
      " 6   education                   2577 non-null   object  \n",
      " 7   district                    2577 non-null   object  \n",
      " 8   self_profession             2577 non-null   object  \n",
      " 9   spouse_profession           2577 non-null   object  \n",
      " 10  self_profession_category    2577 non-null   object  \n",
      " 11  spouse_profession_category  2577 non-null   object  \n",
      " 12  age                         2552 non-null   Int32   \n",
      " 13  gender                      2552 non-null   category\n",
      " 14  party                       2577 non-null   category\n",
      " 15  votes                       2577 non-null   Int64   \n",
      " 16  percent_votes               2558 non-null   Float64 \n",
      " 17  constituency_category       2577 non-null   category\n",
      "dtypes: Float64(1), Int32(2), Int64(3), category(4), object(8)\n",
      "memory usage: 310.5+ KB\n"
     ]
    }
   ],
   "source": [
    "candid18 = pd.merge(candid_myneta18, candid_eci18, on=['name','constituency'],how='inner')\n",
    "candid18 = candid18.drop(columns=['party_x','age_x']).rename(columns={'party_y':'party','age_y':'age'})\n",
    "candid18.info()"
   ]
  },
  {
   "cell_type": "code",
   "execution_count": 92,
   "id": "928992c9",
   "metadata": {},
   "outputs": [
    {
     "name": "stdout",
     "output_type": "stream",
     "text": [
      "<class 'pandas.core.frame.DataFrame'>\n",
      "Int64Index: 2595 entries, 0 to 2594\n",
      "Data columns (total 17 columns):\n",
      " #   Column                      Non-Null Count  Dtype   \n",
      "---  ------                      --------------  -----   \n",
      " 0   constituency                2595 non-null   object  \n",
      " 1   name                        2595 non-null   object  \n",
      " 2   age                         2595 non-null   Int32   \n",
      " 3   cases                       2595 non-null   Int32   \n",
      " 4   assets                      2581 non-null   Int64   \n",
      " 5   liabilities                 1639 non-null   Int64   \n",
      " 6   education_category          2595 non-null   category\n",
      " 7   education                   2595 non-null   object  \n",
      " 8   constituency_category       2595 non-null   category\n",
      " 9   district                    2595 non-null   object  \n",
      " 10  self_profession             2595 non-null   object  \n",
      " 11  spouse_profession           2595 non-null   object  \n",
      " 12  self_profession_category    2595 non-null   object  \n",
      " 13  spouse_profession_category  2595 non-null   object  \n",
      " 14  party                       2595 non-null   category\n",
      " 15  votes                       2577 non-null   Int64   \n",
      " 16  gender                      2564 non-null   category\n",
      "dtypes: Int32(2), Int64(3), category(4), object(8)\n",
      "memory usage: 290.0+ KB\n"
     ]
    }
   ],
   "source": [
    "candid23 = pd.merge(candid_myneta23, candid_ndtv23, on=['name','constituency'],how='inner')\n",
    "candid23 = candid23.drop(columns=['party_x']).rename(columns={'party_y':'party'})\n",
    "candid23.info()"
   ]
  },
  {
   "cell_type": "code",
   "execution_count": 93,
   "id": "6d59d072",
   "metadata": {},
   "outputs": [
    {
     "data": {
      "text/plain": [
       "2595"
      ]
     },
     "execution_count": 93,
     "metadata": {},
     "output_type": "execute_result"
    }
   ],
   "source": [
    "####################################### CHANGE BEFORE PRODUCTION ##############################################\n",
    "\n",
    "# candid13.to_sql('candid13',con=engine)\n",
    "# candid18.to_sql('candid18',con=engine)\n",
    "# candid23.to_sql('candid23',con=engine)"
   ]
  },
  {
   "cell_type": "markdown",
   "id": "9ef1dbc5",
   "metadata": {},
   "source": [
    "### Adding and modifying 2018 results for bye-elections"
   ]
  },
  {
   "cell_type": "code",
   "execution_count": 15,
   "id": "ff8816b8",
   "metadata": {},
   "outputs": [],
   "source": [
    "candideci_18post = pd.read_excel(f\"{DIR}/2018 Elections/candidates2018ECIpost-bye-elections.xlsx\",index_col=0,dtype=df_config)"
   ]
  },
  {
   "cell_type": "code",
   "execution_count": 16,
   "id": "c395d4c8",
   "metadata": {},
   "outputs": [
    {
     "ename": "NameError",
     "evalue": "name 'name_merge' is not defined",
     "output_type": "error",
     "traceback": [
      "\u001b[1;31m---------------------------------------------------------------------------\u001b[0m",
      "\u001b[1;31mNameError\u001b[0m                                 Traceback (most recent call last)",
      "Cell \u001b[1;32mIn[16], line 5\u001b[0m\n\u001b[0;32m      3\u001b[0m year\u001b[39m=\u001b[39m\u001b[39m'\u001b[39m\u001b[39m2018\u001b[39m\u001b[39m'\u001b[39m\n\u001b[0;32m      4\u001b[0m df \u001b[39m=\u001b[39m candideci_18post\n\u001b[1;32m----> 5\u001b[0m \u001b[39mfor\u001b[39;00m constituency \u001b[39min\u001b[39;00m name_merge[year]\u001b[39m.\u001b[39mkeys():\n\u001b[0;32m      6\u001b[0m     \u001b[39mif\u001b[39;00m constituency \u001b[39mnot\u001b[39;00m \u001b[39min\u001b[39;00m [\u001b[39m'\u001b[39m\u001b[39mAthani\u001b[39m\u001b[39m'\u001b[39m,\u001b[39m'\u001b[39m\u001b[39mChikkaballapur\u001b[39m\u001b[39m'\u001b[39m,\u001b[39m'\u001b[39m\u001b[39mGokak\u001b[39m\u001b[39m'\u001b[39m,\u001b[39m'\u001b[39m\u001b[39mHirekerur\u001b[39m\u001b[39m'\u001b[39m,\u001b[39m'\u001b[39m\u001b[39mHosakote\u001b[39m\u001b[39m'\u001b[39m,\u001b[39m'\u001b[39m\u001b[39mHunsur\u001b[39m\u001b[39m'\u001b[39m,\u001b[39m'\u001b[39m\u001b[39mKagwad\u001b[39m\u001b[39m'\u001b[39m,\u001b[39m'\u001b[39m\u001b[39mK.R.Pura\u001b[39m\u001b[39m'\u001b[39m,\u001b[39m'\u001b[39m\u001b[39mKrishnarajpet\u001b[39m\u001b[39m'\u001b[39m,\u001b[39m'\u001b[39m\u001b[39mMahalakshmi Layout\u001b[39m\u001b[39m'\u001b[39m,\u001b[39m'\u001b[39m\u001b[39mRanibennur\u001b[39m\u001b[39m'\u001b[39m,\u001b[39m'\u001b[39m\u001b[39mShivajinagar\u001b[39m\u001b[39m'\u001b[39m,\u001b[39m'\u001b[39m\u001b[39mVijayanagara\u001b[39m\u001b[39m'\u001b[39m,\u001b[39m'\u001b[39m\u001b[39mYellapur\u001b[39m\u001b[39m'\u001b[39m,\u001b[39m'\u001b[39m\u001b[39mYeshvanthapura\u001b[39m\u001b[39m'\u001b[39m]:\n\u001b[0;32m      7\u001b[0m         \u001b[39mfor\u001b[39;00m key \u001b[39min\u001b[39;00m name_merge[year][constituency]\u001b[39m.\u001b[39mkeys():\n",
      "\u001b[1;31mNameError\u001b[0m: name 'name_merge' is not defined"
     ]
    }
   ],
   "source": [
    "# Changing the names from votes dataset to match the names in myneta dataset\n",
    "\n",
    "year='2018'\n",
    "df = candideci_18post\n",
    "for constituency in name_merge[year].keys():\n",
    "    if constituency not in ['Athani','Chikkaballapur','Gokak','Hirekerur','Hosakote','Hunsur','Kagwad','K.R.Pura','Krishnarajpet','Mahalakshmi Layout','Ranibennur','Shivajinagar','Vijayanagara','Yellapur','Yeshvanthapura']:\n",
    "        for key in name_merge[year][constituency].keys():\n",
    "            to_change = name_merge[year][constituency][key]\n",
    "            df.loc[(df.constituency==constituency) & (df.name==to_change),'name'] = key"
   ]
  },
  {
   "cell_type": "code",
   "execution_count": 17,
   "id": "f27607fb",
   "metadata": {},
   "outputs": [
    {
     "name": "stdout",
     "output_type": "stream",
     "text": [
      "<class 'pandas.core.frame.DataFrame'>\n",
      "Int64Index: 2737 entries, 0 to 2736\n",
      "Data columns (total 18 columns):\n",
      " #   Column                      Non-Null Count  Dtype   \n",
      "---  ------                      --------------  -----   \n",
      " 0   constituency                2737 non-null   object  \n",
      " 1   name                        2737 non-null   object  \n",
      " 2   cases                       1796 non-null   Int32   \n",
      " 3   assets                      1782 non-null   Int64   \n",
      " 4   liabilities                 984 non-null    Int64   \n",
      " 5   education_category          1797 non-null   category\n",
      " 6   education                   1797 non-null   object  \n",
      " 7   district                    1797 non-null   object  \n",
      " 8   self_profession             1797 non-null   object  \n",
      " 9   spouse_profession           1797 non-null   object  \n",
      " 10  self_profession_category    1797 non-null   object  \n",
      " 11  spouse_profession_category  1797 non-null   object  \n",
      " 12  age                         2496 non-null   Int32   \n",
      " 13  gender                      2508 non-null   category\n",
      " 14  party                       2737 non-null   category\n",
      " 15  votes                       2737 non-null   Int64   \n",
      " 16  percent_votes               2688 non-null   Float64 \n",
      " 17  constituency_category       2736 non-null   category\n",
      "dtypes: Float64(1), Int32(2), Int64(3), category(4), object(8)\n",
      "memory usage: 329.6+ KB\n"
     ]
    }
   ],
   "source": [
    "candid18_post = pd.merge(candid_myneta18, candideci_18post, on=['name','constituency'],how='right')\n",
    "candid18_post = candid18_post.drop(columns=['party_x','age_x']).rename(columns={'party_y':'party','age_y':'age'})\n",
    "candid18_post.info()"
   ]
  },
  {
   "cell_type": "code",
   "execution_count": 18,
   "id": "d2e0fe55",
   "metadata": {},
   "outputs": [
    {
     "data": {
      "text/plain": [
       "2737"
      ]
     },
     "execution_count": 18,
     "metadata": {},
     "output_type": "execute_result"
    }
   ],
   "source": [
    "candid18_post.to_sql('candid18_post',con=engine)"
   ]
  },
  {
   "cell_type": "code",
   "execution_count": null,
   "id": "bbec08ec",
   "metadata": {},
   "outputs": [],
   "source": []
  },
  {
   "cell_type": "markdown",
   "id": "aa295e9c",
   "metadata": {},
   "source": []
  }
 ],
 "metadata": {
  "kernelspec": {
   "display_name": "Python 3 (ipykernel)",
   "language": "python",
   "name": "python3"
  },
  "language_info": {
   "codemirror_mode": {
    "name": "ipython",
    "version": 3
   },
   "file_extension": ".py",
   "mimetype": "text/x-python",
   "name": "python",
   "nbconvert_exporter": "python",
   "pygments_lexer": "ipython3",
   "version": "3.11.2"
  }
 },
 "nbformat": 4,
 "nbformat_minor": 5
}
