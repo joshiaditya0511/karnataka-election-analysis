{
 "cells": [
  {
   "cell_type": "code",
   "execution_count": 55,
   "metadata": {},
   "outputs": [],
   "source": [
    "import pandas as pd\n",
    "# from math import ceil\n",
    "\n",
    "df13 = pd.read_csv('../../Final Data/candid_opencity13.csv', index_col=0)\n",
    "df18 = pd.read_excel(\"../2018 Elections/10.Detailed Resulsts.xls\")\n",
    "df23 = pd.read_csv('../../Final Data/candid_eci23.csv', index_col=0)\n",
    "const_num = pd.read_csv('../../Final Data/const_num.csv', index_col=0)"
   ]
  },
  {
   "cell_type": "code",
   "execution_count": 56,
   "metadata": {},
   "outputs": [
    {
     "data": {
      "text/html": [
       "<div>\n",
       "<style scoped>\n",
       "    .dataframe tbody tr th:only-of-type {\n",
       "        vertical-align: middle;\n",
       "    }\n",
       "\n",
       "    .dataframe tbody tr th {\n",
       "        vertical-align: top;\n",
       "    }\n",
       "\n",
       "    .dataframe thead th {\n",
       "        text-align: right;\n",
       "    }\n",
       "</style>\n",
       "<table border=\"1\" class=\"dataframe\">\n",
       "  <thead>\n",
       "    <tr style=\"text-align: right;\">\n",
       "      <th></th>\n",
       "      <th>constituency</th>\n",
       "      <th>const_num</th>\n",
       "      <th>total_electors</th>\n",
       "      <th>total_const_votes</th>\n",
       "      <th>Year</th>\n",
       "    </tr>\n",
       "  </thead>\n",
       "  <tbody>\n",
       "    <tr>\n",
       "      <th>0</th>\n",
       "      <td>Nippani</td>\n",
       "      <td>1</td>\n",
       "      <td>189696</td>\n",
       "      <td>152690</td>\n",
       "      <td>2013</td>\n",
       "    </tr>\n",
       "    <tr>\n",
       "      <th>12</th>\n",
       "      <td>Chikkodi-Sadalga</td>\n",
       "      <td>2</td>\n",
       "      <td>187308</td>\n",
       "      <td>149375</td>\n",
       "      <td>2013</td>\n",
       "    </tr>\n",
       "    <tr>\n",
       "      <th>24</th>\n",
       "      <td>Athani</td>\n",
       "      <td>3</td>\n",
       "      <td>186167</td>\n",
       "      <td>146290</td>\n",
       "      <td>2013</td>\n",
       "    </tr>\n",
       "    <tr>\n",
       "      <th>34</th>\n",
       "      <td>Kagwad</td>\n",
       "      <td>4</td>\n",
       "      <td>164201</td>\n",
       "      <td>129200</td>\n",
       "      <td>2013</td>\n",
       "    </tr>\n",
       "    <tr>\n",
       "      <th>47</th>\n",
       "      <td>Kudachi</td>\n",
       "      <td>5</td>\n",
       "      <td>147941</td>\n",
       "      <td>115375</td>\n",
       "      <td>2013</td>\n",
       "    </tr>\n",
       "  </tbody>\n",
       "</table>\n",
       "</div>"
      ],
      "text/plain": [
       "        constituency  const_num  total_electors  total_const_votes  Year\n",
       "0            Nippani          1          189696             152690  2013\n",
       "12  Chikkodi-Sadalga          2          187308             149375  2013\n",
       "24            Athani          3          186167             146290  2013\n",
       "34            Kagwad          4          164201             129200  2013\n",
       "47           Kudachi          5          147941             115375  2013"
      ]
     },
     "execution_count": 56,
     "metadata": {},
     "output_type": "execute_result"
    }
   ],
   "source": [
    "df13 = df13.merge(const_num, on='constituency', how='right')[['constituency', 'const_num', 'total_electors', 'total_const_votes']]\n",
    "df13.drop_duplicates(inplace=True)\n",
    "df13['const_num'] = df13['const_num'].astype(int)\n",
    "df13['Year'] = 2013\n",
    "df13.head(5)"
   ]
  },
  {
   "cell_type": "code",
   "execution_count": 57,
   "metadata": {},
   "outputs": [
    {
     "data": {
      "text/html": [
       "<div>\n",
       "<style scoped>\n",
       "    .dataframe tbody tr th:only-of-type {\n",
       "        vertical-align: middle;\n",
       "    }\n",
       "\n",
       "    .dataframe tbody tr th {\n",
       "        vertical-align: top;\n",
       "    }\n",
       "\n",
       "    .dataframe thead th {\n",
       "        text-align: right;\n",
       "    }\n",
       "</style>\n",
       "<table border=\"1\" class=\"dataframe\">\n",
       "  <thead>\n",
       "    <tr style=\"text-align: right;\">\n",
       "      <th></th>\n",
       "      <th>constituency</th>\n",
       "      <th>total_electors</th>\n",
       "      <th>total_const_votes</th>\n",
       "      <th>const_num</th>\n",
       "      <th>Year</th>\n",
       "    </tr>\n",
       "  </thead>\n",
       "  <tbody>\n",
       "    <tr>\n",
       "      <th>0</th>\n",
       "      <td>Nippani</td>\n",
       "      <td>212456</td>\n",
       "      <td>172251</td>\n",
       "      <td>1</td>\n",
       "      <td>2018</td>\n",
       "    </tr>\n",
       "    <tr>\n",
       "      <th>1</th>\n",
       "      <td>Chikkodi-Sadalga</td>\n",
       "      <td>211083</td>\n",
       "      <td>179201</td>\n",
       "      <td>2</td>\n",
       "      <td>2018</td>\n",
       "    </tr>\n",
       "    <tr>\n",
       "      <th>2</th>\n",
       "      <td>Athani</td>\n",
       "      <td>214688</td>\n",
       "      <td>170565</td>\n",
       "      <td>3</td>\n",
       "      <td>2018</td>\n",
       "    </tr>\n",
       "    <tr>\n",
       "      <th>3</th>\n",
       "      <td>Kagwad</td>\n",
       "      <td>182173</td>\n",
       "      <td>145735</td>\n",
       "      <td>4</td>\n",
       "      <td>2018</td>\n",
       "    </tr>\n",
       "    <tr>\n",
       "      <th>4</th>\n",
       "      <td>Kudachi  (SC)</td>\n",
       "      <td>180509</td>\n",
       "      <td>136653</td>\n",
       "      <td>5</td>\n",
       "      <td>2018</td>\n",
       "    </tr>\n",
       "  </tbody>\n",
       "</table>\n",
       "</div>"
      ],
      "text/plain": [
       "       constituency  total_electors  total_const_votes  const_num  Year\n",
       "0           Nippani          212456             172251          1  2018\n",
       "1  Chikkodi-Sadalga          211083             179201          2  2018\n",
       "2            Athani          214688             170565          3  2018\n",
       "3            Kagwad          182173             145735          4  2018\n",
       "4     Kudachi  (SC)          180509             136653          5  2018"
      ]
     },
     "execution_count": 57,
     "metadata": {},
     "output_type": "execute_result"
    }
   ],
   "source": [
    "df18.columns = ['num','name','gender','age','candid_categ','party','symbol','gen_votes','post_votes','total_votes','percent_votes']\n",
    "df18['num'] = df18['num'].astype(str)\n",
    "df18 = df18.loc[df18['num'].str.contains('Constituency|TURNOUT')]\n",
    "\n",
    "turnout18 = {\n",
    "    'constituency': [],\n",
    "    'total_electors': [],\n",
    "    'total_const_votes':[],\n",
    "    'const_num':[],\n",
    "}\n",
    "\n",
    "for idx, row in df18.iterrows():\n",
    "    if row['num'] == 'Constituency':\n",
    "        turnout18['const_num'].append(row['name'])\n",
    "        turnout18['constituency'].append(row['age'])\n",
    "        turnout18['total_electors'].append(row['party'])\n",
    "    else:\n",
    "        turnout18['total_const_votes'].append(row['candid_categ'])\n",
    "\n",
    "df18 = pd.DataFrame(turnout18)\n",
    "df18['const_num'] = df18['const_num'].astype(int)\n",
    "df18['Year'] = 2018\n",
    "df18.head(5)"
   ]
  },
  {
   "cell_type": "code",
   "execution_count": 58,
   "metadata": {},
   "outputs": [],
   "source": [
    "df23 = df23[['const_num', 'constituency', 'total_electors', 'total_const_votes']].drop_duplicates()\n",
    "df23['const_num'] = df23['const_num'].astype(int)\n",
    "df23['Year'] = 2023"
   ]
  },
  {
   "cell_type": "code",
   "execution_count": 63,
   "metadata": {},
   "outputs": [],
   "source": [
    "df = pd.concat([df13, df18, df23], axis=0)\n",
    "df = df.merge(const_num, on='const_num', how='left').drop(columns=['constituency_x']).rename(columns={'constituency_y':'constituency'})"
   ]
  },
  {
   "cell_type": "code",
   "execution_count": 73,
   "metadata": {},
   "outputs": [],
   "source": [
    "df.to_csv('../../Final Data/voter_turnout.csv', index=False)"
   ]
  }
 ],
 "metadata": {
  "kernelspec": {
   "display_name": "env",
   "language": "python",
   "name": "python3"
  },
  "language_info": {
   "codemirror_mode": {
    "name": "ipython",
    "version": 3
   },
   "file_extension": ".py",
   "mimetype": "text/x-python",
   "name": "python",
   "nbconvert_exporter": "python",
   "pygments_lexer": "ipython3",
   "version": "3.12.3"
  }
 },
 "nbformat": 4,
 "nbformat_minor": 2
}
