{
 "cells": [
  {
   "cell_type": "code",
   "execution_count": 2,
   "id": "5ff3a21d",
   "metadata": {},
   "outputs": [],
   "source": [
    "import asyncio\n",
    "import requests\n",
    "import re\n",
    "from bs4 import BeautifulSoup\n",
    "import time\n",
    "from math import ceil\n",
    "import os\n",
    "DIR = os.getenv('KEA_BASE_DIR')"
   ]
  },
  {
   "cell_type": "code",
   "execution_count": 3,
   "id": "21fc3b08-53b6-4995-be7d-5e8f49224afa",
   "metadata": {},
   "outputs": [],
   "source": [
    "headers = {'User-Agent':'Mozilla/5.0 (Windows NT 10.0; Win64; x64) AppleWebKit/537.36 (KHTML, like Gecko) Chrome/114.0.0.0 Safari/537.36 Edg/114.0.1823.51',\n",
    "          'Accept':\"text/html,application/xhtml+xml,application/xml;q=0.9,image/webp,image/apng,*/*;q=0.8,application/signed-exchange;v=b3;q=0.7\"}\n",
    "\n",
    "def http_get_sync(url: str):\n",
    "    response = requests.get(url,headers=headers,timeout=(15.0,30.0))\n",
    "    return response.content\n",
    "    \n",
    "async def http_get(url: str):\n",
    "    return await asyncio.to_thread(http_get_sync, url)"
   ]
  },
  {
   "cell_type": "code",
   "execution_count": 4,
   "id": "91104a21-72ca-40ce-9eee-604144fce6c1",
   "metadata": {},
   "outputs": [],
   "source": [
    "response = requests.get(\"https://jds.ind.in/en/format-c7-of-candidates-ac-2023.php\",headers=headers,timeout=(15.0,30.0))"
   ]
  },
  {
   "cell_type": "code",
   "execution_count": 5,
   "id": "5ec078d0-bd50-4042-bf15-f03675eb894e",
   "metadata": {},
   "outputs": [],
   "source": [
    "soup = BeautifulSoup(response.text,'html.parser')\n",
    "\n",
    "def has_link(href):\n",
    "    return href and bool(re.search(r\"/candidates-case-pdf/\",href))\n",
    "    \n",
    "temp_list = soup.find_all('a',href=has_link)\n",
    "documents = list(set(temp_list))"
   ]
  },
  {
   "cell_type": "code",
   "execution_count": 9,
   "id": "ee463f9e-dfc2-4fe2-9cf9-12424f7b4a63",
   "metadata": {},
   "outputs": [],
   "source": [
    "for document in documents:\n",
    "    url = \"https://jds.ind.in\" + document['href'].strip('.')\n",
    "    pdf = await http_get(url)\n",
    "    name = document['href'].strip('.').replace('/candidates-case-pdf/','').replace('.docx','')\n",
    "    with open(f\"{DIR}/2023 Elections/Format C7/JDS Format C7/{name}\",'wb') as file:\n",
    "        file.write(pdf)"
   ]
  }
 ],
 "metadata": {
  "kernelspec": {
   "display_name": "Python 3 (ipykernel)",
   "language": "python",
   "name": "python3"
  },
  "language_info": {
   "codemirror_mode": {
    "name": "ipython",
    "version": 3
   },
   "file_extension": ".py",
   "mimetype": "text/x-python",
   "name": "python",
   "nbconvert_exporter": "python",
   "pygments_lexer": "ipython3",
   "version": "3.11.2"
  }
 },
 "nbformat": 4,
 "nbformat_minor": 5
}
