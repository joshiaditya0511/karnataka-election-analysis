{
 "cells": [
  {
   "cell_type": "code",
   "execution_count": 1,
   "id": "efb465fd",
   "metadata": {},
   "outputs": [],
   "source": [
    "import pandas as pd\n",
    "import numpy as np\n",
    "from itertools import combinations\n",
    "import re\n",
    "import json\n",
    "from math import ceil\n",
    "# import tiktoken\n",
    "import time\n",
    "import os\n",
    "import openai\n",
    "from statistics import mean\n",
    "from json import JSONDecodeError\n",
    "from copy import deepcopy"
   ]
  },
  {
   "cell_type": "code",
   "execution_count": 2,
   "id": "685928ff-5cd3-4502-9580-923296ec3211",
   "metadata": {},
   "outputs": [],
   "source": [
    "DIR = os.getenv('KEA_BASE_DIR')"
   ]
  },
  {
   "cell_type": "markdown",
   "id": "1b89124a",
   "metadata": {},
   "source": [
    "## Profession Segmentation"
   ]
  },
  {
   "cell_type": "code",
   "execution_count": 3,
   "id": "e41117ea",
   "metadata": {},
   "outputs": [],
   "source": [
    "const_myneta13 = pd.read_csv(f'{DIR}/2013 Elections/winners2013MyNeta.csv',index_col=0)\n",
    "const_myneta18 = pd.read_csv(f'{DIR}/2018 Elections/winners2018MyNeta.csv',index_col=0)\n",
    "const_myneta23 = pd.read_csv(f'{DIR}/2023 Elections/winners2023MyNeta.csv',index_col=0)\n",
    "candid_myneta13 = pd.read_csv(f'{DIR}/2013 Elections/candidates2013MyNeta.csv',index_col=0)\n",
    "candid_myneta18 = pd.read_csv(f'{DIR}/2018 Elections/candidates2018MyNeta.csv',index_col=0)\n",
    "candid_myneta23 = pd.read_csv(f'{DIR}/2023 Elections/candidates2023MyNeta.csv',index_col=0)"
   ]
  },
  {
   "cell_type": "code",
   "execution_count": 4,
   "id": "9535c5c2",
   "metadata": {},
   "outputs": [
    {
     "data": {
      "text/plain": [
       "4233"
      ]
     },
     "execution_count": 4,
     "metadata": {},
     "output_type": "execute_result"
    }
   ],
   "source": [
    "self_prof_23 = list(candid_myneta23.self_profession.unique()) + list(const_myneta13.self_profession.unique())\n",
    "self_prof_13 = list(candid_myneta13.self_profession.unique()) + list(const_myneta23.self_profession.unique())\n",
    "self_prof_18 = list(candid_myneta18.self_profession.unique()) + list(const_myneta18.self_profession.unique())\n",
    "\n",
    "spouse_prof_23 = list(candid_myneta23.spouse_profession.unique()) + list(const_myneta13.spouse_profession.unique())\n",
    "spouse_prof_13 = list(candid_myneta13.spouse_profession.unique()) + list(const_myneta23.spouse_profession.unique())\n",
    "spouse_prof_18 = list(candid_myneta18.spouse_profession.unique()) + list(const_myneta18.spouse_profession.unique())\n",
    "\n",
    "temp_list = self_prof_23 + self_prof_13 + self_prof_18 + spouse_prof_23 + spouse_prof_13 + spouse_prof_18\n",
    "total_prof = list(set(temp_list))\n",
    "len(total_prof)"
   ]
  },
  {
   "cell_type": "code",
   "execution_count": 15,
   "id": "4fe4c007",
   "metadata": {},
   "outputs": [],
   "source": [
    "categories_raw = \"\"\"Politics / Public Service\n",
    "Business / Entrepreneurship\n",
    "Law / Judiciary\n",
    "Education / Academia\n",
    "Medicine / Healthcare\n",
    "Engineering / Technology\n",
    "Agriculture / Farming\n",
    "Media / Journalism\n",
    "Arts / Entertainment\n",
    "Social Work / Activism\n",
    "Sports / Athletics\n",
    "Military / Defense\n",
    "Information Technology\n",
    "Banking / Finance\n",
    "Environmental Conservation\n",
    "Transportation / Logistics\n",
    "Science / Research\n",
    "Hospitality / Tourism\n",
    "Construction / Real Estate\n",
    "Religion / Spirituality\n",
    "Law Enforcement / Security\n",
    "Consulting / Advisory\"\"\""
   ]
  },
  {
   "cell_type": "code",
   "execution_count": 16,
   "id": "12d27afe",
   "metadata": {},
   "outputs": [
    {
     "data": {
      "text/plain": [
       "'1. Politics / Public Service\\n2. Business / Entrepreneurship\\n3. Law / Judiciary\\n4. Education / Academia\\n5. Medicine / Healthcare\\n6. Engineering / Technology\\n7. Agriculture / Farming\\n8. Media / Journalism\\n9. Arts / Entertainment\\n10. Social Work / Activism\\n11. Sports / Athletics\\n12. Military / Defense\\n13. Information Technology\\n14. Banking / Finance\\n15. Environmental Conservation\\n16. Transportation / Logistics\\n17. Science / Research\\n18. Hospitality / Tourism\\n19. Construction / Real Estate\\n20. Religion / Spirituality\\n21. Law Enforcement / Security\\n22. Consulting / Advisory'"
      ]
     },
     "execution_count": 16,
     "metadata": {},
     "output_type": "execute_result"
    }
   ],
   "source": [
    "categories = [str(i+1) + '. ' + categories_raw.split('\\n')[i] for i in range(len(categories_raw.split('\\n')))]\n",
    "categories = '\\n'.join(categories)\n",
    "categories"
   ]
  },
  {
   "cell_type": "code",
   "execution_count": 17,
   "id": "898d3f71",
   "metadata": {},
   "outputs": [
    {
     "data": {
      "text/plain": [
       "{1: 'Politics / Public Service',\n",
       " 2: 'Business / Entrepreneurship',\n",
       " 3: 'Law / Judiciary',\n",
       " 4: 'Education / Academia',\n",
       " 5: 'Medicine / Healthcare',\n",
       " 6: 'Engineering / Technology',\n",
       " 7: 'Agriculture / Farming',\n",
       " 8: 'Media / Journalism',\n",
       " 9: 'Arts / Entertainment',\n",
       " 10: 'Social Work / Activism',\n",
       " 11: 'Sports / Athletics',\n",
       " 12: 'Military / Defense',\n",
       " 13: 'Information Technology',\n",
       " 14: 'Banking / Finance',\n",
       " 15: 'Environmental Conservation',\n",
       " 16: 'Transportation / Logistics',\n",
       " 17: 'Science / Research',\n",
       " 18: 'Hospitality / Tourism',\n",
       " 19: 'Construction / Real Estate',\n",
       " 20: 'Religion / Spirituality',\n",
       " 21: 'Law Enforcement / Security',\n",
       " 22: 'Consulting / Advisory',\n",
       " 101: 'Unknown',\n",
       " 201: \"Cound't Classify\",\n",
       " 301: 'Not Given'}"
      ]
     },
     "execution_count": 17,
     "metadata": {},
     "output_type": "execute_result"
    }
   ],
   "source": [
    "categ_dict = {(i+1):categories_raw.split('\\n')[i] for i in range(len(categories_raw.split('\\n')))}\n",
    "categ_dict[101] = 'Unknown'\n",
    "categ_dict[201] = \"Cound't Classify\"\n",
    "categ_dict[301] = 'Not Given'\n",
    "categ_dict"
   ]
  },
  {
   "cell_type": "code",
   "execution_count": 82,
   "id": "56b252bb",
   "metadata": {},
   "outputs": [],
   "source": [
    "command1 = f\"\"\"I am sending a list of responses submitted by people which contains information about their profession. Classify them\n",
    "into the following categories:  \n",
    "\n",
    "{categories}\n",
    "\n",
    "I want you to send only the category numbers on new lines for all professions. Do not send the professions\n",
    "Do not use any other category than those given to you.\n",
    "Do not change or mix any of the categories. If some profession lies into multiple categories, list those categories' numbers on the same line separated by a comma.\n",
    "Don't send anything else in the response. If you cannot classify a profession into any category listed, use number 101 as the category number.\n",
    "If you cannot understand what's the profession, use number 201 as the category number.\n",
    "If the profession is 'Not Given', then use number 301 as the category number.\n",
    "The professions given to you are of Indian people. Some of the professions might be local language words which are phonetically spelled in english.\n",
    "So, take that in account too, when classifying the professions.\n",
    "Also, don't change the sequence of category numbers and professions.\n",
    "\n",
    "Example:\n",
    "\n",
    "example_profession1\n",
    "category1, category2\n",
    "example_profession2\n",
    "category2\n",
    "example profession3\n",
    "category1\n",
    "\n",
    "\n",
    "List of responses:\n",
    "\n",
    "\"\"\"\n",
    "\n",
    "command2 = f\"\"\"I am sending a list of responses submitted by people which contains information about their profession. Classify them\n",
    "into the following categories:  \n",
    "\n",
    "{categories}\n",
    "\n",
    "I want you to send the output in json format only. The keys will be the professions I send you, and their corresponding values will be a list of category numbers that you have classified the profession into.\n",
    "The profession can be classified into multiple categories.\n",
    "Do not use any other category than those given to you.\n",
    "Do not change or mix any of the categories.\n",
    "Don't send anything else in the response. If you cannot classify a profession into any category listed, use number 101 as the category number.\n",
    "If you cannot understand what's the profession, use number 201 as the category number.\n",
    "If the profession is 'Not Given', then use number 301 as the category number.\n",
    "The professions given to you are of Indian people. Some of the professions might be local language words which are phonetically spelled in english.\n",
    "So, take that in account too, when classifying the professions.\n",
    "Also, don't change the sequence of category numbers and professions.\n",
    "\n",
    "\n",
    "List of responses:\n",
    "\n",
    "\"\"\"\n",
    "\n",
    "command3 = f\"\"\"I am sending a list of responses submitted by people which contains information about their profession. Classify them\n",
    "into the following categories:  \n",
    "\n",
    "{categories}\n",
    "\n",
    "I want you to send the output in json format only. The keys will be the professions I send you, and their corresponding values will be a list of category numbers that you have classified the profession into.\n",
    "The professions will be sent to you in double quotes. Use them as as they are for the keys. Do not change their wording, spacing or anything.\n",
    "The profession can be classified into multiple categories.\n",
    "Do not use any other category than those given to you.\n",
    "Do not change or mix any of the categories.\n",
    "Don't send anything else in the response. If you cannot classify a profession into any category listed, use number 101 as the category number.\n",
    "If you cannot understand what's the profession, use number 201 as the category number.\n",
    "If the profession is 'Not Given', then use number 301 as the category number.\n",
    "The professions given to you are of Indian people. Some of the professions might be local language words which are phonetically spelled in english.\n",
    "So, take that in account too, when classifying the professions.\n",
    "Also, don't change the sequence of category numbers and professions.\n",
    "Do not send anything else other than the JSON format.\"\"\"\n",
    "\n",
    "command4 = f\"\"\"I am sending a single response submitted by a person which contains information about their profession. Classify the profession\n",
    "into the following categories:  \n",
    "\n",
    "{categories}\n",
    "\n",
    "I want you to send the output in json format only. The key will be the profession I send you, and its corresponding value will be a list of category numbers that you have classified the profession into.\n",
    "The profession will be sent to you in double quotes. Use it as as it is as the key. Do not change it's wording, spacing or anything.\n",
    "The profession can be classified into multiple categories.\n",
    "Do not use any other category than those given to you.\n",
    "Do not change or mix any of the categories.\n",
    "Don't send anything else in the response. If you cannot classify a profession into any category listed, use number 101 as the category number.\n",
    "If you cannot understand what's the profession, use number 201 as the category number.\n",
    "If the profession has value \"Not Given\", then use number 301 as the category number.\n",
    "The profession given to you is of Indian people. The profession might be local language words which are phonetically spelled in english.\n",
    "So, take that in account too, when classifying the profession.\n",
    "Do not send anything else other than the JSON format.\"\"\"\n"
   ]
  },
  {
   "cell_type": "code",
   "execution_count": 83,
   "id": "63b413a8-4624-4c44-8de2-ef415b1981c1",
   "metadata": {},
   "outputs": [
    {
     "data": {
      "text/plain": [
       "399"
      ]
     },
     "execution_count": 83,
     "metadata": {},
     "output_type": "execute_result"
    }
   ],
   "source": [
    "encoding = tiktoken.encoding_for_model(\"gpt-3.5-turbo\")\n",
    "len(encoding.encode(command3))"
   ]
  },
  {
   "cell_type": "code",
   "execution_count": 89,
   "id": "21d33468",
   "metadata": {},
   "outputs": [
    {
     "name": "stdout",
     "output_type": "stream",
     "text": [
      "\"Press and Editor of Echarike 24 7\"\n",
      "\"Urdu Teacher\"\n",
      "\"Housewife and Agriculturlist\"\n",
      "\"Photographer\"\n",
      "\"Agriculture,\"\n",
      "\"BDA Retired Employee\"\n",
      "\"House wife and agriculture\"\n",
      "\"Self Employment and Buisness\"\n",
      "\"Agricultural Business\"\n",
      "\"business trading\"\n",
      "\"BEAUTION\"\n",
      "\"Advocate Profession\"\n",
      "\"SMALL SCALE LABOUR\"\n",
      "\"House Wife and Municipality Member in Mundaragi\"\n",
      "\"agriculter and editor for paper\"\n",
      "\"Social service and coolie\"\n",
      "\"Tenacity Tailor housewife\"\n",
      "\"Salesman\"\n",
      "\"Retired officer KEB\"\n",
      "\"Cine Artist Consultant\"\n",
      "\"House Wife and agriculture\"\n",
      "\"Self Employement\"\n",
      "\"Business-Real Estate\"\n",
      "\"Bamboo Business\"\n",
      "\"Holly Lawmaker\"\n",
      "\"H H Work\"\n",
      "\"CONTRACTER\"\n",
      "\"Homemaker and Business\"\n",
      "\"Farmer and Editor in sogadu newspaper,chickpete\"\n",
      "\"Byatarayanapura Assembly Constituency,Karnataka\"\n",
      "\"Hobbyist -Electrician\"\n",
      "\"Buisiness\"\n",
      "\"Medical Doctor\"\n",
      "\"Permanent job\"\n",
      "\"Household, Social Service\"\n",
      "\"Farming ,Constructed items\"\n",
      "\"ADVOCATE\"\n",
      "\"Social work\"\n",
      "\"Business, Agriculturist and other Business(Sales and Services of Agricultural Equipment).\"\n",
      "\"LAWYER , KAR 1727 12\"\n",
      "\"IT company worker\"\n",
      "\"Sitting MLA\"\n",
      "\"Scrap Trading-Proprietor\"\n",
      "\"social service and agriculture\"\n",
      "\"Retired Govt Employee\"\n",
      "\"Social service and agriculture\"\n",
      "\"Farmer and Real Estate consultant and commission\"\n",
      "\"Agriculturist\"\n",
      "\"Socal Service\"\n",
      "\"SHETKI, SOCIAL WORKER\" \n",
      "\n",
      "\n",
      "{'Press and Editor of Echarike 24 7': [8], 'Urdu Teacher': [4], 'Housewife and Agriculturlist': [7, 3], 'Photographer': [9], 'Agriculture,': [7], 'BDA Retired Employee': [19], 'House wife and agriculture': [7, 3], 'Self Employment and Buisness': [2], 'Agricultural Business': [7, 2], 'business trading': [2], 'BEAUTION': [9], 'Advocate Profession': [3], 'SMALL SCALE LABOUR': [22], 'House Wife and Municipality Member in Mundaragi': [10, 3], 'agriculter and editor for paper': [7, 8], 'Social service and coolie': [10, 22], 'Tenacity Tailor housewife': [9, 3], 'Salesman': [2], 'Retired officer KEB': [12], 'Cine Artist Consultant': [9, 22], 'Self Employement': [2], 'Business-Real Estate': [2, 19], 'Bamboo Business': [2], 'Holly Lawmaker': [1], 'H H Work': [22], 'CONTRACTER': [22], 'Homemaker and Business': [3, 2], 'Farmer and Editor in sogadu newspaper,chickpete': [7, 8], 'Byatarayanapura Assembly Constituency,Karnataka': [1], 'Hobbyist -Electrician': [22], 'Buisiness': [2], 'Medical Doctor': [5], 'Permanent job': [22], 'Household, Social Service': [3, 10], 'Farming ,Constructed items': [7, 19], 'ADVOCATE': [3], 'Social work': [10], 'Business, Agriculturist and other Business(Sales and Services of Agricultural Equipment).': [2, 7], 'LAWYER , KAR 1727 12': [3], 'IT company worker': [13], 'Sitting MLA': [1], 'Scrap Trading-Proprietor': [2], 'social service and agriculture': [10, 7], 'Retired Govt Employee': [22], 'Farmer and Real Estate consultant and commission': [7, 19], 'Agriculturist': [7], 'Socal Service': [10], 'SHETKI, SOCIAL WORKER': [10, 7]} \n",
      "\n",
      "0\n",
      "1\n",
      "2\n",
      "3\n",
      "4\n",
      "5\n",
      "6\n",
      "7\n",
      "8\n",
      "9\n",
      "10\n",
      "11\n",
      "12\n",
      "13\n",
      "14\n",
      "15\n",
      "16\n",
      "17\n",
      "18\n",
      "19\n",
      "20\n",
      "21\n",
      "22\n",
      "23\n",
      "24\n",
      "25\n",
      "26\n",
      "27\n",
      "28\n",
      "29\n",
      "30\n",
      "31\n",
      "32\n",
      "33\n",
      "34\n",
      "35\n",
      "36\n",
      "37\n",
      "38\n",
      "39\n",
      "40\n",
      "41\n",
      "42\n",
      "43\n",
      "44\n",
      "45\n",
      "46\n",
      "47\n",
      "48\n",
      "49\n",
      "setdiff is []\n",
      "1550 1600\n",
      "48 50\n",
      "False\n",
      "{'1. Press and Editor of Echarike 24 7': [8], '2. Urdu Teacher': [4], '3. Housewife and Agriculturlist': [7, 3], '4. Photographer': [9], '5. Agriculture,': [7], '6. BDA Retired Employee': [19], '7. House wife and agriculture': [7, 3], '8. Self Employment and Buisness': [2], '9. Agricultural Business': [7, 2], '10. business trading': [2], '11. BEAUTION': [9], '12. Advocate Profession': [3], '13. SMALL SCALE LABOUR': [22], '14. House Wife and Municipality Member in Mundaragi': [10, 3], '15. agriculter and editor for paper': [7, 8], '16. Social service and coolie': [10, 22], '17. Tenacity Tailor housewife': [9, 3], '18. Salesman': [2], '19. Retired officer KEB': [12], '20. Cine Artist Consultant': [9, 22], '21. House Wife and agriculture': [2], '22. Self Employement': [2, 19], '23. Business-Real Estate': [2], '24. Bamboo Business': [1], '25. Holly Lawmaker': [22], '26. H H Work': [22], '27. CONTRACTER': [3, 2], '28. Homemaker and Business': [7, 8], '29. Farmer and Editor in sogadu newspaper,chickpete': [1], '30. Byatarayanapura Assembly Constituency,Karnataka': [22], '31. Hobbyist -Electrician': [2], '32. Buisiness': [5], '33. Medical Doctor': [22], '34. Permanent job': [3, 10], '35. Household, Social Service': [7, 19], '36. Farming ,Constructed items': [3], '37. ADVOCATE': [10], '38. Social work': [2, 7], '39. Business, Agriculturist and other Business(Sales and Services of Agricultural Equipment).': [3], '40. LAWYER , KAR 1727 12': [13], '41. IT company worker': [1], '42. Sitting MLA': [2], '43. Scrap Trading-Proprietor': [10, 7], '44. social service and agriculture': [22], '45. Retired Govt Employee': [7, 19], '46. Social service and agriculture': [7], '47. Farmer and Real Estate consultant and commission': [10], '48. Agriculturist': [10, 7]}\n",
      "average time taken 20.862827599979937\n"
     ]
    }
   ],
   "source": [
    "import os\n",
    "import openai\n",
    "\n",
    "openai.api_key = os.getenv('OPENAI_API_KEY')\n",
    "\n",
    "new_dict = {}\n",
    "completion = ''\n",
    "encoding = tiktoken.encoding_for_model(\"gpt-3.5-turbo\")\n",
    "length = []\n",
    "BATCH_SIZE = 50\n",
    "\n",
    "for i in range(ceil(len(total_prof)/BATCH_SIZE)):\n",
    "    before = time.perf_counter()\n",
    "    prev_response = completion\n",
    "    print(i-1,'number of runs completed') if (i%100==0 and i!=0) else None\n",
    "    success, break_outer = False, False\n",
    "    count = 0\n",
    "    \n",
    "    while (not success) and (count<2):\n",
    "        try:\n",
    "            start = i*BATCH_SIZE\n",
    "            end = len(total_prof) if (start + BATCH_SIZE > len(total_prof)) else start + BATCH_SIZE\n",
    "            \n",
    "            string = '\"' + '\"\\n\"'.join(total_prof[start:end]) + '\"'\n",
    "            print(string,'\\n\\n')\n",
    "            completion = openai.ChatCompletion.create(\n",
    "              model=\"gpt-3.5-turbo\",\n",
    "              messages=[\n",
    "                {\"role\": \"system\", \"content\": f\"You are a helpful assistant and also a python programmer. {command3}\"},\n",
    "                {\"role\": \"user\", \"content\": \"Horticulture and Business\"},\n",
    "                {\"role\": \"assistant\", \"content\": '{\"Horticulture and Business\": [7, 2]}'},\n",
    "                {\"role\": \"user\", \"content\": \"BTM Investments Pvt Ltd Hubballi Director BTM forging Pvt Ltd Director Veetech Valves Pvt Ltd Director S R Process Controls Pvt Ltd Partner Future Auto Solutions Hubballi\"},\n",
    "                {\"role\": \"assistant\", \"content\": '{\"BTM Investments Pvt Ltd Hubballi Director BTM forging Pvt Ltd Director Veetech Valves Pvt Ltd Director S R Process Controls Pvt Ltd Partner Future Auto Solutions Hubballi\": [2]}'},\n",
    "                {\"role\": \"user\", \"content\": string}\n",
    "              ]\n",
    "            )\n",
    "        except:\n",
    "            count += 1\n",
    "            print('count',count,'for run number',i)\n",
    "            time.sleep(60) if count == 1 else None\n",
    "            break_outer = True if count > 1 else False\n",
    "        else:\n",
    "            try:\n",
    "                temp_dict = dict(json.loads(completion['choices'][0]['message']['content']))\n",
    "                assert len(list(temp_dict.keys()))==(end-start)\n",
    "                new_dict.update({f\"{total_prof[j]}\":list(temp_dict.values())[j-start] for j in range(start,end)}) # = str_dict + completion['choices'][0]['message']['content'].strip() + '\\n'\n",
    "            except AssertionError:\n",
    "                count += 1\n",
    "                print(f\"Assertion failed for {i}th run for value {total_prof[start:end]} and response as {completion['choices'][0]['message']['content']}\\n\")\n",
    "            except JSONDecodeError:\n",
    "                count += 1\n",
    "                print(f\"JSON decoding failed for {i}th run for value {total_prof[i]} and response as {completion['choices'][0]['message']['content']}\\n\")\n",
    "            else:\n",
    "                success = True\n",
    "                prev_response = completion\n",
    "                time.sleep(2)\n",
    "    length.append(time.perf_counter()-before)\n",
    "    if break_outer:\n",
    "        print('breaking at run',i)\n",
    "        break\n",
    "\n",
    "print(\"average time taken\",mean(length))"
   ]
  },
  {
   "cell_type": "code",
   "execution_count": 101,
   "id": "8630a272-654e-4c76-ace3-40d8213dd9dc",
   "metadata": {},
   "outputs": [],
   "source": [
    "data_json = json.dumps(temp_dict)\n",
    "with open('profession.json','w',encoding='utf-8') as file:\n",
    "    file.write(data_json)"
   ]
  },
  {
   "cell_type": "code",
   "execution_count": 113,
   "id": "339ba085",
   "metadata": {},
   "outputs": [],
   "source": []
  },
  {
   "cell_type": "code",
   "execution_count": null,
   "id": "ffc92cac",
   "metadata": {},
   "outputs": [],
   "source": []
  },
  {
   "cell_type": "code",
   "execution_count": null,
   "id": "d4b2caaa",
   "metadata": {},
   "outputs": [],
   "source": []
  },
  {
   "cell_type": "markdown",
   "id": "e3e35992",
   "metadata": {},
   "source": [
    "## Education Segmentation"
   ]
  },
  {
   "cell_type": "code",
   "execution_count": 7,
   "id": "37d29be2-2be6-40fe-899e-7617db54bd18",
   "metadata": {},
   "outputs": [],
   "source": [
    "abbreviations = \"\"\"\n",
    "Here's a comprehensive list of degrees and their abbreviations commonly used in India:\n",
    "\n",
    "Bachelor's Degrees:\n",
    "    B.A. - Bachelor of Arts\n",
    "    B.Sc. - Bachelor of Science\n",
    "    B.Com. - Bachelor of Commerce\n",
    "    B.Tech. - Bachelor of Technology\n",
    "    B.E. - Bachelor of Engineering\n",
    "    BBA - Bachelor of Business Administration\n",
    "    BCA - Bachelor of Computer Applications\n",
    "    B.Arch. - Bachelor of Architecture\n",
    "    B.Pharma - Bachelor of Pharmacy\n",
    "    B.Ed. - Bachelor of Education\n",
    "    BFA - Bachelor of Fine Arts\n",
    "    B.S.W. - Bachelor of Social Work\n",
    "    B.Lib. - Bachelor of Library Science\n",
    "    B.P.Ed. - Bachelor of Physical Education\n",
    "    B.H.M. - Bachelor of Hotel Management\n",
    "    B.Sc. (Nursing) - Bachelor of Science in Nursing\n",
    "    B.A.M.S. - Bachelor of Ayurvedic Medicine and Surgery\n",
    "    B.H.M.S. - Bachelor of Homeopathic Medicine and Surgery\n",
    "    B.U.M.S. - Bachelor of Unani Medicine and Surgery\n",
    "    B.D.S. - Bachelor of Dental Surgery\n",
    "    B.V.Sc. - Bachelor of Veterinary Science\n",
    "    \n",
    "Master's Degrees:\n",
    "    M.A. - Master of Arts\n",
    "    M.Sc. - Master of Science\n",
    "    M.Com. - Master of Commerce\n",
    "    M.Tech. - Master of Technology\n",
    "    M.E. - Master of Engineering\n",
    "    MBA - Master of Business Administration\n",
    "    MCA - Master of Computer Applications\n",
    "    M.Arch. - Master of Architecture\n",
    "    M.Pharma - Master of Pharmacy\n",
    "    M.Ed. - Master of Education\n",
    "    MFA - Master of Fine Arts\n",
    "    M.S.W. - Master of Social Work\n",
    "    M.Lib. - Master of Library Science\n",
    "    M.P.Ed. - Master of Physical Education\n",
    "    M.Sc. (Nursing) - Master of Science in Nursing\n",
    "    M.D. - Doctor of Medicine (Medicine)\n",
    "    M.S. - Master of Surgery\n",
    "    M.R.C.P. - Member of the Royal College of Physicians\n",
    "    M.R.C.S. - Member of the Royal College of Surgeons\n",
    "    \n",
    "Doctoral Degrees:\n",
    "    Ph.D. - Doctor of Philosophy\n",
    "    D.Sc. - Doctor of Science\n",
    "    D.Litt. - Doctor of Literature\n",
    "    D.Lit. - Doctor of Literature\n",
    "    D.M. - Doctor of Medicine (Specialized Medical Degree)\n",
    "    \n",
    "Professional Degrees:\n",
    "    M.B.B.S. - Bachelor of Medicine and Bachelor of Surgery\n",
    "    LLB - Bachelor of Laws\n",
    "    LLM - Master of Laws\n",
    "    CA - Chartered Accountant\n",
    "    CS - Company Secretary\n",
    "    ICWA - Institute of Cost and Works Accountants of India\n",
    "    \n",
    "Other Degrees:\n",
    "    D.Pharm. - Diploma in Pharmacy\n",
    "    D.Ed. - Diploma in Education\n",
    "    DSW - Diploma in Social Work\n",
    "    D.Lib. - Diploma in Library Science\n",
    "    DPT - Diploma in Physical Therapy\n",
    "    DHMS - Diploma in Homeopathic Medicine and Surgery\n",
    "    DOTT - Diploma in Operation Theater Technology\n",
    "    DMLT - Diploma in Medical Laboratory Technology\n",
    "    DCH - Diploma in Child Health\n",
    "    DMRD - Diploma in Medical Radiodiagnosis\n",
    "\"\"\""
   ]
  },
  {
   "cell_type": "code",
   "execution_count": 236,
   "id": "cd524e10",
   "metadata": {},
   "outputs": [],
   "source": [
    "import pandas as pd\n",
    "from openai import OpenAI\n",
    "from shortuuid import uuid\n",
    "import json\n",
    "\n",
    "df13 = pd.read_csv('../../Final Data/candid13.csv', index_col=0)\n",
    "df18 = pd.read_csv('../../Final Data/candid18.csv', index_col=0)\n",
    "df23 = pd.read_csv('../../Final Data/candid23.csv', index_col=0)"
   ]
  },
  {
   "cell_type": "code",
   "execution_count": null,
   "id": "98d63fb7",
   "metadata": {},
   "outputs": [],
   "source": [
    "# df13['uuid'] = [str(uuid()[:8]) for i in range(len(df13))]\n",
    "# df18['uuid'] = [str(uuid()[:8]) for i in range(len(df18))]\n",
    "# df23['uuid'] = [str(uuid()[:8]) for i in range(len(df23))]\n",
    "\n",
    "# df13['Year'] = 2013\n",
    "# df18['Year'] = 2018\n",
    "# df23['Year'] = 2023\n",
    "\n",
    "# df13.to_csv('../../Final Data/candid13.csv', index=True)\n",
    "# df18.to_csv('../../Final Data/candid18.csv', index=True)\n",
    "# df23.to_csv('../../Final Data/candid23.csv', index=True)"
   ]
  },
  {
   "cell_type": "code",
   "execution_count": 193,
   "id": "dfbaca70",
   "metadata": {},
   "outputs": [],
   "source": [
    "COLUMNS = ['uuid', 'education', 'Year']\n",
    "df = pd.concat([df13[COLUMNS], df18[COLUMNS], df23[COLUMNS]])"
   ]
  },
  {
   "cell_type": "code",
   "execution_count": 64,
   "id": "4cc49248",
   "metadata": {},
   "outputs": [
    {
     "data": {
      "text/plain": [
       "np.int64(0)"
      ]
     },
     "execution_count": 64,
     "metadata": {},
     "output_type": "execute_result"
    }
   ],
   "source": [
    "df['uuid'].duplicated().sum()"
   ]
  },
  {
   "cell_type": "code",
   "execution_count": 65,
   "id": "cd363c81",
   "metadata": {},
   "outputs": [
    {
     "data": {
      "text/plain": [
       "np.int64(318)"
      ]
     },
     "execution_count": 65,
     "metadata": {},
     "output_type": "execute_result"
    }
   ],
   "source": [
    "df['education'].str.contains(r'Unknown|Not Available', regex=True).sum()"
   ]
  },
  {
   "cell_type": "code",
   "execution_count": 66,
   "id": "1d92f269",
   "metadata": {},
   "outputs": [
    {
     "data": {
      "text/plain": [
       "7661"
      ]
     },
     "execution_count": 66,
     "metadata": {},
     "output_type": "execute_result"
    }
   ],
   "source": [
    "df.shape[0] - 318"
   ]
  },
  {
   "cell_type": "code",
   "execution_count": 67,
   "id": "3f803cb4",
   "metadata": {},
   "outputs": [],
   "source": [
    "system_prompt = \"\"\"\n",
    "You are a helpful assistant. You will be provided with eduction details of a single person from India.\n",
    "You will be tasked with classifying the person's eduction details into one of the following categories:\n",
    "\n",
    "Illiterate: Candidates who have not received any formal education and are illiterate.\n",
    "Literate: Candidates who are educated and can read and write but have not completed formal schooling beyond basic literacy.\n",
    "Primary Education: Candidates who have completed primary education up to the 5th standard.\n",
    "Secondary Education: Candidates who have completed secondary education up to the 10th standard.\n",
    "Higher Secondary Education: Candidates who have completed higher secondary education up to the 12th standard.\n",
    "Diploma Holder: Candidates who have completed diploma courses in various fields like engineering, pharmacy, nursing, etc.\n",
    "Graduate: Candidates who hold a Bachelor's degree in any discipline.\n",
    "Postgraduate: Candidates who have completed a Master's degree in any discipline.\n",
    "Doctorate: Candidates who have obtained a Doctorate (Ph.D.) in any field.\n",
    "Technical/Professional Course: Candidates who have completed specific technical or professional courses, such as Chartered Accountancy (CA), Company Secretary (CS), and various vocational courses.\n",
    "Vocational Training: Candidates who have undergone vocational training programs, such as Industrial Training Institutes (ITI) or other skill development courses.\n",
    "\n",
    "You have to choose the category from the following list:\n",
    "['Illiterate', 'Literate', 'Primary Education', 'Secondary Education', 'Higher Secondary Education', 'Diploma Holder', 'Graduate', 'Postgraduate', 'Doctorate', 'Technical/Professional Course', 'Vocational Training']\n",
    "\n",
    "If the candidate's education is not explicitly mentioned, and you are unable to determine their education level, please classify them as 'Unknown'\n",
    "Classify each candidate's education level into one of the predefined categories based on their highest qualification achieved.\n",
    "If a candidate has multiple qualifications, consider their highest level of education attained.\n",
    "\n",
    "Also note that the education details might not be grammatically or lexically correct. You might have to assume their actual meaning.\n",
    "\n",
    "Only respond with the education category and nothing else.\n",
    "\"\"\"\n",
    "messages = [\n",
    "        {'role':'system', 'content':system_prompt},\n",
    "        {'role':'user', 'content':'B.A. Passed From BVB Collge Bidar, Karnatak University Dharwad'},\n",
    "        {'role':'assistant', 'content':'Graduate'},\n",
    "        {'role':'user', 'content':'8th From government school'},\n",
    "        {'role':'assistant', 'content':'Secondary Education'},\n",
    "        {'role':'user', 'content':'Sankeswar college'},\n",
    "        {'role':'assistant', 'content':'Higher Secondary Education'},\n",
    "        {'role':'user', 'content':'SSLC Pass From Sadaran Higher School, Karnataka In 1996-97'},\n",
    "        {'role':'assistant', 'content':'Higher Secondary Education'},\n",
    "        {'role':'user', 'content':'10th Standard in Basaveshwara High School, Bagalkot.'},\n",
    "        {'role':'assistant', 'content':'Secondary Education'},\n",
    "        {'role':'user', 'content':'Diplomo H.M.S,Politecnic,Tumkur-2010'},\n",
    "        {'role':'assistant', 'content':'Diploma Holder'},\n",
    "        {'role':'user', 'content':'civil engineering , M.E.I College, Rajajinagar - bangalore ,board of technology,2002'},\n",
    "        {'role':'assistant', 'content':'Graduate'},\n",
    "        {'role':'user', 'content':'BA,KADASIDDESHWARA COLLEGE,HUBBALI,APRIL 1974,KARNATAKA UNIVERSITY'},\n",
    "        {'role':'assistant', 'content':'Graduate'},\n",
    "        {'role':'user', 'content':'PUC (Pre-University Course)'},\n",
    "        {'role':'assistant', 'content':'Higher Secondary Education'},\n",
    "        {'role':'user', 'content':'MBA MADHURAI UNIVERCITY MADHURAI-2010'},\n",
    "        {'role':'assistant', 'content':'Postgraduate'},\n",
    "        {'role':'user', 'content':'7th Govt High School,Rayachur'},\n",
    "        {'role':'assistant', 'content':'Secondary'},\n",
    "        {'role':'user', 'content':'I.T.I KGF1991-1992'},\n",
    "        {'role':'assistant', 'content':'Vocational Training'},\n",
    "        {'role':'user', 'content':'M.S.1998 , Mysore Medical College, Mysore'},\n",
    "        {'role':'assistant', 'content':'Postgraduate'},\n",
    "        {'role':'user', 'content':'LLB From V.V. Puram, Bangalore Year-1996 and B.A in Govt. College ,Year 1991'},\n",
    "        {'role':'assistant', 'content':'Graduate'},\n",
    "        {'role':'user', 'content':'M.B.B.S. Mysore Medical College'},\n",
    "        {'role':'assistant', 'content':'Doctorate'},\n",
    "        {'role':'user', 'content':'PUC IN GAVISIDDESHWARA COLLEGE KOPPAL, YEAR-1981'},\n",
    "        {'role':'assistant', 'content':'Higher Secondary Education'},\n",
    "        {'role':'user', 'content':'6th Pass, Shri Venkateshwara Higher Elementry School, B.P. Bellary.'},\n",
    "        {'role':'assistant', 'content':'Secondary'},\n",
    "        {'role':'user', 'content':'DAE (Diploma of Applied Education) from SJP polytechnic 2003-04'},\n",
    "        {'role':'assistant', 'content':'Diploma Holder'},\n",
    "]\n"
   ]
  },
  {
   "cell_type": "code",
   "execution_count": null,
   "id": "8a3a1c94",
   "metadata": {},
   "outputs": [],
   "source": [
    "\n",
    "with open('batch_requests.jsonl', 'w') as f:\n",
    "    for _, row in df.iterrows():\n",
    "        # Construct each request line\n",
    "        request_obj = {\n",
    "            \"custom_id\": row['uuid'],\n",
    "            \"method\": \"POST\",\n",
    "            \"url\": \"/v1/chat/completions\",\n",
    "            \"body\": {\n",
    "                \"model\": \"gpt-4o-mini\",  # or \"gpt-4o-mini\" or another model you want\n",
    "                \"messages\": messages + [{'role':'user', 'content':row['education']}],\n",
    "                \"max_tokens\": 50\n",
    "            }\n",
    "        }\n",
    "\n",
    "        f.write(json.dumps(request_obj) + \"\\n\")\n"
   ]
  },
  {
   "cell_type": "code",
   "execution_count": null,
   "id": "cf7f733d",
   "metadata": {},
   "outputs": [],
   "source": [
    "from openai import OpenAI\n",
    "client = OpenAI(\n",
    "    api_key=os.environ.get[\"OPENAI_API_KEY\"],\n",
    ")\n",
    "\n",
    "batch_input_file = client.files.create(\n",
    "  file=open(\"batch_requests.jsonl\", \"rb\"),\n",
    "  purpose=\"batch\"\n",
    ")"
   ]
  },
  {
   "cell_type": "code",
   "execution_count": 181,
   "id": "f6fa40e7",
   "metadata": {},
   "outputs": [
    {
     "data": {
      "text/plain": [
       "Batch(id='batch_67586cad8d9081919327a5e6b575f978', completion_window='24h', created_at=1733848237, endpoint='/v1/chat/completions', input_file_id='file-QNj1YoWXrePxCdc5sV89XY', object='batch', status='validating', cancelled_at=None, cancelling_at=None, completed_at=None, error_file_id=None, errors=None, expired_at=None, expires_at=1733934637, failed_at=None, finalizing_at=None, in_progress_at=None, metadata=None, output_file_id=None, request_counts=BatchRequestCounts(completed=0, failed=0, total=0))"
      ]
     },
     "execution_count": 181,
     "metadata": {},
     "output_type": "execute_result"
    }
   ],
   "source": [
    "batch_input_file_id = batch_input_file.id\n",
    "\n",
    "client.batches.create(\n",
    "    input_file_id=batch_input_file_id,\n",
    "    endpoint=\"/v1/chat/completions\",\n",
    "    completion_window=\"24h\",\n",
    ")"
   ]
  },
  {
   "cell_type": "code",
   "execution_count": 183,
   "id": "9d89bdf5",
   "metadata": {},
   "outputs": [
    {
     "data": {
      "text/plain": [
       "Batch(id='batch_67586cad8d9081919327a5e6b575f978', completion_window='24h', created_at=1733848237, endpoint='/v1/chat/completions', input_file_id='file-QNj1YoWXrePxCdc5sV89XY', object='batch', status='completed', cancelled_at=None, cancelling_at=None, completed_at=1733851969, error_file_id=None, errors=None, expired_at=None, expires_at=1733934637, failed_at=None, finalizing_at=1733851814, in_progress_at=1733848238, metadata=None, output_file_id='file-MAexskdaZT2ceRZVJgYy6t', request_counts=BatchRequestCounts(completed=1229, failed=0, total=1229))"
      ]
     },
     "execution_count": 183,
     "metadata": {},
     "output_type": "execute_result"
    }
   ],
   "source": [
    "client.batches.retrieve(\"batch_67586cad8d9081919327a5e6b575f978\")"
   ]
  },
  {
   "cell_type": "code",
   "execution_count": 184,
   "id": "7eeabbf7",
   "metadata": {},
   "outputs": [],
   "source": [
    "file_response = client.files.content(\"file-MAexskdaZT2ceRZVJgYy6t\")\n",
    "text = '{\"messages\":[' + file_response.text.replace(\"\\n\", \",\").rstrip(\",\") + ']}'\n",
    "results = json.loads(text)"
   ]
  },
  {
   "cell_type": "code",
   "execution_count": 185,
   "id": "b95d3114",
   "metadata": {},
   "outputs": [
    {
     "name": "stdout",
     "output_type": "stream",
     "text": [
      "(6750, 2) \n",
      " (7979, 2)\n"
     ]
    }
   ],
   "source": [
    "import os\n",
    "\n",
    "final_results = {\n",
    "    'uuid':[],\n",
    "    'education_category':[],\n",
    "}\n",
    "\n",
    "for result in results['messages']:\n",
    "    final_results['uuid'].append(result['custom_id'])\n",
    "    final_results['education_category'].append(result['response']['body']['choices'][0]['message']['content'])\n",
    "\n",
    "new_df2 = pd.DataFrame(final_results)\n",
    "\n",
    "if os.path.exists('education_category.csv'):\n",
    "    new_df = pd.read_csv('education_category.csv', index_col=0)\n",
    "    new_df2 = pd.concat([new_df,new_df2], ignore_index=True).drop_duplicates(subset=['uuid'])\n",
    "    print(new_df.shape,'\\n', new_df2.shape)\n",
    "    \n",
    "new_df2.to_csv('education_category.csv', index=True)"
   ]
  },
  {
   "cell_type": "code",
   "execution_count": 237,
   "id": "1a337c6d",
   "metadata": {},
   "outputs": [
    {
     "data": {
      "text/html": [
       "<div>\n",
       "<style scoped>\n",
       "    .dataframe tbody tr th:only-of-type {\n",
       "        vertical-align: middle;\n",
       "    }\n",
       "\n",
       "    .dataframe tbody tr th {\n",
       "        vertical-align: top;\n",
       "    }\n",
       "\n",
       "    .dataframe thead th {\n",
       "        text-align: right;\n",
       "    }\n",
       "</style>\n",
       "<table border=\"1\" class=\"dataframe\">\n",
       "  <thead>\n",
       "    <tr style=\"text-align: right;\">\n",
       "      <th></th>\n",
       "      <th>uuid</th>\n",
       "      <th>education_category</th>\n",
       "    </tr>\n",
       "  </thead>\n",
       "  <tbody>\n",
       "    <tr>\n",
       "      <th>0</th>\n",
       "      <td>DxnzLbrc</td>\n",
       "      <td>Unknown</td>\n",
       "    </tr>\n",
       "    <tr>\n",
       "      <th>1</th>\n",
       "      <td>3JJGriGQ</td>\n",
       "      <td>Graduate</td>\n",
       "    </tr>\n",
       "    <tr>\n",
       "      <th>2</th>\n",
       "      <td>W5uEQz6o</td>\n",
       "      <td>Higher Secondary Education</td>\n",
       "    </tr>\n",
       "    <tr>\n",
       "      <th>3</th>\n",
       "      <td>6AZsFeeF</td>\n",
       "      <td>Primary Education</td>\n",
       "    </tr>\n",
       "    <tr>\n",
       "      <th>4</th>\n",
       "      <td>8nscfPC2</td>\n",
       "      <td>Secondary Education</td>\n",
       "    </tr>\n",
       "  </tbody>\n",
       "</table>\n",
       "</div>"
      ],
      "text/plain": [
       "       uuid          education_category\n",
       "0  DxnzLbrc                     Unknown\n",
       "1  3JJGriGQ                    Graduate\n",
       "2  W5uEQz6o  Higher Secondary Education\n",
       "3  6AZsFeeF           Primary Education\n",
       "4  8nscfPC2         Secondary Education"
      ]
     },
     "execution_count": 237,
     "metadata": {},
     "output_type": "execute_result"
    }
   ],
   "source": [
    "education_category = pd.read_csv('education_category.csv', index_col=0)\n",
    "education_category.head()"
   ]
  },
  {
   "cell_type": "code",
   "execution_count": 242,
   "id": "0ce47503",
   "metadata": {},
   "outputs": [],
   "source": [
    "candid_df13 = df13.drop(columns=['education_category']).merge(education_category, on='uuid', how='left')\n",
    "candid_df13.to_csv('../../Final Data/candid13.csv')"
   ]
  },
  {
   "cell_type": "code",
   "execution_count": 243,
   "id": "f448fe14",
   "metadata": {},
   "outputs": [],
   "source": [
    "candid_df18 = df18.drop(columns=['education_category']).merge(education_category, on='uuid', how='left')\n",
    "candid_df18.to_csv('../../Final Data/candid18.csv')"
   ]
  },
  {
   "cell_type": "code",
   "execution_count": 244,
   "id": "635af4aa",
   "metadata": {},
   "outputs": [],
   "source": [
    "candid_df23 = df23.drop(columns=['education_category']).merge(education_category, on='uuid', how='left')\n",
    "candid_df23.to_csv('../../Final Data/candid23.csv')"
   ]
  },
  {
   "cell_type": "code",
   "execution_count": null,
   "id": "f22b2963",
   "metadata": {},
   "outputs": [],
   "source": []
  },
  {
   "cell_type": "code",
   "execution_count": null,
   "id": "e9e88022",
   "metadata": {},
   "outputs": [],
   "source": []
  },
  {
   "cell_type": "markdown",
   "id": "e2b411cf",
   "metadata": {},
   "source": [
    "### Cleaning the JSONs"
   ]
  },
  {
   "cell_type": "code",
   "execution_count": 7,
   "id": "c18e0b7d-f67b-4ad5-b70e-7730c50dd4e9",
   "metadata": {},
   "outputs": [],
   "source": [
    "with open('education.json','r',encoding='utf-8') as file:\n",
    "    education = dict(json.loads(file.read()))\n",
    "with open('profession.json','r',encoding='utf-8') as file:\n",
    "    profession = dict(json.loads(file.read()))"
   ]
  },
  {
   "cell_type": "code",
   "execution_count": 34,
   "id": "eaa63d2a-779d-480a-b7f0-dd4c11413e48",
   "metadata": {},
   "outputs": [],
   "source": [
    "for key in profession.keys():\n",
    "    temp = profession[key]\n",
    "    temp = [categ_dict[value] for value in temp]\n",
    "    profession[key] = temp"
   ]
  },
  {
   "cell_type": "code",
   "execution_count": 35,
   "id": "9741c9ba",
   "metadata": {},
   "outputs": [],
   "source": [
    "for key in education.keys():\n",
    "    temp = education[key]\n",
    "    temp = edu_categ_dict[temp].split(':')[0]\n",
    "    education[key] = temp"
   ]
  },
  {
   "cell_type": "code",
   "execution_count": 9,
   "id": "8e7f5109",
   "metadata": {},
   "outputs": [],
   "source": [
    "with open('education.json','w',encoding='utf-8') as file:\n",
    "    file.write(json.dumps(education))\n",
    "with open('profession.json','w',encoding='utf-8') as file:\n",
    "    file.write(json.dumps(profession))"
   ]
  },
  {
   "cell_type": "code",
   "execution_count": null,
   "id": "f638597a",
   "metadata": {},
   "outputs": [],
   "source": []
  },
  {
   "cell_type": "code",
   "execution_count": null,
   "id": "c509d897",
   "metadata": {},
   "outputs": [],
   "source": []
  },
  {
   "cell_type": "markdown",
   "id": "b4b5d2fc",
   "metadata": {},
   "source": [
    "## Resolving Name conflicts for candidates' names\n",
    "\n",
    "The names from the MyNeta dataset and other votes dataset were slightly different in spellings, positions, abbreviations, titles, etc.\n",
    "So, GPT 3.5 Turbo was used to match similar names for candidates in a particular constituency in a particular year."
   ]
  },
  {
   "cell_type": "code",
   "execution_count": 70,
   "id": "77505fa5",
   "metadata": {},
   "outputs": [],
   "source": [
    "const_myneta13 = pd.read_csv(f'{DIR}/2013 Elections/winners2013MyNeta.csv',index_col=0)\n",
    "const_myneta18 = pd.read_csv(f'{DIR}/2018 Elections/winners2018MyNeta.csv',index_col=0)\n",
    "const_myneta23 = pd.read_csv(f'{DIR}/2023 Elections/winners2023MyNeta.csv',index_col=0)\n",
    "candid_myneta13 = pd.read_csv(f'{DIR}/2013 Elections/candidates2013MyNeta.csv',index_col=0)\n",
    "candid_myneta18 = pd.read_csv(f'{DIR}/2018 Elections/candidates2018MyNeta.csv',index_col=0)\n",
    "candid_myneta23 = pd.read_csv(f'{DIR}/2023 Elections/candidates2023MyNeta.csv',index_col=0)\n",
    "candid_opencity13 = pd.read_csv(f'{DIR}/2013 Elections/candidates2013OpenCity.csv',index_col=0)\n",
    "const_opencity13 = pd.read_csv(f'{DIR}/2013 Elections/constituency2013OpenCity.csv',index_col=0)\n",
    "candid_eci18 = pd.read_csv(f'{DIR}/2018 Elections/candidates2018ECI.csv',index_col=0)\n",
    "const_eci18 = pd.read_csv(f'{DIR}/2018 Elections/constituency2018ECI.csv',index_col=0)\n",
    "candid_ndtv23 = pd.read_csv(f'{DIR}/2023 Elections/candidates2023NDTV.csv',index_col=0)\n",
    "const_ndtv23 = pd.read_csv(f'{DIR}/2023 Elections/constituency2023NDTV.csv',index_col=0)"
   ]
  },
  {
   "cell_type": "code",
   "execution_count": 71,
   "id": "46ba6ef9",
   "metadata": {},
   "outputs": [],
   "source": [
    "candid = {\n",
    "    2013:{},\n",
    "    2018:{},\n",
    "    2023:{}\n",
    "}\n",
    "\n",
    "for constituency in const_myneta13.constituency.unique():\n",
    "    temp_dict = {}\n",
    "    myneta = [name for name in candid_myneta13.loc[candid_myneta13.constituency==constituency,'name']]\n",
    "    opencity = [name for name in candid_opencity13.loc[candid_opencity13.constituency==constituency,'name']]\n",
    "    temp_dict['myneta'] = myneta\n",
    "    temp_dict['opencity'] = opencity\n",
    "    candid[2013][constituency] = temp_dict\n",
    "    temp_dict = {}\n",
    "    myneta = [name for name in candid_myneta18.loc[candid_myneta18.constituency==constituency,'name']]\n",
    "    eci = [name for name in candid_eci18.loc[candid_eci18.constituency==constituency,'name']]\n",
    "    temp_dict['myneta'] = myneta\n",
    "    temp_dict['eci'] = eci\n",
    "    candid[2018][constituency] = temp_dict\n",
    "    temp_dict = {}\n",
    "    myneta = [name for name in candid_myneta23.loc[candid_myneta23.constituency==constituency,'name']]\n",
    "    ndtv = [name for name in candid_ndtv23.loc[candid_ndtv23.constituency==constituency,'name']]\n",
    "    temp_dict['myneta'] = myneta\n",
    "    temp_dict['ndtv'] = ndtv\n",
    "    candid[2023][constituency] = temp_dict\n",
    "    "
   ]
  },
  {
   "cell_type": "code",
   "execution_count": 72,
   "id": "1acbb983",
   "metadata": {},
   "outputs": [],
   "source": [
    "with open('candid_names.json','w',encoding='utf-8') as file:\n",
    "    json.dump(candid, file)"
   ]
  },
  {
   "cell_type": "code",
   "execution_count": 73,
   "id": "765fc6e5",
   "metadata": {},
   "outputs": [],
   "source": [
    "with open('candid_names.json','r',encoding='utf-8') as file:\n",
    "    candid = json.load(file)"
   ]
  },
  {
   "cell_type": "code",
   "execution_count": 74,
   "id": "7931dc16",
   "metadata": {},
   "outputs": [],
   "source": [
    "name_command= f\"\"\"I am sending you two lists of names of people. You must match the names of people in the first list to the corresponding similar names in the second list.\n",
    "Give the output in a json format where the keys are the names in the first list and their corresponding values are their corresponding similar names from the second list.\n",
    "Note - You only need to exhaust the first list of names. That is, each name in the first list must match at most one similar name from the second list. However, vice versa need not be true in case that the second list has more names that the first.\n",
    "For a particular name in the first list, if you can't find a similar name in the second list, you must use its value in the json as \"Unknown\".\n",
    "Don't send anything else in the output other than the json because I will use python to convert it into a dictionary.\n",
    "\"\"\"\n",
    "input_ex1 = f\"\"\"list1 = {candid['2018']['Nippani']['myneta']}\n",
    "\n",
    "list1 = {candid['2018']['Nippani']['eci']}\"\"\"\n",
    "\n",
    "input_ex2 = f\"\"\"list1 = {candid['2018']['Anekal']['myneta']}\n",
    "\n",
    "list1 = {candid['2018']['Anekal']['eci']}\"\"\"\n",
    "\n",
    "input_ex3 = f\"\"\"list1 = {candid['2023']['Dharwad']['myneta']}\n",
    "\n",
    "list1 = {candid['2023']['Dharwad']['ndtv']}\"\"\""
   ]
  },
  {
   "cell_type": "code",
   "execution_count": 79,
   "id": "d13a71b2",
   "metadata": {},
   "outputs": [
    {
     "name": "stdout",
     "output_type": "stream",
     "text": [
      "76 th constituency starting\n",
      "151 th constituency starting\n",
      "76 th constituency starting\n",
      "count 1 for run number 113\n",
      "JSON decoding failed for 137th run for count 1, for constituency Chikkaballapur\n",
      "151 th constituency starting\n",
      "Assertion failed for 154th run for count 1, for constituency Gulbarga Uttar\n",
      "Assertion failed for 164th run for count 1, for constituency Kolar\n",
      "Assertion failed for 181th run for count 1, for constituency Bagepalli\n",
      "Assertion failed for 181th run for count 2, for constituency Bagepalli\n",
      "Assertion failed for 184th run for count 1, for constituency Molakalmuru\n",
      "Assertion failed for 184th run for count 2, for constituency Molakalmuru\n",
      "JSON decoding failed for 200th run for count 1, for constituency Nippani\n",
      "JSON decoding failed for 200th run for count 2, for constituency Nippani\n",
      "76 th constituency starting\n",
      "151 th constituency starting\n",
      "count 1 for run number 215\n",
      "average time taken for 1 constituency 12.378182662349511\n"
     ]
    }
   ],
   "source": [
    "new_dict = {year:{} for year in list(candid.keys())} \n",
    "completion = ''\n",
    "encoding = tiktoken.encoding_for_model(\"gpt-3.5-turbo\")\n",
    "openai.api_key = os.getenv('OPENAI_API_KEY')\n",
    "length = []\n",
    "asserts = []\n",
    "decodes = []\n",
    "error_dict = deepcopy(new_dict) ############################### change before production\n",
    "###################################### CHANGE BEFORE PRODUCTION ########################################\n",
    "for year in list(candid.keys()): ############################### change before production -- add list(candid.keys())\n",
    "###################################### CHANGE BEFORE PRODUCTION ########################################\n",
    "    constituencies = list(candid[year].keys())\n",
    "    list2_key = 'opencity' if year=='2013' else 'eci' if year=='2018' else 'ndtv'\n",
    "    const_dict = {constituency:{} for constituency in constituencies}\n",
    "    const_error_dict = deepcopy(const_dict)\n",
    "    for i in range(len(constituencies)):\n",
    "        before = time.perf_counter()\n",
    "        prev_response = completion\n",
    "        print(i+1,'th constituency starting') if (i%75==0 and i!=0) else None\n",
    "        success, break_outer = False, False\n",
    "        count = 0\n",
    "\n",
    "        while (not success) and (count<2): \n",
    "            try:\n",
    "                input_string = f\"\"\"list1 = {candid[year][constituencies[i]]['myneta']}\\n\\nlist2 = {candid[year][constituencies[i]][list2_key]}\"\"\"\n",
    "\n",
    "                completion = openai.ChatCompletion.create(\n",
    "                model=\"gpt-3.5-turbo\",\n",
    "                    \n",
    "                messages=[\n",
    "                    {\"role\": \"system\", \"content\": f\"You are a helpful assistant and also a python programmer. {name_command}\"},\n",
    "                    {\"role\": \"user\", \"content\": input_ex1},\n",
    "                    {\"role\": \"assistant\", \"content\": '{\\n    \"Anil Shivaji Kamate\": \"Anil Shivaji Kamate\",\\n    \"Jayaram Parasharam Mirajakarkaka\": \"Jayaram Parasharam Mirajakarkaka\",\\n    \"Kakasaheb Pandurang Patil\": \"Kakaso Pandurang Patil\",\\n    \"Kamat Ramesh Ishwar\": \"Kamat Ramesh Ishwar\",\\n    \"Rohini Shrimant Dixit\": \"Rohini Shrimant Dixit\",\\n    \"Sachin Kallappa Madhale\": \"Sachin Kallappa Madhale\",\\n    \"Sambhaji Bapuso Thoravat\": \"Sambhaji Bapuso Thoravat\",\\n    \"Sharad Ramagonda Patil\": \"Sharad Ramagowda Patil\",\\n    \"Shashikala Annasaheb Jolle\": \"Jolle Shashikala Annasaheb\",\\n    \"Vijaylakshmi Appasaheb Kurane\": \"Vijaylakshmi Appasaheb Kurane\"\\n}'},\n",
    "                    {\"role\": \"user\", \"content\": input_ex2},\n",
    "                    {\"role\": \"assistant\", \"content\": '{\\n    \"A.Narayanaswamy\": \"A.Narayanaswamy\",\\n    \"Amaresh.Y\": \"Amaresh.Y\",\\n    \"B.Shivanna\": \"B.Shivanna\",\\n    \"C.Narayanaswamy\": \"C.Narayanaswamy\",\\n    \"D.Mahadesh\": \"D.Mahadesh\",\\n    \"G. Srinivas\": \"G. Srinivas\",\\n    \"M.Muniyallamma\": \"M.Muniyallamma\",\\n    \"Munikrishnappa\": \"Munikrishnappa\",\\n    \"Venkateshappa\": \"Venkateshappa\",\\n    \"Y.Ravindra\": \"Y.Ravindra\"\\n}'},\n",
    "                    {\"role\": \"user\", \"content\": input_string}\n",
    "                ]\n",
    "                )\n",
    "            except:\n",
    "                count += 1\n",
    "                print('count',count,'for run number',i)\n",
    "                time.sleep(90) if count == 1 else None\n",
    "                # break_outer = True if count > 1 else False\n",
    "            else:\n",
    "                try:\n",
    "                    temp_dict = dict(json.loads(completion['choices'][0]['message']['content']))\n",
    "                    assert len(np.setxor1d(list(temp_dict.keys()),candid[year][constituencies[i]]['myneta']))==0\n",
    "                    assert len(list(temp_dict))==len(set(candid[year][constituencies[i]]['myneta']))\n",
    "                    const_dict[constituencies[i]].update(temp_dict) # \n",
    "                except AssertionError:\n",
    "                    const_error_dict[constituencies[i]].update({'setxor':np.setxor1d(list(temp_dict.keys()),candid[year][constituencies[i]]['myneta']),\n",
    "                                             'keys':list(temp_dict.keys()),\n",
    "                                             'myneta':set(candid[year][constituencies[i]]['myneta'])})\n",
    "                    count += 1\n",
    "                    asserts.append(i)\n",
    "                    print(f\"Assertion failed for {i+1}th run for count {count}, for constituency {constituencies[i]}\")\n",
    "                except JSONDecodeError:\n",
    "                    const_error_dict[constituencies[i]].update({'completion':completion['choices'][0]['message']['content']})\n",
    "                    count += 1\n",
    "                    decodes.append(i)\n",
    "                    print(f\"JSON decoding failed for {i+1}th run for count {count}, for constituency {constituencies[i]}\")\n",
    "                else:\n",
    "                    success = True\n",
    "                    prev_response = completion\n",
    "                    time.sleep(3)\n",
    "        length.append(time.perf_counter()-before)\n",
    "        if break_outer:\n",
    "            print('breaking at run',i)\n",
    "            break\n",
    "    new_dict[year].update(const_dict)\n",
    "\n",
    "\n",
    "print(\"average time taken for 1 constituency\",mean(length))"
   ]
  },
  {
   "cell_type": "code",
   "execution_count": 125,
   "id": "186a6157",
   "metadata": {},
   "outputs": [],
   "source": [
    "with open('name_merge.json','w',encoding='utf-8') as f:\n",
    "    json.dump(new_dict,f)"
   ]
  },
  {
   "cell_type": "code",
   "execution_count": null,
   "id": "3bf85218",
   "metadata": {},
   "outputs": [],
   "source": []
  },
  {
   "cell_type": "code",
   "execution_count": null,
   "id": "95129643",
   "metadata": {},
   "outputs": [],
   "source": []
  }
 ],
 "metadata": {
  "kernelspec": {
   "display_name": "env",
   "language": "python",
   "name": "python3"
  },
  "language_info": {
   "codemirror_mode": {
    "name": "ipython",
    "version": 3
   },
   "file_extension": ".py",
   "mimetype": "text/x-python",
   "name": "python",
   "nbconvert_exporter": "python",
   "pygments_lexer": "ipython3",
   "version": "3.12.3"
  }
 },
 "nbformat": 4,
 "nbformat_minor": 5
}
