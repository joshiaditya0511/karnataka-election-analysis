{
 "cells": [
  {
   "cell_type": "code",
   "execution_count": 1,
   "metadata": {},
   "outputs": [],
   "source": [
    "import pandas as pd\n",
    "\n",
    "candid_eci18 = pd.read_csv('../../Final Data/candid_eci18.csv', index_col=0)\n",
    "const18 = pd.read_csv('../../Final Data/const18.csv', index_col=0)\n",
    "candid_eci23 = pd.read_excel(r\"../../Stationary\\2023 Elections\\ECI Results\\10-Detailed Results.xlsx\")"
   ]
  },
  {
   "cell_type": "code",
   "execution_count": 2,
   "metadata": {},
   "outputs": [],
   "source": [
    "df18 = candid_eci18.loc[candid_eci18['party'] == 'NOTA', ['votes', 'constituency']]\n",
    "nota18 = df18.merge(const18[['constituency', 'total_electors', 'const_num']], on='constituency')"
   ]
  },
  {
   "cell_type": "code",
   "execution_count": 3,
   "metadata": {},
   "outputs": [
    {
     "data": {
      "text/html": [
       "<div>\n",
       "<style scoped>\n",
       "    .dataframe tbody tr th:only-of-type {\n",
       "        vertical-align: middle;\n",
       "    }\n",
       "\n",
       "    .dataframe tbody tr th {\n",
       "        vertical-align: top;\n",
       "    }\n",
       "\n",
       "    .dataframe thead th {\n",
       "        text-align: right;\n",
       "    }\n",
       "</style>\n",
       "<table border=\"1\" class=\"dataframe\">\n",
       "  <thead>\n",
       "    <tr style=\"text-align: right;\">\n",
       "      <th></th>\n",
       "      <th>votes</th>\n",
       "      <th>constituency</th>\n",
       "      <th>total_electors</th>\n",
       "      <th>const_num</th>\n",
       "    </tr>\n",
       "  </thead>\n",
       "  <tbody>\n",
       "    <tr>\n",
       "      <th>0</th>\n",
       "      <td>1447</td>\n",
       "      <td>Nippani</td>\n",
       "      <td>212456</td>\n",
       "      <td>1</td>\n",
       "    </tr>\n",
       "    <tr>\n",
       "      <th>1</th>\n",
       "      <td>1363</td>\n",
       "      <td>Chikkodi-Sadalga</td>\n",
       "      <td>211083</td>\n",
       "      <td>2</td>\n",
       "    </tr>\n",
       "    <tr>\n",
       "      <th>2</th>\n",
       "      <td>842</td>\n",
       "      <td>Athani</td>\n",
       "      <td>214688</td>\n",
       "      <td>3</td>\n",
       "    </tr>\n",
       "    <tr>\n",
       "      <th>3</th>\n",
       "      <td>754</td>\n",
       "      <td>Kagwad</td>\n",
       "      <td>182173</td>\n",
       "      <td>4</td>\n",
       "    </tr>\n",
       "    <tr>\n",
       "      <th>4</th>\n",
       "      <td>348</td>\n",
       "      <td>Kudachi</td>\n",
       "      <td>180509</td>\n",
       "      <td>5</td>\n",
       "    </tr>\n",
       "    <tr>\n",
       "      <th>...</th>\n",
       "      <td>...</td>\n",
       "      <td>...</td>\n",
       "      <td>...</td>\n",
       "      <td>...</td>\n",
       "    </tr>\n",
       "    <tr>\n",
       "      <th>218</th>\n",
       "      <td>1660</td>\n",
       "      <td>T.Narasipur</td>\n",
       "      <td>198441</td>\n",
       "      <td>220</td>\n",
       "    </tr>\n",
       "    <tr>\n",
       "      <th>219</th>\n",
       "      <td>1373</td>\n",
       "      <td>Hanur</td>\n",
       "      <td>207662</td>\n",
       "      <td>221</td>\n",
       "    </tr>\n",
       "    <tr>\n",
       "      <th>220</th>\n",
       "      <td>1524</td>\n",
       "      <td>Kollegal</td>\n",
       "      <td>211555</td>\n",
       "      <td>222</td>\n",
       "    </tr>\n",
       "    <tr>\n",
       "      <th>221</th>\n",
       "      <td>2063</td>\n",
       "      <td>Chamarajanagar</td>\n",
       "      <td>206162</td>\n",
       "      <td>223</td>\n",
       "    </tr>\n",
       "    <tr>\n",
       "      <th>222</th>\n",
       "      <td>1231</td>\n",
       "      <td>Gundlupet</td>\n",
       "      <td>205646</td>\n",
       "      <td>224</td>\n",
       "    </tr>\n",
       "  </tbody>\n",
       "</table>\n",
       "<p>223 rows × 4 columns</p>\n",
       "</div>"
      ],
      "text/plain": [
       "     votes      constituency  total_electors  const_num\n",
       "0     1447           Nippani          212456          1\n",
       "1     1363  Chikkodi-Sadalga          211083          2\n",
       "2      842            Athani          214688          3\n",
       "3      754            Kagwad          182173          4\n",
       "4      348           Kudachi          180509          5\n",
       "..     ...               ...             ...        ...\n",
       "218   1660       T.Narasipur          198441        220\n",
       "219   1373             Hanur          207662        221\n",
       "220   1524          Kollegal          211555        222\n",
       "221   2063    Chamarajanagar          206162        223\n",
       "222   1231         Gundlupet          205646        224\n",
       "\n",
       "[223 rows x 4 columns]"
      ]
     },
     "execution_count": 3,
     "metadata": {},
     "output_type": "execute_result"
    }
   ],
   "source": [
    "nota18"
   ]
  },
  {
   "cell_type": "code",
   "execution_count": 4,
   "metadata": {},
   "outputs": [],
   "source": [
    "candid23 = candid_eci23.loc[candid_eci23['PARTY'] == 'NOTA', ['AC NO.', 'AC NAME', 'TOTAL', 'TOTAL ELECTORS']]"
   ]
  },
  {
   "cell_type": "code",
   "execution_count": 5,
   "metadata": {},
   "outputs": [],
   "source": [
    "nota23 = candid23.rename(columns={\n",
    "    'AC NO.':'const_num',\n",
    "    'AC NAME':'constituency',\n",
    "    'TOTAL':'votes',\n",
    "    'TOTAL ELECTORS':'total_electors'\n",
    "}).astype(\n",
    "    {\n",
    "        'const_num':pd.Int64Dtype(),\n",
    "        'votes':pd.Int64Dtype(),\n",
    "        'total_electors':pd.Int64Dtype(),\n",
    "        'constituency':str\n",
    "    }\n",
    ")"
   ]
  },
  {
   "cell_type": "code",
   "execution_count": 6,
   "metadata": {},
   "outputs": [],
   "source": [
    "nota = nota23.merge(nota18, on='const_num', suffixes=('_23', '_18')).drop(['constituency_23'], axis='columns').rename({'constituency_18':'constituency'}, axis='columns')"
   ]
  },
  {
   "cell_type": "code",
   "execution_count": 7,
   "metadata": {},
   "outputs": [],
   "source": [
    "nota18 = nota[['const_num', 'constituency', 'votes_18', 'total_electors_18']].rename({'votes_18':'votes', 'total_electors_18':'total_electors'}, axis='columns')\n",
    "nota18['Year'] = 2018"
   ]
  },
  {
   "cell_type": "code",
   "execution_count": 8,
   "metadata": {},
   "outputs": [],
   "source": [
    "nota23 = nota[['const_num', 'constituency', 'votes_23', 'total_electors_23']].rename({'votes_23':'votes', 'total_electors_23':'total_electors'}, axis='columns')\n",
    "nota23['Year'] = 2023"
   ]
  },
  {
   "cell_type": "code",
   "execution_count": 9,
   "metadata": {},
   "outputs": [],
   "source": [
    "nota = pd.concat([nota18, nota23])"
   ]
  },
  {
   "cell_type": "code",
   "execution_count": 17,
   "metadata": {},
   "outputs": [],
   "source": [
    "nota['vote_share_percent'] = nota['votes'] / nota['total_electors'] * 100"
   ]
  },
  {
   "cell_type": "code",
   "execution_count": 18,
   "metadata": {},
   "outputs": [],
   "source": [
    "nota.to_csv('../../Final Data/nota.csv', index=False)"
   ]
  },
  {
   "cell_type": "code",
   "execution_count": 19,
   "metadata": {},
   "outputs": [
    {
     "data": {
      "text/html": [
       "<div>\n",
       "<style scoped>\n",
       "    .dataframe tbody tr th:only-of-type {\n",
       "        vertical-align: middle;\n",
       "    }\n",
       "\n",
       "    .dataframe tbody tr th {\n",
       "        vertical-align: top;\n",
       "    }\n",
       "\n",
       "    .dataframe thead th {\n",
       "        text-align: right;\n",
       "    }\n",
       "</style>\n",
       "<table border=\"1\" class=\"dataframe\">\n",
       "  <thead>\n",
       "    <tr style=\"text-align: right;\">\n",
       "      <th></th>\n",
       "      <th>votes</th>\n",
       "      <th>vote_share_percent</th>\n",
       "    </tr>\n",
       "  </thead>\n",
       "  <tbody>\n",
       "    <tr>\n",
       "      <th>count</th>\n",
       "      <td>223.0</td>\n",
       "      <td>223.0</td>\n",
       "    </tr>\n",
       "    <tr>\n",
       "      <th>mean</th>\n",
       "      <td>1406.70852</td>\n",
       "      <td>0.625156</td>\n",
       "    </tr>\n",
       "    <tr>\n",
       "      <th>std</th>\n",
       "      <td>524.537849</td>\n",
       "      <td>0.199342</td>\n",
       "    </tr>\n",
       "    <tr>\n",
       "      <th>min</th>\n",
       "      <td>348.0</td>\n",
       "      <td>0.177327</td>\n",
       "    </tr>\n",
       "    <tr>\n",
       "      <th>25%</th>\n",
       "      <td>1040.5</td>\n",
       "      <td>0.486219</td>\n",
       "    </tr>\n",
       "    <tr>\n",
       "      <th>50%</th>\n",
       "      <td>1345.0</td>\n",
       "      <td>0.601575</td>\n",
       "    </tr>\n",
       "    <tr>\n",
       "      <th>75%</th>\n",
       "      <td>1712.0</td>\n",
       "      <td>0.764686</td>\n",
       "    </tr>\n",
       "    <tr>\n",
       "      <th>max</th>\n",
       "      <td>3952.0</td>\n",
       "      <td>1.215118</td>\n",
       "    </tr>\n",
       "  </tbody>\n",
       "</table>\n",
       "</div>"
      ],
      "text/plain": [
       "            votes  vote_share_percent\n",
       "count       223.0               223.0\n",
       "mean   1406.70852            0.625156\n",
       "std    524.537849            0.199342\n",
       "min         348.0            0.177327\n",
       "25%        1040.5            0.486219\n",
       "50%        1345.0            0.601575\n",
       "75%        1712.0            0.764686\n",
       "max        3952.0            1.215118"
      ]
     },
     "execution_count": 19,
     "metadata": {},
     "output_type": "execute_result"
    }
   ],
   "source": [
    "nota.loc[nota['Year']==2018, ['votes', 'vote_share_percent']].describe()"
   ]
  },
  {
   "cell_type": "code",
   "execution_count": 20,
   "metadata": {},
   "outputs": [
    {
     "data": {
      "text/html": [
       "<div>\n",
       "<style scoped>\n",
       "    .dataframe tbody tr th:only-of-type {\n",
       "        vertical-align: middle;\n",
       "    }\n",
       "\n",
       "    .dataframe tbody tr th {\n",
       "        vertical-align: top;\n",
       "    }\n",
       "\n",
       "    .dataframe thead th {\n",
       "        text-align: right;\n",
       "    }\n",
       "</style>\n",
       "<table border=\"1\" class=\"dataframe\">\n",
       "  <thead>\n",
       "    <tr style=\"text-align: right;\">\n",
       "      <th></th>\n",
       "      <th>votes</th>\n",
       "      <th>vote_share_percent</th>\n",
       "    </tr>\n",
       "  </thead>\n",
       "  <tbody>\n",
       "    <tr>\n",
       "      <th>count</th>\n",
       "      <td>223.0</td>\n",
       "      <td>223.0</td>\n",
       "    </tr>\n",
       "    <tr>\n",
       "      <th>mean</th>\n",
       "      <td>1204.358744</td>\n",
       "      <td>0.501702</td>\n",
       "    </tr>\n",
       "    <tr>\n",
       "      <th>std</th>\n",
       "      <td>614.344378</td>\n",
       "      <td>0.181431</td>\n",
       "    </tr>\n",
       "    <tr>\n",
       "      <th>min</th>\n",
       "      <td>426.0</td>\n",
       "      <td>0.203584</td>\n",
       "    </tr>\n",
       "    <tr>\n",
       "      <th>25%</th>\n",
       "      <td>802.5</td>\n",
       "      <td>0.369208</td>\n",
       "    </tr>\n",
       "    <tr>\n",
       "      <th>50%</th>\n",
       "      <td>1065.0</td>\n",
       "      <td>0.479105</td>\n",
       "    </tr>\n",
       "    <tr>\n",
       "      <th>75%</th>\n",
       "      <td>1468.0</td>\n",
       "      <td>0.609855</td>\n",
       "    </tr>\n",
       "    <tr>\n",
       "      <th>max</th>\n",
       "      <td>4775.0</td>\n",
       "      <td>1.242423</td>\n",
       "    </tr>\n",
       "  </tbody>\n",
       "</table>\n",
       "</div>"
      ],
      "text/plain": [
       "             votes  vote_share_percent\n",
       "count        223.0               223.0\n",
       "mean   1204.358744            0.501702\n",
       "std     614.344378            0.181431\n",
       "min          426.0            0.203584\n",
       "25%          802.5            0.369208\n",
       "50%         1065.0            0.479105\n",
       "75%         1468.0            0.609855\n",
       "max         4775.0            1.242423"
      ]
     },
     "execution_count": 20,
     "metadata": {},
     "output_type": "execute_result"
    }
   ],
   "source": [
    "nota.loc[nota['Year']==2023, ['votes', 'vote_share_percent']].describe()"
   ]
  }
 ],
 "metadata": {
  "kernelspec": {
   "display_name": "env",
   "language": "python",
   "name": "python3"
  },
  "language_info": {
   "codemirror_mode": {
    "name": "ipython",
    "version": 3
   },
   "file_extension": ".py",
   "mimetype": "text/x-python",
   "name": "python",
   "nbconvert_exporter": "python",
   "pygments_lexer": "ipython3",
   "version": "3.12.3"
  }
 },
 "nbformat": 4,
 "nbformat_minor": 2
}
