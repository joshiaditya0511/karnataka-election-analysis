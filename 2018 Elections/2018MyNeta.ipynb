{
 "cells": [
  {
   "cell_type": "code",
   "execution_count": 3,
   "id": "2f83cadc",
   "metadata": {},
   "outputs": [],
   "source": [
    "from bs4 import BeautifulSoup, SoupStrainer\n",
    "import pandas as pd\n",
    "import requests\n",
    "import re\n",
    "import time\n",
    "import asyncio\n",
    "from math import ceil\n",
    "import numpy as np\n",
    "import os\n",
    "import sys\n",
    "import json\n",
    "\n",
    "DIR = os.getenv('KEA_BASE_DIR')\n",
    "sys.path.append(DIR)\n",
    "\n",
    "from cleaning import myneta18_const_corrector, myneta18_df_cleaner, rmv_dspace"
   ]
  },
  {
   "cell_type": "code",
   "execution_count": 2,
   "id": "ef6f3ede",
   "metadata": {},
   "outputs": [],
   "source": [
    "# Retreiving the HTML code from the main 2018 candidates webpage\n",
    "headers = {'User-Agent':'Mozilla/5.0 (Windows NT 10.0; Win64; x64) AppleWebKit/537.36 (KHTML, like Gecko) Chrome/114.0.0.0 Safari/537.36 Edg/114.0.1823.51',\n",
    "          'Accept':\"text/html,application/xhtml+xml,application/xml;q=0.9,image/webp,image/apng,*/*;q=0.8,application/signed-exchange;v=b3;q=0.7\"}\n",
    "\n",
    "html = requests.get('https://myneta.info/Karnataka2018/index.php?action=summary&subAction=candidates_analyzed&sort=candidate#summary',headers=headers).text\n",
    "soup = BeautifulSoup(html, 'lxml')\n",
    "\n",
    "temp_dic = {\n",
    "    'constituency':[],\n",
    "    'name':[],\n",
    "    'party':[],\n",
    "    'age':[],\n",
    "    'profession':[],\n",
    "    'cases':[],\n",
    "    'assets':[],\n",
    "    'liabilities':[],\n",
    "    'education_category':[],\n",
    "    'education':[]\n",
    "}\n",
    "\n",
    "\n",
    "# Filter candidate IDs from main webpage's HTML code\n",
    "def has_candidate(href):\n",
    "    return href and bool(re.compile('^candidate\\.php\\?candidate_id=').search(href))\n",
    "\n",
    "# Finding all 'a' tags with candidate IDs\n",
    "candids = soup.find_all('a',href=has_candidate)\n",
    "\n",
    "# Get HTML of the page synchronously\n",
    "def http_get_sync(url: str):\n",
    "    response = requests.get(url,headers=headers,timeout=(5.0,15.0))\n",
    "    return response.content\n",
    "\n",
    "# Get HTML of the page Asynchronously\n",
    "async def http_get(url: str):\n",
    "    return await asyncio.to_thread(http_get_sync, url)\n",
    "\n",
    "\n",
    "# Fetching the HTML and parsing it to retrieve necessary info\n",
    "async def winner_details(index):\n",
    "    url = 'https://myneta.info/karnataka2018/' + candids[index].attrs['href']\n",
    "    html = await http_get(url)\n",
    "    soup = BeautifulSoup(html, 'lxml')\n",
    "    temp_dic['name'].append(soup.find('div', class_='grid_9 alpha omega').div.h2.text.strip(' \\n'))\n",
    "    temp_dic['constituency'].append(soup.find('div', class_='grid_9 alpha omega').div.h5.text.strip(' \\n'))\n",
    "    temp_dic['party'].append(soup.find('div', class_='grid_9 alpha omega').div.div.text.strip(' \\n'))\n",
    "    temp_dic['age'].append(soup.find('div', {'class':'grid_3 alpha','style':'background:khaki;'}).find_all('div',class_='grid_2 alpha')[2].text.strip(' \\n'))\n",
    "    temp_dic['profession'].append(soup.find('div', {'class':'grid_3 alpha','style':'background:khaki;'}).p.text.strip(' \\n'))\n",
    "    try:\n",
    "        temp_dic['cases'].append(soup.find('div',{'class':'grid_3 alpha left-border-div left-green-border','style':'background-color:red;'}).div.span.text.strip(' \\n'))\n",
    "    except:\n",
    "        temp_dic['cases'].append('0')\n",
    "    try:\n",
    "        temp_dic['assets'].append(soup.find('div', class_='bottom-border-div red fullWidth').b.text.strip(' \\n'))\n",
    "    except:\n",
    "        temp_dic['assets'].append(np.nan)\n",
    "    try:\n",
    "        temp_dic['liabilities'].append(soup.find('div', class_='bottom-border-div blue fullWidth').b.text.strip(' \\n'))\n",
    "    except:\n",
    "        temp_dic['liabilities'].append(np.nan)\n",
    "    try:\n",
    "        temp_dic['education_category'].append(soup.find('div',class_='grid_3 alpha omega left-border-div left-blue-border').find_all('div')[0].string.strip(' \\n'))\n",
    "    except:\n",
    "        temp_dic['education_category'].append(np.nan)\n",
    "    try:\n",
    "        temp_dic['education'].append(soup.find('div',class_='grid_3 alpha omega left-border-div left-blue-border').find_all('div')[1].string.strip(' \\n'))\n",
    "    except:\n",
    "        temp_dic['education'].append(np.nan)\n",
    "        \n",
    "        \n",
    "async def main(start,end):\n",
    "    await asyncio.gather(*[winner_details(index) for index in range(start,end)])\n",
    "    \n",
    "for i in range(ceil(len(candids)/20)):\n",
    "    start = i*20\n",
    "    end = start+20\n",
    "    if end>len(candids):\n",
    "        end=len(candids)\n",
    "    await main(start,end)\n",
    "    time.sleep(3.5)"
   ]
  },
  {
   "cell_type": "code",
   "execution_count": 3,
   "id": "7d6aca34",
   "metadata": {},
   "outputs": [
    {
     "name": "stdout",
     "output_type": "stream",
     "text": [
      "<class 'pandas.core.frame.DataFrame'>\n",
      "RangeIndex: 2576 entries, 0 to 2575\n",
      "Data columns (total 10 columns):\n",
      " #   Column              Non-Null Count  Dtype \n",
      "---  ------              --------------  ----- \n",
      " 0   constituency        2576 non-null   object\n",
      " 1   name                2576 non-null   object\n",
      " 2   party               2576 non-null   object\n",
      " 3   age                 2576 non-null   object\n",
      " 4   profession          2576 non-null   object\n",
      " 5   cases               2576 non-null   object\n",
      " 6   assets              2576 non-null   object\n",
      " 7   liabilities         2576 non-null   object\n",
      " 8   education_category  2576 non-null   object\n",
      " 9   education           2576 non-null   object\n",
      "dtypes: object(10)\n",
      "memory usage: 201.4+ KB\n"
     ]
    }
   ],
   "source": [
    "df = pd.DataFrame(temp_dic)\n",
    "df.info()"
   ]
  },
  {
   "cell_type": "code",
   "execution_count": 4,
   "id": "46c733b3",
   "metadata": {},
   "outputs": [
    {
     "name": "stdout",
     "output_type": "stream",
     "text": [
      "<class 'pandas.core.frame.DataFrame'>\n",
      "RangeIndex: 2576 entries, 0 to 2575\n",
      "Data columns (total 13 columns):\n",
      " #   Column              Non-Null Count  Dtype   \n",
      "---  ------              --------------  -----   \n",
      " 0   constituency        2576 non-null   object  \n",
      " 1   name                2576 non-null   object  \n",
      " 2   party               2576 non-null   category\n",
      " 3   age                 2569 non-null   Int32   \n",
      " 4   profession          2576 non-null   object  \n",
      " 5   cases               2576 non-null   int32   \n",
      " 6   assets              2559 non-null   Int64   \n",
      " 7   liabilities         1478 non-null   Float64 \n",
      " 8   education_category  2576 non-null   category\n",
      " 9   education           2576 non-null   object  \n",
      " 10  district            2576 non-null   object  \n",
      " 11  self_profession     2576 non-null   object  \n",
      " 12  spouse_profession   2576 non-null   object  \n",
      "dtypes: Float64(1), Int32(1), Int64(1), category(2), int32(1), object(7)\n",
      "memory usage: 217.3+ KB\n"
     ]
    }
   ],
   "source": [
    "# Cleaning the DF, extracting features and resolving name conflicts\n",
    "df = myneta18_df_cleaner(df)\n",
    "df.info()"
   ]
  },
  {
   "cell_type": "code",
   "execution_count": 5,
   "id": "dcd0d9b4",
   "metadata": {},
   "outputs": [],
   "source": [
    "# Repeat the same procedure above, but for the winners\n",
    "\n",
    "html = requests.get('https://myneta.info/Karnataka2018/index.php?action=summary&subAction=winner_analyzed&sort=candidate#summary',headers=headers).text\n",
    "soup = BeautifulSoup(html, 'lxml')\n",
    "\n",
    "temp_dic = {\n",
    "    'constituency':[],\n",
    "    'name':[],\n",
    "    'party':[],\n",
    "    'age':[],\n",
    "    'profession':[],\n",
    "    'cases':[],\n",
    "    'assets':[],\n",
    "    'liabilities':[],\n",
    "    'education_category':[],\n",
    "    'education':[]\n",
    "}\n",
    "\n",
    "candids = soup.find_all('a',href=has_candidate)\n",
    "\n",
    "for i in range(ceil(len(candids)/20)):\n",
    "    start = i*20\n",
    "    end = start+20\n",
    "    if end>len(candids):\n",
    "        end=len(candids)\n",
    "    await main(start,end)\n",
    "    time.sleep(3)"
   ]
  },
  {
   "cell_type": "code",
   "execution_count": 6,
   "id": "2b4e1c35",
   "metadata": {},
   "outputs": [
    {
     "name": "stdout",
     "output_type": "stream",
     "text": [
      "<class 'pandas.core.frame.DataFrame'>\n",
      "RangeIndex: 223 entries, 0 to 222\n",
      "Data columns (total 10 columns):\n",
      " #   Column              Non-Null Count  Dtype \n",
      "---  ------              --------------  ----- \n",
      " 0   constituency        223 non-null    object\n",
      " 1   name                223 non-null    object\n",
      " 2   party               223 non-null    object\n",
      " 3   age                 223 non-null    object\n",
      " 4   profession          223 non-null    object\n",
      " 5   cases               223 non-null    object\n",
      " 6   assets              223 non-null    object\n",
      " 7   liabilities         223 non-null    object\n",
      " 8   education_category  223 non-null    object\n",
      " 9   education           223 non-null    object\n",
      "dtypes: object(10)\n",
      "memory usage: 17.6+ KB\n"
     ]
    }
   ],
   "source": [
    "winners_df = pd.DataFrame(temp_dic)\n",
    "winners_df.info()"
   ]
  },
  {
   "cell_type": "code",
   "execution_count": 7,
   "id": "5af2d889",
   "metadata": {},
   "outputs": [
    {
     "name": "stdout",
     "output_type": "stream",
     "text": [
      "<class 'pandas.core.frame.DataFrame'>\n",
      "RangeIndex: 223 entries, 0 to 222\n",
      "Data columns (total 13 columns):\n",
      " #   Column              Non-Null Count  Dtype   \n",
      "---  ------              --------------  -----   \n",
      " 0   constituency        223 non-null    object  \n",
      " 1   name                223 non-null    object  \n",
      " 2   party               223 non-null    category\n",
      " 3   age                 223 non-null    Int32   \n",
      " 4   profession          223 non-null    object  \n",
      " 5   cases               223 non-null    int32   \n",
      " 6   assets              223 non-null    Int64   \n",
      " 7   liabilities         192 non-null    Float64 \n",
      " 8   education_category  223 non-null    category\n",
      " 9   education           223 non-null    object  \n",
      " 10  district            223 non-null    object  \n",
      " 11  self_profession     223 non-null    object  \n",
      " 12  spouse_profession   223 non-null    object  \n",
      "dtypes: Float64(1), Int32(1), Int64(1), category(2), int32(1), object(7)\n",
      "memory usage: 19.2+ KB\n"
     ]
    }
   ],
   "source": [
    "winners_df = myneta18_df_cleaner(winners_df)\n",
    "winners_df.info()"
   ]
  },
  {
   "cell_type": "code",
   "execution_count": 8,
   "id": "93871cde",
   "metadata": {},
   "outputs": [
    {
     "name": "stdout",
     "output_type": "stream",
     "text": [
      "224\n"
     ]
    },
    {
     "data": {
      "text/plain": [
       "array(['Athani'], dtype=object)"
      ]
     },
     "execution_count": 8,
     "metadata": {},
     "output_type": "execute_result"
    }
   ],
   "source": [
    "print(len(df.constituency.unique()))\n",
    "\n",
    "# Checking discrepencies for constituencies between both datasets.\n",
    "np.setdiff1d(df.constituency.unique(),winners_df.constituency.unique())"
   ]
  },
  {
   "cell_type": "code",
   "execution_count": 9,
   "id": "cadbe072",
   "metadata": {},
   "outputs": [],
   "source": [
    "# Creating a temporary dataframe with the missing values in the winners dataset from votes dataset\n",
    "\n",
    "temp_dic = {\n",
    "    'constituency':['Athani'],\n",
    "    'name':['Mahesh Iranagouda Kumathalli'],\n",
    "    'party':['INC'],\n",
    "    'age':[56],\n",
    "    'profession':[pd.NA],\n",
    "    'cases':[pd.NA],\n",
    "    'assets':[pd.NA],\n",
    "    'liabilities':[pd.NA],\n",
    "    'education_category':['Not Available'],\n",
    "    'education':['Not Available'],\n",
    "    'district':['Belgaum'],\n",
    "    'self_profession':['Not Available'],\n",
    "    'spouse_profession':['Not Available'],\n",
    "}\n",
    "temp_df = pd.DataFrame(temp_dic)\n",
    "\n",
    "# Concatenating the temporary and main dataframes\n",
    "winners_df = pd.concat([winners_df,temp_df],ignore_index=True)\n",
    "df = pd.concat([df,temp_df],ignore_index=True)"
   ]
  },
  {
   "cell_type": "code",
   "execution_count": 10,
   "id": "d39b7917",
   "metadata": {},
   "outputs": [],
   "source": [
    "# Correcting party names\n",
    "df.party = df.party.apply(lambda x : 'KPJP' if x=='Karnataka Pragnyavantha Janatha Party' else x)\n",
    "winners_df.party = winners_df.party.apply(lambda x : 'KPJP' if x=='Karnataka Pragnyavantha Janatha Party' else x)"
   ]
  },
  {
   "cell_type": "code",
   "execution_count": 11,
   "id": "ccbd4333",
   "metadata": {},
   "outputs": [
    {
     "name": "stdout",
     "output_type": "stream",
     "text": [
      "<class 'pandas.core.frame.DataFrame'>\n",
      "RangeIndex: 2577 entries, 0 to 2576\n",
      "Data columns (total 13 columns):\n",
      " #   Column              Non-Null Count  Dtype \n",
      "---  ------              --------------  ----- \n",
      " 0   constituency        2577 non-null   object\n",
      " 1   name                2577 non-null   object\n",
      " 2   party               2577 non-null   object\n",
      " 3   age                 2570 non-null   Int64 \n",
      " 4   profession          2576 non-null   object\n",
      " 5   cases               2576 non-null   object\n",
      " 6   assets              2559 non-null   object\n",
      " 7   liabilities         1478 non-null   object\n",
      " 8   education_category  2577 non-null   object\n",
      " 9   education           2577 non-null   object\n",
      " 10  district            2577 non-null   object\n",
      " 11  self_profession     2577 non-null   object\n",
      " 12  spouse_profession   2577 non-null   object\n",
      "dtypes: Int64(1), object(12)\n",
      "memory usage: 264.4+ KB\n"
     ]
    }
   ],
   "source": [
    "df.info()"
   ]
  },
  {
   "cell_type": "code",
   "execution_count": 12,
   "id": "a9eb8f87",
   "metadata": {},
   "outputs": [],
   "source": [
    "# Removing unnecessary attributes and converting dataframe to a csv file.\n",
    "df.drop('profession',axis='columns',inplace=True)\n",
    "df.to_csv('candidates2018MyNeta.csv')"
   ]
  },
  {
   "cell_type": "code",
   "execution_count": 13,
   "id": "943eee7b",
   "metadata": {},
   "outputs": [
    {
     "name": "stdout",
     "output_type": "stream",
     "text": [
      "<class 'pandas.core.frame.DataFrame'>\n",
      "RangeIndex: 224 entries, 0 to 223\n",
      "Data columns (total 13 columns):\n",
      " #   Column              Non-Null Count  Dtype \n",
      "---  ------              --------------  ----- \n",
      " 0   constituency        224 non-null    object\n",
      " 1   name                224 non-null    object\n",
      " 2   party               224 non-null    object\n",
      " 3   age                 224 non-null    Int64 \n",
      " 4   profession          223 non-null    object\n",
      " 5   cases               223 non-null    object\n",
      " 6   assets              223 non-null    object\n",
      " 7   liabilities         192 non-null    object\n",
      " 8   education_category  224 non-null    object\n",
      " 9   education           224 non-null    object\n",
      " 10  district            224 non-null    object\n",
      " 11  self_profession     224 non-null    object\n",
      " 12  spouse_profession   224 non-null    object\n",
      "dtypes: Int64(1), object(12)\n",
      "memory usage: 23.1+ KB\n"
     ]
    }
   ],
   "source": [
    "winners_df.info()"
   ]
  },
  {
   "cell_type": "code",
   "execution_count": 14,
   "id": "6310e6f3",
   "metadata": {},
   "outputs": [],
   "source": [
    "# Removing unnecessary attributes and converting dataframe to a csv file.\n",
    "winners_df.drop('profession',axis='columns',inplace=True)\n",
    "winners_df.to_csv('winners2018MyNeta.csv')"
   ]
  },
  {
   "cell_type": "code",
   "execution_count": 15,
   "id": "cf126b37",
   "metadata": {},
   "outputs": [],
   "source": [
    "const_eci18 = pd.read_csv('constituency2018ECI.csv',index_col=0)\n",
    "const_myneta18 = pd.read_csv('winners2018MyNeta.csv',index_col=0)"
   ]
  },
  {
   "cell_type": "code",
   "execution_count": 16,
   "id": "91968bb3",
   "metadata": {},
   "outputs": [],
   "source": [
    "# Creating a dictionary with keys as constituency and values as candidate (winner) name\n",
    "temp_dic = {const_eci18.loc[index,'constituency'] : const_eci18.loc[index,'name'] for index in const_eci18.index}"
   ]
  },
  {
   "cell_type": "code",
   "execution_count": 17,
   "id": "a8bf745d",
   "metadata": {},
   "outputs": [],
   "source": [
    "# Renaming the winning candidates' names in this (votes dataset) dataset from the ECI dataset\n",
    "for index in const_myneta18.index:\n",
    "    const = const_myneta18.loc[index,'constituency']\n",
    "    const_myneta18.loc[index,'name'] = temp_dic[const]"
   ]
  },
  {
   "cell_type": "code",
   "execution_count": 18,
   "id": "a2ce3c52",
   "metadata": {},
   "outputs": [],
   "source": [
    "# Converting the dataframe to a csv file\n",
    "const_myneta18.to_csv('winners2018MyNeta.csv')"
   ]
  },
  {
   "cell_type": "code",
   "execution_count": null,
   "id": "3e6b0a46-37d9-49d4-88cc-fffb0ff5fefe",
   "metadata": {},
   "outputs": [],
   "source": []
  },
  {
   "cell_type": "code",
   "execution_count": null,
   "id": "eab95f21",
   "metadata": {},
   "outputs": [],
   "source": []
  },
  {
   "cell_type": "code",
   "execution_count": null,
   "id": "751fd377",
   "metadata": {},
   "outputs": [],
   "source": []
  },
  {
   "cell_type": "code",
   "execution_count": null,
   "id": "e0256d61",
   "metadata": {},
   "outputs": [],
   "source": []
  },
  {
   "cell_type": "code",
   "execution_count": null,
   "id": "1ca6afb8",
   "metadata": {},
   "outputs": [],
   "source": []
  },
  {
   "cell_type": "code",
   "execution_count": 4,
   "id": "d4debdb8",
   "metadata": {},
   "outputs": [],
   "source": [
    "df = pd.read_csv('candidates2018MyNeta.csv',index_col=0)\n",
    "winners_df = pd.read_csv('winners2018MyNeta.csv',index_col=0)\n",
    "with open(f'{DIR}/education.json','r',encoding='utf-8') as file:\n",
    "    education = dict(json.loads(file.read()))\n",
    "with open(f'{DIR}/profession.json','r',encoding='utf-8') as file:\n",
    "    profession = dict(json.loads(file.read()))"
   ]
  },
  {
   "cell_type": "code",
   "execution_count": 5,
   "id": "f3cddc0b",
   "metadata": {},
   "outputs": [],
   "source": [
    "df[['education','self_profession','spouse_profession']] = df[['education','self_profession','spouse_profession']].fillna('Unknown')\n",
    "winners_df[['education','self_profession','spouse_profession']] = winners_df[['education','self_profession','spouse_profession']].fillna('Unknown')"
   ]
  },
  {
   "cell_type": "code",
   "execution_count": 6,
   "id": "788049b4",
   "metadata": {},
   "outputs": [],
   "source": [
    "for edu in df.education.unique():\n",
    "    df.loc[df.education==edu,'education_category'] = education[edu]\n",
    "    \n",
    "for edu in winners_df.education.unique():\n",
    "    winners_df.loc[winners_df.education==edu,'education_category'] = education[edu]"
   ]
  },
  {
   "cell_type": "code",
   "execution_count": 7,
   "id": "2120bdf5",
   "metadata": {},
   "outputs": [],
   "source": [
    "df[['self_profession_category','spouse_profession_category']] = 'Unknown'\n",
    "winners_df[['self_profession_category','spouse_profession_category']] = 'Unknown'"
   ]
  },
  {
   "cell_type": "code",
   "execution_count": 8,
   "id": "b6a253dd",
   "metadata": {},
   "outputs": [],
   "source": [
    "for prof in df.self_profession.unique():\n",
    "    df.loc[df.self_profession==prof,'self_profession_category'] = ', '.join(profession[prof])\n",
    "    \n",
    "for prof in df.spouse_profession.unique():\n",
    "    df.loc[df.spouse_profession==prof,'spouse_profession_category'] = ', '.join(profession[prof])\n",
    "    \n",
    "for prof in winners_df.self_profession.unique():\n",
    "    winners_df.loc[winners_df.self_profession==prof,'self_profession_category'] = ', '.join(profession[prof])\n",
    "    \n",
    "for prof in winners_df.spouse_profession.unique():\n",
    "    winners_df.loc[winners_df.spouse_profession==prof,'spouse_profession_category'] = ', '.join(profession[prof])"
   ]
  },
  {
   "cell_type": "code",
   "execution_count": 10,
   "id": "18a60fd0",
   "metadata": {},
   "outputs": [],
   "source": [
    "df.to_csv('candidates2018MyNeta.csv')\n",
    "winners_df.to_csv('winners2018MyNeta.csv')"
   ]
  },
  {
   "cell_type": "code",
   "execution_count": null,
   "id": "8bdbad1b",
   "metadata": {},
   "outputs": [],
   "source": []
  },
  {
   "cell_type": "code",
   "execution_count": null,
   "id": "127e9fd8",
   "metadata": {},
   "outputs": [],
   "source": []
  },
  {
   "cell_type": "code",
   "execution_count": null,
   "id": "ec737ffb",
   "metadata": {},
   "outputs": [],
   "source": []
  },
  {
   "cell_type": "code",
   "execution_count": null,
   "id": "02356a39",
   "metadata": {},
   "outputs": [],
   "source": []
  },
  {
   "cell_type": "code",
   "execution_count": null,
   "id": "a4b10fea",
   "metadata": {},
   "outputs": [],
   "source": []
  }
 ],
 "metadata": {
  "kernelspec": {
   "display_name": "Python 3 (ipykernel)",
   "language": "python",
   "name": "python3"
  },
  "language_info": {
   "codemirror_mode": {
    "name": "ipython",
    "version": 3
   },
   "file_extension": ".py",
   "mimetype": "text/x-python",
   "name": "python",
   "nbconvert_exporter": "python",
   "pygments_lexer": "ipython3",
   "version": "3.11.2"
  }
 },
 "nbformat": 4,
 "nbformat_minor": 5
}
