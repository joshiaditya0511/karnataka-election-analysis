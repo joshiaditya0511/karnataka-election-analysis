{
 "cells": [
  {
   "cell_type": "code",
   "execution_count": 10,
   "metadata": {},
   "outputs": [],
   "source": [
    "import pandas as pd\n",
    "import plotly.express as px\n",
    "import plotly.graph_objects as go\n",
    "import plotly.io as pio\n",
    "import json"
   ]
  },
  {
   "cell_type": "markdown",
   "metadata": {},
   "source": [
    "# Importing the data"
   ]
  },
  {
   "cell_type": "code",
   "execution_count": 11,
   "metadata": {},
   "outputs": [],
   "source": [
    "candid13 = pd.read_csv(\"candid13.csv\", index_col=0) # data of candidates in 2013 elections\n",
    "candid18 = pd.read_csv(\"candid18.csv\", index_col=0) # data of candidates in 2018 elections\n",
    "candid18post = pd.read_csv(\"candid18_post.csv\", index_col=0) # data of candidates in 2018 elections after considering bye elections\n",
    "candid23 = pd.read_csv(\"candid23.csv\", index_col=0) # data of candidates in 2023 elections\n",
    "\n",
    "const13 = pd.read_csv(\"const13.csv\", index_col=0) # data of constituencies in 2013 elections\n",
    "const18 = pd.read_csv(\"const18.csv\", index_col=0) # data of constituencies in 2018 elections\n",
    "const18post = pd.read_csv(\"const18_post.csv\", index_col=0) # data of constituencies in 2018 elections after considering bye elections\n",
    "const23 = pd.read_csv(\"const23.csv\", index_col=0) # data of constituencies in 2023 elections\n",
    "\n",
    "constnum = pd.read_csv(\"const_num.csv\", index_col=0) # mapping of constituency number to constituency name"
   ]
  },
  {
   "cell_type": "markdown",
   "metadata": {},
   "source": [
    "## Basic Parliament Seats Data"
   ]
  },
  {
   "cell_type": "code",
   "execution_count": null,
   "metadata": {},
   "outputs": [],
   "source": [
    "\n"
   ]
  },
  {
   "cell_type": "markdown",
   "metadata": {},
   "source": [
    "# Creating Plots"
   ]
  },
  {
   "cell_type": "code",
   "execution_count": 15,
   "metadata": {},
   "outputs": [],
   "source": [
    "def get_total_voteshare_percent():   \n",
    "    def process_year(candid_df, const_df, year):\n",
    "        # Create a copy to avoid modifying the original DataFrame\n",
    "        temp = candid_df.copy()\n",
    "        \n",
    "        # Calculate the total votes across all parties\n",
    "        temp['total votes'] = temp['votes'].sum()\n",
    "        \n",
    "        # Group by party and total votes to calculate party totals\n",
    "        grouped = temp.groupby(['party', 'total votes'])['votes'].sum().reset_index()\n",
    "        grouped = grouped.rename(columns={'votes': 'party_total'})\n",
    "        \n",
    "        # Calculate vote share percentage\n",
    "        grouped['vote share percent'] = (grouped['party_total'] / grouped['total votes']) * 100\n",
    "        grouped['vote share percent'] = grouped['vote share percent'].round(2)\n",
    "        \n",
    "        # Add the election year\n",
    "        grouped['year'] = year\n",
    "        \n",
    "        # Filter for specific parties\n",
    "        grouped = grouped[grouped['party'].isin(['BJP', 'INC', 'JD(S)'])]\n",
    "        \n",
    "        # Calculate the number of constituencies won by each party\n",
    "        constituencies_won = const_df.groupby('party').size().reset_index(name='constituencies won')\n",
    "        \n",
    "        # Merge the party totals with constituencies won\n",
    "        result = pd.merge(grouped, constituencies_won, on='party')\n",
    "        \n",
    "        return result\n",
    "\n",
    "    # Process data for each election year\n",
    "    result13 = process_year(candid13, const13, 2013)\n",
    "    result18 = process_year(candid18, const18, 2018)\n",
    "    result23 = process_year(candid23, const23, 2023)\n",
    "\n",
    "    # Combine the results from all years\n",
    "    final_result = pd.concat([result13, result18, result23], ignore_index=True)\n",
    "    return final_result"
   ]
  },
  {
   "cell_type": "code",
   "execution_count": 16,
   "metadata": {},
   "outputs": [
    {
     "data": {
      "text/html": [
       "<div>\n",
       "<style scoped>\n",
       "    .dataframe tbody tr th:only-of-type {\n",
       "        vertical-align: middle;\n",
       "    }\n",
       "\n",
       "    .dataframe tbody tr th {\n",
       "        vertical-align: top;\n",
       "    }\n",
       "\n",
       "    .dataframe thead th {\n",
       "        text-align: right;\n",
       "    }\n",
       "</style>\n",
       "<table border=\"1\" class=\"dataframe\">\n",
       "  <thead>\n",
       "    <tr style=\"text-align: right;\">\n",
       "      <th></th>\n",
       "      <th>party</th>\n",
       "      <th>total votes</th>\n",
       "      <th>party_total</th>\n",
       "      <th>vote share percent</th>\n",
       "      <th>year</th>\n",
       "      <th>constituencies won</th>\n",
       "    </tr>\n",
       "  </thead>\n",
       "  <tbody>\n",
       "    <tr>\n",
       "      <th>0</th>\n",
       "      <td>BJP</td>\n",
       "      <td>30694374.0</td>\n",
       "      <td>6231660.0</td>\n",
       "      <td>20.30</td>\n",
       "      <td>2013</td>\n",
       "      <td>40</td>\n",
       "    </tr>\n",
       "    <tr>\n",
       "      <th>1</th>\n",
       "      <td>INC</td>\n",
       "      <td>30694374.0</td>\n",
       "      <td>11254487.0</td>\n",
       "      <td>36.67</td>\n",
       "      <td>2013</td>\n",
       "      <td>122</td>\n",
       "    </tr>\n",
       "    <tr>\n",
       "      <th>2</th>\n",
       "      <td>JD(S)</td>\n",
       "      <td>30694374.0</td>\n",
       "      <td>6091769.0</td>\n",
       "      <td>19.85</td>\n",
       "      <td>2013</td>\n",
       "      <td>40</td>\n",
       "    </tr>\n",
       "    <tr>\n",
       "      <th>3</th>\n",
       "      <td>BJP</td>\n",
       "      <td>35930149.0</td>\n",
       "      <td>13297224.0</td>\n",
       "      <td>37.01</td>\n",
       "      <td>2018</td>\n",
       "      <td>104</td>\n",
       "    </tr>\n",
       "    <tr>\n",
       "      <th>4</th>\n",
       "      <td>INC</td>\n",
       "      <td>35930149.0</td>\n",
       "      <td>13652276.0</td>\n",
       "      <td>38.00</td>\n",
       "      <td>2018</td>\n",
       "      <td>80</td>\n",
       "    </tr>\n",
       "    <tr>\n",
       "      <th>5</th>\n",
       "      <td>JD(S)</td>\n",
       "      <td>35930149.0</td>\n",
       "      <td>6723011.0</td>\n",
       "      <td>18.71</td>\n",
       "      <td>2018</td>\n",
       "      <td>37</td>\n",
       "    </tr>\n",
       "    <tr>\n",
       "      <th>6</th>\n",
       "      <td>BJP</td>\n",
       "      <td>38823869.0</td>\n",
       "      <td>14210103.0</td>\n",
       "      <td>36.60</td>\n",
       "      <td>2023</td>\n",
       "      <td>66</td>\n",
       "    </tr>\n",
       "    <tr>\n",
       "      <th>7</th>\n",
       "      <td>INC</td>\n",
       "      <td>38823869.0</td>\n",
       "      <td>16616300.0</td>\n",
       "      <td>42.80</td>\n",
       "      <td>2023</td>\n",
       "      <td>135</td>\n",
       "    </tr>\n",
       "    <tr>\n",
       "      <th>8</th>\n",
       "      <td>JD(S)</td>\n",
       "      <td>38823869.0</td>\n",
       "      <td>5268788.0</td>\n",
       "      <td>13.57</td>\n",
       "      <td>2023</td>\n",
       "      <td>19</td>\n",
       "    </tr>\n",
       "  </tbody>\n",
       "</table>\n",
       "</div>"
      ],
      "text/plain": [
       "   party  total votes  party_total  vote share percent  year  \\\n",
       "0    BJP   30694374.0    6231660.0               20.30  2013   \n",
       "1    INC   30694374.0   11254487.0               36.67  2013   \n",
       "2  JD(S)   30694374.0    6091769.0               19.85  2013   \n",
       "3    BJP   35930149.0   13297224.0               37.01  2018   \n",
       "4    INC   35930149.0   13652276.0               38.00  2018   \n",
       "5  JD(S)   35930149.0    6723011.0               18.71  2018   \n",
       "6    BJP   38823869.0   14210103.0               36.60  2023   \n",
       "7    INC   38823869.0   16616300.0               42.80  2023   \n",
       "8  JD(S)   38823869.0    5268788.0               13.57  2023   \n",
       "\n",
       "   constituencies won  \n",
       "0                  40  \n",
       "1                 122  \n",
       "2                  40  \n",
       "3                 104  \n",
       "4                  80  \n",
       "5                  37  \n",
       "6                  66  \n",
       "7                 135  \n",
       "8                  19  "
      ]
     },
     "execution_count": 16,
     "metadata": {},
     "output_type": "execute_result"
    }
   ],
   "source": [
    "get_total_voteshare_percent()"
   ]
  },
  {
   "cell_type": "code",
   "execution_count": 153,
   "metadata": {},
   "outputs": [
    {
     "data": {
      "text/html": [
       "<div>\n",
       "<style scoped>\n",
       "    .dataframe tbody tr th:only-of-type {\n",
       "        vertical-align: middle;\n",
       "    }\n",
       "\n",
       "    .dataframe tbody tr th {\n",
       "        vertical-align: top;\n",
       "    }\n",
       "\n",
       "    .dataframe thead th {\n",
       "        text-align: right;\n",
       "    }\n",
       "</style>\n",
       "<table border=\"1\" class=\"dataframe\">\n",
       "  <thead>\n",
       "    <tr style=\"text-align: right;\">\n",
       "      <th></th>\n",
       "      <th>party</th>\n",
       "      <th>total votes</th>\n",
       "      <th>party_total</th>\n",
       "      <th>vote share percent</th>\n",
       "      <th>year</th>\n",
       "      <th>constituencies won</th>\n",
       "    </tr>\n",
       "  </thead>\n",
       "  <tbody>\n",
       "    <tr>\n",
       "      <th>0</th>\n",
       "      <td>INC</td>\n",
       "      <td>2988027.0</td>\n",
       "      <td>1026181.0</td>\n",
       "      <td>34.34</td>\n",
       "      <td>2013</td>\n",
       "      <td>11</td>\n",
       "    </tr>\n",
       "    <tr>\n",
       "      <th>1</th>\n",
       "      <td>INC</td>\n",
       "      <td>3532035.0</td>\n",
       "      <td>1183936.0</td>\n",
       "      <td>33.52</td>\n",
       "      <td>2018</td>\n",
       "      <td>5</td>\n",
       "    </tr>\n",
       "    <tr>\n",
       "      <th>2</th>\n",
       "      <td>INC</td>\n",
       "      <td>3769675.0</td>\n",
       "      <td>1632169.0</td>\n",
       "      <td>43.30</td>\n",
       "      <td>2023</td>\n",
       "      <td>15</td>\n",
       "    </tr>\n",
       "  </tbody>\n",
       "</table>\n",
       "</div>"
      ],
      "text/plain": [
       "  party  total votes  party_total  vote share percent  year  \\\n",
       "0   INC    2988027.0    1026181.0               34.34  2013   \n",
       "1   INC    3532035.0    1183936.0               33.52  2018   \n",
       "2   INC    3769675.0    1632169.0               43.30  2023   \n",
       "\n",
       "   constituencies won  \n",
       "0                  11  \n",
       "1                   5  \n",
       "2                  15  "
      ]
     },
     "execution_count": 153,
     "metadata": {},
     "output_type": "execute_result"
    }
   ],
   "source": [
    "def process_BJY_year(candid_df, const_df, year, BJY_const_list):\n",
    "    # Filter candidate DataFrame for constituencies in BJY_const_list\n",
    "    temp = candid_df[candid_df['constituency'].isin(BJY_const_list)].copy()\n",
    "    \n",
    "    # Calculate the total votes across all parties in these constituencies\n",
    "    total_votes = temp['votes'].sum()\n",
    "    temp['total votes'] = total_votes\n",
    "    \n",
    "    # Group by party and total votes to calculate party totals\n",
    "    grouped = temp.groupby(['party', 'total votes'])['votes'].sum().reset_index()\n",
    "    grouped = grouped.rename(columns={'votes': 'party_total'})\n",
    "    \n",
    "    # Calculate vote share percentage\n",
    "    grouped['vote share percent'] = (grouped['party_total'] / grouped['total votes']) * 100\n",
    "    grouped['vote share percent'] = grouped['vote share percent'].round(2)\n",
    "    \n",
    "    # Add the election year\n",
    "    grouped['year'] = year\n",
    "    \n",
    "    # Filter for the 'INC' party\n",
    "    grouped = grouped[grouped['party'] == 'INC']\n",
    "    \n",
    "    # Filter constituency DataFrame for constituencies in BJY_const_list\n",
    "    temp_const = const_df[const_df['constituency'].isin(BJY_const_list)].copy()\n",
    "    \n",
    "    # Calculate the number of constituencies won by 'INC'\n",
    "    constituencies_won = temp_const[temp_const['party'] == 'INC'].groupby('party').size().reset_index(name='constituencies won')\n",
    "    \n",
    "    # Merge the party totals with constituencies won\n",
    "    result = pd.merge(grouped, constituencies_won, on='party')\n",
    "    \n",
    "    return result\n",
    "\n",
    "# List of constituencies the Bharat Jodo Yatra passed through\n",
    "BJY_const_list = [\n",
    "    'Raichur', 'Raichur Rural', 'Bellary', 'Bellary City', 'Molakalmuru', 'Challakere', 'Hiriyur', 'Chiknayakanhalli',\n",
    "    'Tiptur', 'Turuvekere', 'Nagamangala', 'Melukote', 'Mandya', 'Shrirangapattana', 'Chamundeshwari', 'Krishnaraja',\n",
    "    'Chamaraja', 'Narasimharaja', 'Varuna', 'Nanjangud', 'Gundlupet'\n",
    "]\n",
    "\n",
    "# Process data for each election year\n",
    "result13 = process_BJY_year(candid13, const13, 2013, BJY_const_list)\n",
    "result18 = process_BJY_year(candid18post, const18post, 2018, BJY_const_list)\n",
    "result23 = process_BJY_year(candid23, const23, 2023, BJY_const_list)\n",
    "\n",
    "# Combine the results from all years\n",
    "final_result = pd.concat([result13, result18, result23], ignore_index=True)\n",
    "final_result"
   ]
  },
  {
   "cell_type": "markdown",
   "metadata": {},
   "source": [
    "## Karnataka's Electoral History"
   ]
  },
  {
   "cell_type": "code",
   "execution_count": 3,
   "metadata": {},
   "outputs": [],
   "source": [
    "# Define the list of major parties and their corresponding colors\n",
    "major_parties = ['BJP', 'INC', 'JD(S)']\n",
    "party_colors = {\n",
    "    'BJP': '#FF7500',\n",
    "    'INC': '#0D5BE1',\n",
    "    'JD(S)': 'green'\n",
    "}\n",
    "\n",
    "# Define the years\n",
    "years = [2013, 2018, 2023]\n",
    "\n",
    "# Candidate dataframes for each year (assumed to be already loaded)\n",
    "candid_dfs = {\n",
    "    2013: candid13,\n",
    "    2018: candid18,\n",
    "    2023: candid23\n",
    "}\n",
    "\n",
    "# Constituency dataframes for each year (assumed to be already loaded)\n",
    "const_dfs = {\n",
    "    2013: const13,\n",
    "    2018: const18,\n",
    "    2023: const23\n",
    "}\n"
   ]
  },
  {
   "cell_type": "markdown",
   "metadata": {},
   "source": [
    "### Plot 1: Vote Share Percent by Major Party and Year"
   ]
  },
  {
   "cell_type": "code",
   "execution_count": null,
   "metadata": {},
   "outputs": [],
   "source": [
    "# Prepare the data for vote share percentages\n",
    "vote_share_data = []\n",
    "\n",
    "for year in years:\n",
    "    candid_df = candid_dfs[year]\n",
    "    \n",
    "    # Calculate total votes cast in the election\n",
    "    total_votes = candid_df['votes'].sum()\n",
    "    \n",
    "    # Calculate total votes received by each party\n",
    "    votes_by_party = candid_df.groupby('party')['votes'].sum().reset_index()\n",
    "    \n",
    "    # Filter for major parties\n",
    "    votes_by_party = votes_by_party[votes_by_party['party'].isin(major_parties)]\n",
    "    \n",
    "    # Calculate vote share percentage\n",
    "    votes_by_party['vote_share_percent'] = (votes_by_party['votes'] / total_votes) * 100\n",
    "    \n",
    "    # Add the year information\n",
    "    votes_by_party['year'] = str(year)  # Convert year to string for categorical x-axis\n",
    "    \n",
    "    # Append to the list\n",
    "    vote_share_data.append(votes_by_party[['year', 'party', 'vote_share_percent']])\n",
    "\n",
    "# Combine the data for all years into a single dataframe\n",
    "vote_share_df = pd.concat(vote_share_data, ignore_index=True)\n",
    "\n",
    "# Create the plot for vote share percentages\n",
    "fig_vote_share = px.bar(\n",
    "    vote_share_df,\n",
    "    x='year',\n",
    "    y='vote_share_percent',\n",
    "    color='party',\n",
    "    barmode='group',\n",
    "    labels={'vote_share_percent': 'Vote Share (%)', 'year': 'Year', 'party': 'Party'},\n",
    "    color_discrete_map=party_colors\n",
    ")\n",
    "\n",
    "fig_vote_share.update_traces()\n",
    "\n",
    "# Update layout as per your specifications\n",
    "fig_vote_share.update_layout(\n",
    "    # font=dict(family='Cambria'),\n",
    "    dragmode = False,\n",
    "    xaxis=dict(\n",
    "        title='Year',\n",
    "        tickmode='linear',\n",
    "        showgrid=False,\n",
    "        tickfont=dict(family=\"Cambria\", size=14, color=\"black\"),\n",
    "        titlefont=dict(family=\"Cambria\", size=16, color=\"black\")\n",
    "    ),\n",
    "    yaxis=dict(\n",
    "        title='Vote Share (%)',\n",
    "        gridcolor='lightgrey',\n",
    "        showgrid=True,\n",
    "        zeroline=True,\n",
    "        tickvals = [0,5,10,15,20,25,30,35,40,45,50],\n",
    "        tickfont=dict(family=\"Cambria\", size=14, color=\"black\"),\n",
    "        titlefont=dict(family=\"Cambria\", size=16, color=\"black\")\n",
    "    ),\n",
    "    title = dict(\n",
    "        font=dict(family=\"Cambria\", size=18, color=\"black\"),\n",
    "        text = \"Vote Share Percentages of Major Parties over the years\",\n",
    "        xanchor = 'center',\n",
    "        x = 0.5\n",
    "    ),\n",
    "    margin = dict(pad=10,t=70,b=70,r=70,l=70), \n",
    "    legend_title_font=dict(family=\"Cambria\", size=14, color=\"black\"),\n",
    "    legend_font=dict(family=\"Cambria\", size=13, color=\"black\"),\n",
    "    legend_title_text='Party',\n",
    "    plot_bgcolor='#f8f8f8',\n",
    "    paper_bgcolor='#f8f8f8',\n",
    "    autosize=True,\n",
    ")\n",
    "\n",
    "# Only show horizontal gridlines\n",
    "fig_vote_share.update_xaxes(showgrid=False)\n",
    "fig_vote_share.update_yaxes(showgrid=True)\n",
    "\n",
    "# Save the figure as JSON\n",
    "pio.write_json(fig_vote_share, 'plots/keh_voteshare.json')\n",
    "fig_vote_share\n"
   ]
  },
  {
   "cell_type": "markdown",
   "metadata": {},
   "source": [
    "### Plot 2: Constituencies Won by Major Parties by Year"
   ]
  },
  {
   "cell_type": "code",
   "execution_count": null,
   "metadata": {},
   "outputs": [],
   "source": [
    "# Prepare the data for constituencies won\n",
    "seats_won_data = []\n",
    "\n",
    "for year in years:\n",
    "    const_df = const_dfs[year]\n",
    "    \n",
    "    # Calculate the number of constituencies won by each party\n",
    "    seats_won = const_df['party'].value_counts().reset_index()\n",
    "    seats_won.columns = ['party', 'seats_won']\n",
    "    \n",
    "    # Filter for major parties\n",
    "    seats_won = seats_won[seats_won['party'].isin(major_parties)]\n",
    "    \n",
    "    # Add the year information\n",
    "    seats_won['year'] = str(year)  # Convert year to string for categorical x-axis\n",
    "    \n",
    "    # Append to the list\n",
    "    seats_won_data.append(seats_won[['year', 'party', 'seats_won']])\n",
    "\n",
    "# Combine the data for all years into a single dataframe\n",
    "seats_won_df = pd.concat(seats_won_data, ignore_index=True)\n",
    "\n",
    "# Create the plot for constituencies won\n",
    "fig_seats_won = px.bar(\n",
    "    seats_won_df,\n",
    "    x='year',\n",
    "    y='seats_won',\n",
    "    color='party',\n",
    "    barmode='group',\n",
    "    labels={'seats_won': 'Constituencies Won', 'year': 'Year', 'party': 'Party'},\n",
    "    color_discrete_map=party_colors\n",
    ")\n",
    "\n",
    "# Update layout as per your specifications\n",
    "fig_seats_won.update_layout(\n",
    "    dragmode = False,\n",
    "    xaxis=dict(\n",
    "        title='Year',\n",
    "        tickmode='linear',\n",
    "        showgrid=False,\n",
    "        tickfont=dict(family=\"Cambria\", size=14, color=\"black\"),\n",
    "        titlefont=dict(family=\"Cambria\", size=16, color=\"black\")\n",
    "    ),\n",
    "    yaxis=dict(\n",
    "        title='Constituencies Won',\n",
    "        gridcolor='lightgrey',\n",
    "        showgrid=True,\n",
    "        zeroline=True,\n",
    "        tickvals = [0,20,40,60,80,100,120,140],\n",
    "        tickfont=dict(family=\"Cambria\", size=14, color=\"black\"),\n",
    "        titlefont=dict(family=\"Cambria\", size=16, color=\"black\")\n",
    "    ),\n",
    "    title = dict(\n",
    "        font=dict(family=\"Cambria\", size=18, color=\"black\"),\n",
    "        text = \"Constituencies Won by Major Parties over the years\",\n",
    "        xanchor = 'center',\n",
    "        x = 0.5\n",
    "    ),\n",
    "    margin = dict(pad=10,t=70,b=70,l=70,r=70), \n",
    "    legend_title_font=dict(family=\"Cambria\", size=14, color=\"black\"),\n",
    "    legend_font=dict(family=\"Cambria\", size=13, color=\"black\"),\n",
    "    legend_title_text='Party',\n",
    "    plot_bgcolor='#f8f8f8',\n",
    "    paper_bgcolor='#f8f8f8',\n",
    "    autosize=True,\n",
    ")\n",
    "\n",
    "# Only show horizontal gridlines\n",
    "fig_seats_won.update_xaxes(showgrid=False)\n",
    "fig_seats_won.update_yaxes(showgrid=True)\n",
    "\n",
    "# Save the figure as JSON\n",
    "pio.write_json(fig_seats_won, 'plots/keh_constwon.json')\n",
    "fig_seats_won"
   ]
  },
  {
   "cell_type": "markdown",
   "metadata": {},
   "source": [
    "## Bharat Jodo Yatra"
   ]
  },
  {
   "cell_type": "markdown",
   "metadata": {},
   "source": [
    "### Maps plots"
   ]
  },
  {
   "cell_type": "code",
   "execution_count": 13,
   "metadata": {},
   "outputs": [],
   "source": [
    "# Color mapping for parties\n",
    "party_colors = {\n",
    "    'INC': '#0D5BE1',\n",
    "    'BJP': '#FF7500',\n",
    "    'IND': 'grey',\n",
    "    'JD(S)': 'green',\n",
    "    'KRPP': 'brown',\n",
    "    'SKP': 'yellow'\n",
    "}\n",
    "\n",
    "# List of constituencies the Bharat Jodo Yatra passed through\n",
    "BJY_const_list = [\n",
    "    'Raichur', 'Raichur Rural', 'Bellary', 'Bellary City', 'Molakalmuru', 'Challakere', 'Hiriyur', 'Chiknayakanhalli',\n",
    "    'Tiptur', 'Turuvekere', 'Nagamangala', 'Melukote', 'Mandya', 'Shrirangapattana', 'Chamundeshwari', 'Krishnaraja',\n",
    "    'Chamaraja', 'Narasimharaja', 'Varuna', 'Nanjangud', 'Gundlupet'\n",
    "]\n",
    "\n",
    "# Load GeoJSON file for Karnataka constituencies\n",
    "with open('output.json', 'r', encoding='utf-8') as f:\n",
    "    geojson = json.load(f)\n",
    "\n",
    "# Function to create the map for a given year\n",
    "def create_election_map(df_const, year):\n",
    "    # Prepare the data\n",
    "    df = df_const[['constituency', 'const_num', 'party']].copy()\n",
    "    \n",
    "    # Replace parties not in party_colors with 'OTHERS'\n",
    "    df['party'] = df['party'].apply(lambda x: x if x in party_colors else 'OTHERS')\n",
    "    \n",
    "    # Create BJY_status column\n",
    "    df['BJY_status'] = df['constituency'].isin(BJY_const_list)\n",
    "    \n",
    "    # Split data into BJY and non-BJY constituencies\n",
    "    df_bjy = df[df['BJY_status']]\n",
    "    df_non_bjy = df[~df['BJY_status']]\n",
    "    \n",
    "    # Create the base figure with non-BJY constituencies (reduced opacity)\n",
    "    fig_non_BJY = px.choropleth_map(\n",
    "        df_non_bjy,\n",
    "        geojson=geojson,\n",
    "        featureidkey='properties.AC_CODE',\n",
    "        locations='const_num',\n",
    "        color='party',\n",
    "        color_discrete_map=party_colors,\n",
    "        hover_name='constituency',\n",
    "        category_orders={'party': list(party_colors.keys())},\n",
    "        map_style='white-bg',\n",
    "        opacity=0.1,\n",
    "        center={\"lat\": 15.3173, \"lon\": 76.7139},\n",
    "        zoom=5.6,\n",
    "    )\n",
    "    fig_non_BJY.update_traces(\n",
    "        patch=dict(\n",
    "            showlegend=False,\n",
    "            showscale=False,\n",
    "        )\n",
    "    )\n",
    "    fig_non_BJY.update_layout(\n",
    "        dict(\n",
    "            dragmode=False\n",
    "        )\n",
    "    )\n",
    "    \n",
    "    # Add BJY constituencies on top with full opacity\n",
    "    fig_bjy = px.choropleth_map(\n",
    "        df_bjy,\n",
    "        geojson=geojson,\n",
    "        featureidkey='properties.AC_CODE',\n",
    "        locations='const_num',\n",
    "        color='party',\n",
    "        color_discrete_map=party_colors,\n",
    "        hover_name='constituency',\n",
    "        category_orders={'party': list(party_colors.keys())},\n",
    "        map_style='white-bg',\n",
    "        opacity=1,\n",
    "        center={\"lat\": 15.3173, \"lon\": 76.7139},\n",
    "        zoom=5.6,\n",
    "    )\n",
    "    fig_bjy.update_traces(\n",
    "        patch=dict(\n",
    "            # showlegend=False,\n",
    "            showscale=False,\n",
    "        )\n",
    "    )\n",
    "    fig_bjy.update_layout(\n",
    "        dict(\n",
    "            dragmode=False\n",
    "        )\n",
    "    )\n",
    "    \n",
    "    # Add BJY trace to the figure\n",
    "    for trace in fig_non_BJY.data:\n",
    "        fig_bjy.add_trace(trace)\n",
    "    \n",
    "    # Update the layout\n",
    "    fig_bjy.update_layout(\n",
    "        geo=dict(\n",
    "            fitbounds=\"locations\",\n",
    "            visible=False,\n",
    "            center={\"lat\": 15.3173, \"lon\": 76.7139},  # Center coordinates for Karnataka\n",
    "            # lonaxis={\"range\": [73.9, 79.3]},\n",
    "            # lataxis={\"range\": [18.6, 11.5]},\n",
    "        ),\n",
    "        autosize=True,  # Responsive images\n",
    "        uirevision='lock',  # Disable user-driven changes in the view\n",
    "        dragmode=False,  # Disable panning and zooming\n",
    "        plot_bgcolor='white',\n",
    "        paper_bgcolor='white',\n",
    "        title = dict(\n",
    "            font=dict(family=\"Cambria\", size=18, color=\"black\"),\n",
    "            text = f'Bharat Jodo Yatra Route - {year}' if year == 2023 else f'Bharat Jodo Yatra Route - projected for {year}',\n",
    "            xanchor = 'center',\n",
    "            x = 0.5,\n",
    "            yanchor = 'top',\n",
    "            y = 0.99\n",
    "        ),\n",
    "        margin = dict(pad=10,t=10,b=10,l=10,r=40),\n",
    "        legend = dict(valign=\"middle\", yanchor = 'middle', y = 0.8), \n",
    "        legend_title_font=dict(family=\"Cambria\", size=14, color=\"black\"),\n",
    "        legend_title_text='Party',\n",
    "        legend_font=dict(family=\"Cambria\", size=14, color=\"black\"),\n",
    "        legend_itemclick=False,  # Disable legend click actions\n",
    "        legend_itemdoubleclick=False,\n",
    "    )\n",
    "    \n",
    "    # Display the figure\n",
    "    return fig_bjy\n",
    "\n",
    "# Convert the figure to a dictionary format\n",
    "fig_18 = json.loads(pio.to_json(create_election_map(const18, 2018)))\n",
    "fig_23 = json.loads(pio.to_json(create_election_map(const23, 2023)))\n",
    "\n",
    "# Recursively search for \"geojson\" and replace its value with a placeholder (null)\n",
    "def remove_geojson_data(data):\n",
    "    if isinstance(data, dict):\n",
    "        for key, value in data.items():\n",
    "            if key == \"geojson\":\n",
    "                data[key] = None  # Replace with null\n",
    "            elif isinstance(value, (dict, list)):\n",
    "                remove_geojson_data(value)  # Recurse into sub-dictionaries or lists\n",
    "    elif isinstance(data, list):\n",
    "        for item in data:\n",
    "            remove_geojson_data(item)\n",
    "\n",
    "remove_geojson_data(fig_18)\n",
    "remove_geojson_data(fig_23)\n",
    "\n",
    "# Save the modified figure JSON\n",
    "with open(\"plots/BJYmap2018.json\", \"w\") as f:\n",
    "    json.dump(fig_18, f)\n",
    "with open(\"plots/BJYmap2023.json\", \"w\") as f:\n",
    "    json.dump(fig_23, f)\n",
    "\n",
    "\n",
    "# # Create the map for 2018\n",
    "# pio.write_json(\n",
    "#     create_election_map(const18, 2018),\n",
    "#     file='plots/BJYmap2018.json',\n",
    "# )\n",
    "# # Create the map for 2023\n",
    "# pio.write_json(\n",
    "#     create_election_map(const23, 2023),\n",
    "#     file='plots/BJYmap2023.json',\n",
    "# )\n"
   ]
  },
  {
   "cell_type": "markdown",
   "metadata": {},
   "source": [
    "### Bar charts"
   ]
  },
  {
   "cell_type": "code",
   "execution_count": 113,
   "metadata": {},
   "outputs": [
    {
     "data": {
      "text/html": [
       "<div>\n",
       "<style scoped>\n",
       "    .dataframe tbody tr th:only-of-type {\n",
       "        vertical-align: middle;\n",
       "    }\n",
       "\n",
       "    .dataframe tbody tr th {\n",
       "        vertical-align: top;\n",
       "    }\n",
       "\n",
       "    .dataframe thead th {\n",
       "        text-align: right;\n",
       "    }\n",
       "</style>\n",
       "<table border=\"1\" class=\"dataframe\">\n",
       "  <thead>\n",
       "    <tr style=\"text-align: right;\">\n",
       "      <th></th>\n",
       "      <th>party</th>\n",
       "      <th>party_total</th>\n",
       "      <th>total votes</th>\n",
       "      <th>vote share percent</th>\n",
       "      <th>year</th>\n",
       "      <th>constituencies won</th>\n",
       "      <th>const type</th>\n",
       "    </tr>\n",
       "  </thead>\n",
       "  <tbody>\n",
       "    <tr>\n",
       "      <th>0</th>\n",
       "      <td>INC</td>\n",
       "      <td>1026181.0</td>\n",
       "      <td>2988027.0</td>\n",
       "      <td>34.34</td>\n",
       "      <td>2013</td>\n",
       "      <td>11</td>\n",
       "      <td>BJY Passed through</td>\n",
       "    </tr>\n",
       "    <tr>\n",
       "      <th>1</th>\n",
       "      <td>INC</td>\n",
       "      <td>1183936.0</td>\n",
       "      <td>3532035.0</td>\n",
       "      <td>33.52</td>\n",
       "      <td>2018</td>\n",
       "      <td>5</td>\n",
       "      <td>BJY Passed through</td>\n",
       "    </tr>\n",
       "    <tr>\n",
       "      <th>2</th>\n",
       "      <td>INC</td>\n",
       "      <td>1632169.0</td>\n",
       "      <td>3769675.0</td>\n",
       "      <td>43.30</td>\n",
       "      <td>2023</td>\n",
       "      <td>15</td>\n",
       "      <td>BJY Passed through</td>\n",
       "    </tr>\n",
       "    <tr>\n",
       "      <th>3</th>\n",
       "      <td>INC</td>\n",
       "      <td>10228306.0</td>\n",
       "      <td>27706347.0</td>\n",
       "      <td>36.92</td>\n",
       "      <td>2013</td>\n",
       "      <td>111</td>\n",
       "      <td>BJY didn't pass through</td>\n",
       "    </tr>\n",
       "    <tr>\n",
       "      <th>4</th>\n",
       "      <td>INC</td>\n",
       "      <td>12229231.0</td>\n",
       "      <td>33181254.0</td>\n",
       "      <td>36.86</td>\n",
       "      <td>2018</td>\n",
       "      <td>64</td>\n",
       "      <td>BJY didn't pass through</td>\n",
       "    </tr>\n",
       "    <tr>\n",
       "      <th>5</th>\n",
       "      <td>INC</td>\n",
       "      <td>14984131.0</td>\n",
       "      <td>35054194.0</td>\n",
       "      <td>42.75</td>\n",
       "      <td>2023</td>\n",
       "      <td>120</td>\n",
       "      <td>BJY didn't pass through</td>\n",
       "    </tr>\n",
       "    <tr>\n",
       "      <th>6</th>\n",
       "      <td>INC</td>\n",
       "      <td>11254487.0</td>\n",
       "      <td>30694374.0</td>\n",
       "      <td>36.67</td>\n",
       "      <td>2013</td>\n",
       "      <td>122</td>\n",
       "      <td>Overall</td>\n",
       "    </tr>\n",
       "    <tr>\n",
       "      <th>7</th>\n",
       "      <td>INC</td>\n",
       "      <td>13413167.0</td>\n",
       "      <td>36713289.0</td>\n",
       "      <td>36.53</td>\n",
       "      <td>2018</td>\n",
       "      <td>69</td>\n",
       "      <td>Overall</td>\n",
       "    </tr>\n",
       "    <tr>\n",
       "      <th>8</th>\n",
       "      <td>INC</td>\n",
       "      <td>16616300.0</td>\n",
       "      <td>38823869.0</td>\n",
       "      <td>42.80</td>\n",
       "      <td>2023</td>\n",
       "      <td>135</td>\n",
       "      <td>Overall</td>\n",
       "    </tr>\n",
       "  </tbody>\n",
       "</table>\n",
       "</div>"
      ],
      "text/plain": [
       "  party  party_total  total votes  vote share percent  year  \\\n",
       "0   INC    1026181.0    2988027.0               34.34  2013   \n",
       "1   INC    1183936.0    3532035.0               33.52  2018   \n",
       "2   INC    1632169.0    3769675.0               43.30  2023   \n",
       "3   INC   10228306.0   27706347.0               36.92  2013   \n",
       "4   INC   12229231.0   33181254.0               36.86  2018   \n",
       "5   INC   14984131.0   35054194.0               42.75  2023   \n",
       "6   INC   11254487.0   30694374.0               36.67  2013   \n",
       "7   INC   13413167.0   36713289.0               36.53  2018   \n",
       "8   INC   16616300.0   38823869.0               42.80  2023   \n",
       "\n",
       "   constituencies won               const type  \n",
       "0                  11       BJY Passed through  \n",
       "1                   5       BJY Passed through  \n",
       "2                  15       BJY Passed through  \n",
       "3                 111  BJY didn't pass through  \n",
       "4                  64  BJY didn't pass through  \n",
       "5                 120  BJY didn't pass through  \n",
       "6                 122                  Overall  \n",
       "7                  69                  Overall  \n",
       "8                 135                  Overall  "
      ]
     },
     "execution_count": 113,
     "metadata": {},
     "output_type": "execute_result"
    }
   ],
   "source": [
    "# List of constituencies the Bharat Jodo Yatra passed through\n",
    "BJY_const_list = [\n",
    "    'Raichur', 'Raichur Rural', 'Bellary', 'Bellary City', 'Molakalmuru', 'Challakere', 'Hiriyur', 'Chiknayakanhalli',\n",
    "    'Tiptur', 'Turuvekere', 'Nagamangala', 'Melukote', 'Mandya', 'Shrirangapattana', 'Chamundeshwari', 'Krishnaraja',\n",
    "    'Chamaraja', 'Narasimharaja', 'Varuna', 'Nanjangud', 'Gundlupet'\n",
    "]\n",
    "\n",
    "# Map years to their corresponding DataFrames\n",
    "years_data = {\n",
    "    2013: {'candid': candid13, 'const': const13},\n",
    "    2018: {'candid': candid18post, 'const': const18post},\n",
    "    2023: {'candid': candid23, 'const': const23}\n",
    "}\n",
    "\n",
    "# Initialize an empty list to collect results\n",
    "results = []\n",
    "\n",
    "# Define the scenarios and their parameters\n",
    "scenarios = [\n",
    "    {'const_type': 'BJY Passed through', 'include': True},\n",
    "    {'const_type': \"BJY didn't pass through\", 'include': False},\n",
    "    {'const_type': 'Overall', 'include': None}\n",
    "]\n",
    "\n",
    "# Loop over scenarios and years to compute results\n",
    "for scenario in scenarios:\n",
    "    const_type = scenario['const_type']\n",
    "    include = scenario['include']\n",
    "    \n",
    "    for year, data in years_data.items():\n",
    "        candid_df = data['candid']\n",
    "        const_df = data['const']\n",
    "        \n",
    "        # Filter constituencies based on the scenario\n",
    "        if include is True:\n",
    "            candid_filtered = candid_df[candid_df['constituency'].isin(BJY_const_list)]\n",
    "            const_filtered = const_df[const_df['constituency'].isin(BJY_const_list)]\n",
    "        elif include is False:\n",
    "            candid_filtered = candid_df[~candid_df['constituency'].isin(BJY_const_list)]\n",
    "            const_filtered = const_df[~const_df['constituency'].isin(BJY_const_list)]\n",
    "        else:\n",
    "            # Overall scenario, no filtering\n",
    "            candid_filtered = candid_df\n",
    "            const_filtered = const_df\n",
    "        \n",
    "        # Calculate total votes\n",
    "        total_votes = candid_filtered['votes'].sum()\n",
    "        \n",
    "        # Sum votes per party and calculate vote share percent\n",
    "        party_votes = candid_filtered.groupby('party')['votes'].sum().reset_index()\n",
    "        party_votes.rename(columns={'votes': 'party_total'}, inplace=True)\n",
    "        party_votes['total votes'] = total_votes\n",
    "        party_votes['vote share percent'] = (party_votes['party_total'] / total_votes * 100).round(2)\n",
    "        \n",
    "        # Count constituencies won per party\n",
    "        const_wins = const_filtered.groupby('party').size().reset_index(name='constituencies won')\n",
    "        \n",
    "        # Keep only 'INC' party\n",
    "        party_votes_inc = party_votes[party_votes['party'] == 'INC']\n",
    "        const_wins_inc = const_wins[const_wins['party'] == 'INC']\n",
    "        \n",
    "        # Merge party votes and constituencies won\n",
    "        result = pd.merge(party_votes_inc, const_wins_inc, on='party')\n",
    "        result['year'] = str(year)\n",
    "        result['const type'] = const_type\n",
    "        \n",
    "        # Rearrange columns\n",
    "        result = result[['party', 'party_total', 'total votes', 'vote share percent', 'year', 'constituencies won', 'const type']]\n",
    "        \n",
    "        # Append to results list\n",
    "        results.append(result)\n",
    "\n",
    "# Concatenate all results into a single DataFrame\n",
    "df_combined = pd.concat(results, ignore_index=True)\n",
    "\n",
    "# Convert 'year' and 'const type' to categorical data type if needed\n",
    "df_combined['year'] = df_combined['year'].astype('category')\n",
    "df_combined['const type'] = df_combined['const type'].astype('category')\n",
    "\n",
    "# Final DataFrame\n",
    "df_combined"
   ]
  },
  {
   "cell_type": "code",
   "execution_count": null,
   "metadata": {},
   "outputs": [],
   "source": [
    "df = df_combined.copy()\n",
    "fig = px.bar(df, \n",
    "            x='year', \n",
    "            y='vote share percent', \n",
    "            color='const type', \n",
    "            labels={'vote share percent': 'Vote Share Percent','const type':'Constituency Type'},\n",
    "            # title=\"Vote Share Percent by Year for INC\",\n",
    "            color_discrete_sequence=px.colors.qualitative.Plotly,\n",
    "            barmode='group',\n",
    "            hover_data=['const type','vote share percent'],\n",
    "            custom_data=['const type','vote share percent','year']\n",
    "            ) #category_orders={\"year\": [\"2013\", \"2018\", \"2023\"]}\n",
    "\n",
    "# Adjust the layout to set tickvals for x-axis and the gap between bars\n",
    "fig.update_layout(\n",
    "    bargap=0.5,  # Adjust the gap between bars\n",
    "    bargroupgap=0.2,\n",
    "    xaxis_title=\"Year\",\n",
    "    yaxis_title=\"Total Vote Share (%)\",\n",
    "    xaxis=dict(\n",
    "        tickvals=df['year'].unique(),\n",
    "        tickfont=dict(family=\"Cambria\", size=14, color=\"black\"),\n",
    "        titlefont=dict(family=\"Cambria\", size=16, color=\"black\"),\n",
    "        fixedrange=True,\n",
    "        showgrid=False,\n",
    "    ),\n",
    "    yaxis=dict(\n",
    "        tickvals = [0,10,20,30,40,50],\n",
    "        tickfont=dict(family=\"Cambria\", size=14, color=\"black\"),\n",
    "        titlefont=dict(family=\"Cambria\", size=16, color=\"black\"),\n",
    "        fixedrange=True,\n",
    "        showgrid=True,\n",
    "        zeroline=True,\n",
    "        gridcolor='lightgrey',\n",
    "    ),\n",
    "    title = dict(\n",
    "        font = dict(family=\"Cambria\", size=16, color=\"black\"),\n",
    "        text = \"Total Vote Share (%) in constituencies for INC<br>based on whether B.J.Y. passed through\",  \n",
    "        xanchor=\"center\",\n",
    "        x = 0.5,\n",
    "        yanchor=\"top\",\n",
    "        y = 0.95\n",
    "    ),\n",
    "    legend = dict(\n",
    "        title = dict(font = dict(family=\"Cambria\", size=14, color=\"black\")),\n",
    "        font=dict(family=\"Cambria\", size=14, color=\"black\"),\n",
    "        orientation=\"h\",\n",
    "        xanchor = 'center',\n",
    "        x = 0.5,\n",
    "        yref = 'container',\n",
    "        yanchor = 'top',\n",
    "        y = 0.85\n",
    "    ),\n",
    "    title_font=dict(family=\"Cambria\", size=18, color=\"black\"),\n",
    "    autosize=True,\n",
    "    dragmode=False,\n",
    "    plot_bgcolor = \"#f8f8f8\",\n",
    "    paper_bgcolor = \"#f8f8f8\",\n",
    "    margin = dict(pad=10, t=70, b=20, l=20, r=20), \n",
    "    legend_itemclick=False,  # Disable legend click actions\n",
    "    legend_itemdoubleclick=False,\n",
    ")\n",
    "\n",
    "fig.update_traces(\n",
    "hovertemplate=\"<b>const type:</b> %{customdata[0]}<br><b>Vote Share Percent:</b> %{customdata[1]}\"\n",
    ")\n",
    "\n",
    "pio.write_json(fig, \"plots/BJYvoteshare.json\") \n"
   ]
  },
  {
   "cell_type": "markdown",
   "metadata": {},
   "source": [
    "### Pie Charts"
   ]
  },
  {
   "cell_type": "code",
   "execution_count": 128,
   "metadata": {},
   "outputs": [
    {
     "data": {
      "text/html": [
       "<div>\n",
       "<style scoped>\n",
       "    .dataframe tbody tr th:only-of-type {\n",
       "        vertical-align: middle;\n",
       "    }\n",
       "\n",
       "    .dataframe tbody tr th {\n",
       "        vertical-align: top;\n",
       "    }\n",
       "\n",
       "    .dataframe thead th {\n",
       "        text-align: right;\n",
       "    }\n",
       "</style>\n",
       "<table border=\"1\" class=\"dataframe\">\n",
       "  <thead>\n",
       "    <tr style=\"text-align: right;\">\n",
       "      <th></th>\n",
       "      <th>party</th>\n",
       "      <th>count</th>\n",
       "      <th>year</th>\n",
       "      <th>color</th>\n",
       "    </tr>\n",
       "  </thead>\n",
       "  <tbody>\n",
       "    <tr>\n",
       "      <th>0</th>\n",
       "      <td>BJP</td>\n",
       "      <td>11</td>\n",
       "      <td>2018</td>\n",
       "      <td>#FF7500</td>\n",
       "    </tr>\n",
       "    <tr>\n",
       "      <th>1</th>\n",
       "      <td>JD(S)</td>\n",
       "      <td>5</td>\n",
       "      <td>2018</td>\n",
       "      <td>green</td>\n",
       "    </tr>\n",
       "    <tr>\n",
       "      <th>2</th>\n",
       "      <td>INC</td>\n",
       "      <td>5</td>\n",
       "      <td>2018</td>\n",
       "      <td>#0D5BE1</td>\n",
       "    </tr>\n",
       "    <tr>\n",
       "      <th>3</th>\n",
       "      <td>INC</td>\n",
       "      <td>15</td>\n",
       "      <td>2023</td>\n",
       "      <td>#0D5BE1</td>\n",
       "    </tr>\n",
       "    <tr>\n",
       "      <th>4</th>\n",
       "      <td>JD(S)</td>\n",
       "      <td>3</td>\n",
       "      <td>2023</td>\n",
       "      <td>green</td>\n",
       "    </tr>\n",
       "    <tr>\n",
       "      <th>5</th>\n",
       "      <td>BJP</td>\n",
       "      <td>2</td>\n",
       "      <td>2023</td>\n",
       "      <td>#FF7500</td>\n",
       "    </tr>\n",
       "    <tr>\n",
       "      <th>6</th>\n",
       "      <td>SKP</td>\n",
       "      <td>1</td>\n",
       "      <td>2023</td>\n",
       "      <td>yellow</td>\n",
       "    </tr>\n",
       "  </tbody>\n",
       "</table>\n",
       "</div>"
      ],
      "text/plain": [
       "   party  count  year    color\n",
       "0    BJP     11  2018  #FF7500\n",
       "1  JD(S)      5  2018    green\n",
       "2    INC      5  2018  #0D5BE1\n",
       "3    INC     15  2023  #0D5BE1\n",
       "4  JD(S)      3  2023    green\n",
       "5    BJP      2  2023  #FF7500\n",
       "6    SKP      1  2023   yellow"
      ]
     },
     "execution_count": 128,
     "metadata": {},
     "output_type": "execute_result"
    }
   ],
   "source": [
    "df18 = const18.loc[const18.constituency.isin(BJY_const_list)]['party'].value_counts().to_frame().copy()\n",
    "df18.reset_index(inplace=True)\n",
    "df18['year'] = 2018\n",
    "\n",
    "df23 = const23.loc[const23.constituency.isin(BJY_const_list)]['party'].value_counts().to_frame().copy()\n",
    "df23.reset_index(inplace=True)\n",
    "df23['year'] = 2023\n",
    "\n",
    "df_combined = pd.concat([df18, df23], ignore_index=True)\n",
    "df_combined['color'] = df_combined.party.map({'INC': '#0D5BE1', 'BJP': '#FF7500', 'JD(S)': 'green', 'SKP' : 'yellow'})\n",
    "df_combined"
   ]
  },
  {
   "cell_type": "code",
   "execution_count": null,
   "metadata": {},
   "outputs": [],
   "source": [
    "from plotly.subplots import make_subplots\n",
    "\n",
    "fig = make_subplots(rows=1, cols=2, specs=[[{\"type\": \"domain\"}, {\"type\": \"domain\"}]])\n",
    "\n",
    "# 2018 Pie Chart\n",
    "fig.add_trace(\n",
    "    go.Pie(\n",
    "        values=df_combined.loc[df_combined['year'] == 2018, 'count'],\n",
    "        labels=df_combined.loc[df_combined['year'] == 2018, 'party'],\n",
    "        marker=dict(colors=df_combined.loc[df_combined['year'] == 2018, 'color']),\n",
    "        hole=0.6,\n",
    "        texttemplate=\"%{label}\\n%{value}/21\",\n",
    "        textposition=\"inside\",\n",
    "        textinfo=\"label+text\",  # Only show label and text on pie sectors\n",
    "        hoverinfo=\"label+text\"  # Remove trace name from hover\n",
    "    ),\n",
    "    row=1, col=1\n",
    ")\n",
    "\n",
    "# 2023 Pie Chart\n",
    "fig.add_trace(\n",
    "    go.Pie(\n",
    "        values=df_combined.loc[df_combined['year'] == 2023, 'count'],\n",
    "        labels=df_combined.loc[df_combined['year'] == 2023, 'party'],\n",
    "        marker=dict(colors=df_combined.loc[df_combined['year'] == 2023, 'color']),\n",
    "        hole=0.6,\n",
    "        texttemplate=\"%{label}\\n%{value}/21\",\n",
    "        textposition=\"inside\",\n",
    "        textinfo=\"label+text\",  # Only show label and text on pie sectors\n",
    "        hoverinfo=\"label+text\"  # Remove trace name from hover\n",
    "    ),\n",
    "    row=1, col=2\n",
    ")\n",
    "\n",
    "# Custom hover templates\n",
    "fig.data[0].hovertemplate = \"%{label}<br>Won %{value} of 21\"\n",
    "fig.data[1].hovertemplate = \"%{label}<br>Won %{value} of 21\"\n",
    "\n",
    "# Annotations for year labels\n",
    "fig.add_annotation(\n",
    "    text=\"2018\",\n",
    "    x=0.225, y=0.5,\n",
    "    xref=\"paper\",\n",
    "    xanchor=\"center\",\n",
    "    showarrow=False,\n",
    "    font=dict(size=18, family=\"Cambria\", color=\"black\")\n",
    ")\n",
    "\n",
    "fig.add_annotation(\n",
    "    text=\"2023\",\n",
    "    x=0.775, y=0.5,\n",
    "    xref=\"paper\",\n",
    "    xanchor=\"center\",\n",
    "    showarrow=False,\n",
    "    font=dict(size=18, family=\"Cambria\", color=\"black\")\n",
    ")\n",
    "\n",
    "# Layout and Title Update\n",
    "fig.update_layout(\n",
    "    legend=dict(\n",
    "        orientation=\"h\",\n",
    "        yanchor=\"top\",\n",
    "        y=0.85,\n",
    "        yref=\"container\",\n",
    "        xanchor=\"center\",\n",
    "        x=0.5,\n",
    "        font=dict(family=\"Cambria\", size=14, color=\"black\"),\n",
    "        itemclick=False,\n",
    "        itemdoubleclick=False,\n",
    "        title=dict(\n",
    "            text=\"Party\",\n",
    "            font=dict(family=\"Cambria\", size=15, color=\"black\")\n",
    "        )\n",
    "    ),\n",
    "    title=dict(\n",
    "        text=\"Constituency Wins in Bharat Jodo Yatra Path (2018 vs 2023)\",\n",
    "        font=dict(family=\"Cambria\", size=18, color=\"black\"),\n",
    "        xanchor=\"center\",\n",
    "        x=0.5,\n",
    "        yanchor=\"top\",\n",
    "        y=0.95,\n",
    "        yref=\"container\"\n",
    "    ),\n",
    "    plot_bgcolor='#f8f8f8',\n",
    "    paper_bgcolor='#f8f8f8',\n",
    "    margin=dict(t=70, pad=10, b=20, l=20, r=20),\n",
    "    autosize=True,\n",
    "    dragmode=False,\n",
    ")\n",
    "\n",
    "pio.write_json(fig, \"plots/BJYconstshare.json\")\n"
   ]
  },
  {
   "cell_type": "markdown",
   "metadata": {},
   "source": [
    "### Hypothesis Testing for significant differences in vote share percentages"
   ]
  },
  {
   "cell_type": "code",
   "execution_count": null,
   "metadata": {},
   "outputs": [],
   "source": [
    "import pandas as pd\n",
    "\n",
    "# List of constituencies the Bharat Jodo Yatra passed through\n",
    "BJY_const_list = [\n",
    "    'Raichur', 'Raichur Rural', 'Bellary', 'Bellary City', 'Molakalmuru', 'Challakere', 'Hiriyur', 'Chiknayakanhalli',\n",
    "    'Tiptur', 'Turuvekere', 'Nagamangala', 'Melukote', 'Mandya', 'Shrirangapattana', 'Chamundeshwari', 'Krishnaraja',\n",
    "    'Chamaraja', 'Narasimharaja', 'Varuna', 'Nanjangud', 'Gundlupet'\n",
    "]\n",
    "\n",
    "# Step 1: Calculate vote share for INC in each constituency for 2018 and 2023\n",
    "\n",
    "# Function to calculate vote share per constituency\n",
    "def calculate_vote_share(candid_df, year):\n",
    "    # Filter for INC candidates\n",
    "    inc_votes = candid_df[candid_df['party'] == 'INC'][['constituency', 'votes']]\n",
    "    inc_votes.rename(columns={'votes': 'inc_votes'}, inplace=True)\n",
    "    \n",
    "    # Total votes per constituency\n",
    "    total_votes = candid_df.groupby('constituency')['votes'].sum().reset_index()\n",
    "    total_votes.rename(columns={'votes': 'total_votes'}, inplace=True)\n",
    "\n",
    "    # Merge INC votes with total votes\n",
    "    vote_share = pd.merge(inc_votes, total_votes, on='constituency', how='right')\n",
    "    vote_share['inc_votes'] = vote_share['inc_votes'].fillna(0)\n",
    "    vote_share['inc_vote_share'] = (vote_share['inc_votes'] / vote_share['total_votes']) * 100\n",
    "    vote_share['year'] = year\n",
    "\n",
    "    print(vote_share[['constituency', 'inc_vote_share', 'year']], '\\n\\n')\n",
    "    \n",
    "    return vote_share[['constituency', 'inc_vote_share', 'year']]\n",
    "\n",
    "# Calculate vote share for 2018 and 2023\n",
    "vote_share_2018 = calculate_vote_share(candid18, 2018)\n",
    "vote_share_2023 = calculate_vote_share(candid23, 2023)\n",
    "\n",
    "# Step 2: Merge the vote share data for 2018 and 2023\n",
    "vote_share = pd.merge(\n",
    "    vote_share_2018, \n",
    "    vote_share_2023, \n",
    "    on='constituency', \n",
    "    suffixes=('_2018', '_2023')\n",
    ")\n",
    "\n",
    "# Step 3: Calculate the change in vote share for INC from 2018 to 2023\n",
    "vote_share['inc_vote_share_change'] = vote_share['inc_vote_share_2023'] - vote_share['inc_vote_share_2018']\n",
    "\n",
    "# Step 4: Label constituencies based on BJY passage\n",
    "vote_share['BJY_Passed_Through'] = vote_share['constituency'].apply(\n",
    "    lambda x: 'BJY Passed Through' if x in BJY_const_list else 'BJY Did Not Pass Through'\n",
    ")\n",
    "\n",
    "# Step 5: Preview the prepared data\n",
    "vote_share.drop_duplicates(subset=['constituency'], keep='first', inplace=True)\n",
    "vote_share\n"
   ]
  },
  {
   "cell_type": "markdown",
   "metadata": {},
   "source": [
    "## Emerging Bi-Polarity in Karnataka"
   ]
  },
  {
   "cell_type": "markdown",
   "metadata": {},
   "source": [
    "### Power Shift: National vs. Regional Parties (Vote Share of Top two Parties)"
   ]
  },
  {
   "cell_type": "code",
   "execution_count": 169,
   "metadata": {},
   "outputs": [
    {
     "data": {
      "text/html": [
       "<div>\n",
       "<style scoped>\n",
       "    .dataframe tbody tr th:only-of-type {\n",
       "        vertical-align: middle;\n",
       "    }\n",
       "\n",
       "    .dataframe tbody tr th {\n",
       "        vertical-align: top;\n",
       "    }\n",
       "\n",
       "    .dataframe thead th {\n",
       "        text-align: right;\n",
       "    }\n",
       "</style>\n",
       "<table border=\"1\" class=\"dataframe\">\n",
       "  <thead>\n",
       "    <tr style=\"text-align: right;\">\n",
       "      <th></th>\n",
       "      <th>party</th>\n",
       "      <th>party_total</th>\n",
       "      <th>total_votes</th>\n",
       "      <th>vote_share_percent</th>\n",
       "      <th>year</th>\n",
       "      <th>constituencies_won</th>\n",
       "      <th>combined_vote_share_percent</th>\n",
       "      <th>combined_constituencies_won</th>\n",
       "    </tr>\n",
       "  </thead>\n",
       "  <tbody>\n",
       "    <tr>\n",
       "      <th>0</th>\n",
       "      <td>BJP</td>\n",
       "      <td>6231660.0</td>\n",
       "      <td>30694374.0</td>\n",
       "      <td>20.30</td>\n",
       "      <td>2013</td>\n",
       "      <td>40</td>\n",
       "      <td>56.97</td>\n",
       "      <td>162</td>\n",
       "    </tr>\n",
       "    <tr>\n",
       "      <th>1</th>\n",
       "      <td>INC</td>\n",
       "      <td>11254487.0</td>\n",
       "      <td>30694374.0</td>\n",
       "      <td>36.67</td>\n",
       "      <td>2013</td>\n",
       "      <td>122</td>\n",
       "      <td>56.97</td>\n",
       "      <td>162</td>\n",
       "    </tr>\n",
       "    <tr>\n",
       "      <th>2</th>\n",
       "      <td>BJP</td>\n",
       "      <td>14036584.0</td>\n",
       "      <td>36713289.0</td>\n",
       "      <td>38.23</td>\n",
       "      <td>2018</td>\n",
       "      <td>118</td>\n",
       "      <td>74.76</td>\n",
       "      <td>187</td>\n",
       "    </tr>\n",
       "    <tr>\n",
       "      <th>3</th>\n",
       "      <td>INC</td>\n",
       "      <td>13413167.0</td>\n",
       "      <td>36713289.0</td>\n",
       "      <td>36.53</td>\n",
       "      <td>2018</td>\n",
       "      <td>69</td>\n",
       "      <td>74.76</td>\n",
       "      <td>187</td>\n",
       "    </tr>\n",
       "    <tr>\n",
       "      <th>4</th>\n",
       "      <td>BJP</td>\n",
       "      <td>14210103.0</td>\n",
       "      <td>38823869.0</td>\n",
       "      <td>36.60</td>\n",
       "      <td>2023</td>\n",
       "      <td>66</td>\n",
       "      <td>79.40</td>\n",
       "      <td>201</td>\n",
       "    </tr>\n",
       "    <tr>\n",
       "      <th>5</th>\n",
       "      <td>INC</td>\n",
       "      <td>16616300.0</td>\n",
       "      <td>38823869.0</td>\n",
       "      <td>42.80</td>\n",
       "      <td>2023</td>\n",
       "      <td>135</td>\n",
       "      <td>79.40</td>\n",
       "      <td>201</td>\n",
       "    </tr>\n",
       "  </tbody>\n",
       "</table>\n",
       "</div>"
      ],
      "text/plain": [
       "  party  party_total  total_votes  vote_share_percent  year  \\\n",
       "0   BJP    6231660.0   30694374.0               20.30  2013   \n",
       "1   INC   11254487.0   30694374.0               36.67  2013   \n",
       "2   BJP   14036584.0   36713289.0               38.23  2018   \n",
       "3   INC   13413167.0   36713289.0               36.53  2018   \n",
       "4   BJP   14210103.0   38823869.0               36.60  2023   \n",
       "5   INC   16616300.0   38823869.0               42.80  2023   \n",
       "\n",
       "   constituencies_won  combined_vote_share_percent  \\\n",
       "0                  40                        56.97   \n",
       "1                 122                        56.97   \n",
       "2                 118                        74.76   \n",
       "3                  69                        74.76   \n",
       "4                  66                        79.40   \n",
       "5                 135                        79.40   \n",
       "\n",
       "   combined_constituencies_won  \n",
       "0                          162  \n",
       "1                          162  \n",
       "2                          187  \n",
       "3                          187  \n",
       "4                          201  \n",
       "5                          201  "
      ]
     },
     "execution_count": 169,
     "metadata": {},
     "output_type": "execute_result"
    }
   ],
   "source": [
    "def compute_party_stats(candid_df, const_df, year, parties=['BJP', 'INC']):\n",
    "    # Calculate the total votes in the election\n",
    "    total_votes = candid_df['votes'].sum()\n",
    "\n",
    "    # Filter candidate data for the specified parties\n",
    "    candid_parties = candid_df[candid_df['party'].isin(parties)]\n",
    "\n",
    "    # Compute total votes obtained by each party\n",
    "    party_votes = candid_parties.groupby('party')['votes'].sum().reset_index(name='party_total')\n",
    "\n",
    "    # Add total votes and calculate vote share percentage\n",
    "    party_votes['total_votes'] = total_votes\n",
    "    party_votes['vote_share_percent'] = round((party_votes['party_total'] / total_votes) * 100, 2)\n",
    "    party_votes['year'] = year\n",
    "\n",
    "    # Compute the number of constituencies won by each party\n",
    "    const_parties = const_df[const_df['party'].isin(parties)]\n",
    "    const_won = const_parties.groupby('party').size().reset_index(name='constituencies_won')\n",
    "\n",
    "    # Merge party votes and constituencies won data\n",
    "    party_stats = pd.merge(party_votes, const_won, on='party')\n",
    "    return party_stats\n",
    "\n",
    "# Compute stats for each year\n",
    "party_stats_2013 = compute_party_stats(candid13, const13, 2013)\n",
    "party_stats_2018 = compute_party_stats(candid18post, const18post, 2018)\n",
    "party_stats_2023 = compute_party_stats(candid23, const23, 2023)\n",
    "\n",
    "# Combine the results for all years\n",
    "party_stats_all_years = pd.concat([party_stats_2013, party_stats_2018, party_stats_2023], ignore_index=True)\n",
    "\n",
    "# Reorder columns to match the SQL output\n",
    "party_stats_all_years = party_stats_all_years[['party', 'party_total', 'total_votes', 'vote_share_percent', 'year', 'constituencies_won']]\n",
    "\n",
    "# Display the final DataFrame\n",
    "party_stats_all_years\n",
    "\n",
    "# Compute combined stats per year\n",
    "combined_stats = party_stats_all_years.groupby('year').agg({\n",
    "    'vote_share_percent': 'sum',\n",
    "    'constituencies_won': 'sum'\n",
    "}).reset_index()\n",
    "\n",
    "# Rename columns for clarity\n",
    "combined_stats.rename(columns={\n",
    "    'vote_share_percent': 'combined_vote_share_percent',\n",
    "    'constituencies_won': 'combined_constituencies_won'\n",
    "}, inplace=True)\n",
    "\n",
    "combined_stats['combined_vote_share_percent'] = round(combined_stats['combined_vote_share_percent'], 2)\n",
    "\n",
    "# Merge combined stats back into the main DataFrame\n",
    "party_stats_all_years = pd.merge(party_stats_all_years, combined_stats, on='year')\n",
    "\n",
    "party_stats_all_years\n"
   ]
  },
  {
   "cell_type": "code",
   "execution_count": 171,
   "metadata": {},
   "outputs": [
    {
     "data": {
      "application/vnd.plotly.v1+json": {
       "config": {
        "plotlyServerURL": "https://plot.ly"
       },
       "data": [
        {
         "alignmentgroup": "True",
         "customdata": [
          [
           56.97,
           162
          ],
          [
           74.76,
           187
          ],
          [
           79.4,
           201
          ]
         ],
         "hovertemplate": "Year: %{x}<br>Combined Vote Share: %{customdata[0]}%<br>Combined Constituencies Won: %{customdata[1]} of 224<extra></extra>",
         "legendgroup": "BJP",
         "marker": {
          "color": "#FF7500",
          "pattern": {
           "shape": ""
          }
         },
         "name": "BJP",
         "offsetgroup": "BJP",
         "orientation": "v",
         "showlegend": true,
         "textposition": "auto",
         "type": "bar",
         "x": [
          2013,
          2018,
          2023
         ],
         "xaxis": "x",
         "y": [
          20.3,
          38.23,
          36.6
         ],
         "yaxis": "y"
        },
        {
         "alignmentgroup": "True",
         "customdata": [
          [
           56.97,
           162
          ],
          [
           74.76,
           187
          ],
          [
           79.4,
           201
          ]
         ],
         "hovertemplate": "Year: %{x}<br>Combined Vote Share: %{customdata[0]}%<br>Combined Constituencies Won: %{customdata[1]} of 224<extra></extra>",
         "legendgroup": "INC",
         "marker": {
          "color": "#0062C6",
          "pattern": {
           "shape": ""
          }
         },
         "name": "INC",
         "offsetgroup": "INC",
         "orientation": "v",
         "showlegend": true,
         "textposition": "auto",
         "type": "bar",
         "x": [
          2013,
          2018,
          2023
         ],
         "xaxis": "x",
         "y": [
          36.67,
          36.53,
          42.8
         ],
         "yaxis": "y"
        }
       ],
       "layout": {
        "autosize": true,
        "bargap": 0.9,
        "bargroupgap": 0.2,
        "barmode": "relative",
        "dragmode": false,
        "legend": {
         "font": {
          "color": "black",
          "family": "Cambria",
          "size": 14
         },
         "itemclick": false,
         "itemdoubleclick": false,
         "orientation": "h",
         "title": {
          "font": {
           "color": "black",
           "family": "Cambria",
           "size": 14
          },
          "text": "Party"
         },
         "tracegroupgap": 0,
         "x": 0.5,
         "xanchor": "center",
         "y": 0.85,
         "yanchor": "top",
         "yref": "container"
        },
        "margin": {
         "b": 20,
         "l": 20,
         "pad": 10,
         "r": 20,
         "t": 50
        },
        "paper_bgcolor": "#f8f8f8",
        "plot_bgcolor": "#f8f8f8",
        "template": {
         "data": {
          "bar": [
           {
            "error_x": {
             "color": "#2a3f5f"
            },
            "error_y": {
             "color": "#2a3f5f"
            },
            "marker": {
             "line": {
              "color": "#E5ECF6",
              "width": 0.5
             },
             "pattern": {
              "fillmode": "overlay",
              "size": 10,
              "solidity": 0.2
             }
            },
            "type": "bar"
           }
          ],
          "barpolar": [
           {
            "marker": {
             "line": {
              "color": "#E5ECF6",
              "width": 0.5
             },
             "pattern": {
              "fillmode": "overlay",
              "size": 10,
              "solidity": 0.2
             }
            },
            "type": "barpolar"
           }
          ],
          "carpet": [
           {
            "aaxis": {
             "endlinecolor": "#2a3f5f",
             "gridcolor": "white",
             "linecolor": "white",
             "minorgridcolor": "white",
             "startlinecolor": "#2a3f5f"
            },
            "baxis": {
             "endlinecolor": "#2a3f5f",
             "gridcolor": "white",
             "linecolor": "white",
             "minorgridcolor": "white",
             "startlinecolor": "#2a3f5f"
            },
            "type": "carpet"
           }
          ],
          "choropleth": [
           {
            "colorbar": {
             "outlinewidth": 0,
             "ticks": ""
            },
            "type": "choropleth"
           }
          ],
          "contour": [
           {
            "colorbar": {
             "outlinewidth": 0,
             "ticks": ""
            },
            "colorscale": [
             [
              0,
              "#0d0887"
             ],
             [
              0.1111111111111111,
              "#46039f"
             ],
             [
              0.2222222222222222,
              "#7201a8"
             ],
             [
              0.3333333333333333,
              "#9c179e"
             ],
             [
              0.4444444444444444,
              "#bd3786"
             ],
             [
              0.5555555555555556,
              "#d8576b"
             ],
             [
              0.6666666666666666,
              "#ed7953"
             ],
             [
              0.7777777777777778,
              "#fb9f3a"
             ],
             [
              0.8888888888888888,
              "#fdca26"
             ],
             [
              1,
              "#f0f921"
             ]
            ],
            "type": "contour"
           }
          ],
          "contourcarpet": [
           {
            "colorbar": {
             "outlinewidth": 0,
             "ticks": ""
            },
            "type": "contourcarpet"
           }
          ],
          "heatmap": [
           {
            "colorbar": {
             "outlinewidth": 0,
             "ticks": ""
            },
            "colorscale": [
             [
              0,
              "#0d0887"
             ],
             [
              0.1111111111111111,
              "#46039f"
             ],
             [
              0.2222222222222222,
              "#7201a8"
             ],
             [
              0.3333333333333333,
              "#9c179e"
             ],
             [
              0.4444444444444444,
              "#bd3786"
             ],
             [
              0.5555555555555556,
              "#d8576b"
             ],
             [
              0.6666666666666666,
              "#ed7953"
             ],
             [
              0.7777777777777778,
              "#fb9f3a"
             ],
             [
              0.8888888888888888,
              "#fdca26"
             ],
             [
              1,
              "#f0f921"
             ]
            ],
            "type": "heatmap"
           }
          ],
          "heatmapgl": [
           {
            "colorbar": {
             "outlinewidth": 0,
             "ticks": ""
            },
            "colorscale": [
             [
              0,
              "#0d0887"
             ],
             [
              0.1111111111111111,
              "#46039f"
             ],
             [
              0.2222222222222222,
              "#7201a8"
             ],
             [
              0.3333333333333333,
              "#9c179e"
             ],
             [
              0.4444444444444444,
              "#bd3786"
             ],
             [
              0.5555555555555556,
              "#d8576b"
             ],
             [
              0.6666666666666666,
              "#ed7953"
             ],
             [
              0.7777777777777778,
              "#fb9f3a"
             ],
             [
              0.8888888888888888,
              "#fdca26"
             ],
             [
              1,
              "#f0f921"
             ]
            ],
            "type": "heatmapgl"
           }
          ],
          "histogram": [
           {
            "marker": {
             "pattern": {
              "fillmode": "overlay",
              "size": 10,
              "solidity": 0.2
             }
            },
            "type": "histogram"
           }
          ],
          "histogram2d": [
           {
            "colorbar": {
             "outlinewidth": 0,
             "ticks": ""
            },
            "colorscale": [
             [
              0,
              "#0d0887"
             ],
             [
              0.1111111111111111,
              "#46039f"
             ],
             [
              0.2222222222222222,
              "#7201a8"
             ],
             [
              0.3333333333333333,
              "#9c179e"
             ],
             [
              0.4444444444444444,
              "#bd3786"
             ],
             [
              0.5555555555555556,
              "#d8576b"
             ],
             [
              0.6666666666666666,
              "#ed7953"
             ],
             [
              0.7777777777777778,
              "#fb9f3a"
             ],
             [
              0.8888888888888888,
              "#fdca26"
             ],
             [
              1,
              "#f0f921"
             ]
            ],
            "type": "histogram2d"
           }
          ],
          "histogram2dcontour": [
           {
            "colorbar": {
             "outlinewidth": 0,
             "ticks": ""
            },
            "colorscale": [
             [
              0,
              "#0d0887"
             ],
             [
              0.1111111111111111,
              "#46039f"
             ],
             [
              0.2222222222222222,
              "#7201a8"
             ],
             [
              0.3333333333333333,
              "#9c179e"
             ],
             [
              0.4444444444444444,
              "#bd3786"
             ],
             [
              0.5555555555555556,
              "#d8576b"
             ],
             [
              0.6666666666666666,
              "#ed7953"
             ],
             [
              0.7777777777777778,
              "#fb9f3a"
             ],
             [
              0.8888888888888888,
              "#fdca26"
             ],
             [
              1,
              "#f0f921"
             ]
            ],
            "type": "histogram2dcontour"
           }
          ],
          "mesh3d": [
           {
            "colorbar": {
             "outlinewidth": 0,
             "ticks": ""
            },
            "type": "mesh3d"
           }
          ],
          "parcoords": [
           {
            "line": {
             "colorbar": {
              "outlinewidth": 0,
              "ticks": ""
             }
            },
            "type": "parcoords"
           }
          ],
          "pie": [
           {
            "automargin": true,
            "type": "pie"
           }
          ],
          "scatter": [
           {
            "fillpattern": {
             "fillmode": "overlay",
             "size": 10,
             "solidity": 0.2
            },
            "type": "scatter"
           }
          ],
          "scatter3d": [
           {
            "line": {
             "colorbar": {
              "outlinewidth": 0,
              "ticks": ""
             }
            },
            "marker": {
             "colorbar": {
              "outlinewidth": 0,
              "ticks": ""
             }
            },
            "type": "scatter3d"
           }
          ],
          "scattercarpet": [
           {
            "marker": {
             "colorbar": {
              "outlinewidth": 0,
              "ticks": ""
             }
            },
            "type": "scattercarpet"
           }
          ],
          "scattergeo": [
           {
            "marker": {
             "colorbar": {
              "outlinewidth": 0,
              "ticks": ""
             }
            },
            "type": "scattergeo"
           }
          ],
          "scattergl": [
           {
            "marker": {
             "colorbar": {
              "outlinewidth": 0,
              "ticks": ""
             }
            },
            "type": "scattergl"
           }
          ],
          "scattermapbox": [
           {
            "marker": {
             "colorbar": {
              "outlinewidth": 0,
              "ticks": ""
             }
            },
            "type": "scattermapbox"
           }
          ],
          "scatterpolar": [
           {
            "marker": {
             "colorbar": {
              "outlinewidth": 0,
              "ticks": ""
             }
            },
            "type": "scatterpolar"
           }
          ],
          "scatterpolargl": [
           {
            "marker": {
             "colorbar": {
              "outlinewidth": 0,
              "ticks": ""
             }
            },
            "type": "scatterpolargl"
           }
          ],
          "scatterternary": [
           {
            "marker": {
             "colorbar": {
              "outlinewidth": 0,
              "ticks": ""
             }
            },
            "type": "scatterternary"
           }
          ],
          "surface": [
           {
            "colorbar": {
             "outlinewidth": 0,
             "ticks": ""
            },
            "colorscale": [
             [
              0,
              "#0d0887"
             ],
             [
              0.1111111111111111,
              "#46039f"
             ],
             [
              0.2222222222222222,
              "#7201a8"
             ],
             [
              0.3333333333333333,
              "#9c179e"
             ],
             [
              0.4444444444444444,
              "#bd3786"
             ],
             [
              0.5555555555555556,
              "#d8576b"
             ],
             [
              0.6666666666666666,
              "#ed7953"
             ],
             [
              0.7777777777777778,
              "#fb9f3a"
             ],
             [
              0.8888888888888888,
              "#fdca26"
             ],
             [
              1,
              "#f0f921"
             ]
            ],
            "type": "surface"
           }
          ],
          "table": [
           {
            "cells": {
             "fill": {
              "color": "#EBF0F8"
             },
             "line": {
              "color": "white"
             }
            },
            "header": {
             "fill": {
              "color": "#C8D4E3"
             },
             "line": {
              "color": "white"
             }
            },
            "type": "table"
           }
          ]
         },
         "layout": {
          "annotationdefaults": {
           "arrowcolor": "#2a3f5f",
           "arrowhead": 0,
           "arrowwidth": 1
          },
          "autotypenumbers": "strict",
          "coloraxis": {
           "colorbar": {
            "outlinewidth": 0,
            "ticks": ""
           }
          },
          "colorscale": {
           "diverging": [
            [
             0,
             "#8e0152"
            ],
            [
             0.1,
             "#c51b7d"
            ],
            [
             0.2,
             "#de77ae"
            ],
            [
             0.3,
             "#f1b6da"
            ],
            [
             0.4,
             "#fde0ef"
            ],
            [
             0.5,
             "#f7f7f7"
            ],
            [
             0.6,
             "#e6f5d0"
            ],
            [
             0.7,
             "#b8e186"
            ],
            [
             0.8,
             "#7fbc41"
            ],
            [
             0.9,
             "#4d9221"
            ],
            [
             1,
             "#276419"
            ]
           ],
           "sequential": [
            [
             0,
             "#0d0887"
            ],
            [
             0.1111111111111111,
             "#46039f"
            ],
            [
             0.2222222222222222,
             "#7201a8"
            ],
            [
             0.3333333333333333,
             "#9c179e"
            ],
            [
             0.4444444444444444,
             "#bd3786"
            ],
            [
             0.5555555555555556,
             "#d8576b"
            ],
            [
             0.6666666666666666,
             "#ed7953"
            ],
            [
             0.7777777777777778,
             "#fb9f3a"
            ],
            [
             0.8888888888888888,
             "#fdca26"
            ],
            [
             1,
             "#f0f921"
            ]
           ],
           "sequentialminus": [
            [
             0,
             "#0d0887"
            ],
            [
             0.1111111111111111,
             "#46039f"
            ],
            [
             0.2222222222222222,
             "#7201a8"
            ],
            [
             0.3333333333333333,
             "#9c179e"
            ],
            [
             0.4444444444444444,
             "#bd3786"
            ],
            [
             0.5555555555555556,
             "#d8576b"
            ],
            [
             0.6666666666666666,
             "#ed7953"
            ],
            [
             0.7777777777777778,
             "#fb9f3a"
            ],
            [
             0.8888888888888888,
             "#fdca26"
            ],
            [
             1,
             "#f0f921"
            ]
           ]
          },
          "colorway": [
           "#636efa",
           "#EF553B",
           "#00cc96",
           "#ab63fa",
           "#FFA15A",
           "#19d3f3",
           "#FF6692",
           "#B6E880",
           "#FF97FF",
           "#FECB52"
          ],
          "font": {
           "color": "#2a3f5f"
          },
          "geo": {
           "bgcolor": "white",
           "lakecolor": "white",
           "landcolor": "#E5ECF6",
           "showlakes": true,
           "showland": true,
           "subunitcolor": "white"
          },
          "hoverlabel": {
           "align": "left"
          },
          "hovermode": "closest",
          "mapbox": {
           "style": "light"
          },
          "paper_bgcolor": "white",
          "plot_bgcolor": "#E5ECF6",
          "polar": {
           "angularaxis": {
            "gridcolor": "white",
            "linecolor": "white",
            "ticks": ""
           },
           "bgcolor": "#E5ECF6",
           "radialaxis": {
            "gridcolor": "white",
            "linecolor": "white",
            "ticks": ""
           }
          },
          "scene": {
           "xaxis": {
            "backgroundcolor": "#E5ECF6",
            "gridcolor": "white",
            "gridwidth": 2,
            "linecolor": "white",
            "showbackground": true,
            "ticks": "",
            "zerolinecolor": "white"
           },
           "yaxis": {
            "backgroundcolor": "#E5ECF6",
            "gridcolor": "white",
            "gridwidth": 2,
            "linecolor": "white",
            "showbackground": true,
            "ticks": "",
            "zerolinecolor": "white"
           },
           "zaxis": {
            "backgroundcolor": "#E5ECF6",
            "gridcolor": "white",
            "gridwidth": 2,
            "linecolor": "white",
            "showbackground": true,
            "ticks": "",
            "zerolinecolor": "white"
           }
          },
          "shapedefaults": {
           "line": {
            "color": "#2a3f5f"
           }
          },
          "ternary": {
           "aaxis": {
            "gridcolor": "white",
            "linecolor": "white",
            "ticks": ""
           },
           "baxis": {
            "gridcolor": "white",
            "linecolor": "white",
            "ticks": ""
           },
           "bgcolor": "#E5ECF6",
           "caxis": {
            "gridcolor": "white",
            "linecolor": "white",
            "ticks": ""
           }
          },
          "title": {
           "x": 0.05
          },
          "xaxis": {
           "automargin": true,
           "gridcolor": "white",
           "linecolor": "white",
           "ticks": "",
           "title": {
            "standoff": 15
           },
           "zerolinecolor": "white",
           "zerolinewidth": 2
          },
          "yaxis": {
           "automargin": true,
           "gridcolor": "white",
           "linecolor": "white",
           "ticks": "",
           "title": {
            "standoff": 15
           },
           "zerolinecolor": "white",
           "zerolinewidth": 2
          }
         }
        },
        "title": {
         "font": {
          "color": "black",
          "family": "Cambria",
          "size": 18
         },
         "text": "Combined Total Vote Share (%) Of Top 2 Parties Over the Years",
         "x": 0.5,
         "xanchor": "center",
         "y": 0.95,
         "yanchor": "top"
        },
        "xaxis": {
         "anchor": "y",
         "domain": [
          0,
          1
         ],
         "fixedrange": true,
         "showgrid": false,
         "tickfont": {
          "color": "black",
          "family": "Cambria",
          "size": 14
         },
         "tickvals": [
          "2013",
          "2018",
          "2023"
         ],
         "title": {
          "font": {
           "color": "black",
           "family": "Cambria",
           "size": 16
          },
          "text": "Year"
         }
        },
        "yaxis": {
         "anchor": "x",
         "domain": [
          0,
          1
         ],
         "fixedrange": true,
         "gridcolor": "lightgrey",
         "range": [
          0,
          100
         ],
         "showgrid": true,
         "tickfont": {
          "color": "black",
          "family": "Cambria",
          "size": 14
         },
         "tickvals": [
          0,
          20,
          40,
          60,
          80,
          100
         ],
         "title": {
          "font": {
           "color": "black",
           "family": "Cambria",
           "size": 16
          },
          "text": "Total Vote Share (%)"
         },
         "zeroline": true
        }
       }
      }
     },
     "metadata": {},
     "output_type": "display_data"
    }
   ],
   "source": [
    "fig = px.bar(\n",
    "    party_stats_all_years,\n",
    "    y='vote_share_percent',\n",
    "    x='year',\n",
    "    title='Vote Share of Top Two Parties',\n",
    "    color='party',\n",
    "    labels={'vote_share_percent': 'Vote Share Percent'},\n",
    "    color_discrete_map={'INC': '#0062C6', 'BJP': '#FF7500'},\n",
    "    custom_data=['combined_vote_share_percent', 'combined_constituencies_won']\n",
    ")\n",
    "\n",
    "fig.update_traces(\n",
    "    hovertemplate=(\n",
    "        'Year: %{x}<br>'\n",
    "        'Combined Vote Share: %{customdata[0]}%<br>'\n",
    "        'Combined Constituencies Won: %{customdata[1]} of 224<extra></extra>'\n",
    "    )\n",
    ")\n",
    "\n",
    "\n",
    "# Adjust the layout to set tickvals for x-axis and the gap between bars\n",
    "fig.update_layout(\n",
    "    bargap=0.9,  # Adjust the gap between bars\n",
    "    bargroupgap=0.2,\n",
    "    xaxis_title=\"Year\",\n",
    "    yaxis_title=\"Total Vote Share (%)\",\n",
    "    xaxis=dict(\n",
    "        tickvals=df['year'].unique(),\n",
    "        tickfont=dict(family=\"Cambria\", size=14, color=\"black\"),\n",
    "        titlefont=dict(family=\"Cambria\", size=16, color=\"black\"),\n",
    "        fixedrange=True,\n",
    "        showgrid=False,\n",
    "    ),\n",
    "    yaxis=dict(\n",
    "        tickvals = [0,20,40,60,80,100],\n",
    "        range = [0,100],\n",
    "        tickfont=dict(family=\"Cambria\", size=14, color=\"black\"),\n",
    "        titlefont=dict(family=\"Cambria\", size=16, color=\"black\"),\n",
    "        fixedrange=True,\n",
    "        showgrid=True,\n",
    "        zeroline=True,\n",
    "        gridcolor='lightgrey',\n",
    "    ),\n",
    "    title = dict(\n",
    "        font = dict(family=\"Cambria\", size=18, color=\"black\"),\n",
    "        text = \"Combined Total Vote Share (%) Of Top 2 Parties Over the Years\",  \n",
    "        xanchor=\"center\",\n",
    "        x = 0.5,\n",
    "        yanchor=\"top\",\n",
    "        y = 0.95\n",
    "    ),\n",
    "    legend = dict(\n",
    "        title = dict(\n",
    "            text = 'Party',\n",
    "            font = dict(family=\"Cambria\", size=14, color=\"black\")\n",
    "        ),\n",
    "        font=dict(family=\"Cambria\", size=14, color=\"black\"),\n",
    "        orientation=\"h\",\n",
    "        xanchor = 'center',\n",
    "        x = 0.5,\n",
    "        yref = 'container',\n",
    "        yanchor = 'top',\n",
    "        y = 0.85\n",
    "    ),\n",
    "    autosize=True,\n",
    "    dragmode=False,\n",
    "    plot_bgcolor = \"#f8f8f8\",\n",
    "    paper_bgcolor = \"#f8f8f8\",\n",
    "    margin = dict(pad=10, t=50, b=20, l=20, r=20), \n",
    "    legend_itemclick=False,  # Disable legend click actions\n",
    "    legend_itemdoubleclick=False,\n",
    ")\n",
    "\n",
    "pio.write_json(fig, 'plots/votesharetoptwoparties.json')\n",
    "fig"
   ]
  },
  {
   "cell_type": "code",
   "execution_count": null,
   "metadata": {},
   "outputs": [],
   "source": []
  },
  {
   "cell_type": "code",
   "execution_count": null,
   "metadata": {},
   "outputs": [],
   "source": []
  },
  {
   "cell_type": "code",
   "execution_count": null,
   "metadata": {},
   "outputs": [],
   "source": []
  },
  {
   "cell_type": "markdown",
   "metadata": {},
   "source": [
    "### ENOP (Effective number of Parties)"
   ]
  },
  {
   "cell_type": "code",
   "execution_count": 4,
   "metadata": {},
   "outputs": [
    {
     "data": {
      "text/html": [
       "<div>\n",
       "<style scoped>\n",
       "    .dataframe tbody tr th:only-of-type {\n",
       "        vertical-align: middle;\n",
       "    }\n",
       "\n",
       "    .dataframe tbody tr th {\n",
       "        vertical-align: top;\n",
       "    }\n",
       "\n",
       "    .dataframe thead th {\n",
       "        text-align: right;\n",
       "    }\n",
       "</style>\n",
       "<table border=\"1\" class=\"dataframe\">\n",
       "  <thead>\n",
       "    <tr style=\"text-align: right;\">\n",
       "      <th></th>\n",
       "      <th>year</th>\n",
       "      <th>ENOP</th>\n",
       "      <th>Type</th>\n",
       "    </tr>\n",
       "  </thead>\n",
       "  <tbody>\n",
       "    <tr>\n",
       "      <th>0</th>\n",
       "      <td>2013</td>\n",
       "      <td>3.40</td>\n",
       "      <td>With respect to vote share</td>\n",
       "    </tr>\n",
       "    <tr>\n",
       "      <th>1</th>\n",
       "      <td>2018</td>\n",
       "      <td>2.82</td>\n",
       "      <td>With respect to vote share</td>\n",
       "    </tr>\n",
       "    <tr>\n",
       "      <th>2</th>\n",
       "      <td>2023</td>\n",
       "      <td>2.56</td>\n",
       "      <td>With respect to vote share</td>\n",
       "    </tr>\n",
       "    <tr>\n",
       "      <th>3</th>\n",
       "      <td>2013</td>\n",
       "      <td>2.11</td>\n",
       "      <td>With respect to number of seats</td>\n",
       "    </tr>\n",
       "    <tr>\n",
       "      <th>4</th>\n",
       "      <td>2018</td>\n",
       "      <td>2.05</td>\n",
       "      <td>With respect to number of seats</td>\n",
       "    </tr>\n",
       "    <tr>\n",
       "      <th>5</th>\n",
       "      <td>2023</td>\n",
       "      <td>1.76</td>\n",
       "      <td>With respect to number of seats</td>\n",
       "    </tr>\n",
       "  </tbody>\n",
       "</table>\n",
       "</div>"
      ],
      "text/plain": [
       "   year  ENOP                             Type\n",
       "0  2013  3.40       With respect to vote share\n",
       "1  2018  2.82       With respect to vote share\n",
       "2  2023  2.56       With respect to vote share\n",
       "3  2013  2.11  With respect to number of seats\n",
       "4  2018  2.05  With respect to number of seats\n",
       "5  2023  1.76  With respect to number of seats"
      ]
     },
     "execution_count": 4,
     "metadata": {},
     "output_type": "execute_result"
    }
   ],
   "source": [
    "def calculate_enop_vote_share(candid_df, const_df, year):\n",
    "    # Total votes in the election\n",
    "    total_votes = candid_df['votes'].sum()\n",
    "    \n",
    "    # Total votes per party\n",
    "    party_votes = candid_df.groupby('party')['votes'].sum().reset_index()\n",
    "    party_votes['vote_share_percent'] = party_votes['votes'] / total_votes\n",
    "    \n",
    "    # Number of constituencies won by each party\n",
    "    constituencies_won = const_df.groupby('party').size().reset_index(name='constituencies_won')\n",
    "    \n",
    "    # Merge party votes and constituencies won\n",
    "    party_stats = pd.merge(party_votes, constituencies_won, on='party', how='inner')\n",
    "    party_stats['year'] = year\n",
    "    party_stats['total_votes'] = total_votes\n",
    "    \n",
    "    # Calculate the maximum vote share percent for the year\n",
    "    max_vote_share_percent = party_stats['vote_share_percent'].max()\n",
    "    party_stats['max_vote_share_percent'] = max_vote_share_percent\n",
    "    \n",
    "    # Apply the ENOP formula for vote share\n",
    "    party_stats['ENOP'] = 1 / (1 + (max_vote_share_percent**2 / party_stats['vote_share_percent']) - party_stats['vote_share_percent'])\n",
    "    \n",
    "    return party_stats[['year', 'ENOP']]\n",
    "\n",
    "def calculate_enop_seats(const_df, year):\n",
    "    total_constituencies = 224  # Total number of constituencies in Karnataka\n",
    "    \n",
    "    # Number of constituencies won by each party\n",
    "    party_constituencies = const_df.groupby('party').size().reset_index(name='constituencies_won')\n",
    "    party_constituencies['constituency_percent'] = party_constituencies['constituencies_won'] / total_constituencies\n",
    "    party_constituencies['year'] = year\n",
    "    \n",
    "    # Calculate the maximum constituency percent for the year\n",
    "    max_constituency_percent = party_constituencies['constituency_percent'].max()\n",
    "    party_constituencies['max_constituency_percent'] = max_constituency_percent\n",
    "    \n",
    "    # Apply the ENOP formula for number of seats\n",
    "    party_constituencies['ENOP'] = 1 / (1 + (max_constituency_percent**2 / party_constituencies['constituency_percent']) - party_constituencies['constituency_percent'])\n",
    "    \n",
    "    return party_constituencies[['year', 'ENOP']]\n",
    "\n",
    "# Calculate ENOP with respect to vote share for each election year\n",
    "enop_vote_share_2013 = calculate_enop_vote_share(candid13, const13, 2013)\n",
    "enop_vote_share_2018 = calculate_enop_vote_share(candid18post, const18post, 2018)\n",
    "enop_vote_share_2023 = calculate_enop_vote_share(candid23, const23, 2023)\n",
    "\n",
    "# Concatenate ENOP vote share results\n",
    "enop_vote_share = pd.concat([enop_vote_share_2013, enop_vote_share_2018, enop_vote_share_2023], ignore_index=True)\n",
    "\n",
    "# Sum ENOP per year and round to two decimal places\n",
    "enop_vote_share = enop_vote_share.groupby('year')['ENOP'].sum().reset_index()\n",
    "enop_vote_share['ENOP'] = enop_vote_share['ENOP'].round(2)\n",
    "enop_vote_share['Type'] = 'With respect to vote share'\n",
    "\n",
    "# Calculate ENOP with respect to number of seats for each election year\n",
    "enop_seats_2013 = calculate_enop_seats(const13, 2013)\n",
    "enop_seats_2018 = calculate_enop_seats(const18post, 2018)\n",
    "enop_seats_2023 = calculate_enop_seats(const23, 2023)\n",
    "\n",
    "# Concatenate ENOP seats results\n",
    "enop_seats = pd.concat([enop_seats_2013, enop_seats_2018, enop_seats_2023], ignore_index=True)\n",
    "\n",
    "# Sum ENOP per year and round to two decimal places\n",
    "enop_seats = enop_seats.groupby('year')['ENOP'].sum().reset_index()\n",
    "enop_seats['ENOP'] = enop_seats['ENOP'].round(2)\n",
    "enop_seats['Type'] = 'With respect to number of seats'\n",
    "\n",
    "# Combine both ENOP results\n",
    "enop_results = pd.concat([enop_vote_share, enop_seats], ignore_index=True)\n",
    "\n",
    "# Display the final ENOP results\n",
    "enop_results"
   ]
  },
  {
   "cell_type": "code",
   "execution_count": 5,
   "metadata": {},
   "outputs": [
    {
     "data": {
      "application/vnd.plotly.v1+json": {
       "config": {
        "plotlyServerURL": "https://plot.ly"
       },
       "data": [
        {
         "alignmentgroup": "True",
         "hovertemplate": "Type=With respect to vote share<br>year=%{x}<br>Effective Number of Parties=%{y}<extra></extra>",
         "legendgroup": "With respect to vote share",
         "marker": {
          "color": "#636EFA",
          "pattern": {
           "shape": ""
          }
         },
         "name": "With respect to vote share",
         "offsetgroup": "With respect to vote share",
         "orientation": "v",
         "showlegend": true,
         "textposition": "auto",
         "type": "bar",
         "x": [
          2013,
          2018,
          2023
         ],
         "xaxis": "x",
         "y": [
          3.4,
          2.82,
          2.56
         ],
         "yaxis": "y"
        },
        {
         "alignmentgroup": "True",
         "hovertemplate": "Type=With respect to number of seats<br>year=%{x}<br>Effective Number of Parties=%{y}<extra></extra>",
         "legendgroup": "With respect to number of seats",
         "marker": {
          "color": "#EF553B",
          "pattern": {
           "shape": ""
          }
         },
         "name": "With respect to number of seats",
         "offsetgroup": "With respect to number of seats",
         "orientation": "v",
         "showlegend": true,
         "textposition": "auto",
         "type": "bar",
         "x": [
          2013,
          2018,
          2023
         ],
         "xaxis": "x",
         "y": [
          2.11,
          2.05,
          1.76
         ],
         "yaxis": "y"
        }
       ],
       "layout": {
        "autosize": true,
        "bargap": 0.65,
        "bargroupgap": 0.2,
        "barmode": "group",
        "dragmode": false,
        "legend": {
         "font": {
          "color": "black",
          "family": "Cambria",
          "size": 14
         },
         "itemclick": false,
         "itemdoubleclick": false,
         "orientation": "h",
         "title": {
          "font": {
           "color": "black",
           "family": "Cambria",
           "size": 14
          },
          "text": "Type"
         },
         "tracegroupgap": 0,
         "x": 0.5,
         "xanchor": "center",
         "y": 0.85,
         "yanchor": "top",
         "yref": "container"
        },
        "margin": {
         "b": 20,
         "l": 20,
         "pad": 10,
         "r": 20,
         "t": 50
        },
        "paper_bgcolor": "#f8f8f8",
        "plot_bgcolor": "#f8f8f8",
        "template": {
         "data": {
          "bar": [
           {
            "error_x": {
             "color": "#2a3f5f"
            },
            "error_y": {
             "color": "#2a3f5f"
            },
            "marker": {
             "line": {
              "color": "#E5ECF6",
              "width": 0.5
             },
             "pattern": {
              "fillmode": "overlay",
              "size": 10,
              "solidity": 0.2
             }
            },
            "type": "bar"
           }
          ],
          "barpolar": [
           {
            "marker": {
             "line": {
              "color": "#E5ECF6",
              "width": 0.5
             },
             "pattern": {
              "fillmode": "overlay",
              "size": 10,
              "solidity": 0.2
             }
            },
            "type": "barpolar"
           }
          ],
          "carpet": [
           {
            "aaxis": {
             "endlinecolor": "#2a3f5f",
             "gridcolor": "white",
             "linecolor": "white",
             "minorgridcolor": "white",
             "startlinecolor": "#2a3f5f"
            },
            "baxis": {
             "endlinecolor": "#2a3f5f",
             "gridcolor": "white",
             "linecolor": "white",
             "minorgridcolor": "white",
             "startlinecolor": "#2a3f5f"
            },
            "type": "carpet"
           }
          ],
          "choropleth": [
           {
            "colorbar": {
             "outlinewidth": 0,
             "ticks": ""
            },
            "type": "choropleth"
           }
          ],
          "contour": [
           {
            "colorbar": {
             "outlinewidth": 0,
             "ticks": ""
            },
            "colorscale": [
             [
              0,
              "#0d0887"
             ],
             [
              0.1111111111111111,
              "#46039f"
             ],
             [
              0.2222222222222222,
              "#7201a8"
             ],
             [
              0.3333333333333333,
              "#9c179e"
             ],
             [
              0.4444444444444444,
              "#bd3786"
             ],
             [
              0.5555555555555556,
              "#d8576b"
             ],
             [
              0.6666666666666666,
              "#ed7953"
             ],
             [
              0.7777777777777778,
              "#fb9f3a"
             ],
             [
              0.8888888888888888,
              "#fdca26"
             ],
             [
              1,
              "#f0f921"
             ]
            ],
            "type": "contour"
           }
          ],
          "contourcarpet": [
           {
            "colorbar": {
             "outlinewidth": 0,
             "ticks": ""
            },
            "type": "contourcarpet"
           }
          ],
          "heatmap": [
           {
            "colorbar": {
             "outlinewidth": 0,
             "ticks": ""
            },
            "colorscale": [
             [
              0,
              "#0d0887"
             ],
             [
              0.1111111111111111,
              "#46039f"
             ],
             [
              0.2222222222222222,
              "#7201a8"
             ],
             [
              0.3333333333333333,
              "#9c179e"
             ],
             [
              0.4444444444444444,
              "#bd3786"
             ],
             [
              0.5555555555555556,
              "#d8576b"
             ],
             [
              0.6666666666666666,
              "#ed7953"
             ],
             [
              0.7777777777777778,
              "#fb9f3a"
             ],
             [
              0.8888888888888888,
              "#fdca26"
             ],
             [
              1,
              "#f0f921"
             ]
            ],
            "type": "heatmap"
           }
          ],
          "heatmapgl": [
           {
            "colorbar": {
             "outlinewidth": 0,
             "ticks": ""
            },
            "colorscale": [
             [
              0,
              "#0d0887"
             ],
             [
              0.1111111111111111,
              "#46039f"
             ],
             [
              0.2222222222222222,
              "#7201a8"
             ],
             [
              0.3333333333333333,
              "#9c179e"
             ],
             [
              0.4444444444444444,
              "#bd3786"
             ],
             [
              0.5555555555555556,
              "#d8576b"
             ],
             [
              0.6666666666666666,
              "#ed7953"
             ],
             [
              0.7777777777777778,
              "#fb9f3a"
             ],
             [
              0.8888888888888888,
              "#fdca26"
             ],
             [
              1,
              "#f0f921"
             ]
            ],
            "type": "heatmapgl"
           }
          ],
          "histogram": [
           {
            "marker": {
             "pattern": {
              "fillmode": "overlay",
              "size": 10,
              "solidity": 0.2
             }
            },
            "type": "histogram"
           }
          ],
          "histogram2d": [
           {
            "colorbar": {
             "outlinewidth": 0,
             "ticks": ""
            },
            "colorscale": [
             [
              0,
              "#0d0887"
             ],
             [
              0.1111111111111111,
              "#46039f"
             ],
             [
              0.2222222222222222,
              "#7201a8"
             ],
             [
              0.3333333333333333,
              "#9c179e"
             ],
             [
              0.4444444444444444,
              "#bd3786"
             ],
             [
              0.5555555555555556,
              "#d8576b"
             ],
             [
              0.6666666666666666,
              "#ed7953"
             ],
             [
              0.7777777777777778,
              "#fb9f3a"
             ],
             [
              0.8888888888888888,
              "#fdca26"
             ],
             [
              1,
              "#f0f921"
             ]
            ],
            "type": "histogram2d"
           }
          ],
          "histogram2dcontour": [
           {
            "colorbar": {
             "outlinewidth": 0,
             "ticks": ""
            },
            "colorscale": [
             [
              0,
              "#0d0887"
             ],
             [
              0.1111111111111111,
              "#46039f"
             ],
             [
              0.2222222222222222,
              "#7201a8"
             ],
             [
              0.3333333333333333,
              "#9c179e"
             ],
             [
              0.4444444444444444,
              "#bd3786"
             ],
             [
              0.5555555555555556,
              "#d8576b"
             ],
             [
              0.6666666666666666,
              "#ed7953"
             ],
             [
              0.7777777777777778,
              "#fb9f3a"
             ],
             [
              0.8888888888888888,
              "#fdca26"
             ],
             [
              1,
              "#f0f921"
             ]
            ],
            "type": "histogram2dcontour"
           }
          ],
          "mesh3d": [
           {
            "colorbar": {
             "outlinewidth": 0,
             "ticks": ""
            },
            "type": "mesh3d"
           }
          ],
          "parcoords": [
           {
            "line": {
             "colorbar": {
              "outlinewidth": 0,
              "ticks": ""
             }
            },
            "type": "parcoords"
           }
          ],
          "pie": [
           {
            "automargin": true,
            "type": "pie"
           }
          ],
          "scatter": [
           {
            "fillpattern": {
             "fillmode": "overlay",
             "size": 10,
             "solidity": 0.2
            },
            "type": "scatter"
           }
          ],
          "scatter3d": [
           {
            "line": {
             "colorbar": {
              "outlinewidth": 0,
              "ticks": ""
             }
            },
            "marker": {
             "colorbar": {
              "outlinewidth": 0,
              "ticks": ""
             }
            },
            "type": "scatter3d"
           }
          ],
          "scattercarpet": [
           {
            "marker": {
             "colorbar": {
              "outlinewidth": 0,
              "ticks": ""
             }
            },
            "type": "scattercarpet"
           }
          ],
          "scattergeo": [
           {
            "marker": {
             "colorbar": {
              "outlinewidth": 0,
              "ticks": ""
             }
            },
            "type": "scattergeo"
           }
          ],
          "scattergl": [
           {
            "marker": {
             "colorbar": {
              "outlinewidth": 0,
              "ticks": ""
             }
            },
            "type": "scattergl"
           }
          ],
          "scattermapbox": [
           {
            "marker": {
             "colorbar": {
              "outlinewidth": 0,
              "ticks": ""
             }
            },
            "type": "scattermapbox"
           }
          ],
          "scatterpolar": [
           {
            "marker": {
             "colorbar": {
              "outlinewidth": 0,
              "ticks": ""
             }
            },
            "type": "scatterpolar"
           }
          ],
          "scatterpolargl": [
           {
            "marker": {
             "colorbar": {
              "outlinewidth": 0,
              "ticks": ""
             }
            },
            "type": "scatterpolargl"
           }
          ],
          "scatterternary": [
           {
            "marker": {
             "colorbar": {
              "outlinewidth": 0,
              "ticks": ""
             }
            },
            "type": "scatterternary"
           }
          ],
          "surface": [
           {
            "colorbar": {
             "outlinewidth": 0,
             "ticks": ""
            },
            "colorscale": [
             [
              0,
              "#0d0887"
             ],
             [
              0.1111111111111111,
              "#46039f"
             ],
             [
              0.2222222222222222,
              "#7201a8"
             ],
             [
              0.3333333333333333,
              "#9c179e"
             ],
             [
              0.4444444444444444,
              "#bd3786"
             ],
             [
              0.5555555555555556,
              "#d8576b"
             ],
             [
              0.6666666666666666,
              "#ed7953"
             ],
             [
              0.7777777777777778,
              "#fb9f3a"
             ],
             [
              0.8888888888888888,
              "#fdca26"
             ],
             [
              1,
              "#f0f921"
             ]
            ],
            "type": "surface"
           }
          ],
          "table": [
           {
            "cells": {
             "fill": {
              "color": "#EBF0F8"
             },
             "line": {
              "color": "white"
             }
            },
            "header": {
             "fill": {
              "color": "#C8D4E3"
             },
             "line": {
              "color": "white"
             }
            },
            "type": "table"
           }
          ]
         },
         "layout": {
          "annotationdefaults": {
           "arrowcolor": "#2a3f5f",
           "arrowhead": 0,
           "arrowwidth": 1
          },
          "autotypenumbers": "strict",
          "coloraxis": {
           "colorbar": {
            "outlinewidth": 0,
            "ticks": ""
           }
          },
          "colorscale": {
           "diverging": [
            [
             0,
             "#8e0152"
            ],
            [
             0.1,
             "#c51b7d"
            ],
            [
             0.2,
             "#de77ae"
            ],
            [
             0.3,
             "#f1b6da"
            ],
            [
             0.4,
             "#fde0ef"
            ],
            [
             0.5,
             "#f7f7f7"
            ],
            [
             0.6,
             "#e6f5d0"
            ],
            [
             0.7,
             "#b8e186"
            ],
            [
             0.8,
             "#7fbc41"
            ],
            [
             0.9,
             "#4d9221"
            ],
            [
             1,
             "#276419"
            ]
           ],
           "sequential": [
            [
             0,
             "#0d0887"
            ],
            [
             0.1111111111111111,
             "#46039f"
            ],
            [
             0.2222222222222222,
             "#7201a8"
            ],
            [
             0.3333333333333333,
             "#9c179e"
            ],
            [
             0.4444444444444444,
             "#bd3786"
            ],
            [
             0.5555555555555556,
             "#d8576b"
            ],
            [
             0.6666666666666666,
             "#ed7953"
            ],
            [
             0.7777777777777778,
             "#fb9f3a"
            ],
            [
             0.8888888888888888,
             "#fdca26"
            ],
            [
             1,
             "#f0f921"
            ]
           ],
           "sequentialminus": [
            [
             0,
             "#0d0887"
            ],
            [
             0.1111111111111111,
             "#46039f"
            ],
            [
             0.2222222222222222,
             "#7201a8"
            ],
            [
             0.3333333333333333,
             "#9c179e"
            ],
            [
             0.4444444444444444,
             "#bd3786"
            ],
            [
             0.5555555555555556,
             "#d8576b"
            ],
            [
             0.6666666666666666,
             "#ed7953"
            ],
            [
             0.7777777777777778,
             "#fb9f3a"
            ],
            [
             0.8888888888888888,
             "#fdca26"
            ],
            [
             1,
             "#f0f921"
            ]
           ]
          },
          "colorway": [
           "#636efa",
           "#EF553B",
           "#00cc96",
           "#ab63fa",
           "#FFA15A",
           "#19d3f3",
           "#FF6692",
           "#B6E880",
           "#FF97FF",
           "#FECB52"
          ],
          "font": {
           "color": "#2a3f5f"
          },
          "geo": {
           "bgcolor": "white",
           "lakecolor": "white",
           "landcolor": "#E5ECF6",
           "showlakes": true,
           "showland": true,
           "subunitcolor": "white"
          },
          "hoverlabel": {
           "align": "left"
          },
          "hovermode": "closest",
          "mapbox": {
           "style": "light"
          },
          "paper_bgcolor": "white",
          "plot_bgcolor": "#E5ECF6",
          "polar": {
           "angularaxis": {
            "gridcolor": "white",
            "linecolor": "white",
            "ticks": ""
           },
           "bgcolor": "#E5ECF6",
           "radialaxis": {
            "gridcolor": "white",
            "linecolor": "white",
            "ticks": ""
           }
          },
          "scene": {
           "xaxis": {
            "backgroundcolor": "#E5ECF6",
            "gridcolor": "white",
            "gridwidth": 2,
            "linecolor": "white",
            "showbackground": true,
            "ticks": "",
            "zerolinecolor": "white"
           },
           "yaxis": {
            "backgroundcolor": "#E5ECF6",
            "gridcolor": "white",
            "gridwidth": 2,
            "linecolor": "white",
            "showbackground": true,
            "ticks": "",
            "zerolinecolor": "white"
           },
           "zaxis": {
            "backgroundcolor": "#E5ECF6",
            "gridcolor": "white",
            "gridwidth": 2,
            "linecolor": "white",
            "showbackground": true,
            "ticks": "",
            "zerolinecolor": "white"
           }
          },
          "shapedefaults": {
           "line": {
            "color": "#2a3f5f"
           }
          },
          "ternary": {
           "aaxis": {
            "gridcolor": "white",
            "linecolor": "white",
            "ticks": ""
           },
           "baxis": {
            "gridcolor": "white",
            "linecolor": "white",
            "ticks": ""
           },
           "bgcolor": "#E5ECF6",
           "caxis": {
            "gridcolor": "white",
            "linecolor": "white",
            "ticks": ""
           }
          },
          "title": {
           "x": 0.05
          },
          "xaxis": {
           "automargin": true,
           "gridcolor": "white",
           "linecolor": "white",
           "ticks": "",
           "title": {
            "standoff": 15
           },
           "zerolinecolor": "white",
           "zerolinewidth": 2
          },
          "yaxis": {
           "automargin": true,
           "gridcolor": "white",
           "linecolor": "white",
           "ticks": "",
           "title": {
            "standoff": 15
           },
           "zerolinecolor": "white",
           "zerolinewidth": 2
          }
         }
        },
        "title": {
         "font": {
          "color": "black",
          "family": "Cambria",
          "size": 18
         },
         "text": "Effective Number of Parties Over the Years",
         "x": 0.5,
         "xanchor": "center",
         "y": 0.95,
         "yanchor": "top"
        },
        "xaxis": {
         "anchor": "y",
         "domain": [
          0,
          1
         ],
         "fixedrange": true,
         "showgrid": false,
         "tickfont": {
          "color": "black",
          "family": "Cambria",
          "size": 14
         },
         "tickvals": [
          2013,
          2018,
          2023
         ],
         "title": {
          "font": {
           "color": "black",
           "family": "Cambria",
           "size": 16
          },
          "text": "Year"
         }
        },
        "yaxis": {
         "anchor": "x",
         "domain": [
          0,
          1
         ],
         "fixedrange": true,
         "gridcolor": "lightgrey",
         "range": [
          0,
          3.5
         ],
         "showgrid": true,
         "tickfont": {
          "color": "black",
          "family": "Cambria",
          "size": 14
         },
         "tickvals": [
          0,
          0.5,
          1,
          1.5,
          2,
          2.5,
          3,
          3.5
         ],
         "title": {
          "font": {
           "color": "black",
           "family": "Cambria",
           "size": 16
          },
          "text": "Effective Number of Parties"
         },
         "zeroline": true
        }
       }
      }
     },
     "metadata": {},
     "output_type": "display_data"
    }
   ],
   "source": [
    "fig2 = px.bar(enop_results, y='ENOP', x='year',\n",
    "            title='Effective Number of Parties Over the Years',\n",
    "            labels={'ENOP':'Effective Number of Parties'},\n",
    "            barmode='group',\n",
    "            color='Type',\n",
    "            color_discrete_sequence=px.colors.qualitative.Plotly,)\n",
    "\n",
    "fig2.update_layout(\n",
    "    bargap=0.65,\n",
    "    bargroupgap=0.2,\n",
    "    xaxis_title=\"Year\",\n",
    "    yaxis_title=\"Effective Number of Parties\",\n",
    "    xaxis=dict(\n",
    "        tickvals=enop_results['year'].unique(),\n",
    "        tickfont=dict(family=\"Cambria\", size=14, color=\"black\"),\n",
    "        titlefont=dict(family=\"Cambria\", size=16, color=\"black\"),\n",
    "        fixedrange=True,\n",
    "        showgrid=False,\n",
    "    ),\n",
    "    yaxis=dict(\n",
    "        range=[0, 3.5],\n",
    "        tickvals = [0,0.5,1.0,1.5,2,2.5,3,3.5],\n",
    "        tickfont=dict(family=\"Cambria\", size=14, color=\"black\"),\n",
    "        titlefont=dict(family=\"Cambria\", size=16, color=\"black\"),\n",
    "        fixedrange=True,\n",
    "        showgrid=True,\n",
    "        zeroline=True,\n",
    "        gridcolor='lightgrey',\n",
    "    ),\n",
    "    title = dict(\n",
    "        font = dict(family=\"Cambria\", size=18, color=\"black\"),\n",
    "        text = \"Effective Number of Parties Over the Years\",  \n",
    "        xanchor=\"center\",\n",
    "        x = 0.5,\n",
    "        yanchor=\"top\",\n",
    "        y = 0.95\n",
    "    ),\n",
    "    legend = dict(\n",
    "        title = dict(\n",
    "            text = 'Type',\n",
    "            font = dict(family=\"Cambria\", size=14, color=\"black\")\n",
    "        ),\n",
    "        font=dict(family=\"Cambria\", size=14, color=\"black\"),\n",
    "        orientation=\"h\",\n",
    "        xanchor = 'center',\n",
    "        x = 0.5,\n",
    "        yref = 'container',\n",
    "        yanchor = 'top',\n",
    "        y = 0.85\n",
    "    ),\n",
    "    autosize=True,\n",
    "    dragmode=False,\n",
    "    plot_bgcolor = \"#f8f8f8\",\n",
    "    paper_bgcolor = \"#f8f8f8\",\n",
    "    margin = dict(pad=10, t=50, b=20, l=20, r=20), \n",
    "    legend_itemclick=False,  # Disable legend click actions\n",
    "    legend_itemdoubleclick=False,\n",
    ")\n",
    "\n",
    "pio.write_json(fig2, 'plots/enop.json')\n",
    "\n",
    "fig2"
   ]
  },
  {
   "cell_type": "code",
   "execution_count": null,
   "metadata": {},
   "outputs": [],
   "source": []
  },
  {
   "cell_type": "markdown",
   "metadata": {},
   "source": [
    "### Paradox of Participation"
   ]
  },
  {
   "cell_type": "code",
   "execution_count": 7,
   "metadata": {},
   "outputs": [
    {
     "data": {
      "text/html": [
       "<div>\n",
       "<style scoped>\n",
       "    .dataframe tbody tr th:only-of-type {\n",
       "        vertical-align: middle;\n",
       "    }\n",
       "\n",
       "    .dataframe tbody tr th {\n",
       "        vertical-align: top;\n",
       "    }\n",
       "\n",
       "    .dataframe thead th {\n",
       "        text-align: right;\n",
       "    }\n",
       "</style>\n",
       "<table border=\"1\" class=\"dataframe\">\n",
       "  <thead>\n",
       "    <tr style=\"text-align: right;\">\n",
       "      <th></th>\n",
       "      <th>Year</th>\n",
       "      <th>Number of Parties</th>\n",
       "    </tr>\n",
       "  </thead>\n",
       "  <tbody>\n",
       "    <tr>\n",
       "      <th>0</th>\n",
       "      <td>2013</td>\n",
       "      <td>59</td>\n",
       "    </tr>\n",
       "    <tr>\n",
       "      <th>1</th>\n",
       "      <td>2018</td>\n",
       "      <td>91</td>\n",
       "    </tr>\n",
       "    <tr>\n",
       "      <th>2</th>\n",
       "      <td>2023</td>\n",
       "      <td>91</td>\n",
       "    </tr>\n",
       "  </tbody>\n",
       "</table>\n",
       "</div>"
      ],
      "text/plain": [
       "   Year  Number of Parties\n",
       "0  2013                 59\n",
       "1  2018                 91\n",
       "2  2023                 91"
      ]
     },
     "execution_count": 7,
     "metadata": {},
     "output_type": "execute_result"
    }
   ],
   "source": [
    "# Calculate unique number of parties for each year\n",
    "unique_parties_13 = candid13['party'].nunique()\n",
    "unique_parties_18 = candid18['party'].nunique()\n",
    "unique_parties_23 = candid23['party'].nunique()\n",
    "\n",
    "# Create a dataframe with the results\n",
    "party_counts_df = pd.DataFrame({\n",
    "    'Year': [2013, 2018, 2023],\n",
    "    'Number of Parties': [unique_parties_13, unique_parties_18, unique_parties_23]\n",
    "})\n",
    "\n",
    "# Display the resulting dataframe\n",
    "party_counts_df"
   ]
  },
  {
   "cell_type": "code",
   "execution_count": 9,
   "metadata": {},
   "outputs": [
    {
     "data": {
      "text/html": [
       "<div>\n",
       "<style scoped>\n",
       "    .dataframe tbody tr th:only-of-type {\n",
       "        vertical-align: middle;\n",
       "    }\n",
       "\n",
       "    .dataframe tbody tr th {\n",
       "        vertical-align: top;\n",
       "    }\n",
       "\n",
       "    .dataframe thead th {\n",
       "        text-align: right;\n",
       "    }\n",
       "</style>\n",
       "<table border=\"1\" class=\"dataframe\">\n",
       "  <thead>\n",
       "    <tr style=\"text-align: right;\">\n",
       "      <th></th>\n",
       "      <th>Year</th>\n",
       "      <th>Number of Independent Candidates</th>\n",
       "    </tr>\n",
       "  </thead>\n",
       "  <tbody>\n",
       "    <tr>\n",
       "      <th>0</th>\n",
       "      <td>2013</td>\n",
       "      <td>1157</td>\n",
       "    </tr>\n",
       "    <tr>\n",
       "      <th>1</th>\n",
       "      <td>2018</td>\n",
       "      <td>1107</td>\n",
       "    </tr>\n",
       "    <tr>\n",
       "      <th>2</th>\n",
       "      <td>2023</td>\n",
       "      <td>905</td>\n",
       "    </tr>\n",
       "  </tbody>\n",
       "</table>\n",
       "</div>"
      ],
      "text/plain": [
       "   Year  Number of Independent Candidates\n",
       "0  2013                              1157\n",
       "1  2018                              1107\n",
       "2  2023                               905"
      ]
     },
     "execution_count": 9,
     "metadata": {},
     "output_type": "execute_result"
    }
   ],
   "source": [
    "# Count the number of independent candidates for each year\n",
    "independent_count_13 = candid13[candid13['party'].isin(['IND', 'Independent'])].shape[0]\n",
    "independent_count_18 = candid18[candid18['party'].isin(['IND', 'Independent'])].shape[0]\n",
    "independent_count_23 = candid23[candid23['party'].isin(['IND', 'Independent'])].shape[0]\n",
    "\n",
    "# Create a dataframe with the results\n",
    "independent_counts_df = pd.DataFrame({\n",
    "    'Year': [2013, 2018, 2023],\n",
    "    'Number of Independent Candidates': [independent_count_13, independent_count_18, independent_count_23]\n",
    "})\n",
    "\n",
    "# Display the resulting dataframe\n",
    "independent_counts_df\n"
   ]
  },
  {
   "cell_type": "code",
   "execution_count": null,
   "metadata": {},
   "outputs": [],
   "source": []
  }
 ],
 "metadata": {
  "kernelspec": {
   "display_name": "env",
   "language": "python",
   "name": "python3"
  },
  "language_info": {
   "codemirror_mode": {
    "name": "ipython",
    "version": 3
   },
   "file_extension": ".py",
   "mimetype": "text/x-python",
   "name": "python",
   "nbconvert_exporter": "python",
   "pygments_lexer": "ipython3",
   "version": "3.12.3"
  }
 },
 "nbformat": 4,
 "nbformat_minor": 2
}
