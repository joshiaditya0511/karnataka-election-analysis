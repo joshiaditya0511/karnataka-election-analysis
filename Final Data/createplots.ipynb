{
 "cells": [
  {
   "cell_type": "code",
   "execution_count": 3,
   "metadata": {},
   "outputs": [],
   "source": [
    "import pandas as pd\n",
    "import plotly.express as px\n",
    "import plotly.graph_objects as go\n",
    "import plotly.io as pio\n",
    "import json"
   ]
  },
  {
   "cell_type": "markdown",
   "metadata": {},
   "source": [
    "# Importing the data"
   ]
  },
  {
   "cell_type": "code",
   "execution_count": 4,
   "metadata": {},
   "outputs": [],
   "source": [
    "candid13 = pd.read_csv(\"candid13.csv\", index_col=0) # data of candidates in 2013 elections\n",
    "candid18 = pd.read_csv(\"candid18.csv\", index_col=0) # data of candidates in 2018 elections\n",
    "candid18post = pd.read_csv(\"candid18_post.csv\", index_col=0) # data of candidates in 2018 elections after considering bye elections\n",
    "candid23 = pd.read_csv(\"candid23.csv\", index_col=0) # data of candidates in 2023 elections\n",
    "\n",
    "const13 = pd.read_csv(\"const13.csv\", index_col=0) # data of constituencies in 2013 elections\n",
    "const18 = pd.read_csv(\"const18.csv\", index_col=0) # data of constituencies in 2018 elections\n",
    "const18post = pd.read_csv(\"const18_post.csv\", index_col=0) # data of constituencies in 2018 elections after considering bye elections\n",
    "const23 = pd.read_csv(\"const23.csv\", index_col=0) # data of constituencies in 2023 elections\n",
    "\n",
    "constnum = pd.read_csv(\"const_num.csv\", index_col=0) # mapping of constituency number to constituency name\n",
    "\n",
    "votemargins = pd.read_csv(\"votemargins.csv\", index_col=0) # data of vote margins\n",
    "voter_turnout = pd.read_csv(\"voter_turnout.csv\") # data of voter turnout\n",
    "\n",
    "# Load GeoJSON file for Karnataka constituencies\n",
    "with open('output.json', 'r', encoding='utf-8') as f:\n",
    "    geojson = json.load(f)"
   ]
  },
  {
   "cell_type": "markdown",
   "metadata": {},
   "source": [
    "## Basic Parliament Seats Data"
   ]
  },
  {
   "cell_type": "code",
   "execution_count": null,
   "metadata": {},
   "outputs": [],
   "source": [
    "\n"
   ]
  },
  {
   "cell_type": "markdown",
   "metadata": {},
   "source": [
    "# Creating Plots"
   ]
  },
  {
   "cell_type": "code",
   "execution_count": 15,
   "metadata": {},
   "outputs": [],
   "source": [
    "def get_total_voteshare_percent():   \n",
    "    def process_year(candid_df, const_df, year):\n",
    "        # Create a copy to avoid modifying the original DataFrame\n",
    "        temp = candid_df.copy()\n",
    "        \n",
    "        # Calculate the total votes across all parties\n",
    "        temp['total votes'] = temp['votes'].sum()\n",
    "        \n",
    "        # Group by party and total votes to calculate party totals\n",
    "        grouped = temp.groupby(['party', 'total votes'])['votes'].sum().reset_index()\n",
    "        grouped = grouped.rename(columns={'votes': 'party_total'})\n",
    "        \n",
    "        # Calculate vote share percentage\n",
    "        grouped['vote share percent'] = (grouped['party_total'] / grouped['total votes']) * 100\n",
    "        grouped['vote share percent'] = grouped['vote share percent'].round(2)\n",
    "        \n",
    "        # Add the election year\n",
    "        grouped['year'] = year\n",
    "        \n",
    "        # Filter for specific parties\n",
    "        grouped = grouped[grouped['party'].isin(['BJP', 'INC', 'JD(S)'])]\n",
    "        \n",
    "        # Calculate the number of constituencies won by each party\n",
    "        constituencies_won = const_df.groupby('party').size().reset_index(name='constituencies won')\n",
    "        \n",
    "        # Merge the party totals with constituencies won\n",
    "        result = pd.merge(grouped, constituencies_won, on='party')\n",
    "        \n",
    "        return result\n",
    "\n",
    "    # Process data for each election year\n",
    "    result13 = process_year(candid13, const13, 2013)\n",
    "    result18 = process_year(candid18, const18, 2018)\n",
    "    result23 = process_year(candid23, const23, 2023)\n",
    "\n",
    "    # Combine the results from all years\n",
    "    final_result = pd.concat([result13, result18, result23], ignore_index=True)\n",
    "    return final_result"
   ]
  },
  {
   "cell_type": "code",
   "execution_count": 16,
   "metadata": {},
   "outputs": [
    {
     "data": {
      "text/html": [
       "<div>\n",
       "<style scoped>\n",
       "    .dataframe tbody tr th:only-of-type {\n",
       "        vertical-align: middle;\n",
       "    }\n",
       "\n",
       "    .dataframe tbody tr th {\n",
       "        vertical-align: top;\n",
       "    }\n",
       "\n",
       "    .dataframe thead th {\n",
       "        text-align: right;\n",
       "    }\n",
       "</style>\n",
       "<table border=\"1\" class=\"dataframe\">\n",
       "  <thead>\n",
       "    <tr style=\"text-align: right;\">\n",
       "      <th></th>\n",
       "      <th>party</th>\n",
       "      <th>total votes</th>\n",
       "      <th>party_total</th>\n",
       "      <th>vote share percent</th>\n",
       "      <th>year</th>\n",
       "      <th>constituencies won</th>\n",
       "    </tr>\n",
       "  </thead>\n",
       "  <tbody>\n",
       "    <tr>\n",
       "      <th>0</th>\n",
       "      <td>BJP</td>\n",
       "      <td>30694374.0</td>\n",
       "      <td>6231660.0</td>\n",
       "      <td>20.30</td>\n",
       "      <td>2013</td>\n",
       "      <td>40</td>\n",
       "    </tr>\n",
       "    <tr>\n",
       "      <th>1</th>\n",
       "      <td>INC</td>\n",
       "      <td>30694374.0</td>\n",
       "      <td>11254487.0</td>\n",
       "      <td>36.67</td>\n",
       "      <td>2013</td>\n",
       "      <td>122</td>\n",
       "    </tr>\n",
       "    <tr>\n",
       "      <th>2</th>\n",
       "      <td>JD(S)</td>\n",
       "      <td>30694374.0</td>\n",
       "      <td>6091769.0</td>\n",
       "      <td>19.85</td>\n",
       "      <td>2013</td>\n",
       "      <td>40</td>\n",
       "    </tr>\n",
       "    <tr>\n",
       "      <th>3</th>\n",
       "      <td>BJP</td>\n",
       "      <td>35930149.0</td>\n",
       "      <td>13297224.0</td>\n",
       "      <td>37.01</td>\n",
       "      <td>2018</td>\n",
       "      <td>104</td>\n",
       "    </tr>\n",
       "    <tr>\n",
       "      <th>4</th>\n",
       "      <td>INC</td>\n",
       "      <td>35930149.0</td>\n",
       "      <td>13652276.0</td>\n",
       "      <td>38.00</td>\n",
       "      <td>2018</td>\n",
       "      <td>80</td>\n",
       "    </tr>\n",
       "    <tr>\n",
       "      <th>5</th>\n",
       "      <td>JD(S)</td>\n",
       "      <td>35930149.0</td>\n",
       "      <td>6723011.0</td>\n",
       "      <td>18.71</td>\n",
       "      <td>2018</td>\n",
       "      <td>37</td>\n",
       "    </tr>\n",
       "    <tr>\n",
       "      <th>6</th>\n",
       "      <td>BJP</td>\n",
       "      <td>38823869.0</td>\n",
       "      <td>14210103.0</td>\n",
       "      <td>36.60</td>\n",
       "      <td>2023</td>\n",
       "      <td>66</td>\n",
       "    </tr>\n",
       "    <tr>\n",
       "      <th>7</th>\n",
       "      <td>INC</td>\n",
       "      <td>38823869.0</td>\n",
       "      <td>16616300.0</td>\n",
       "      <td>42.80</td>\n",
       "      <td>2023</td>\n",
       "      <td>135</td>\n",
       "    </tr>\n",
       "    <tr>\n",
       "      <th>8</th>\n",
       "      <td>JD(S)</td>\n",
       "      <td>38823869.0</td>\n",
       "      <td>5268788.0</td>\n",
       "      <td>13.57</td>\n",
       "      <td>2023</td>\n",
       "      <td>19</td>\n",
       "    </tr>\n",
       "  </tbody>\n",
       "</table>\n",
       "</div>"
      ],
      "text/plain": [
       "   party  total votes  party_total  vote share percent  year  \\\n",
       "0    BJP   30694374.0    6231660.0               20.30  2013   \n",
       "1    INC   30694374.0   11254487.0               36.67  2013   \n",
       "2  JD(S)   30694374.0    6091769.0               19.85  2013   \n",
       "3    BJP   35930149.0   13297224.0               37.01  2018   \n",
       "4    INC   35930149.0   13652276.0               38.00  2018   \n",
       "5  JD(S)   35930149.0    6723011.0               18.71  2018   \n",
       "6    BJP   38823869.0   14210103.0               36.60  2023   \n",
       "7    INC   38823869.0   16616300.0               42.80  2023   \n",
       "8  JD(S)   38823869.0    5268788.0               13.57  2023   \n",
       "\n",
       "   constituencies won  \n",
       "0                  40  \n",
       "1                 122  \n",
       "2                  40  \n",
       "3                 104  \n",
       "4                  80  \n",
       "5                  37  \n",
       "6                  66  \n",
       "7                 135  \n",
       "8                  19  "
      ]
     },
     "execution_count": 16,
     "metadata": {},
     "output_type": "execute_result"
    }
   ],
   "source": [
    "get_total_voteshare_percent()"
   ]
  },
  {
   "cell_type": "markdown",
   "metadata": {},
   "source": [
    "## Karnataka's Electoral History"
   ]
  },
  {
   "cell_type": "code",
   "execution_count": 27,
   "metadata": {},
   "outputs": [],
   "source": [
    "# Define the list of major parties and their corresponding colors\n",
    "major_parties = ['BJP', 'INC', 'JD(S)']\n",
    "party_colors = {\n",
    "    'BJP': '#FF7500',\n",
    "    'INC': '#0D5BE1',\n",
    "    'JD(S)': 'green'\n",
    "}\n",
    "\n",
    "# Define the years\n",
    "years = [2013, 2018, 2023]\n",
    "\n",
    "# Candidate dataframes for each year (assumed to be already loaded)\n",
    "candid_dfs = {\n",
    "    2013: candid13,\n",
    "    2018: candid18,\n",
    "    2023: candid23\n",
    "}\n",
    "\n",
    "# Constituency dataframes for each year (assumed to be already loaded)\n",
    "const_dfs = {\n",
    "    2013: const13,\n",
    "    2018: const18,\n",
    "    2023: const23\n",
    "}\n"
   ]
  },
  {
   "cell_type": "markdown",
   "metadata": {},
   "source": [
    "### Plot 1: Vote Share Percent by Major Party and Year"
   ]
  },
  {
   "cell_type": "code",
   "execution_count": 49,
   "metadata": {},
   "outputs": [
    {
     "data": {
      "application/vnd.plotly.v1+json": {
       "config": {
        "plotlyServerURL": "https://plot.ly"
       },
       "data": [
        {
         "alignmentgroup": "True",
         "customdata": [
          [
           "BJP"
          ],
          [
           "BJP"
          ],
          [
           "BJP"
          ]
         ],
         "hovertemplate": "Year: %{x}<br>Vote Share: %{y:.2f}%<br>Party: %{customdata[0]}<extra></extra>",
         "legendgroup": "BJP",
         "marker": {
          "color": "#FF7500",
          "pattern": {
           "shape": ""
          }
         },
         "name": "BJP",
         "offsetgroup": "BJP",
         "orientation": "v",
         "showlegend": true,
         "textposition": "auto",
         "type": "bar",
         "x": [
          "2013",
          "2018",
          "2023"
         ],
         "xaxis": "x",
         "y": [
          20.302287318190622,
          37.008541211448915,
          36.60146030268132
         ],
         "yaxis": "y"
        },
        {
         "alignmentgroup": "True",
         "customdata": [
          [
           "INC"
          ],
          [
           "INC"
          ],
          [
           "INC"
          ]
         ],
         "hovertemplate": "Year: %{x}<br>Vote Share: %{y:.2f}%<br>Party: %{customdata[0]}<extra></extra>",
         "legendgroup": "INC",
         "marker": {
          "color": "#0D5BE1",
          "pattern": {
           "shape": ""
          }
         },
         "name": "INC",
         "offsetgroup": "INC",
         "orientation": "v",
         "showlegend": true,
         "textposition": "auto",
         "type": "bar",
         "x": [
          "2013",
          "2018",
          "2023"
         ],
         "xaxis": "x",
         "y": [
          36.66628614090647,
          37.996714124397315,
          42.799186242875486
         ],
         "yaxis": "y"
        },
        {
         "alignmentgroup": "True",
         "customdata": [
          [
           "JD(S)"
          ],
          [
           "JD(S)"
          ],
          [
           "JD(S)"
          ]
         ],
         "hovertemplate": "Year: %{x}<br>Vote Share: %{y:.2f}%<br>Party: %{customdata[0]}<extra></extra>",
         "legendgroup": "JD(S)",
         "marker": {
          "color": "green",
          "pattern": {
           "shape": ""
          }
         },
         "name": "JD(S)",
         "offsetgroup": "JD(S)",
         "orientation": "v",
         "showlegend": true,
         "textposition": "auto",
         "type": "bar",
         "x": [
          "2013",
          "2018",
          "2023"
         ],
         "xaxis": "x",
         "y": [
          19.84653278806077,
          18.71133626526291,
          13.571001900918223
         ],
         "yaxis": "y"
        }
       ],
       "layout": {
        "autosize": true,
        "bargap": 0.6,
        "bargroupgap": 0.2,
        "barmode": "group",
        "dragmode": false,
        "legend": {
         "font": {
          "color": "black",
          "family": "Cambria",
          "size": 13
         },
         "title": {
          "font": {
           "color": "black",
           "family": "Cambria",
           "size": 14
          },
          "text": "Party"
         },
         "tracegroupgap": 0
        },
        "margin": {
         "b": 70,
         "l": 70,
         "pad": 10,
         "r": 70,
         "t": 70
        },
        "paper_bgcolor": "#f8f8f8",
        "plot_bgcolor": "#f8f8f8",
        "template": {
         "data": {
          "bar": [
           {
            "error_x": {
             "color": "#2a3f5f"
            },
            "error_y": {
             "color": "#2a3f5f"
            },
            "marker": {
             "line": {
              "color": "#E5ECF6",
              "width": 0.5
             },
             "pattern": {
              "fillmode": "overlay",
              "size": 10,
              "solidity": 0.2
             }
            },
            "type": "bar"
           }
          ],
          "barpolar": [
           {
            "marker": {
             "line": {
              "color": "#E5ECF6",
              "width": 0.5
             },
             "pattern": {
              "fillmode": "overlay",
              "size": 10,
              "solidity": 0.2
             }
            },
            "type": "barpolar"
           }
          ],
          "carpet": [
           {
            "aaxis": {
             "endlinecolor": "#2a3f5f",
             "gridcolor": "white",
             "linecolor": "white",
             "minorgridcolor": "white",
             "startlinecolor": "#2a3f5f"
            },
            "baxis": {
             "endlinecolor": "#2a3f5f",
             "gridcolor": "white",
             "linecolor": "white",
             "minorgridcolor": "white",
             "startlinecolor": "#2a3f5f"
            },
            "type": "carpet"
           }
          ],
          "choropleth": [
           {
            "colorbar": {
             "outlinewidth": 0,
             "ticks": ""
            },
            "type": "choropleth"
           }
          ],
          "contour": [
           {
            "colorbar": {
             "outlinewidth": 0,
             "ticks": ""
            },
            "colorscale": [
             [
              0,
              "#0d0887"
             ],
             [
              0.1111111111111111,
              "#46039f"
             ],
             [
              0.2222222222222222,
              "#7201a8"
             ],
             [
              0.3333333333333333,
              "#9c179e"
             ],
             [
              0.4444444444444444,
              "#bd3786"
             ],
             [
              0.5555555555555556,
              "#d8576b"
             ],
             [
              0.6666666666666666,
              "#ed7953"
             ],
             [
              0.7777777777777778,
              "#fb9f3a"
             ],
             [
              0.8888888888888888,
              "#fdca26"
             ],
             [
              1,
              "#f0f921"
             ]
            ],
            "type": "contour"
           }
          ],
          "contourcarpet": [
           {
            "colorbar": {
             "outlinewidth": 0,
             "ticks": ""
            },
            "type": "contourcarpet"
           }
          ],
          "heatmap": [
           {
            "colorbar": {
             "outlinewidth": 0,
             "ticks": ""
            },
            "colorscale": [
             [
              0,
              "#0d0887"
             ],
             [
              0.1111111111111111,
              "#46039f"
             ],
             [
              0.2222222222222222,
              "#7201a8"
             ],
             [
              0.3333333333333333,
              "#9c179e"
             ],
             [
              0.4444444444444444,
              "#bd3786"
             ],
             [
              0.5555555555555556,
              "#d8576b"
             ],
             [
              0.6666666666666666,
              "#ed7953"
             ],
             [
              0.7777777777777778,
              "#fb9f3a"
             ],
             [
              0.8888888888888888,
              "#fdca26"
             ],
             [
              1,
              "#f0f921"
             ]
            ],
            "type": "heatmap"
           }
          ],
          "heatmapgl": [
           {
            "colorbar": {
             "outlinewidth": 0,
             "ticks": ""
            },
            "colorscale": [
             [
              0,
              "#0d0887"
             ],
             [
              0.1111111111111111,
              "#46039f"
             ],
             [
              0.2222222222222222,
              "#7201a8"
             ],
             [
              0.3333333333333333,
              "#9c179e"
             ],
             [
              0.4444444444444444,
              "#bd3786"
             ],
             [
              0.5555555555555556,
              "#d8576b"
             ],
             [
              0.6666666666666666,
              "#ed7953"
             ],
             [
              0.7777777777777778,
              "#fb9f3a"
             ],
             [
              0.8888888888888888,
              "#fdca26"
             ],
             [
              1,
              "#f0f921"
             ]
            ],
            "type": "heatmapgl"
           }
          ],
          "histogram": [
           {
            "marker": {
             "pattern": {
              "fillmode": "overlay",
              "size": 10,
              "solidity": 0.2
             }
            },
            "type": "histogram"
           }
          ],
          "histogram2d": [
           {
            "colorbar": {
             "outlinewidth": 0,
             "ticks": ""
            },
            "colorscale": [
             [
              0,
              "#0d0887"
             ],
             [
              0.1111111111111111,
              "#46039f"
             ],
             [
              0.2222222222222222,
              "#7201a8"
             ],
             [
              0.3333333333333333,
              "#9c179e"
             ],
             [
              0.4444444444444444,
              "#bd3786"
             ],
             [
              0.5555555555555556,
              "#d8576b"
             ],
             [
              0.6666666666666666,
              "#ed7953"
             ],
             [
              0.7777777777777778,
              "#fb9f3a"
             ],
             [
              0.8888888888888888,
              "#fdca26"
             ],
             [
              1,
              "#f0f921"
             ]
            ],
            "type": "histogram2d"
           }
          ],
          "histogram2dcontour": [
           {
            "colorbar": {
             "outlinewidth": 0,
             "ticks": ""
            },
            "colorscale": [
             [
              0,
              "#0d0887"
             ],
             [
              0.1111111111111111,
              "#46039f"
             ],
             [
              0.2222222222222222,
              "#7201a8"
             ],
             [
              0.3333333333333333,
              "#9c179e"
             ],
             [
              0.4444444444444444,
              "#bd3786"
             ],
             [
              0.5555555555555556,
              "#d8576b"
             ],
             [
              0.6666666666666666,
              "#ed7953"
             ],
             [
              0.7777777777777778,
              "#fb9f3a"
             ],
             [
              0.8888888888888888,
              "#fdca26"
             ],
             [
              1,
              "#f0f921"
             ]
            ],
            "type": "histogram2dcontour"
           }
          ],
          "mesh3d": [
           {
            "colorbar": {
             "outlinewidth": 0,
             "ticks": ""
            },
            "type": "mesh3d"
           }
          ],
          "parcoords": [
           {
            "line": {
             "colorbar": {
              "outlinewidth": 0,
              "ticks": ""
             }
            },
            "type": "parcoords"
           }
          ],
          "pie": [
           {
            "automargin": true,
            "type": "pie"
           }
          ],
          "scatter": [
           {
            "fillpattern": {
             "fillmode": "overlay",
             "size": 10,
             "solidity": 0.2
            },
            "type": "scatter"
           }
          ],
          "scatter3d": [
           {
            "line": {
             "colorbar": {
              "outlinewidth": 0,
              "ticks": ""
             }
            },
            "marker": {
             "colorbar": {
              "outlinewidth": 0,
              "ticks": ""
             }
            },
            "type": "scatter3d"
           }
          ],
          "scattercarpet": [
           {
            "marker": {
             "colorbar": {
              "outlinewidth": 0,
              "ticks": ""
             }
            },
            "type": "scattercarpet"
           }
          ],
          "scattergeo": [
           {
            "marker": {
             "colorbar": {
              "outlinewidth": 0,
              "ticks": ""
             }
            },
            "type": "scattergeo"
           }
          ],
          "scattergl": [
           {
            "marker": {
             "colorbar": {
              "outlinewidth": 0,
              "ticks": ""
             }
            },
            "type": "scattergl"
           }
          ],
          "scattermapbox": [
           {
            "marker": {
             "colorbar": {
              "outlinewidth": 0,
              "ticks": ""
             }
            },
            "type": "scattermapbox"
           }
          ],
          "scatterpolar": [
           {
            "marker": {
             "colorbar": {
              "outlinewidth": 0,
              "ticks": ""
             }
            },
            "type": "scatterpolar"
           }
          ],
          "scatterpolargl": [
           {
            "marker": {
             "colorbar": {
              "outlinewidth": 0,
              "ticks": ""
             }
            },
            "type": "scatterpolargl"
           }
          ],
          "scatterternary": [
           {
            "marker": {
             "colorbar": {
              "outlinewidth": 0,
              "ticks": ""
             }
            },
            "type": "scatterternary"
           }
          ],
          "surface": [
           {
            "colorbar": {
             "outlinewidth": 0,
             "ticks": ""
            },
            "colorscale": [
             [
              0,
              "#0d0887"
             ],
             [
              0.1111111111111111,
              "#46039f"
             ],
             [
              0.2222222222222222,
              "#7201a8"
             ],
             [
              0.3333333333333333,
              "#9c179e"
             ],
             [
              0.4444444444444444,
              "#bd3786"
             ],
             [
              0.5555555555555556,
              "#d8576b"
             ],
             [
              0.6666666666666666,
              "#ed7953"
             ],
             [
              0.7777777777777778,
              "#fb9f3a"
             ],
             [
              0.8888888888888888,
              "#fdca26"
             ],
             [
              1,
              "#f0f921"
             ]
            ],
            "type": "surface"
           }
          ],
          "table": [
           {
            "cells": {
             "fill": {
              "color": "#EBF0F8"
             },
             "line": {
              "color": "white"
             }
            },
            "header": {
             "fill": {
              "color": "#C8D4E3"
             },
             "line": {
              "color": "white"
             }
            },
            "type": "table"
           }
          ]
         },
         "layout": {
          "annotationdefaults": {
           "arrowcolor": "#2a3f5f",
           "arrowhead": 0,
           "arrowwidth": 1
          },
          "autotypenumbers": "strict",
          "coloraxis": {
           "colorbar": {
            "outlinewidth": 0,
            "ticks": ""
           }
          },
          "colorscale": {
           "diverging": [
            [
             0,
             "#8e0152"
            ],
            [
             0.1,
             "#c51b7d"
            ],
            [
             0.2,
             "#de77ae"
            ],
            [
             0.3,
             "#f1b6da"
            ],
            [
             0.4,
             "#fde0ef"
            ],
            [
             0.5,
             "#f7f7f7"
            ],
            [
             0.6,
             "#e6f5d0"
            ],
            [
             0.7,
             "#b8e186"
            ],
            [
             0.8,
             "#7fbc41"
            ],
            [
             0.9,
             "#4d9221"
            ],
            [
             1,
             "#276419"
            ]
           ],
           "sequential": [
            [
             0,
             "#0d0887"
            ],
            [
             0.1111111111111111,
             "#46039f"
            ],
            [
             0.2222222222222222,
             "#7201a8"
            ],
            [
             0.3333333333333333,
             "#9c179e"
            ],
            [
             0.4444444444444444,
             "#bd3786"
            ],
            [
             0.5555555555555556,
             "#d8576b"
            ],
            [
             0.6666666666666666,
             "#ed7953"
            ],
            [
             0.7777777777777778,
             "#fb9f3a"
            ],
            [
             0.8888888888888888,
             "#fdca26"
            ],
            [
             1,
             "#f0f921"
            ]
           ],
           "sequentialminus": [
            [
             0,
             "#0d0887"
            ],
            [
             0.1111111111111111,
             "#46039f"
            ],
            [
             0.2222222222222222,
             "#7201a8"
            ],
            [
             0.3333333333333333,
             "#9c179e"
            ],
            [
             0.4444444444444444,
             "#bd3786"
            ],
            [
             0.5555555555555556,
             "#d8576b"
            ],
            [
             0.6666666666666666,
             "#ed7953"
            ],
            [
             0.7777777777777778,
             "#fb9f3a"
            ],
            [
             0.8888888888888888,
             "#fdca26"
            ],
            [
             1,
             "#f0f921"
            ]
           ]
          },
          "colorway": [
           "#636efa",
           "#EF553B",
           "#00cc96",
           "#ab63fa",
           "#FFA15A",
           "#19d3f3",
           "#FF6692",
           "#B6E880",
           "#FF97FF",
           "#FECB52"
          ],
          "font": {
           "color": "#2a3f5f"
          },
          "geo": {
           "bgcolor": "white",
           "lakecolor": "white",
           "landcolor": "#E5ECF6",
           "showlakes": true,
           "showland": true,
           "subunitcolor": "white"
          },
          "hoverlabel": {
           "align": "left"
          },
          "hovermode": "closest",
          "mapbox": {
           "style": "light"
          },
          "paper_bgcolor": "white",
          "plot_bgcolor": "#E5ECF6",
          "polar": {
           "angularaxis": {
            "gridcolor": "white",
            "linecolor": "white",
            "ticks": ""
           },
           "bgcolor": "#E5ECF6",
           "radialaxis": {
            "gridcolor": "white",
            "linecolor": "white",
            "ticks": ""
           }
          },
          "scene": {
           "xaxis": {
            "backgroundcolor": "#E5ECF6",
            "gridcolor": "white",
            "gridwidth": 2,
            "linecolor": "white",
            "showbackground": true,
            "ticks": "",
            "zerolinecolor": "white"
           },
           "yaxis": {
            "backgroundcolor": "#E5ECF6",
            "gridcolor": "white",
            "gridwidth": 2,
            "linecolor": "white",
            "showbackground": true,
            "ticks": "",
            "zerolinecolor": "white"
           },
           "zaxis": {
            "backgroundcolor": "#E5ECF6",
            "gridcolor": "white",
            "gridwidth": 2,
            "linecolor": "white",
            "showbackground": true,
            "ticks": "",
            "zerolinecolor": "white"
           }
          },
          "shapedefaults": {
           "line": {
            "color": "#2a3f5f"
           }
          },
          "ternary": {
           "aaxis": {
            "gridcolor": "white",
            "linecolor": "white",
            "ticks": ""
           },
           "baxis": {
            "gridcolor": "white",
            "linecolor": "white",
            "ticks": ""
           },
           "bgcolor": "#E5ECF6",
           "caxis": {
            "gridcolor": "white",
            "linecolor": "white",
            "ticks": ""
           }
          },
          "title": {
           "x": 0.05
          },
          "xaxis": {
           "automargin": true,
           "gridcolor": "white",
           "linecolor": "white",
           "ticks": "",
           "title": {
            "standoff": 15
           },
           "zerolinecolor": "white",
           "zerolinewidth": 2
          },
          "yaxis": {
           "automargin": true,
           "gridcolor": "white",
           "linecolor": "white",
           "ticks": "",
           "title": {
            "standoff": 15
           },
           "zerolinecolor": "white",
           "zerolinewidth": 2
          }
         }
        },
        "title": {
         "font": {
          "color": "black",
          "family": "Cambria",
          "size": 18
         },
         "text": "Vote Share (%) of Major Parties over the years",
         "x": 0.5,
         "xanchor": "center"
        },
        "xaxis": {
         "anchor": "y",
         "domain": [
          0,
          1
         ],
         "showgrid": false,
         "tickfont": {
          "color": "black",
          "family": "Cambria",
          "size": 14
         },
         "tickmode": "linear",
         "title": {
          "font": {
           "color": "black",
           "family": "Cambria",
           "size": 16
          },
          "text": "Year"
         }
        },
        "yaxis": {
         "anchor": "x",
         "domain": [
          0,
          1
         ],
         "gridcolor": "lightgrey",
         "showgrid": true,
         "tickfont": {
          "color": "black",
          "family": "Cambria",
          "size": 14
         },
         "tickvals": [
          0,
          5,
          10,
          15,
          20,
          25,
          30,
          35,
          40,
          45,
          50
         ],
         "title": {
          "font": {
           "color": "black",
           "family": "Cambria",
           "size": 16
          },
          "text": "Vote Share (%)"
         },
         "zeroline": true
        }
       }
      }
     },
     "metadata": {},
     "output_type": "display_data"
    }
   ],
   "source": [
    "# Prepare the data for vote share percentages\n",
    "vote_share_data = []\n",
    "\n",
    "for year in years:\n",
    "    candid_df = candid_dfs[year]\n",
    "    \n",
    "    # Calculate total votes cast in the election\n",
    "    total_votes = candid_df['votes'].sum()\n",
    "    \n",
    "    # Calculate total votes received by each party\n",
    "    votes_by_party = candid_df.groupby('party')['votes'].sum().reset_index()\n",
    "    \n",
    "    # Filter for major parties\n",
    "    votes_by_party = votes_by_party[votes_by_party['party'].isin(major_parties)]\n",
    "    \n",
    "    # Calculate vote share percentage\n",
    "    votes_by_party['vote_share_percent'] = (votes_by_party['votes'] / total_votes) * 100\n",
    "    \n",
    "    # Add the year information\n",
    "    votes_by_party['year'] = str(year)  # Convert year to string for categorical x-axis\n",
    "    \n",
    "    # Append to the list\n",
    "    vote_share_data.append(votes_by_party[['year', 'party', 'vote_share_percent']])\n",
    "\n",
    "# Combine the data for all years into a single dataframe\n",
    "vote_share_df = pd.concat(vote_share_data, ignore_index=True)\n",
    "\n",
    "# Create the plot for vote share percentages\n",
    "fig_vote_share = px.bar(\n",
    "    vote_share_df,\n",
    "    x='year',\n",
    "    y='vote_share_percent',\n",
    "    color='party',\n",
    "    barmode='group',\n",
    "    labels={'vote_share_percent': 'Vote Share (%)', 'year': 'Year', 'party': 'Party'},\n",
    "    color_discrete_map=party_colors,\n",
    "    custom_data=['party'],\n",
    ")\n",
    "\n",
    "fig_vote_share.update_traces(\n",
    "    hovertemplate=\"Year: %{x}<br>Vote Share: %{y:.2f}%<br>Party: %{customdata[0]}<extra></extra>\"\n",
    ")\n",
    "\n",
    "# Update layout as per your specifications\n",
    "fig_vote_share.update_layout(\n",
    "    # font=dict(family='Cambria'),\n",
    "    bargap=0.6,  # Adjust the gap between bars\n",
    "    bargroupgap=0.2,\n",
    "    dragmode = False,\n",
    "    xaxis=dict(\n",
    "        title='Year',\n",
    "        tickmode='linear',\n",
    "        showgrid=False,\n",
    "        tickfont=dict(family=\"Cambria\", size=14, color=\"black\"),\n",
    "        titlefont=dict(family=\"Cambria\", size=16, color=\"black\")\n",
    "    ),\n",
    "    yaxis=dict(\n",
    "        title='Vote Share (%)',\n",
    "        gridcolor='lightgrey',\n",
    "        showgrid=True,\n",
    "        zeroline=True,\n",
    "        tickvals = [0,5,10,15,20,25,30,35,40,45,50],\n",
    "        tickfont=dict(family=\"Cambria\", size=14, color=\"black\"),\n",
    "        titlefont=dict(family=\"Cambria\", size=16, color=\"black\")\n",
    "    ),\n",
    "    title = dict(\n",
    "        font=dict(family=\"Cambria\", size=18, color=\"black\"),\n",
    "        text = \"Vote Share (%) of Major Parties over the years\",\n",
    "        xanchor = 'center',\n",
    "        x = 0.5\n",
    "    ),\n",
    "    margin = dict(pad=10,t=70,b=70,r=70,l=70), \n",
    "    legend_title_font=dict(family=\"Cambria\", size=14, color=\"black\"),\n",
    "    legend_font=dict(family=\"Cambria\", size=13, color=\"black\"),\n",
    "    legend_title_text='Party',\n",
    "    plot_bgcolor='#f8f8f8',\n",
    "    paper_bgcolor='#f8f8f8',\n",
    "    autosize=True,\n",
    ")\n",
    "\n",
    "# Only show horizontal gridlines\n",
    "fig_vote_share.update_xaxes(showgrid=False)\n",
    "fig_vote_share.update_yaxes(showgrid=True)\n",
    "\n",
    "# Save the figure as JSON\n",
    "pio.write_json(fig_vote_share, 'plots/keh_voteshare.json')\n",
    "fig_vote_share\n"
   ]
  },
  {
   "cell_type": "markdown",
   "metadata": {},
   "source": [
    "### Plot 2: Constituencies Won by Major Parties by Year"
   ]
  },
  {
   "cell_type": "code",
   "execution_count": 34,
   "metadata": {},
   "outputs": [
    {
     "data": {
      "application/vnd.plotly.v1+json": {
       "config": {
        "plotlyServerURL": "https://plot.ly"
       },
       "data": [
        {
         "alignmentgroup": "True",
         "customdata": [
          [
           "INC"
          ],
          [
           "INC"
          ],
          [
           "INC"
          ]
         ],
         "hovertemplate": "Party=INC<br>Year=%{x}<br>Constituencies Won=%{y}<extra></extra>",
         "legendgroup": "INC",
         "marker": {
          "color": "#0D5BE1",
          "pattern": {
           "shape": ""
          }
         },
         "name": "INC",
         "offsetgroup": "INC",
         "orientation": "v",
         "showlegend": true,
         "textposition": "auto",
         "type": "bar",
         "x": [
          "2013",
          "2018",
          "2023"
         ],
         "xaxis": "x",
         "y": [
          122,
          80,
          135
         ],
         "yaxis": "y"
        },
        {
         "alignmentgroup": "True",
         "customdata": [
          [
           "BJP"
          ],
          [
           "BJP"
          ],
          [
           "BJP"
          ]
         ],
         "hovertemplate": "Party=BJP<br>Year=%{x}<br>Constituencies Won=%{y}<extra></extra>",
         "legendgroup": "BJP",
         "marker": {
          "color": "#FF7500",
          "pattern": {
           "shape": ""
          }
         },
         "name": "BJP",
         "offsetgroup": "BJP",
         "orientation": "v",
         "showlegend": true,
         "textposition": "auto",
         "type": "bar",
         "x": [
          "2013",
          "2018",
          "2023"
         ],
         "xaxis": "x",
         "y": [
          40,
          104,
          66
         ],
         "yaxis": "y"
        },
        {
         "alignmentgroup": "True",
         "customdata": [
          [
           "JD(S)"
          ],
          [
           "JD(S)"
          ],
          [
           "JD(S)"
          ]
         ],
         "hovertemplate": "Party=JD(S)<br>Year=%{x}<br>Constituencies Won=%{y}<extra></extra>",
         "legendgroup": "JD(S)",
         "marker": {
          "color": "green",
          "pattern": {
           "shape": ""
          }
         },
         "name": "JD(S)",
         "offsetgroup": "JD(S)",
         "orientation": "v",
         "showlegend": true,
         "textposition": "auto",
         "type": "bar",
         "x": [
          "2013",
          "2018",
          "2023"
         ],
         "xaxis": "x",
         "y": [
          40,
          37,
          19
         ],
         "yaxis": "y"
        }
       ],
       "layout": {
        "autosize": true,
        "bargap": 0.6,
        "bargroupgap": 0.2,
        "barmode": "group",
        "dragmode": false,
        "legend": {
         "font": {
          "color": "black",
          "family": "Cambria",
          "size": 13
         },
         "title": {
          "font": {
           "color": "black",
           "family": "Cambria",
           "size": 14
          },
          "text": "Party"
         },
         "tracegroupgap": 0
        },
        "margin": {
         "b": 70,
         "l": 70,
         "pad": 10,
         "r": 70,
         "t": 70
        },
        "paper_bgcolor": "#f8f8f8",
        "plot_bgcolor": "#f8f8f8",
        "template": {
         "data": {
          "bar": [
           {
            "error_x": {
             "color": "#2a3f5f"
            },
            "error_y": {
             "color": "#2a3f5f"
            },
            "marker": {
             "line": {
              "color": "#E5ECF6",
              "width": 0.5
             },
             "pattern": {
              "fillmode": "overlay",
              "size": 10,
              "solidity": 0.2
             }
            },
            "type": "bar"
           }
          ],
          "barpolar": [
           {
            "marker": {
             "line": {
              "color": "#E5ECF6",
              "width": 0.5
             },
             "pattern": {
              "fillmode": "overlay",
              "size": 10,
              "solidity": 0.2
             }
            },
            "type": "barpolar"
           }
          ],
          "carpet": [
           {
            "aaxis": {
             "endlinecolor": "#2a3f5f",
             "gridcolor": "white",
             "linecolor": "white",
             "minorgridcolor": "white",
             "startlinecolor": "#2a3f5f"
            },
            "baxis": {
             "endlinecolor": "#2a3f5f",
             "gridcolor": "white",
             "linecolor": "white",
             "minorgridcolor": "white",
             "startlinecolor": "#2a3f5f"
            },
            "type": "carpet"
           }
          ],
          "choropleth": [
           {
            "colorbar": {
             "outlinewidth": 0,
             "ticks": ""
            },
            "type": "choropleth"
           }
          ],
          "contour": [
           {
            "colorbar": {
             "outlinewidth": 0,
             "ticks": ""
            },
            "colorscale": [
             [
              0,
              "#0d0887"
             ],
             [
              0.1111111111111111,
              "#46039f"
             ],
             [
              0.2222222222222222,
              "#7201a8"
             ],
             [
              0.3333333333333333,
              "#9c179e"
             ],
             [
              0.4444444444444444,
              "#bd3786"
             ],
             [
              0.5555555555555556,
              "#d8576b"
             ],
             [
              0.6666666666666666,
              "#ed7953"
             ],
             [
              0.7777777777777778,
              "#fb9f3a"
             ],
             [
              0.8888888888888888,
              "#fdca26"
             ],
             [
              1,
              "#f0f921"
             ]
            ],
            "type": "contour"
           }
          ],
          "contourcarpet": [
           {
            "colorbar": {
             "outlinewidth": 0,
             "ticks": ""
            },
            "type": "contourcarpet"
           }
          ],
          "heatmap": [
           {
            "colorbar": {
             "outlinewidth": 0,
             "ticks": ""
            },
            "colorscale": [
             [
              0,
              "#0d0887"
             ],
             [
              0.1111111111111111,
              "#46039f"
             ],
             [
              0.2222222222222222,
              "#7201a8"
             ],
             [
              0.3333333333333333,
              "#9c179e"
             ],
             [
              0.4444444444444444,
              "#bd3786"
             ],
             [
              0.5555555555555556,
              "#d8576b"
             ],
             [
              0.6666666666666666,
              "#ed7953"
             ],
             [
              0.7777777777777778,
              "#fb9f3a"
             ],
             [
              0.8888888888888888,
              "#fdca26"
             ],
             [
              1,
              "#f0f921"
             ]
            ],
            "type": "heatmap"
           }
          ],
          "heatmapgl": [
           {
            "colorbar": {
             "outlinewidth": 0,
             "ticks": ""
            },
            "colorscale": [
             [
              0,
              "#0d0887"
             ],
             [
              0.1111111111111111,
              "#46039f"
             ],
             [
              0.2222222222222222,
              "#7201a8"
             ],
             [
              0.3333333333333333,
              "#9c179e"
             ],
             [
              0.4444444444444444,
              "#bd3786"
             ],
             [
              0.5555555555555556,
              "#d8576b"
             ],
             [
              0.6666666666666666,
              "#ed7953"
             ],
             [
              0.7777777777777778,
              "#fb9f3a"
             ],
             [
              0.8888888888888888,
              "#fdca26"
             ],
             [
              1,
              "#f0f921"
             ]
            ],
            "type": "heatmapgl"
           }
          ],
          "histogram": [
           {
            "marker": {
             "pattern": {
              "fillmode": "overlay",
              "size": 10,
              "solidity": 0.2
             }
            },
            "type": "histogram"
           }
          ],
          "histogram2d": [
           {
            "colorbar": {
             "outlinewidth": 0,
             "ticks": ""
            },
            "colorscale": [
             [
              0,
              "#0d0887"
             ],
             [
              0.1111111111111111,
              "#46039f"
             ],
             [
              0.2222222222222222,
              "#7201a8"
             ],
             [
              0.3333333333333333,
              "#9c179e"
             ],
             [
              0.4444444444444444,
              "#bd3786"
             ],
             [
              0.5555555555555556,
              "#d8576b"
             ],
             [
              0.6666666666666666,
              "#ed7953"
             ],
             [
              0.7777777777777778,
              "#fb9f3a"
             ],
             [
              0.8888888888888888,
              "#fdca26"
             ],
             [
              1,
              "#f0f921"
             ]
            ],
            "type": "histogram2d"
           }
          ],
          "histogram2dcontour": [
           {
            "colorbar": {
             "outlinewidth": 0,
             "ticks": ""
            },
            "colorscale": [
             [
              0,
              "#0d0887"
             ],
             [
              0.1111111111111111,
              "#46039f"
             ],
             [
              0.2222222222222222,
              "#7201a8"
             ],
             [
              0.3333333333333333,
              "#9c179e"
             ],
             [
              0.4444444444444444,
              "#bd3786"
             ],
             [
              0.5555555555555556,
              "#d8576b"
             ],
             [
              0.6666666666666666,
              "#ed7953"
             ],
             [
              0.7777777777777778,
              "#fb9f3a"
             ],
             [
              0.8888888888888888,
              "#fdca26"
             ],
             [
              1,
              "#f0f921"
             ]
            ],
            "type": "histogram2dcontour"
           }
          ],
          "mesh3d": [
           {
            "colorbar": {
             "outlinewidth": 0,
             "ticks": ""
            },
            "type": "mesh3d"
           }
          ],
          "parcoords": [
           {
            "line": {
             "colorbar": {
              "outlinewidth": 0,
              "ticks": ""
             }
            },
            "type": "parcoords"
           }
          ],
          "pie": [
           {
            "automargin": true,
            "type": "pie"
           }
          ],
          "scatter": [
           {
            "fillpattern": {
             "fillmode": "overlay",
             "size": 10,
             "solidity": 0.2
            },
            "type": "scatter"
           }
          ],
          "scatter3d": [
           {
            "line": {
             "colorbar": {
              "outlinewidth": 0,
              "ticks": ""
             }
            },
            "marker": {
             "colorbar": {
              "outlinewidth": 0,
              "ticks": ""
             }
            },
            "type": "scatter3d"
           }
          ],
          "scattercarpet": [
           {
            "marker": {
             "colorbar": {
              "outlinewidth": 0,
              "ticks": ""
             }
            },
            "type": "scattercarpet"
           }
          ],
          "scattergeo": [
           {
            "marker": {
             "colorbar": {
              "outlinewidth": 0,
              "ticks": ""
             }
            },
            "type": "scattergeo"
           }
          ],
          "scattergl": [
           {
            "marker": {
             "colorbar": {
              "outlinewidth": 0,
              "ticks": ""
             }
            },
            "type": "scattergl"
           }
          ],
          "scattermapbox": [
           {
            "marker": {
             "colorbar": {
              "outlinewidth": 0,
              "ticks": ""
             }
            },
            "type": "scattermapbox"
           }
          ],
          "scatterpolar": [
           {
            "marker": {
             "colorbar": {
              "outlinewidth": 0,
              "ticks": ""
             }
            },
            "type": "scatterpolar"
           }
          ],
          "scatterpolargl": [
           {
            "marker": {
             "colorbar": {
              "outlinewidth": 0,
              "ticks": ""
             }
            },
            "type": "scatterpolargl"
           }
          ],
          "scatterternary": [
           {
            "marker": {
             "colorbar": {
              "outlinewidth": 0,
              "ticks": ""
             }
            },
            "type": "scatterternary"
           }
          ],
          "surface": [
           {
            "colorbar": {
             "outlinewidth": 0,
             "ticks": ""
            },
            "colorscale": [
             [
              0,
              "#0d0887"
             ],
             [
              0.1111111111111111,
              "#46039f"
             ],
             [
              0.2222222222222222,
              "#7201a8"
             ],
             [
              0.3333333333333333,
              "#9c179e"
             ],
             [
              0.4444444444444444,
              "#bd3786"
             ],
             [
              0.5555555555555556,
              "#d8576b"
             ],
             [
              0.6666666666666666,
              "#ed7953"
             ],
             [
              0.7777777777777778,
              "#fb9f3a"
             ],
             [
              0.8888888888888888,
              "#fdca26"
             ],
             [
              1,
              "#f0f921"
             ]
            ],
            "type": "surface"
           }
          ],
          "table": [
           {
            "cells": {
             "fill": {
              "color": "#EBF0F8"
             },
             "line": {
              "color": "white"
             }
            },
            "header": {
             "fill": {
              "color": "#C8D4E3"
             },
             "line": {
              "color": "white"
             }
            },
            "type": "table"
           }
          ]
         },
         "layout": {
          "annotationdefaults": {
           "arrowcolor": "#2a3f5f",
           "arrowhead": 0,
           "arrowwidth": 1
          },
          "autotypenumbers": "strict",
          "coloraxis": {
           "colorbar": {
            "outlinewidth": 0,
            "ticks": ""
           }
          },
          "colorscale": {
           "diverging": [
            [
             0,
             "#8e0152"
            ],
            [
             0.1,
             "#c51b7d"
            ],
            [
             0.2,
             "#de77ae"
            ],
            [
             0.3,
             "#f1b6da"
            ],
            [
             0.4,
             "#fde0ef"
            ],
            [
             0.5,
             "#f7f7f7"
            ],
            [
             0.6,
             "#e6f5d0"
            ],
            [
             0.7,
             "#b8e186"
            ],
            [
             0.8,
             "#7fbc41"
            ],
            [
             0.9,
             "#4d9221"
            ],
            [
             1,
             "#276419"
            ]
           ],
           "sequential": [
            [
             0,
             "#0d0887"
            ],
            [
             0.1111111111111111,
             "#46039f"
            ],
            [
             0.2222222222222222,
             "#7201a8"
            ],
            [
             0.3333333333333333,
             "#9c179e"
            ],
            [
             0.4444444444444444,
             "#bd3786"
            ],
            [
             0.5555555555555556,
             "#d8576b"
            ],
            [
             0.6666666666666666,
             "#ed7953"
            ],
            [
             0.7777777777777778,
             "#fb9f3a"
            ],
            [
             0.8888888888888888,
             "#fdca26"
            ],
            [
             1,
             "#f0f921"
            ]
           ],
           "sequentialminus": [
            [
             0,
             "#0d0887"
            ],
            [
             0.1111111111111111,
             "#46039f"
            ],
            [
             0.2222222222222222,
             "#7201a8"
            ],
            [
             0.3333333333333333,
             "#9c179e"
            ],
            [
             0.4444444444444444,
             "#bd3786"
            ],
            [
             0.5555555555555556,
             "#d8576b"
            ],
            [
             0.6666666666666666,
             "#ed7953"
            ],
            [
             0.7777777777777778,
             "#fb9f3a"
            ],
            [
             0.8888888888888888,
             "#fdca26"
            ],
            [
             1,
             "#f0f921"
            ]
           ]
          },
          "colorway": [
           "#636efa",
           "#EF553B",
           "#00cc96",
           "#ab63fa",
           "#FFA15A",
           "#19d3f3",
           "#FF6692",
           "#B6E880",
           "#FF97FF",
           "#FECB52"
          ],
          "font": {
           "color": "#2a3f5f"
          },
          "geo": {
           "bgcolor": "white",
           "lakecolor": "white",
           "landcolor": "#E5ECF6",
           "showlakes": true,
           "showland": true,
           "subunitcolor": "white"
          },
          "hoverlabel": {
           "align": "left"
          },
          "hovermode": "closest",
          "mapbox": {
           "style": "light"
          },
          "paper_bgcolor": "white",
          "plot_bgcolor": "#E5ECF6",
          "polar": {
           "angularaxis": {
            "gridcolor": "white",
            "linecolor": "white",
            "ticks": ""
           },
           "bgcolor": "#E5ECF6",
           "radialaxis": {
            "gridcolor": "white",
            "linecolor": "white",
            "ticks": ""
           }
          },
          "scene": {
           "xaxis": {
            "backgroundcolor": "#E5ECF6",
            "gridcolor": "white",
            "gridwidth": 2,
            "linecolor": "white",
            "showbackground": true,
            "ticks": "",
            "zerolinecolor": "white"
           },
           "yaxis": {
            "backgroundcolor": "#E5ECF6",
            "gridcolor": "white",
            "gridwidth": 2,
            "linecolor": "white",
            "showbackground": true,
            "ticks": "",
            "zerolinecolor": "white"
           },
           "zaxis": {
            "backgroundcolor": "#E5ECF6",
            "gridcolor": "white",
            "gridwidth": 2,
            "linecolor": "white",
            "showbackground": true,
            "ticks": "",
            "zerolinecolor": "white"
           }
          },
          "shapedefaults": {
           "line": {
            "color": "#2a3f5f"
           }
          },
          "ternary": {
           "aaxis": {
            "gridcolor": "white",
            "linecolor": "white",
            "ticks": ""
           },
           "baxis": {
            "gridcolor": "white",
            "linecolor": "white",
            "ticks": ""
           },
           "bgcolor": "#E5ECF6",
           "caxis": {
            "gridcolor": "white",
            "linecolor": "white",
            "ticks": ""
           }
          },
          "title": {
           "x": 0.05
          },
          "xaxis": {
           "automargin": true,
           "gridcolor": "white",
           "linecolor": "white",
           "ticks": "",
           "title": {
            "standoff": 15
           },
           "zerolinecolor": "white",
           "zerolinewidth": 2
          },
          "yaxis": {
           "automargin": true,
           "gridcolor": "white",
           "linecolor": "white",
           "ticks": "",
           "title": {
            "standoff": 15
           },
           "zerolinecolor": "white",
           "zerolinewidth": 2
          }
         }
        },
        "title": {
         "font": {
          "color": "black",
          "family": "Cambria",
          "size": 18
         },
         "text": "Constituencies Won by Major Parties over the years",
         "x": 0.5,
         "xanchor": "center"
        },
        "xaxis": {
         "anchor": "y",
         "domain": [
          0,
          1
         ],
         "showgrid": false,
         "tickfont": {
          "color": "black",
          "family": "Cambria",
          "size": 14
         },
         "tickmode": "linear",
         "title": {
          "font": {
           "color": "black",
           "family": "Cambria",
           "size": 16
          },
          "text": "Year"
         }
        },
        "yaxis": {
         "anchor": "x",
         "domain": [
          0,
          1
         ],
         "gridcolor": "lightgrey",
         "showgrid": true,
         "tickfont": {
          "color": "black",
          "family": "Cambria",
          "size": 14
         },
         "tickvals": [
          0,
          20,
          40,
          60,
          80,
          100,
          120,
          140
         ],
         "title": {
          "font": {
           "color": "black",
           "family": "Cambria",
           "size": 16
          },
          "text": "Constituencies Won"
         },
         "zeroline": true
        }
       }
      }
     },
     "metadata": {},
     "output_type": "display_data"
    }
   ],
   "source": [
    "# Prepare the data for constituencies won\n",
    "seats_won_data = []\n",
    "\n",
    "for year in years:\n",
    "    const_df = const_dfs[year]\n",
    "    \n",
    "    # Calculate the number of constituencies won by each party\n",
    "    seats_won = const_df['party'].value_counts().reset_index()\n",
    "    seats_won.columns = ['party', 'seats_won']\n",
    "    \n",
    "    # Filter for major parties\n",
    "    seats_won = seats_won[seats_won['party'].isin(major_parties)]\n",
    "    \n",
    "    # Add the year information\n",
    "    seats_won['year'] = str(year)  # Convert year to string for categorical x-axis\n",
    "    \n",
    "    # Append to the list\n",
    "    seats_won_data.append(seats_won[['year', 'party', 'seats_won']])\n",
    "\n",
    "# Combine the data for all years into a single dataframe\n",
    "seats_won_df = pd.concat(seats_won_data, ignore_index=True)\n",
    "\n",
    "# Create the plot for constituencies won\n",
    "fig_seats_won = px.bar(\n",
    "    seats_won_df,\n",
    "    x='year',\n",
    "    y='seats_won',\n",
    "    color='party',\n",
    "    barmode='group',\n",
    "    labels={'seats_won': 'Constituencies Won', 'year': 'Year', 'party': 'Party'},\n",
    "    color_discrete_map=party_colors,\n",
    "    custom_data=['party'],\n",
    ")\n",
    "\n",
    "fig_vote_share.update_traces(\n",
    "    hovertemplate=\"Year: %{x}<br>Constituencies Won: %{y}%<br>Party: %{customdata[0]}<extra></extra>\"\n",
    ")\n",
    "\n",
    "# Update layout as per your specifications\n",
    "fig_seats_won.update_layout(\n",
    "    bargap=0.6,\n",
    "    bargroupgap=0.2,\n",
    "    dragmode = False,\n",
    "    xaxis=dict(\n",
    "        title='Year',\n",
    "        tickmode='linear',\n",
    "        showgrid=False,\n",
    "        tickfont=dict(family=\"Cambria\", size=14, color=\"black\"),\n",
    "        titlefont=dict(family=\"Cambria\", size=16, color=\"black\")\n",
    "    ),\n",
    "    yaxis=dict(\n",
    "        title='Constituencies Won',\n",
    "        gridcolor='lightgrey',\n",
    "        showgrid=True,\n",
    "        zeroline=True,\n",
    "        tickvals = [0,20,40,60,80,100,120,140],\n",
    "        tickfont=dict(family=\"Cambria\", size=14, color=\"black\"),\n",
    "        titlefont=dict(family=\"Cambria\", size=16, color=\"black\")\n",
    "    ),\n",
    "    title = dict(\n",
    "        font=dict(family=\"Cambria\", size=18, color=\"black\"),\n",
    "        text = \"Constituencies Won by Major Parties over the years\",\n",
    "        xanchor = 'center',\n",
    "        x = 0.5\n",
    "    ),\n",
    "    margin = dict(pad=10,t=70,b=70,l=70,r=70), \n",
    "    legend_title_font=dict(family=\"Cambria\", size=14, color=\"black\"),\n",
    "    legend_font=dict(family=\"Cambria\", size=13, color=\"black\"),\n",
    "    legend_title_text='Party',\n",
    "    plot_bgcolor='#f8f8f8',\n",
    "    paper_bgcolor='#f8f8f8',\n",
    "    autosize=True,\n",
    ")\n",
    "\n",
    "# Only show horizontal gridlines\n",
    "fig_seats_won.update_xaxes(showgrid=False)\n",
    "fig_seats_won.update_yaxes(showgrid=True)\n",
    "\n",
    "# Save the figure as JSON\n",
    "pio.write_json(fig_seats_won, 'plots/keh_constwon.json')\n",
    "fig_seats_won"
   ]
  },
  {
   "cell_type": "code",
   "execution_count": null,
   "metadata": {},
   "outputs": [],
   "source": []
  },
  {
   "cell_type": "markdown",
   "metadata": {},
   "source": [
    "### Seats won vs Popular Vote analysis for 2018 election"
   ]
  },
  {
   "cell_type": "code",
   "execution_count": null,
   "metadata": {},
   "outputs": [
    {
     "name": "stdout",
     "output_type": "stream",
     "text": [
      "Year\n",
      "const_num\n",
      "constituency\n",
      "total_const_votes\n",
      "winner_name\n",
      "winner_party\n",
      "winner_votes\n",
      "runner_name\n",
      "runner_party\n",
      "runner_votes\n",
      "vote_difference\n",
      "margin_percent\n"
     ]
    }
   ],
   "source": [
    "for col in votemargins.columns:\n",
    "    print(col)"
   ]
  },
  {
   "cell_type": "code",
   "execution_count": null,
   "metadata": {},
   "outputs": [],
   "source": [
    "import pandas as pd\n",
    "import matplotlib.pyplot as plt\n",
    "import seaborn as sns\n",
    "votemargins = pd.read_csv(\"votemargins.csv\", index_col=0) # data of vote margins\n",
    "votemargins = votemargins.loc[votemargins['Year']==2018, ['const_num', 'constituency', 'total_const_votes', 'winner_party', 'winner_votes', 'runner_party', 'runner_votes', 'vote_difference', 'margin_percent']].copy()"
   ]
  },
  {
   "cell_type": "code",
   "execution_count": null,
   "metadata": {},
   "outputs": [
    {
     "data": {
      "text/html": [
       "<div>\n",
       "<style scoped>\n",
       "    .dataframe tbody tr th:only-of-type {\n",
       "        vertical-align: middle;\n",
       "    }\n",
       "\n",
       "    .dataframe tbody tr th {\n",
       "        vertical-align: top;\n",
       "    }\n",
       "\n",
       "    .dataframe thead th {\n",
       "        text-align: right;\n",
       "    }\n",
       "</style>\n",
       "<table border=\"1\" class=\"dataframe\">\n",
       "  <thead>\n",
       "    <tr style=\"text-align: right;\">\n",
       "      <th></th>\n",
       "      <th>const_num</th>\n",
       "      <th>constituency</th>\n",
       "      <th>total_const_votes</th>\n",
       "      <th>winner_party</th>\n",
       "      <th>winner_votes</th>\n",
       "      <th>runner_party</th>\n",
       "      <th>runner_votes</th>\n",
       "      <th>vote_difference</th>\n",
       "      <th>margin_percent</th>\n",
       "    </tr>\n",
       "  </thead>\n",
       "  <tbody>\n",
       "    <tr>\n",
       "      <th>224</th>\n",
       "      <td>1</td>\n",
       "      <td>Nippani</td>\n",
       "      <td>172251</td>\n",
       "      <td>BJP</td>\n",
       "      <td>87006</td>\n",
       "      <td>INC</td>\n",
       "      <td>78500</td>\n",
       "      <td>8506</td>\n",
       "      <td>4.938143</td>\n",
       "    </tr>\n",
       "    <tr>\n",
       "      <th>225</th>\n",
       "      <td>2</td>\n",
       "      <td>Chikkodi-Sadalga</td>\n",
       "      <td>179202</td>\n",
       "      <td>INC</td>\n",
       "      <td>91467</td>\n",
       "      <td>BJP</td>\n",
       "      <td>80898</td>\n",
       "      <td>10569</td>\n",
       "      <td>5.897814</td>\n",
       "    </tr>\n",
       "    <tr>\n",
       "      <th>226</th>\n",
       "      <td>3</td>\n",
       "      <td>Athani</td>\n",
       "      <td>170565</td>\n",
       "      <td>INC</td>\n",
       "      <td>82094</td>\n",
       "      <td>BJP</td>\n",
       "      <td>79763</td>\n",
       "      <td>2331</td>\n",
       "      <td>1.366634</td>\n",
       "    </tr>\n",
       "    <tr>\n",
       "      <th>227</th>\n",
       "      <td>4</td>\n",
       "      <td>Kagwad</td>\n",
       "      <td>145735</td>\n",
       "      <td>INC</td>\n",
       "      <td>83060</td>\n",
       "      <td>BJP</td>\n",
       "      <td>50118</td>\n",
       "      <td>32942</td>\n",
       "      <td>22.604042</td>\n",
       "    </tr>\n",
       "    <tr>\n",
       "      <th>228</th>\n",
       "      <td>5</td>\n",
       "      <td>Kudachi</td>\n",
       "      <td>136654</td>\n",
       "      <td>BJP</td>\n",
       "      <td>67781</td>\n",
       "      <td>INC</td>\n",
       "      <td>52773</td>\n",
       "      <td>15008</td>\n",
       "      <td>10.982481</td>\n",
       "    </tr>\n",
       "    <tr>\n",
       "      <th>...</th>\n",
       "      <td>...</td>\n",
       "      <td>...</td>\n",
       "      <td>...</td>\n",
       "      <td>...</td>\n",
       "      <td>...</td>\n",
       "      <td>...</td>\n",
       "      <td>...</td>\n",
       "      <td>...</td>\n",
       "      <td>...</td>\n",
       "    </tr>\n",
       "    <tr>\n",
       "      <th>442</th>\n",
       "      <td>220</td>\n",
       "      <td>T.Narasipur</td>\n",
       "      <td>155286</td>\n",
       "      <td>JD(S)</td>\n",
       "      <td>83929</td>\n",
       "      <td>INC</td>\n",
       "      <td>55451</td>\n",
       "      <td>28478</td>\n",
       "      <td>18.339065</td>\n",
       "    </tr>\n",
       "    <tr>\n",
       "      <th>443</th>\n",
       "      <td>221</td>\n",
       "      <td>Hanur</td>\n",
       "      <td>170333</td>\n",
       "      <td>INC</td>\n",
       "      <td>60444</td>\n",
       "      <td>BJP</td>\n",
       "      <td>56931</td>\n",
       "      <td>3513</td>\n",
       "      <td>2.062431</td>\n",
       "    </tr>\n",
       "    <tr>\n",
       "      <th>444</th>\n",
       "      <td>222</td>\n",
       "      <td>Kollegal</td>\n",
       "      <td>168871</td>\n",
       "      <td>BSP</td>\n",
       "      <td>71792</td>\n",
       "      <td>INC</td>\n",
       "      <td>52338</td>\n",
       "      <td>19454</td>\n",
       "      <td>11.520036</td>\n",
       "    </tr>\n",
       "    <tr>\n",
       "      <th>445</th>\n",
       "      <td>223</td>\n",
       "      <td>Chamarajanagar</td>\n",
       "      <td>167111</td>\n",
       "      <td>INC</td>\n",
       "      <td>75963</td>\n",
       "      <td>BJP</td>\n",
       "      <td>71050</td>\n",
       "      <td>4913</td>\n",
       "      <td>2.939962</td>\n",
       "    </tr>\n",
       "    <tr>\n",
       "      <th>446</th>\n",
       "      <td>224</td>\n",
       "      <td>Gundlupet</td>\n",
       "      <td>182903</td>\n",
       "      <td>BJP</td>\n",
       "      <td>94151</td>\n",
       "      <td>INC</td>\n",
       "      <td>77467</td>\n",
       "      <td>16684</td>\n",
       "      <td>9.121775</td>\n",
       "    </tr>\n",
       "  </tbody>\n",
       "</table>\n",
       "<p>223 rows × 9 columns</p>\n",
       "</div>"
      ],
      "text/plain": [
       "     const_num      constituency  total_const_votes winner_party  \\\n",
       "224          1           Nippani             172251          BJP   \n",
       "225          2  Chikkodi-Sadalga             179202          INC   \n",
       "226          3            Athani             170565          INC   \n",
       "227          4            Kagwad             145735          INC   \n",
       "228          5           Kudachi             136654          BJP   \n",
       "..         ...               ...                ...          ...   \n",
       "442        220       T.Narasipur             155286        JD(S)   \n",
       "443        221             Hanur             170333          INC   \n",
       "444        222          Kollegal             168871          BSP   \n",
       "445        223    Chamarajanagar             167111          INC   \n",
       "446        224         Gundlupet             182903          BJP   \n",
       "\n",
       "     winner_votes runner_party  runner_votes  vote_difference  margin_percent  \n",
       "224         87006          INC         78500             8506        4.938143  \n",
       "225         91467          BJP         80898            10569        5.897814  \n",
       "226         82094          BJP         79763             2331        1.366634  \n",
       "227         83060          BJP         50118            32942       22.604042  \n",
       "228         67781          INC         52773            15008       10.982481  \n",
       "..            ...          ...           ...              ...             ...  \n",
       "442         83929          INC         55451            28478       18.339065  \n",
       "443         60444          BJP         56931             3513        2.062431  \n",
       "444         71792          INC         52338            19454       11.520036  \n",
       "445         75963          BJP         71050             4913        2.939962  \n",
       "446         94151          INC         77467            16684        9.121775  \n",
       "\n",
       "[223 rows x 9 columns]"
      ]
     },
     "metadata": {},
     "output_type": "display_data"
    }
   ],
   "source": [
    "# votemargins = votemargins.loc[votemargins['winner_party'].isin(['BJP']) & votemargins['runner_party'].isin(['INC'])].copy()\n",
    "votemargins"
   ]
  },
  {
   "cell_type": "code",
   "execution_count": null,
   "metadata": {},
   "outputs": [
    {
     "name": "stdout",
     "output_type": "stream",
     "text": [
      "INC Average Vote Margin: 15943.84\n",
      "INC Average Margin Percent: 10.00%\n"
     ]
    }
   ],
   "source": [
    "# Filter constituencies won by INC\n",
    "inc_wins = votemargins[votemargins['winner_party'] == 'INC']\n",
    "\n",
    "# Calculate average vote difference and margin percent\n",
    "inc_avg_vote_diff = inc_wins['vote_difference'].mean()\n",
    "inc_avg_margin_percent = inc_wins['margin_percent'].mean()\n",
    "\n",
    "print(f\"INC Average Vote Margin: {inc_avg_vote_diff:.2f}\")\n",
    "print(f\"INC Average Margin Percent: {inc_avg_margin_percent:.2f}%\")\n"
   ]
  },
  {
   "cell_type": "code",
   "execution_count": null,
   "metadata": {},
   "outputs": [
    {
     "name": "stdout",
     "output_type": "stream",
     "text": [
      "BJP Average Vote Margin: 18959.56\n",
      "BJP Average Margin Percent: 11.78%\n"
     ]
    }
   ],
   "source": [
    "# Filter constituencies won by BJP\n",
    "bjp_wins = votemargins[votemargins['winner_party'] == 'BJP']\n",
    "\n",
    "# Calculate average vote difference and margin percent\n",
    "bjp_avg_vote_diff = bjp_wins['vote_difference'].mean()\n",
    "bjp_avg_margin_percent = bjp_wins['margin_percent'].mean()\n",
    "\n",
    "print(f\"BJP Average Vote Margin: {bjp_avg_vote_diff:.2f}\")\n",
    "print(f\"BJP Average Margin Percent: {bjp_avg_margin_percent:.2f}%\")\n"
   ]
  },
  {
   "cell_type": "code",
   "execution_count": null,
   "metadata": {},
   "outputs": [
    {
     "name": "stdout",
     "output_type": "stream",
     "text": [
      "Difference in Average Vote Margin (INC - BJP): -3015.72\n",
      "Difference in Average Margin Percent (INC - BJP): -1.78%\n"
     ]
    }
   ],
   "source": [
    "margin_diff = inc_avg_vote_diff - bjp_avg_vote_diff\n",
    "margin_percent_diff = inc_avg_margin_percent - bjp_avg_margin_percent\n",
    "\n",
    "print(f\"Difference in Average Vote Margin (INC - BJP): {margin_diff:.2f}\")\n",
    "print(f\"Difference in Average Margin Percent (INC - BJP): {margin_percent_diff:.2f}%\")\n"
   ]
  },
  {
   "cell_type": "code",
   "execution_count": null,
   "metadata": {},
   "outputs": [
    {
     "data": {
      "image/png": "[encoded data removed]",
      "text/plain": [
       "<Figure size 1200x600 with 1 Axes>"
      ]
     },
     "metadata": {},
     "output_type": "display_data"
    }
   ],
   "source": [
    "plt.figure(figsize=(12, 6))\n",
    "sns.histplot(inc_wins['vote_difference'], color='blue', label='INC', kde=True, bins=20)\n",
    "sns.histplot(bjp_wins['vote_difference'], color='orange', label='BJP', kde=True, bins=20)\n",
    "plt.title('Distribution of Vote Margins')\n",
    "plt.xlabel('Vote Margin')\n",
    "plt.ylabel('Frequency')\n",
    "plt.legend()\n",
    "plt.show()\n"
   ]
  },
  {
   "cell_type": "code",
   "execution_count": null,
   "metadata": {},
   "outputs": [
    {
     "data": {
      "image/png": "[encoded data removed]",
      "text/plain": [
       "<Figure size 800x600 with 1 Axes>"
      ]
     },
     "metadata": {},
     "output_type": "display_data"
    }
   ],
   "source": [
    "plt.figure(figsize=(8, 6))\n",
    "sns.boxplot(x='winner_party', y='margin_percent', data=votemargins[votemargins['winner_party'].isin(['INC', 'BJP'])])\n",
    "plt.title('Margin Percentages by Party')\n",
    "plt.xlabel('Party')\n",
    "plt.ylabel('Margin Percent')\n",
    "plt.show()"
   ]
  },
  {
   "cell_type": "code",
   "execution_count": null,
   "metadata": {},
   "outputs": [],
   "source": []
  },
  {
   "cell_type": "code",
   "execution_count": null,
   "metadata": {},
   "outputs": [],
   "source": []
  },
  {
   "cell_type": "code",
   "execution_count": null,
   "metadata": {},
   "outputs": [],
   "source": []
  },
  {
   "cell_type": "code",
   "execution_count": null,
   "metadata": {},
   "outputs": [
    {
     "name": "stdout",
     "output_type": "stream",
     "text": [
      "INC Average Votes in Lost Constituencies: 62116.88\n"
     ]
    }
   ],
   "source": [
    "# Constituencies where INC lost\n",
    "inc_losses = votemargins[(votemargins['winner_party'] != 'INC') & (votemargins['runner_party'] == 'INC')]\n",
    "\n",
    "# Average votes secured by INC in losses\n",
    "inc_avg_votes_in_losses = inc_losses['runner_votes'].mean()\n",
    "\n",
    "print(f\"INC Average Votes in Lost Constituencies: {inc_avg_votes_in_losses:.2f}\")\n"
   ]
  },
  {
   "cell_type": "code",
   "execution_count": null,
   "metadata": {},
   "outputs": [
    {
     "name": "stdout",
     "output_type": "stream",
     "text": [
      "BJP Average Votes in Lost Constituencies: 61366.94\n"
     ]
    }
   ],
   "source": [
    "# Constituencies where BJP lost\n",
    "bjp_losses = votemargins[(votemargins['winner_party'] != 'BJP') & (votemargins['runner_party'] == 'BJP')]\n",
    "\n",
    "# Average votes secured by BJP in losses\n",
    "bjp_avg_votes_in_losses = bjp_losses['runner_votes'].mean()\n",
    "\n",
    "print(f\"BJP Average Votes in Lost Constituencies: {bjp_avg_votes_in_losses:.2f}\")\n"
   ]
  },
  {
   "cell_type": "code",
   "execution_count": null,
   "metadata": {},
   "outputs": [
    {
     "name": "stdout",
     "output_type": "stream",
     "text": [
      "Difference in Average Votes in Losses (INC - BJP): 749.93\n"
     ]
    }
   ],
   "source": [
    "votes_in_losses_diff = inc_avg_votes_in_losses - bjp_avg_votes_in_losses\n",
    "\n",
    "print(f\"Difference in Average Votes in Losses (INC - BJP): {votes_in_losses_diff:.2f}\")\n"
   ]
  },
  {
   "cell_type": "code",
   "execution_count": null,
   "metadata": {},
   "outputs": [],
   "source": []
  },
  {
   "cell_type": "code",
   "execution_count": null,
   "metadata": {},
   "outputs": [],
   "source": []
  },
  {
   "cell_type": "code",
   "execution_count": null,
   "metadata": {},
   "outputs": [
    {
     "name": "stdout",
     "output_type": "stream",
     "text": [
      "Total Votes Secured by INC: 13009659\n",
      "Total Votes Secured by BJP: 12306579\n"
     ]
    }
   ],
   "source": [
    "# Total votes secured by INC\n",
    "inc_total_votes = inc_wins['winner_votes'].sum() + inc_losses['runner_votes'].sum()\n",
    "\n",
    "# Total votes secured by BJP\n",
    "bjp_total_votes = bjp_wins['winner_votes'].sum() + bjp_losses['runner_votes'].sum()\n",
    "\n",
    "print(f\"Total Votes Secured by INC: {inc_total_votes}\")\n",
    "print(f\"Total Votes Secured by BJP: {bjp_total_votes}\")\n"
   ]
  },
  {
   "cell_type": "code",
   "execution_count": null,
   "metadata": {},
   "outputs": [],
   "source": [
    "total_votes_polled = votemargins['total_const_votes'].sum()\n"
   ]
  },
  {
   "cell_type": "code",
   "execution_count": null,
   "metadata": {},
   "outputs": [
    {
     "name": "stdout",
     "output_type": "stream",
     "text": [
      "INC Vote Share: 35.52%\n",
      "BJP Vote Share: 33.60%\n"
     ]
    }
   ],
   "source": [
    "inc_vote_share_calculated = (inc_total_votes / total_votes_polled) * 100\n",
    "bjp_vote_share_calculated = (bjp_total_votes / total_votes_polled) * 100\n",
    "\n",
    "print(f\"INC Vote Share: {inc_vote_share_calculated:.2f}%\")\n",
    "print(f\"BJP Vote Share: {bjp_vote_share_calculated:.2f}%\")\n"
   ]
  },
  {
   "cell_type": "markdown",
   "metadata": {},
   "source": [
    "## Bharat Jodo Yatra"
   ]
  },
  {
   "cell_type": "markdown",
   "metadata": {},
   "source": [
    "### Maps plots"
   ]
  },
  {
   "cell_type": "code",
   "execution_count": null,
   "metadata": {},
   "outputs": [],
   "source": [
    "# Color mapping for parties\n",
    "party_colors = {\n",
    "    'INC': '#0D5BE1',\n",
    "    'BJP': '#FF7500',\n",
    "    'IND': 'grey',\n",
    "    'JD(S)': 'green',\n",
    "    'KRPP': 'brown',\n",
    "    'SKP': 'yellow'\n",
    "}\n",
    "\n",
    "# List of constituencies the Bharat Jodo Yatra passed through\n",
    "BJY_const_list = [\n",
    "    'Raichur', 'Raichur Rural', 'Bellary', 'Bellary City', 'Molakalmuru', 'Challakere', 'Hiriyur', 'Chiknayakanhalli',\n",
    "    'Tiptur', 'Turuvekere', 'Nagamangala', 'Melukote', 'Mandya', 'Shrirangapattana', 'Chamundeshwari', 'Krishnaraja',\n",
    "    'Chamaraja', 'Narasimharaja', 'Varuna', 'Nanjangud', 'Gundlupet'\n",
    "]\n",
    "\n",
    "# Function to create the map for a given year\n",
    "def create_election_map(df_const, year):\n",
    "    # Prepare the data\n",
    "    df = df_const[['constituency', 'const_num', 'party']].copy()\n",
    "    \n",
    "    # Replace parties not in party_colors with 'OTHERS'\n",
    "    df['party'] = df['party'].apply(lambda x: x if x in party_colors else 'OTHERS')\n",
    "    \n",
    "    # Create BJY_status column\n",
    "    df['BJY_status'] = df['constituency'].isin(BJY_const_list)\n",
    "    \n",
    "    # Split data into BJY and non-BJY constituencies\n",
    "    df_bjy = df[df['BJY_status']]\n",
    "    df_non_bjy = df[~df['BJY_status']]\n",
    "    \n",
    "    # Create the base figure with non-BJY constituencies (reduced opacity)\n",
    "    fig_non_BJY = px.choropleth_map(\n",
    "        df_non_bjy,\n",
    "        geojson=geojson,\n",
    "        featureidkey='properties.AC_CODE',\n",
    "        locations='const_num',\n",
    "        color='party',\n",
    "        color_discrete_map=party_colors,\n",
    "        hover_name='constituency',\n",
    "        category_orders={'party': list(party_colors.keys())},\n",
    "        map_style='white-bg',\n",
    "        opacity=0.1,\n",
    "        center={\"lat\": 15.3173, \"lon\": 76.7139},\n",
    "        zoom=5.6,\n",
    "        custom_data=['constituency', 'party'],\n",
    "    )\n",
    "    fig_non_BJY.update_traces(\n",
    "        patch=dict(\n",
    "            showlegend=False,\n",
    "            showscale=False,\n",
    "            hovertemplate = \"Constituency: %{customdata[0]}<br>Party: %{customdata[1]}<extra></extra>\"\n",
    "        )\n",
    "    )\n",
    "    fig_non_BJY.update_layout(\n",
    "        dict(\n",
    "            dragmode=False\n",
    "        )\n",
    "    )\n",
    "    \n",
    "    # Add BJY constituencies on top with full opacity\n",
    "    fig_bjy = px.choropleth_map(\n",
    "        df_bjy,\n",
    "        geojson=geojson,\n",
    "        featureidkey='properties.AC_CODE',\n",
    "        locations='const_num',\n",
    "        color='party',\n",
    "        color_discrete_map=party_colors,\n",
    "        hover_name='constituency',\n",
    "        category_orders={'party': list(party_colors.keys())},\n",
    "        map_style='white-bg',\n",
    "        opacity=1,\n",
    "        center={\"lat\": 15.3173, \"lon\": 76.7139},\n",
    "        zoom=5.6,\n",
    "        custom_data=['constituency', 'party'],\n",
    "    )\n",
    "    fig_bjy.update_traces(\n",
    "        patch=dict(\n",
    "            # showlegend=False,\n",
    "            showscale=False,\n",
    "            hovertemplate = \"Constituency: %{customdata[0]}<br>Party: %{customdata[1]}<extra></extra>\"\n",
    "        )\n",
    "    )\n",
    "    fig_bjy.update_layout(\n",
    "        dict(\n",
    "            dragmode=False\n",
    "        )\n",
    "    )\n",
    "    \n",
    "    # Add BJY trace to the figure\n",
    "    for trace in fig_non_BJY.data:\n",
    "        fig_bjy.add_trace(trace)\n",
    "    \n",
    "    # Update the layout\n",
    "    fig_bjy.update_layout(\n",
    "        geo=dict(\n",
    "            fitbounds=\"locations\",\n",
    "            visible=False,\n",
    "            center={\"lat\": 15.3173, \"lon\": 76.7139},  # Center coordinates for Karnataka\n",
    "            # lonaxis={\"range\": [73.9, 79.3]},\n",
    "            # lataxis={\"range\": [18.6, 11.5]},\n",
    "        ),\n",
    "        autosize=True,  # Responsive images\n",
    "        uirevision='lock',  # Disable user-driven changes in the view\n",
    "        dragmode=False,  # Disable panning and zooming\n",
    "        plot_bgcolor='white',\n",
    "        paper_bgcolor='white',\n",
    "        title = dict(\n",
    "            font=dict(family=\"Cambria\", size=18, color=\"black\"),\n",
    "            text = f'Bharat Jodo Yatra Route - {year}' if year == 2023 else f'Bharat Jodo Yatra Route - projected for {year}',\n",
    "            xanchor = 'center',\n",
    "            x = 0.5,\n",
    "            yanchor = 'top',\n",
    "            y = 0.99\n",
    "        ),\n",
    "        margin = dict(pad=10,t=10,b=10,l=10,r=40),\n",
    "        legend = dict(valign=\"middle\", yanchor = 'middle', y = 0.8), \n",
    "        legend_title_font=dict(family=\"Cambria\", size=14, color=\"black\"),\n",
    "        legend_title_text='Party',\n",
    "        legend_font=dict(family=\"Cambria\", size=14, color=\"black\"),\n",
    "        legend_itemclick=False,  # Disable legend click actions\n",
    "        legend_itemdoubleclick=False,\n",
    "    )\n",
    "    \n",
    "    # Display the figure\n",
    "    return fig_bjy\n",
    "\n",
    "# Convert the figure to a dictionary format\n",
    "fig_18 = json.loads(pio.to_json(create_election_map(const18, 2018)))\n",
    "fig_23 = json.loads(pio.to_json(create_election_map(const23, 2023)))\n",
    "\n",
    "# Recursively search for \"geojson\" and replace its value with a placeholder (null)\n",
    "def remove_geojson_data(data):\n",
    "    if isinstance(data, dict):\n",
    "        for key, value in data.items():\n",
    "            if key == \"geojson\":\n",
    "                data[key] = None  # Replace with null\n",
    "            elif isinstance(value, (dict, list)):\n",
    "                remove_geojson_data(value)  # Recurse into sub-dictionaries or lists\n",
    "    elif isinstance(data, list):\n",
    "        for item in data:\n",
    "            remove_geojson_data(item)\n",
    "\n",
    "remove_geojson_data(fig_18)\n",
    "remove_geojson_data(fig_23)\n",
    "\n",
    "# Save the modified figure JSON\n",
    "with open(\"plots/BJYmap2018.json\", \"w\") as f:\n",
    "    json.dump(fig_18, f)\n",
    "with open(\"plots/BJYmap2023.json\", \"w\") as f:\n",
    "    json.dump(fig_23, f)\n",
    "\n"
   ]
  },
  {
   "cell_type": "markdown",
   "metadata": {},
   "source": [
    "### Bar charts"
   ]
  },
  {
   "cell_type": "code",
   "execution_count": 18,
   "metadata": {},
   "outputs": [
    {
     "data": {
      "text/html": [
       "<div>\n",
       "<style scoped>\n",
       "    .dataframe tbody tr th:only-of-type {\n",
       "        vertical-align: middle;\n",
       "    }\n",
       "\n",
       "    .dataframe tbody tr th {\n",
       "        vertical-align: top;\n",
       "    }\n",
       "\n",
       "    .dataframe thead th {\n",
       "        text-align: right;\n",
       "    }\n",
       "</style>\n",
       "<table border=\"1\" class=\"dataframe\">\n",
       "  <thead>\n",
       "    <tr style=\"text-align: right;\">\n",
       "      <th></th>\n",
       "      <th>party</th>\n",
       "      <th>party_total</th>\n",
       "      <th>total votes</th>\n",
       "      <th>vote share percent</th>\n",
       "      <th>year</th>\n",
       "      <th>constituencies won</th>\n",
       "      <th>const type</th>\n",
       "    </tr>\n",
       "  </thead>\n",
       "  <tbody>\n",
       "    <tr>\n",
       "      <th>0</th>\n",
       "      <td>INC</td>\n",
       "      <td>1026181.0</td>\n",
       "      <td>2988027.0</td>\n",
       "      <td>34.34</td>\n",
       "      <td>2013</td>\n",
       "      <td>11</td>\n",
       "      <td>BJY Passed through</td>\n",
       "    </tr>\n",
       "    <tr>\n",
       "      <th>1</th>\n",
       "      <td>INC</td>\n",
       "      <td>1123502.0</td>\n",
       "      <td>3439858.0</td>\n",
       "      <td>32.66</td>\n",
       "      <td>2018</td>\n",
       "      <td>5</td>\n",
       "      <td>BJY Passed through</td>\n",
       "    </tr>\n",
       "    <tr>\n",
       "      <th>2</th>\n",
       "      <td>INC</td>\n",
       "      <td>1632169.0</td>\n",
       "      <td>3769675.0</td>\n",
       "      <td>43.30</td>\n",
       "      <td>2023</td>\n",
       "      <td>15</td>\n",
       "      <td>BJY Passed through</td>\n",
       "    </tr>\n",
       "    <tr>\n",
       "      <th>3</th>\n",
       "      <td>INC</td>\n",
       "      <td>10228306.0</td>\n",
       "      <td>27706347.0</td>\n",
       "      <td>36.92</td>\n",
       "      <td>2013</td>\n",
       "      <td>111</td>\n",
       "      <td>BJY didn't pass through</td>\n",
       "    </tr>\n",
       "    <tr>\n",
       "      <th>4</th>\n",
       "      <td>INC</td>\n",
       "      <td>12528774.0</td>\n",
       "      <td>32490291.0</td>\n",
       "      <td>38.56</td>\n",
       "      <td>2018</td>\n",
       "      <td>75</td>\n",
       "      <td>BJY didn't pass through</td>\n",
       "    </tr>\n",
       "    <tr>\n",
       "      <th>5</th>\n",
       "      <td>INC</td>\n",
       "      <td>14984131.0</td>\n",
       "      <td>35054194.0</td>\n",
       "      <td>42.75</td>\n",
       "      <td>2023</td>\n",
       "      <td>120</td>\n",
       "      <td>BJY didn't pass through</td>\n",
       "    </tr>\n",
       "    <tr>\n",
       "      <th>6</th>\n",
       "      <td>INC</td>\n",
       "      <td>11254487.0</td>\n",
       "      <td>30694374.0</td>\n",
       "      <td>36.67</td>\n",
       "      <td>2013</td>\n",
       "      <td>122</td>\n",
       "      <td>Overall</td>\n",
       "    </tr>\n",
       "    <tr>\n",
       "      <th>7</th>\n",
       "      <td>INC</td>\n",
       "      <td>13652276.0</td>\n",
       "      <td>35930149.0</td>\n",
       "      <td>38.00</td>\n",
       "      <td>2018</td>\n",
       "      <td>80</td>\n",
       "      <td>Overall</td>\n",
       "    </tr>\n",
       "    <tr>\n",
       "      <th>8</th>\n",
       "      <td>INC</td>\n",
       "      <td>16616300.0</td>\n",
       "      <td>38823869.0</td>\n",
       "      <td>42.80</td>\n",
       "      <td>2023</td>\n",
       "      <td>135</td>\n",
       "      <td>Overall</td>\n",
       "    </tr>\n",
       "  </tbody>\n",
       "</table>\n",
       "</div>"
      ],
      "text/plain": [
       "  party  party_total  total votes  vote share percent  year  \\\n",
       "0   INC    1026181.0    2988027.0               34.34  2013   \n",
       "1   INC    1123502.0    3439858.0               32.66  2018   \n",
       "2   INC    1632169.0    3769675.0               43.30  2023   \n",
       "3   INC   10228306.0   27706347.0               36.92  2013   \n",
       "4   INC   12528774.0   32490291.0               38.56  2018   \n",
       "5   INC   14984131.0   35054194.0               42.75  2023   \n",
       "6   INC   11254487.0   30694374.0               36.67  2013   \n",
       "7   INC   13652276.0   35930149.0               38.00  2018   \n",
       "8   INC   16616300.0   38823869.0               42.80  2023   \n",
       "\n",
       "   constituencies won               const type  \n",
       "0                  11       BJY Passed through  \n",
       "1                   5       BJY Passed through  \n",
       "2                  15       BJY Passed through  \n",
       "3                 111  BJY didn't pass through  \n",
       "4                  75  BJY didn't pass through  \n",
       "5                 120  BJY didn't pass through  \n",
       "6                 122                  Overall  \n",
       "7                  80                  Overall  \n",
       "8                 135                  Overall  "
      ]
     },
     "execution_count": 18,
     "metadata": {},
     "output_type": "execute_result"
    }
   ],
   "source": [
    "# List of constituencies the Bharat Jodo Yatra passed through\n",
    "BJY_const_list = [\n",
    "    'Raichur', 'Raichur Rural', 'Bellary', 'Bellary City', 'Molakalmuru', 'Challakere', 'Hiriyur', 'Chiknayakanhalli',\n",
    "    'Tiptur', 'Turuvekere', 'Nagamangala', 'Melukote', 'Mandya', 'Shrirangapattana', 'Chamundeshwari', 'Krishnaraja',\n",
    "    'Chamaraja', 'Narasimharaja', 'Varuna', 'Nanjangud', 'Gundlupet'\n",
    "]\n",
    "\n",
    "# Map years to their corresponding DataFrames\n",
    "years_data = {\n",
    "    2013: {'candid': candid13, 'const': const13},\n",
    "    2018: {'candid': candid18, 'const': const18},\n",
    "    2023: {'candid': candid23, 'const': const23}\n",
    "}\n",
    "\n",
    "# Initialize an empty list to collect results\n",
    "results = []\n",
    "\n",
    "# Define the scenarios and their parameters\n",
    "scenarios = [\n",
    "    {'const_type': 'BJY Passed through', 'include': True},\n",
    "    {'const_type': \"BJY didn't pass through\", 'include': False},\n",
    "    {'const_type': 'Overall', 'include': None}\n",
    "]\n",
    "\n",
    "# Loop over scenarios and years to compute results\n",
    "for scenario in scenarios:\n",
    "    const_type = scenario['const_type']\n",
    "    include = scenario['include']\n",
    "    \n",
    "    for year, data in years_data.items():\n",
    "        candid_df = data['candid']\n",
    "        const_df = data['const']\n",
    "        \n",
    "        # Filter constituencies based on the scenario\n",
    "        if include is True:\n",
    "            candid_filtered = candid_df[candid_df['constituency'].isin(BJY_const_list)]\n",
    "            const_filtered = const_df[const_df['constituency'].isin(BJY_const_list)]\n",
    "        elif include is False:\n",
    "            candid_filtered = candid_df[~candid_df['constituency'].isin(BJY_const_list)]\n",
    "            const_filtered = const_df[~const_df['constituency'].isin(BJY_const_list)]\n",
    "        else:\n",
    "            # Overall scenario, no filtering\n",
    "            candid_filtered = candid_df\n",
    "            const_filtered = const_df\n",
    "        \n",
    "        # Calculate total votes\n",
    "        total_votes = candid_filtered['votes'].sum()\n",
    "        \n",
    "        # Sum votes per party and calculate vote share percent\n",
    "        party_votes = candid_filtered.groupby('party')['votes'].sum().reset_index()\n",
    "        party_votes.rename(columns={'votes': 'party_total'}, inplace=True)\n",
    "        party_votes['total votes'] = total_votes\n",
    "        party_votes['vote share percent'] = (party_votes['party_total'] / total_votes * 100).round(2)\n",
    "        \n",
    "        # Count constituencies won per party\n",
    "        const_wins = const_filtered.groupby('party').size().reset_index(name='constituencies won')\n",
    "        \n",
    "        # Keep only 'INC' party\n",
    "        party_votes_inc = party_votes[party_votes['party'] == 'INC']\n",
    "        const_wins_inc = const_wins[const_wins['party'] == 'INC']\n",
    "        \n",
    "        # Merge party votes and constituencies won\n",
    "        result = pd.merge(party_votes_inc, const_wins_inc, on='party')\n",
    "        result['year'] = str(year)\n",
    "        result['const type'] = const_type\n",
    "        \n",
    "        # Rearrange columns\n",
    "        result = result[['party', 'party_total', 'total votes', 'vote share percent', 'year', 'constituencies won', 'const type']]\n",
    "        \n",
    "        # Append to results list\n",
    "        results.append(result)\n",
    "\n",
    "# Concatenate all results into a single DataFrame\n",
    "df_combined = pd.concat(results, ignore_index=True)\n",
    "\n",
    "# Convert 'year' and 'const type' to categorical data type if needed\n",
    "df_combined['year'] = df_combined['year'].astype('category')\n",
    "df_combined['const type'] = df_combined['const type'].astype('category')\n",
    "\n",
    "# Final DataFrame\n",
    "df_combined"
   ]
  },
  {
   "cell_type": "code",
   "execution_count": 19,
   "metadata": {},
   "outputs": [],
   "source": [
    "df = df_combined.copy()\n",
    "fig = px.bar(df, \n",
    "            x='year', \n",
    "            y='vote share percent', \n",
    "            color='const type', \n",
    "            labels={'vote share percent': 'Vote Share Percent','const type':'Constituency Type'},\n",
    "            # title=\"Vote Share Percent by Year for INC\",\n",
    "            color_discrete_sequence=px.colors.qualitative.Plotly,\n",
    "            barmode='group',\n",
    "            hover_data=['const type','vote share percent'],\n",
    "            custom_data=['const type','vote share percent','year']\n",
    "            ) #category_orders={\"year\": [\"2013\", \"2018\", \"2023\"]}\n",
    "\n",
    "# Adjust the layout to set tickvals for x-axis and the gap between bars\n",
    "fig.update_layout(\n",
    "    bargap=0.5,  # Adjust the gap between bars\n",
    "    bargroupgap=0.2,\n",
    "    xaxis_title=\"Year\",\n",
    "    yaxis_title=\"Total Vote Share (%)\",\n",
    "    xaxis=dict(\n",
    "        tickvals=df['year'].unique(),\n",
    "        tickfont=dict(family=\"Cambria\", size=14, color=\"black\"),\n",
    "        titlefont=dict(family=\"Cambria\", size=16, color=\"black\"),\n",
    "        fixedrange=True,\n",
    "        showgrid=False,\n",
    "    ),\n",
    "    yaxis=dict(\n",
    "        tickvals = [0,10,20,30,40,50],\n",
    "        tickfont=dict(family=\"Cambria\", size=14, color=\"black\"),\n",
    "        titlefont=dict(family=\"Cambria\", size=16, color=\"black\"),\n",
    "        fixedrange=True,\n",
    "        showgrid=True,\n",
    "        zeroline=True,\n",
    "        gridcolor='lightgrey',\n",
    "    ),\n",
    "    title = dict(\n",
    "        font = dict(family=\"Cambria\", size=16, color=\"black\"),\n",
    "        text = \"Total Vote Share (%) in constituencies for INC<br>based on whether B.J.Y. passed through\",  \n",
    "        xanchor=\"center\",\n",
    "        x = 0.5,\n",
    "        yanchor=\"top\",\n",
    "        y = 0.95\n",
    "    ),\n",
    "    legend = dict(\n",
    "        title = dict(font = dict(family=\"Cambria\", size=14, color=\"black\")),\n",
    "        font=dict(family=\"Cambria\", size=14, color=\"black\"),\n",
    "        orientation=\"h\",\n",
    "        xanchor = 'center',\n",
    "        x = 0.5,\n",
    "        yref = 'container',\n",
    "        yanchor = 'top',\n",
    "        y = 0.85\n",
    "    ),\n",
    "    title_font=dict(family=\"Cambria\", size=18, color=\"black\"),\n",
    "    autosize=True,\n",
    "    dragmode=False,\n",
    "    plot_bgcolor = \"#f8f8f8\",\n",
    "    paper_bgcolor = \"#f8f8f8\",\n",
    "    margin = dict(pad=10, t=70, b=20, l=20, r=20), \n",
    "    legend_itemclick=False,  # Disable legend click actions\n",
    "    legend_itemdoubleclick=False,\n",
    ")\n",
    "\n",
    "fig.update_traces(\n",
    "hovertemplate=\"<b>Constituency Type:</b> %{customdata[0]}<br><b>Vote Share Percent:</b> %{customdata[1]}<extra></extra>\"\n",
    ")\n",
    "\n",
    "pio.write_json(fig, \"plots/BJYvoteshare.json\") \n"
   ]
  },
  {
   "cell_type": "markdown",
   "metadata": {},
   "source": [
    "### Pie Charts"
   ]
  },
  {
   "cell_type": "code",
   "execution_count": 36,
   "metadata": {},
   "outputs": [
    {
     "data": {
      "text/html": [
       "<div>\n",
       "<style scoped>\n",
       "    .dataframe tbody tr th:only-of-type {\n",
       "        vertical-align: middle;\n",
       "    }\n",
       "\n",
       "    .dataframe tbody tr th {\n",
       "        vertical-align: top;\n",
       "    }\n",
       "\n",
       "    .dataframe thead th {\n",
       "        text-align: right;\n",
       "    }\n",
       "</style>\n",
       "<table border=\"1\" class=\"dataframe\">\n",
       "  <thead>\n",
       "    <tr style=\"text-align: right;\">\n",
       "      <th></th>\n",
       "      <th>party</th>\n",
       "      <th>count</th>\n",
       "      <th>year</th>\n",
       "      <th>color</th>\n",
       "    </tr>\n",
       "  </thead>\n",
       "  <tbody>\n",
       "    <tr>\n",
       "      <th>0</th>\n",
       "      <td>BJP</td>\n",
       "      <td>11</td>\n",
       "      <td>2018</td>\n",
       "      <td>#FF7500</td>\n",
       "    </tr>\n",
       "    <tr>\n",
       "      <th>1</th>\n",
       "      <td>JD(S)</td>\n",
       "      <td>5</td>\n",
       "      <td>2018</td>\n",
       "      <td>green</td>\n",
       "    </tr>\n",
       "    <tr>\n",
       "      <th>2</th>\n",
       "      <td>INC</td>\n",
       "      <td>5</td>\n",
       "      <td>2018</td>\n",
       "      <td>#0D5BE1</td>\n",
       "    </tr>\n",
       "    <tr>\n",
       "      <th>3</th>\n",
       "      <td>INC</td>\n",
       "      <td>15</td>\n",
       "      <td>2023</td>\n",
       "      <td>#0D5BE1</td>\n",
       "    </tr>\n",
       "    <tr>\n",
       "      <th>4</th>\n",
       "      <td>JD(S)</td>\n",
       "      <td>3</td>\n",
       "      <td>2023</td>\n",
       "      <td>green</td>\n",
       "    </tr>\n",
       "    <tr>\n",
       "      <th>5</th>\n",
       "      <td>BJP</td>\n",
       "      <td>2</td>\n",
       "      <td>2023</td>\n",
       "      <td>#FF7500</td>\n",
       "    </tr>\n",
       "    <tr>\n",
       "      <th>6</th>\n",
       "      <td>SKP</td>\n",
       "      <td>1</td>\n",
       "      <td>2023</td>\n",
       "      <td>yellow</td>\n",
       "    </tr>\n",
       "  </tbody>\n",
       "</table>\n",
       "</div>"
      ],
      "text/plain": [
       "   party  count  year    color\n",
       "0    BJP     11  2018  #FF7500\n",
       "1  JD(S)      5  2018    green\n",
       "2    INC      5  2018  #0D5BE1\n",
       "3    INC     15  2023  #0D5BE1\n",
       "4  JD(S)      3  2023    green\n",
       "5    BJP      2  2023  #FF7500\n",
       "6    SKP      1  2023   yellow"
      ]
     },
     "execution_count": 36,
     "metadata": {},
     "output_type": "execute_result"
    }
   ],
   "source": [
    "df18 = const18.loc[const18.constituency.isin(BJY_const_list)]['party'].value_counts().to_frame().copy()\n",
    "df18.reset_index(inplace=True)\n",
    "df18['year'] = 2018\n",
    "\n",
    "df23 = const23.loc[const23.constituency.isin(BJY_const_list)]['party'].value_counts().to_frame().copy()\n",
    "df23.reset_index(inplace=True)\n",
    "df23['year'] = 2023\n",
    "\n",
    "df_combined = pd.concat([df18, df23], ignore_index=True)\n",
    "df_combined['color'] = df_combined.party.map({'INC': '#0D5BE1', 'BJP': '#FF7500', 'JD(S)': 'green', 'SKP' : 'yellow'})\n",
    "df_combined"
   ]
  },
  {
   "cell_type": "code",
   "execution_count": 41,
   "metadata": {},
   "outputs": [],
   "source": [
    "from plotly.subplots import make_subplots\n",
    "\n",
    "fig = make_subplots(rows=1, cols=2, specs=[[{\"type\": \"domain\"}, {\"type\": \"domain\"}]])\n",
    "\n",
    "# 2018 Pie Chart\n",
    "fig.add_trace(\n",
    "    go.Pie(\n",
    "        values=df_combined.loc[df_combined['year'] == 2018, 'count'],\n",
    "        labels=df_combined.loc[df_combined['year'] == 2018, 'party'],\n",
    "        marker=dict(colors=df_combined.loc[df_combined['year'] == 2018, 'color']),\n",
    "        hole=0.6,\n",
    "        texttemplate=\"%{label}\\n%{value}/21\",\n",
    "        textposition=\"inside\",\n",
    "        textinfo=\"label+text\",  # Only show label and text on pie sectors\n",
    "        hoverinfo=\"label+text\",  # Remove trace name from hover\n",
    "    ),\n",
    "    row=1, col=1\n",
    ")\n",
    "\n",
    "# 2023 Pie Chart\n",
    "fig.add_trace(\n",
    "    go.Pie(\n",
    "        values=df_combined.loc[df_combined['year'] == 2023, 'count'],\n",
    "        labels=df_combined.loc[df_combined['year'] == 2023, 'party'],\n",
    "        marker=dict(colors=df_combined.loc[df_combined['year'] == 2023, 'color']),\n",
    "        hole=0.6,\n",
    "        texttemplate=\"%{label}\\n%{value}/21\",\n",
    "        textposition=\"inside\",\n",
    "        textinfo=\"label+text\",  # Only show label and text on pie sectors\n",
    "        hoverinfo=\"label+text\"  # Remove trace name from hover\n",
    "    ),\n",
    "    row=1, col=2\n",
    ")\n",
    "\n",
    "# Custom hover templates\n",
    "fig.data[0].hovertemplate = \"<b>%{label}<br>Won %{value} of 21</b><extra></extra>\"\n",
    "fig.data[1].hovertemplate = \"<b>%{label}<br>Won %{value} of 21</b><extra></extra>\"\n",
    "\n",
    "# Annotations for year labels\n",
    "fig.add_annotation(\n",
    "    text=\"2018\",\n",
    "    x=0.225, y=0.5,\n",
    "    xref=\"paper\",\n",
    "    xanchor=\"center\",\n",
    "    showarrow=False,\n",
    "    font=dict(size=18, family=\"Cambria\", color=\"black\")\n",
    ")\n",
    "\n",
    "fig.add_annotation(\n",
    "    text=\"2023\",\n",
    "    x=0.775, y=0.5,\n",
    "    xref=\"paper\",\n",
    "    xanchor=\"center\",\n",
    "    showarrow=False,\n",
    "    font=dict(size=18, family=\"Cambria\", color=\"black\")\n",
    ")\n",
    "\n",
    "# Layout and Title Update\n",
    "fig.update_layout(\n",
    "    legend=dict(\n",
    "        orientation=\"h\",\n",
    "        yanchor=\"top\",\n",
    "        y=0.85,\n",
    "        yref=\"container\",\n",
    "        xanchor=\"center\",\n",
    "        x=0.5,\n",
    "        font=dict(family=\"Cambria\", size=14, color=\"black\"),\n",
    "        itemclick=False,\n",
    "        itemdoubleclick=False,\n",
    "        title=dict(\n",
    "            text=\"Party\",\n",
    "            font=dict(family=\"Cambria\", size=15, color=\"black\")\n",
    "        )\n",
    "    ),\n",
    "    title=dict(\n",
    "        text=\"Constituency Wins in Bharat Jodo Yatra Path (2018 vs 2023)\",\n",
    "        font=dict(family=\"Cambria\", size=18, color=\"black\"),\n",
    "        xanchor=\"center\",\n",
    "        x=0.5,\n",
    "        yanchor=\"top\",\n",
    "        y=0.95,\n",
    "        yref=\"container\"\n",
    "    ),\n",
    "    plot_bgcolor='#f8f8f8',\n",
    "    paper_bgcolor='#f8f8f8',\n",
    "    margin=dict(t=70, pad=10, b=20, l=20, r=20),\n",
    "    autosize=True,\n",
    "    dragmode=False,\n",
    ")\n",
    "\n",
    "pio.write_json(fig, \"plots/BJYconstshare.json\")\n"
   ]
  },
  {
   "cell_type": "markdown",
   "metadata": {},
   "source": [
    "### Hypothesis Testing for significant differences in vote share percentages"
   ]
  },
  {
   "cell_type": "code",
   "execution_count": null,
   "metadata": {},
   "outputs": [],
   "source": [
    "import pandas as pd\n",
    "\n",
    "# List of constituencies the Bharat Jodo Yatra passed through\n",
    "BJY_const_list = [\n",
    "    'Raichur', 'Raichur Rural', 'Bellary', 'Bellary City', 'Molakalmuru', 'Challakere', 'Hiriyur', 'Chiknayakanhalli',\n",
    "    'Tiptur', 'Turuvekere', 'Nagamangala', 'Melukote', 'Mandya', 'Shrirangapattana', 'Chamundeshwari', 'Krishnaraja',\n",
    "    'Chamaraja', 'Narasimharaja', 'Varuna', 'Nanjangud', 'Gundlupet'\n",
    "]\n",
    "\n",
    "# Step 1: Calculate vote share for INC in each constituency for 2018 and 2023\n",
    "\n",
    "# Function to calculate vote share per constituency\n",
    "def calculate_vote_share(candid_df, year):\n",
    "    # Filter for INC candidates\n",
    "    inc_votes = candid_df[candid_df['party'] == 'INC'][['constituency', 'votes']]\n",
    "    inc_votes.rename(columns={'votes': 'inc_votes'}, inplace=True)\n",
    "    \n",
    "    # Total votes per constituency\n",
    "    total_votes = candid_df.groupby('constituency')['votes'].sum().reset_index()\n",
    "    total_votes.rename(columns={'votes': 'total_votes'}, inplace=True)\n",
    "\n",
    "    # Merge INC votes with total votes\n",
    "    vote_share = pd.merge(inc_votes, total_votes, on='constituency', how='right')\n",
    "    vote_share['inc_votes'] = vote_share['inc_votes'].fillna(0)\n",
    "    vote_share['inc_vote_share'] = (vote_share['inc_votes'] / vote_share['total_votes']) * 100\n",
    "    vote_share['year'] = year\n",
    "\n",
    "    print(vote_share[['constituency', 'inc_vote_share', 'year']], '\\n\\n')\n",
    "    \n",
    "    return vote_share[['constituency', 'inc_vote_share', 'year']]\n",
    "\n",
    "# Calculate vote share for 2018 and 2023\n",
    "vote_share_2018 = calculate_vote_share(candid18, 2018)\n",
    "vote_share_2023 = calculate_vote_share(candid23, 2023)\n",
    "\n",
    "# Step 2: Merge the vote share data for 2018 and 2023\n",
    "vote_share = pd.merge(\n",
    "    vote_share_2018, \n",
    "    vote_share_2023, \n",
    "    on='constituency', \n",
    "    suffixes=('_2018', '_2023')\n",
    ")\n",
    "\n",
    "# Step 3: Calculate the change in vote share for INC from 2018 to 2023\n",
    "vote_share['inc_vote_share_change'] = vote_share['inc_vote_share_2023'] - vote_share['inc_vote_share_2018']\n",
    "\n",
    "# Step 4: Label constituencies based on BJY passage\n",
    "vote_share['BJY_Passed_Through'] = vote_share['constituency'].apply(\n",
    "    lambda x: 'BJY Passed Through' if x in BJY_const_list else 'BJY Did Not Pass Through'\n",
    ")\n",
    "\n",
    "# Step 5: Preview the prepared data\n",
    "vote_share.drop_duplicates(subset=['constituency'], keep='first', inplace=True)\n",
    "vote_share\n"
   ]
  },
  {
   "cell_type": "markdown",
   "metadata": {},
   "source": [
    "## Emerging Bi-Polarity in Karnataka"
   ]
  },
  {
   "cell_type": "markdown",
   "metadata": {},
   "source": [
    "### Power Shift: National vs. Regional Parties (Vote Share of Top two Parties)"
   ]
  },
  {
   "cell_type": "code",
   "execution_count": 20,
   "metadata": {},
   "outputs": [
    {
     "data": {
      "text/html": [
       "<div>\n",
       "<style scoped>\n",
       "    .dataframe tbody tr th:only-of-type {\n",
       "        vertical-align: middle;\n",
       "    }\n",
       "\n",
       "    .dataframe tbody tr th {\n",
       "        vertical-align: top;\n",
       "    }\n",
       "\n",
       "    .dataframe thead th {\n",
       "        text-align: right;\n",
       "    }\n",
       "</style>\n",
       "<table border=\"1\" class=\"dataframe\">\n",
       "  <thead>\n",
       "    <tr style=\"text-align: right;\">\n",
       "      <th></th>\n",
       "      <th>party</th>\n",
       "      <th>party_total</th>\n",
       "      <th>total_votes</th>\n",
       "      <th>vote_share_percent</th>\n",
       "      <th>year</th>\n",
       "      <th>constituencies_won</th>\n",
       "      <th>combined_vote_share_percent</th>\n",
       "      <th>combined_constituencies_won</th>\n",
       "    </tr>\n",
       "  </thead>\n",
       "  <tbody>\n",
       "    <tr>\n",
       "      <th>0</th>\n",
       "      <td>BJP</td>\n",
       "      <td>6231660.0</td>\n",
       "      <td>30694374.0</td>\n",
       "      <td>20.30</td>\n",
       "      <td>2013</td>\n",
       "      <td>40</td>\n",
       "      <td>56.97</td>\n",
       "      <td>162</td>\n",
       "    </tr>\n",
       "    <tr>\n",
       "      <th>1</th>\n",
       "      <td>INC</td>\n",
       "      <td>11254487.0</td>\n",
       "      <td>30694374.0</td>\n",
       "      <td>36.67</td>\n",
       "      <td>2013</td>\n",
       "      <td>122</td>\n",
       "      <td>56.97</td>\n",
       "      <td>162</td>\n",
       "    </tr>\n",
       "    <tr>\n",
       "      <th>2</th>\n",
       "      <td>BJP</td>\n",
       "      <td>13297224.0</td>\n",
       "      <td>35930149.0</td>\n",
       "      <td>37.01</td>\n",
       "      <td>2018</td>\n",
       "      <td>104</td>\n",
       "      <td>75.01</td>\n",
       "      <td>184</td>\n",
       "    </tr>\n",
       "    <tr>\n",
       "      <th>3</th>\n",
       "      <td>INC</td>\n",
       "      <td>13652276.0</td>\n",
       "      <td>35930149.0</td>\n",
       "      <td>38.00</td>\n",
       "      <td>2018</td>\n",
       "      <td>80</td>\n",
       "      <td>75.01</td>\n",
       "      <td>184</td>\n",
       "    </tr>\n",
       "    <tr>\n",
       "      <th>4</th>\n",
       "      <td>BJP</td>\n",
       "      <td>14210103.0</td>\n",
       "      <td>38823869.0</td>\n",
       "      <td>36.60</td>\n",
       "      <td>2023</td>\n",
       "      <td>66</td>\n",
       "      <td>79.40</td>\n",
       "      <td>201</td>\n",
       "    </tr>\n",
       "    <tr>\n",
       "      <th>5</th>\n",
       "      <td>INC</td>\n",
       "      <td>16616300.0</td>\n",
       "      <td>38823869.0</td>\n",
       "      <td>42.80</td>\n",
       "      <td>2023</td>\n",
       "      <td>135</td>\n",
       "      <td>79.40</td>\n",
       "      <td>201</td>\n",
       "    </tr>\n",
       "  </tbody>\n",
       "</table>\n",
       "</div>"
      ],
      "text/plain": [
       "  party  party_total  total_votes  vote_share_percent  year  \\\n",
       "0   BJP    6231660.0   30694374.0               20.30  2013   \n",
       "1   INC   11254487.0   30694374.0               36.67  2013   \n",
       "2   BJP   13297224.0   35930149.0               37.01  2018   \n",
       "3   INC   13652276.0   35930149.0               38.00  2018   \n",
       "4   BJP   14210103.0   38823869.0               36.60  2023   \n",
       "5   INC   16616300.0   38823869.0               42.80  2023   \n",
       "\n",
       "   constituencies_won  combined_vote_share_percent  \\\n",
       "0                  40                        56.97   \n",
       "1                 122                        56.97   \n",
       "2                 104                        75.01   \n",
       "3                  80                        75.01   \n",
       "4                  66                        79.40   \n",
       "5                 135                        79.40   \n",
       "\n",
       "   combined_constituencies_won  \n",
       "0                          162  \n",
       "1                          162  \n",
       "2                          184  \n",
       "3                          184  \n",
       "4                          201  \n",
       "5                          201  "
      ]
     },
     "execution_count": 20,
     "metadata": {},
     "output_type": "execute_result"
    }
   ],
   "source": [
    "def compute_party_stats(candid_df, const_df, year, parties=['BJP', 'INC']):\n",
    "    # Calculate the total votes in the election\n",
    "    total_votes = candid_df['votes'].sum()\n",
    "\n",
    "    # Filter candidate data for the specified parties\n",
    "    candid_parties = candid_df[candid_df['party'].isin(parties)]\n",
    "\n",
    "    # Compute total votes obtained by each party\n",
    "    party_votes = candid_parties.groupby('party')['votes'].sum().reset_index(name='party_total')\n",
    "\n",
    "    # Add total votes and calculate vote share percentage\n",
    "    party_votes['total_votes'] = total_votes\n",
    "    party_votes['vote_share_percent'] = round((party_votes['party_total'] / total_votes) * 100, 2)\n",
    "    party_votes['year'] = year\n",
    "\n",
    "    # Compute the number of constituencies won by each party\n",
    "    const_parties = const_df[const_df['party'].isin(parties)]\n",
    "    const_won = const_parties.groupby('party').size().reset_index(name='constituencies_won')\n",
    "\n",
    "    # Merge party votes and constituencies won data\n",
    "    party_stats = pd.merge(party_votes, const_won, on='party')\n",
    "    return party_stats\n",
    "\n",
    "# Compute stats for each year\n",
    "party_stats_2013 = compute_party_stats(candid13, const13, 2013)\n",
    "party_stats_2018 = compute_party_stats(candid18, const18, 2018)\n",
    "party_stats_2023 = compute_party_stats(candid23, const23, 2023)\n",
    "\n",
    "# Combine the results for all years\n",
    "party_stats_all_years = pd.concat([party_stats_2013, party_stats_2018, party_stats_2023], ignore_index=True)\n",
    "\n",
    "# Reorder columns to match the SQL output\n",
    "party_stats_all_years = party_stats_all_years[['party', 'party_total', 'total_votes', 'vote_share_percent', 'year', 'constituencies_won']]\n",
    "\n",
    "# Display the final DataFrame\n",
    "party_stats_all_years\n",
    "\n",
    "# Compute combined stats per year\n",
    "combined_stats = party_stats_all_years.groupby('year').agg({\n",
    "    'vote_share_percent': 'sum',\n",
    "    'constituencies_won': 'sum'\n",
    "}).reset_index()\n",
    "\n",
    "# Rename columns for clarity\n",
    "combined_stats.rename(columns={\n",
    "    'vote_share_percent': 'combined_vote_share_percent',\n",
    "    'constituencies_won': 'combined_constituencies_won'\n",
    "}, inplace=True)\n",
    "\n",
    "combined_stats['combined_vote_share_percent'] = round(combined_stats['combined_vote_share_percent'], 2)\n",
    "\n",
    "# Merge combined stats back into the main DataFrame\n",
    "party_stats_all_years = pd.merge(party_stats_all_years, combined_stats, on='year')\n",
    "\n",
    "party_stats_all_years\n"
   ]
  },
  {
   "cell_type": "code",
   "execution_count": 21,
   "metadata": {},
   "outputs": [
    {
     "data": {
      "application/vnd.plotly.v1+json": {
       "config": {
        "plotlyServerURL": "https://plot.ly"
       },
       "data": [
        {
         "alignmentgroup": "True",
         "customdata": [
          [
           56.97,
           162
          ],
          [
           75.01,
           184
          ],
          [
           79.4,
           201
          ]
         ],
         "hovertemplate": "Year: %{x}<br>Combined Vote Share: %{customdata[0]}%<br>Combined Constituencies Won: %{customdata[1]} of 224<extra></extra>",
         "legendgroup": "BJP",
         "marker": {
          "color": "#FF7500",
          "pattern": {
           "shape": ""
          }
         },
         "name": "BJP",
         "offsetgroup": "BJP",
         "orientation": "v",
         "showlegend": true,
         "textposition": "auto",
         "type": "bar",
         "x": [
          2013,
          2018,
          2023
         ],
         "xaxis": "x",
         "y": [
          20.3,
          37.01,
          36.6
         ],
         "yaxis": "y"
        },
        {
         "alignmentgroup": "True",
         "customdata": [
          [
           56.97,
           162
          ],
          [
           75.01,
           184
          ],
          [
           79.4,
           201
          ]
         ],
         "hovertemplate": "Year: %{x}<br>Combined Vote Share: %{customdata[0]}%<br>Combined Constituencies Won: %{customdata[1]} of 224<extra></extra>",
         "legendgroup": "INC",
         "marker": {
          "color": "#0062C6",
          "pattern": {
           "shape": ""
          }
         },
         "name": "INC",
         "offsetgroup": "INC",
         "orientation": "v",
         "showlegend": true,
         "textposition": "auto",
         "type": "bar",
         "x": [
          2013,
          2018,
          2023
         ],
         "xaxis": "x",
         "y": [
          36.67,
          38,
          42.8
         ],
         "yaxis": "y"
        }
       ],
       "layout": {
        "autosize": true,
        "bargap": 0.9,
        "bargroupgap": 0.2,
        "barmode": "relative",
        "dragmode": false,
        "legend": {
         "font": {
          "color": "black",
          "family": "Cambria",
          "size": 14
         },
         "itemclick": false,
         "itemdoubleclick": false,
         "orientation": "h",
         "title": {
          "font": {
           "color": "black",
           "family": "Cambria",
           "size": 14
          },
          "text": "Party"
         },
         "tracegroupgap": 0,
         "x": 0.5,
         "xanchor": "center",
         "y": 0.85,
         "yanchor": "top",
         "yref": "container"
        },
        "margin": {
         "b": 20,
         "l": 20,
         "pad": 10,
         "r": 20,
         "t": 50
        },
        "paper_bgcolor": "#f8f8f8",
        "plot_bgcolor": "#f8f8f8",
        "template": {
         "data": {
          "bar": [
           {
            "error_x": {
             "color": "#2a3f5f"
            },
            "error_y": {
             "color": "#2a3f5f"
            },
            "marker": {
             "line": {
              "color": "#E5ECF6",
              "width": 0.5
             },
             "pattern": {
              "fillmode": "overlay",
              "size": 10,
              "solidity": 0.2
             }
            },
            "type": "bar"
           }
          ],
          "barpolar": [
           {
            "marker": {
             "line": {
              "color": "#E5ECF6",
              "width": 0.5
             },
             "pattern": {
              "fillmode": "overlay",
              "size": 10,
              "solidity": 0.2
             }
            },
            "type": "barpolar"
           }
          ],
          "carpet": [
           {
            "aaxis": {
             "endlinecolor": "#2a3f5f",
             "gridcolor": "white",
             "linecolor": "white",
             "minorgridcolor": "white",
             "startlinecolor": "#2a3f5f"
            },
            "baxis": {
             "endlinecolor": "#2a3f5f",
             "gridcolor": "white",
             "linecolor": "white",
             "minorgridcolor": "white",
             "startlinecolor": "#2a3f5f"
            },
            "type": "carpet"
           }
          ],
          "choropleth": [
           {
            "colorbar": {
             "outlinewidth": 0,
             "ticks": ""
            },
            "type": "choropleth"
           }
          ],
          "contour": [
           {
            "colorbar": {
             "outlinewidth": 0,
             "ticks": ""
            },
            "colorscale": [
             [
              0,
              "#0d0887"
             ],
             [
              0.1111111111111111,
              "#46039f"
             ],
             [
              0.2222222222222222,
              "#7201a8"
             ],
             [
              0.3333333333333333,
              "#9c179e"
             ],
             [
              0.4444444444444444,
              "#bd3786"
             ],
             [
              0.5555555555555556,
              "#d8576b"
             ],
             [
              0.6666666666666666,
              "#ed7953"
             ],
             [
              0.7777777777777778,
              "#fb9f3a"
             ],
             [
              0.8888888888888888,
              "#fdca26"
             ],
             [
              1,
              "#f0f921"
             ]
            ],
            "type": "contour"
           }
          ],
          "contourcarpet": [
           {
            "colorbar": {
             "outlinewidth": 0,
             "ticks": ""
            },
            "type": "contourcarpet"
           }
          ],
          "heatmap": [
           {
            "colorbar": {
             "outlinewidth": 0,
             "ticks": ""
            },
            "colorscale": [
             [
              0,
              "#0d0887"
             ],
             [
              0.1111111111111111,
              "#46039f"
             ],
             [
              0.2222222222222222,
              "#7201a8"
             ],
             [
              0.3333333333333333,
              "#9c179e"
             ],
             [
              0.4444444444444444,
              "#bd3786"
             ],
             [
              0.5555555555555556,
              "#d8576b"
             ],
             [
              0.6666666666666666,
              "#ed7953"
             ],
             [
              0.7777777777777778,
              "#fb9f3a"
             ],
             [
              0.8888888888888888,
              "#fdca26"
             ],
             [
              1,
              "#f0f921"
             ]
            ],
            "type": "heatmap"
           }
          ],
          "heatmapgl": [
           {
            "colorbar": {
             "outlinewidth": 0,
             "ticks": ""
            },
            "colorscale": [
             [
              0,
              "#0d0887"
             ],
             [
              0.1111111111111111,
              "#46039f"
             ],
             [
              0.2222222222222222,
              "#7201a8"
             ],
             [
              0.3333333333333333,
              "#9c179e"
             ],
             [
              0.4444444444444444,
              "#bd3786"
             ],
             [
              0.5555555555555556,
              "#d8576b"
             ],
             [
              0.6666666666666666,
              "#ed7953"
             ],
             [
              0.7777777777777778,
              "#fb9f3a"
             ],
             [
              0.8888888888888888,
              "#fdca26"
             ],
             [
              1,
              "#f0f921"
             ]
            ],
            "type": "heatmapgl"
           }
          ],
          "histogram": [
           {
            "marker": {
             "pattern": {
              "fillmode": "overlay",
              "size": 10,
              "solidity": 0.2
             }
            },
            "type": "histogram"
           }
          ],
          "histogram2d": [
           {
            "colorbar": {
             "outlinewidth": 0,
             "ticks": ""
            },
            "colorscale": [
             [
              0,
              "#0d0887"
             ],
             [
              0.1111111111111111,
              "#46039f"
             ],
             [
              0.2222222222222222,
              "#7201a8"
             ],
             [
              0.3333333333333333,
              "#9c179e"
             ],
             [
              0.4444444444444444,
              "#bd3786"
             ],
             [
              0.5555555555555556,
              "#d8576b"
             ],
             [
              0.6666666666666666,
              "#ed7953"
             ],
             [
              0.7777777777777778,
              "#fb9f3a"
             ],
             [
              0.8888888888888888,
              "#fdca26"
             ],
             [
              1,
              "#f0f921"
             ]
            ],
            "type": "histogram2d"
           }
          ],
          "histogram2dcontour": [
           {
            "colorbar": {
             "outlinewidth": 0,
             "ticks": ""
            },
            "colorscale": [
             [
              0,
              "#0d0887"
             ],
             [
              0.1111111111111111,
              "#46039f"
             ],
             [
              0.2222222222222222,
              "#7201a8"
             ],
             [
              0.3333333333333333,
              "#9c179e"
             ],
             [
              0.4444444444444444,
              "#bd3786"
             ],
             [
              0.5555555555555556,
              "#d8576b"
             ],
             [
              0.6666666666666666,
              "#ed7953"
             ],
             [
              0.7777777777777778,
              "#fb9f3a"
             ],
             [
              0.8888888888888888,
              "#fdca26"
             ],
             [
              1,
              "#f0f921"
             ]
            ],
            "type": "histogram2dcontour"
           }
          ],
          "mesh3d": [
           {
            "colorbar": {
             "outlinewidth": 0,
             "ticks": ""
            },
            "type": "mesh3d"
           }
          ],
          "parcoords": [
           {
            "line": {
             "colorbar": {
              "outlinewidth": 0,
              "ticks": ""
             }
            },
            "type": "parcoords"
           }
          ],
          "pie": [
           {
            "automargin": true,
            "type": "pie"
           }
          ],
          "scatter": [
           {
            "fillpattern": {
             "fillmode": "overlay",
             "size": 10,
             "solidity": 0.2
            },
            "type": "scatter"
           }
          ],
          "scatter3d": [
           {
            "line": {
             "colorbar": {
              "outlinewidth": 0,
              "ticks": ""
             }
            },
            "marker": {
             "colorbar": {
              "outlinewidth": 0,
              "ticks": ""
             }
            },
            "type": "scatter3d"
           }
          ],
          "scattercarpet": [
           {
            "marker": {
             "colorbar": {
              "outlinewidth": 0,
              "ticks": ""
             }
            },
            "type": "scattercarpet"
           }
          ],
          "scattergeo": [
           {
            "marker": {
             "colorbar": {
              "outlinewidth": 0,
              "ticks": ""
             }
            },
            "type": "scattergeo"
           }
          ],
          "scattergl": [
           {
            "marker": {
             "colorbar": {
              "outlinewidth": 0,
              "ticks": ""
             }
            },
            "type": "scattergl"
           }
          ],
          "scattermapbox": [
           {
            "marker": {
             "colorbar": {
              "outlinewidth": 0,
              "ticks": ""
             }
            },
            "type": "scattermapbox"
           }
          ],
          "scatterpolar": [
           {
            "marker": {
             "colorbar": {
              "outlinewidth": 0,
              "ticks": ""
             }
            },
            "type": "scatterpolar"
           }
          ],
          "scatterpolargl": [
           {
            "marker": {
             "colorbar": {
              "outlinewidth": 0,
              "ticks": ""
             }
            },
            "type": "scatterpolargl"
           }
          ],
          "scatterternary": [
           {
            "marker": {
             "colorbar": {
              "outlinewidth": 0,
              "ticks": ""
             }
            },
            "type": "scatterternary"
           }
          ],
          "surface": [
           {
            "colorbar": {
             "outlinewidth": 0,
             "ticks": ""
            },
            "colorscale": [
             [
              0,
              "#0d0887"
             ],
             [
              0.1111111111111111,
              "#46039f"
             ],
             [
              0.2222222222222222,
              "#7201a8"
             ],
             [
              0.3333333333333333,
              "#9c179e"
             ],
             [
              0.4444444444444444,
              "#bd3786"
             ],
             [
              0.5555555555555556,
              "#d8576b"
             ],
             [
              0.6666666666666666,
              "#ed7953"
             ],
             [
              0.7777777777777778,
              "#fb9f3a"
             ],
             [
              0.8888888888888888,
              "#fdca26"
             ],
             [
              1,
              "#f0f921"
             ]
            ],
            "type": "surface"
           }
          ],
          "table": [
           {
            "cells": {
             "fill": {
              "color": "#EBF0F8"
             },
             "line": {
              "color": "white"
             }
            },
            "header": {
             "fill": {
              "color": "#C8D4E3"
             },
             "line": {
              "color": "white"
             }
            },
            "type": "table"
           }
          ]
         },
         "layout": {
          "annotationdefaults": {
           "arrowcolor": "#2a3f5f",
           "arrowhead": 0,
           "arrowwidth": 1
          },
          "autotypenumbers": "strict",
          "coloraxis": {
           "colorbar": {
            "outlinewidth": 0,
            "ticks": ""
           }
          },
          "colorscale": {
           "diverging": [
            [
             0,
             "#8e0152"
            ],
            [
             0.1,
             "#c51b7d"
            ],
            [
             0.2,
             "#de77ae"
            ],
            [
             0.3,
             "#f1b6da"
            ],
            [
             0.4,
             "#fde0ef"
            ],
            [
             0.5,
             "#f7f7f7"
            ],
            [
             0.6,
             "#e6f5d0"
            ],
            [
             0.7,
             "#b8e186"
            ],
            [
             0.8,
             "#7fbc41"
            ],
            [
             0.9,
             "#4d9221"
            ],
            [
             1,
             "#276419"
            ]
           ],
           "sequential": [
            [
             0,
             "#0d0887"
            ],
            [
             0.1111111111111111,
             "#46039f"
            ],
            [
             0.2222222222222222,
             "#7201a8"
            ],
            [
             0.3333333333333333,
             "#9c179e"
            ],
            [
             0.4444444444444444,
             "#bd3786"
            ],
            [
             0.5555555555555556,
             "#d8576b"
            ],
            [
             0.6666666666666666,
             "#ed7953"
            ],
            [
             0.7777777777777778,
             "#fb9f3a"
            ],
            [
             0.8888888888888888,
             "#fdca26"
            ],
            [
             1,
             "#f0f921"
            ]
           ],
           "sequentialminus": [
            [
             0,
             "#0d0887"
            ],
            [
             0.1111111111111111,
             "#46039f"
            ],
            [
             0.2222222222222222,
             "#7201a8"
            ],
            [
             0.3333333333333333,
             "#9c179e"
            ],
            [
             0.4444444444444444,
             "#bd3786"
            ],
            [
             0.5555555555555556,
             "#d8576b"
            ],
            [
             0.6666666666666666,
             "#ed7953"
            ],
            [
             0.7777777777777778,
             "#fb9f3a"
            ],
            [
             0.8888888888888888,
             "#fdca26"
            ],
            [
             1,
             "#f0f921"
            ]
           ]
          },
          "colorway": [
           "#636efa",
           "#EF553B",
           "#00cc96",
           "#ab63fa",
           "#FFA15A",
           "#19d3f3",
           "#FF6692",
           "#B6E880",
           "#FF97FF",
           "#FECB52"
          ],
          "font": {
           "color": "#2a3f5f"
          },
          "geo": {
           "bgcolor": "white",
           "lakecolor": "white",
           "landcolor": "#E5ECF6",
           "showlakes": true,
           "showland": true,
           "subunitcolor": "white"
          },
          "hoverlabel": {
           "align": "left"
          },
          "hovermode": "closest",
          "mapbox": {
           "style": "light"
          },
          "paper_bgcolor": "white",
          "plot_bgcolor": "#E5ECF6",
          "polar": {
           "angularaxis": {
            "gridcolor": "white",
            "linecolor": "white",
            "ticks": ""
           },
           "bgcolor": "#E5ECF6",
           "radialaxis": {
            "gridcolor": "white",
            "linecolor": "white",
            "ticks": ""
           }
          },
          "scene": {
           "xaxis": {
            "backgroundcolor": "#E5ECF6",
            "gridcolor": "white",
            "gridwidth": 2,
            "linecolor": "white",
            "showbackground": true,
            "ticks": "",
            "zerolinecolor": "white"
           },
           "yaxis": {
            "backgroundcolor": "#E5ECF6",
            "gridcolor": "white",
            "gridwidth": 2,
            "linecolor": "white",
            "showbackground": true,
            "ticks": "",
            "zerolinecolor": "white"
           },
           "zaxis": {
            "backgroundcolor": "#E5ECF6",
            "gridcolor": "white",
            "gridwidth": 2,
            "linecolor": "white",
            "showbackground": true,
            "ticks": "",
            "zerolinecolor": "white"
           }
          },
          "shapedefaults": {
           "line": {
            "color": "#2a3f5f"
           }
          },
          "ternary": {
           "aaxis": {
            "gridcolor": "white",
            "linecolor": "white",
            "ticks": ""
           },
           "baxis": {
            "gridcolor": "white",
            "linecolor": "white",
            "ticks": ""
           },
           "bgcolor": "#E5ECF6",
           "caxis": {
            "gridcolor": "white",
            "linecolor": "white",
            "ticks": ""
           }
          },
          "title": {
           "x": 0.05
          },
          "xaxis": {
           "automargin": true,
           "gridcolor": "white",
           "linecolor": "white",
           "ticks": "",
           "title": {
            "standoff": 15
           },
           "zerolinecolor": "white",
           "zerolinewidth": 2
          },
          "yaxis": {
           "automargin": true,
           "gridcolor": "white",
           "linecolor": "white",
           "ticks": "",
           "title": {
            "standoff": 15
           },
           "zerolinecolor": "white",
           "zerolinewidth": 2
          }
         }
        },
        "title": {
         "font": {
          "color": "black",
          "family": "Cambria",
          "size": 18
         },
         "text": "Combined Total Vote Share (%) Of Top 2 Parties Over the Years",
         "x": 0.5,
         "xanchor": "center",
         "y": 0.95,
         "yanchor": "top"
        },
        "xaxis": {
         "anchor": "y",
         "domain": [
          0,
          1
         ],
         "fixedrange": true,
         "showgrid": false,
         "tickfont": {
          "color": "black",
          "family": "Cambria",
          "size": 14
         },
         "tickvals": [
          "2013",
          "2018",
          "2023"
         ],
         "title": {
          "font": {
           "color": "black",
           "family": "Cambria",
           "size": 16
          },
          "text": "Year"
         }
        },
        "yaxis": {
         "anchor": "x",
         "domain": [
          0,
          1
         ],
         "fixedrange": true,
         "gridcolor": "lightgrey",
         "range": [
          0,
          100
         ],
         "showgrid": true,
         "tickfont": {
          "color": "black",
          "family": "Cambria",
          "size": 14
         },
         "tickvals": [
          0,
          20,
          40,
          60,
          80,
          100
         ],
         "title": {
          "font": {
           "color": "black",
           "family": "Cambria",
           "size": 16
          },
          "text": "Total Vote Share (%)"
         },
         "zeroline": true
        }
       }
      }
     },
     "metadata": {},
     "output_type": "display_data"
    }
   ],
   "source": [
    "fig = px.bar(\n",
    "    party_stats_all_years,\n",
    "    y='vote_share_percent',\n",
    "    x='year',\n",
    "    title='Vote Share of Top Two Parties',\n",
    "    color='party',\n",
    "    labels={'vote_share_percent': 'Vote Share Percent'},\n",
    "    color_discrete_map={'INC': '#0062C6', 'BJP': '#FF7500'},\n",
    "    custom_data=['combined_vote_share_percent', 'combined_constituencies_won']\n",
    ")\n",
    "\n",
    "fig.update_traces(\n",
    "    hovertemplate=(\n",
    "        'Year: %{x}<br>'\n",
    "        'Combined Vote Share: %{customdata[0]}%<br>'\n",
    "        'Combined Constituencies Won: %{customdata[1]} of 224<extra></extra>'\n",
    "    )\n",
    ")\n",
    "\n",
    "\n",
    "# Adjust the layout to set tickvals for x-axis and the gap between bars\n",
    "fig.update_layout(\n",
    "    bargap=0.9,  # Adjust the gap between bars\n",
    "    bargroupgap=0.2,\n",
    "    xaxis_title=\"Year\",\n",
    "    yaxis_title=\"Total Vote Share (%)\",\n",
    "    xaxis=dict(\n",
    "        tickvals=df['year'].unique(),\n",
    "        tickfont=dict(family=\"Cambria\", size=14, color=\"black\"),\n",
    "        titlefont=dict(family=\"Cambria\", size=16, color=\"black\"),\n",
    "        fixedrange=True,\n",
    "        showgrid=False,\n",
    "    ),\n",
    "    yaxis=dict(\n",
    "        tickvals = [0,20,40,60,80,100],\n",
    "        range = [0,100],\n",
    "        tickfont=dict(family=\"Cambria\", size=14, color=\"black\"),\n",
    "        titlefont=dict(family=\"Cambria\", size=16, color=\"black\"),\n",
    "        fixedrange=True,\n",
    "        showgrid=True,\n",
    "        zeroline=True,\n",
    "        gridcolor='lightgrey',\n",
    "    ),\n",
    "    title = dict(\n",
    "        font = dict(family=\"Cambria\", size=18, color=\"black\"),\n",
    "        text = \"Combined Total Vote Share (%) Of Top 2 Parties Over the Years\",  \n",
    "        xanchor=\"center\",\n",
    "        x = 0.5,\n",
    "        yanchor=\"top\",\n",
    "        y = 0.95\n",
    "    ),\n",
    "    legend = dict(\n",
    "        title = dict(\n",
    "            text = 'Party',\n",
    "            font = dict(family=\"Cambria\", size=14, color=\"black\")\n",
    "        ),\n",
    "        font=dict(family=\"Cambria\", size=14, color=\"black\"),\n",
    "        orientation=\"h\",\n",
    "        xanchor = 'center',\n",
    "        x = 0.5,\n",
    "        yref = 'container',\n",
    "        yanchor = 'top',\n",
    "        y = 0.85\n",
    "    ),\n",
    "    autosize=True,\n",
    "    dragmode=False,\n",
    "    plot_bgcolor = \"#f8f8f8\",\n",
    "    paper_bgcolor = \"#f8f8f8\",\n",
    "    margin = dict(pad=10, t=50, b=20, l=20, r=20), \n",
    "    legend_itemclick=False,  # Disable legend click actions\n",
    "    legend_itemdoubleclick=False,\n",
    ")\n",
    "\n",
    "pio.write_json(fig, 'plots/votesharetoptwoparties.json')\n",
    "fig"
   ]
  },
  {
   "cell_type": "code",
   "execution_count": null,
   "metadata": {},
   "outputs": [],
   "source": []
  },
  {
   "cell_type": "code",
   "execution_count": null,
   "metadata": {},
   "outputs": [],
   "source": []
  },
  {
   "cell_type": "code",
   "execution_count": null,
   "metadata": {},
   "outputs": [],
   "source": []
  },
  {
   "cell_type": "markdown",
   "metadata": {},
   "source": [
    "### ENOP (Effective number of Parties)"
   ]
  },
  {
   "cell_type": "code",
   "execution_count": 57,
   "metadata": {},
   "outputs": [
    {
     "data": {
      "text/html": [
       "<div>\n",
       "<style scoped>\n",
       "    .dataframe tbody tr th:only-of-type {\n",
       "        vertical-align: middle;\n",
       "    }\n",
       "\n",
       "    .dataframe tbody tr th {\n",
       "        vertical-align: top;\n",
       "    }\n",
       "\n",
       "    .dataframe thead th {\n",
       "        text-align: right;\n",
       "    }\n",
       "</style>\n",
       "<table border=\"1\" class=\"dataframe\">\n",
       "  <thead>\n",
       "    <tr style=\"text-align: right;\">\n",
       "      <th></th>\n",
       "      <th>year</th>\n",
       "      <th>ENOP</th>\n",
       "      <th>Type</th>\n",
       "    </tr>\n",
       "  </thead>\n",
       "  <tbody>\n",
       "    <tr>\n",
       "      <th>0</th>\n",
       "      <td>2013</td>\n",
       "      <td>3.40</td>\n",
       "      <td>With respect to vote share</td>\n",
       "    </tr>\n",
       "    <tr>\n",
       "      <th>1</th>\n",
       "      <td>2018</td>\n",
       "      <td>2.82</td>\n",
       "      <td>With respect to vote share</td>\n",
       "    </tr>\n",
       "    <tr>\n",
       "      <th>2</th>\n",
       "      <td>2023</td>\n",
       "      <td>2.56</td>\n",
       "      <td>With respect to vote share</td>\n",
       "    </tr>\n",
       "    <tr>\n",
       "      <th>3</th>\n",
       "      <td>2013</td>\n",
       "      <td>2.11</td>\n",
       "      <td>With respect to number of seats</td>\n",
       "    </tr>\n",
       "    <tr>\n",
       "      <th>4</th>\n",
       "      <td>2018</td>\n",
       "      <td>2.05</td>\n",
       "      <td>With respect to number of seats</td>\n",
       "    </tr>\n",
       "    <tr>\n",
       "      <th>5</th>\n",
       "      <td>2023</td>\n",
       "      <td>1.76</td>\n",
       "      <td>With respect to number of seats</td>\n",
       "    </tr>\n",
       "  </tbody>\n",
       "</table>\n",
       "</div>"
      ],
      "text/plain": [
       "   year  ENOP                             Type\n",
       "0  2013  3.40       With respect to vote share\n",
       "1  2018  2.82       With respect to vote share\n",
       "2  2023  2.56       With respect to vote share\n",
       "3  2013  2.11  With respect to number of seats\n",
       "4  2018  2.05  With respect to number of seats\n",
       "5  2023  1.76  With respect to number of seats"
      ]
     },
     "execution_count": 57,
     "metadata": {},
     "output_type": "execute_result"
    }
   ],
   "source": [
    "def calculate_enop_vote_share(candid_df, const_df, year):\n",
    "    # Total votes in the election\n",
    "    total_votes = candid_df['votes'].sum()\n",
    "    \n",
    "    # Total votes per party\n",
    "    party_votes = candid_df.groupby('party')['votes'].sum().reset_index()\n",
    "    party_votes['vote_share_percent'] = party_votes['votes'] / total_votes\n",
    "    \n",
    "    # Number of constituencies won by each party\n",
    "    constituencies_won = const_df.groupby('party').size().reset_index(name='constituencies_won')\n",
    "    \n",
    "    # Merge party votes and constituencies won\n",
    "    party_stats = pd.merge(party_votes, constituencies_won, on='party', how='inner')\n",
    "    party_stats['year'] = year\n",
    "    party_stats['total_votes'] = total_votes\n",
    "    \n",
    "    # Calculate the maximum vote share percent for the year\n",
    "    max_vote_share_percent = party_stats['vote_share_percent'].max()\n",
    "    party_stats['max_vote_share_percent'] = max_vote_share_percent\n",
    "    \n",
    "    # Apply the ENOP formula for vote share\n",
    "    party_stats['ENOP'] = 1 / (1 + (max_vote_share_percent**2 / party_stats['vote_share_percent']) - party_stats['vote_share_percent'])\n",
    "    \n",
    "    return party_stats[['year', 'ENOP']]\n",
    "\n",
    "def calculate_enop_seats(const_df, year):\n",
    "    total_constituencies = 224  # Total number of constituencies in Karnataka\n",
    "    \n",
    "    # Number of constituencies won by each party\n",
    "    party_constituencies = const_df.groupby('party').size().reset_index(name='constituencies_won')\n",
    "    party_constituencies['constituency_percent'] = party_constituencies['constituencies_won'] / total_constituencies\n",
    "    party_constituencies['year'] = year\n",
    "    \n",
    "    # Calculate the maximum constituency percent for the year\n",
    "    max_constituency_percent = party_constituencies['constituency_percent'].max()\n",
    "    party_constituencies['max_constituency_percent'] = max_constituency_percent\n",
    "    \n",
    "    # Apply the ENOP formula for number of seats\n",
    "    party_constituencies['ENOP'] = 1 / (1 + (max_constituency_percent**2 / party_constituencies['constituency_percent']) - party_constituencies['constituency_percent'])\n",
    "    \n",
    "    return party_constituencies[['year', 'ENOP']]\n",
    "\n",
    "# Calculate ENOP with respect to vote share for each election year\n",
    "enop_vote_share_2013 = calculate_enop_vote_share(candid13, const13, 2013)\n",
    "enop_vote_share_2018 = calculate_enop_vote_share(candid18post, const18post, 2018)\n",
    "enop_vote_share_2023 = calculate_enop_vote_share(candid23, const23, 2023)\n",
    "\n",
    "# Concatenate ENOP vote share results\n",
    "enop_vote_share = pd.concat([enop_vote_share_2013, enop_vote_share_2018, enop_vote_share_2023], ignore_index=True)\n",
    "\n",
    "# Sum ENOP per year and round to two decimal places\n",
    "enop_vote_share = enop_vote_share.groupby('year')['ENOP'].sum().reset_index()\n",
    "enop_vote_share['ENOP'] = enop_vote_share['ENOP'].round(2)\n",
    "enop_vote_share['Type'] = 'With respect to vote share'\n",
    "\n",
    "# Calculate ENOP with respect to number of seats for each election year\n",
    "enop_seats_2013 = calculate_enop_seats(const13, 2013)\n",
    "enop_seats_2018 = calculate_enop_seats(const18post, 2018)\n",
    "enop_seats_2023 = calculate_enop_seats(const23, 2023)\n",
    "\n",
    "# Concatenate ENOP seats results\n",
    "enop_seats = pd.concat([enop_seats_2013, enop_seats_2018, enop_seats_2023], ignore_index=True)\n",
    "\n",
    "# Sum ENOP per year and round to two decimal places\n",
    "enop_seats = enop_seats.groupby('year')['ENOP'].sum().reset_index()\n",
    "enop_seats['ENOP'] = enop_seats['ENOP'].round(2)\n",
    "enop_seats['Type'] = 'With respect to number of seats'\n",
    "\n",
    "# Combine both ENOP results\n",
    "enop_results = pd.concat([enop_vote_share, enop_seats], ignore_index=True)\n",
    "\n",
    "# Display the final ENOP results\n",
    "enop_results"
   ]
  },
  {
   "cell_type": "code",
   "execution_count": 58,
   "metadata": {},
   "outputs": [
    {
     "data": {
      "application/vnd.plotly.v1+json": {
       "config": {
        "plotlyServerURL": "https://plot.ly"
       },
       "data": [
        {
         "hoverinfo": "none",
         "line": {
          "color": "#636EFA"
         },
         "marker": {
          "color": "#636EFA",
          "size": 10,
          "symbol": "diamond"
         },
         "mode": "lines+markers",
         "name": "With respect to number of seats",
         "type": "scatter",
         "x": [
          2013,
          2018,
          2023
         ],
         "y": [
          2.11,
          2.05,
          1.76
         ]
        },
        {
         "hoverinfo": "none",
         "line": {
          "color": "#EF553B"
         },
         "marker": {
          "color": "#EF553B",
          "size": 10,
          "symbol": "square"
         },
         "mode": "lines+markers",
         "name": "With respect to vote share",
         "type": "scatter",
         "x": [
          2013,
          2018,
          2023
         ],
         "y": [
          3.4,
          2.82,
          2.56
         ]
        }
       ],
       "layout": {
        "annotations": [
         {
          "bgcolor": "#636EFA",
          "bordercolor": "black",
          "borderpad": 4,
          "borderwidth": 1,
          "font": {
           "color": "white",
           "family": "Cambria",
           "size": 12
          },
          "showarrow": false,
          "text": "<b>2.11</b>",
          "x": 2013,
          "xanchor": "center",
          "y": 2.01,
          "yanchor": "top"
         },
         {
          "bgcolor": "#636EFA",
          "bordercolor": "black",
          "borderpad": 4,
          "borderwidth": 1,
          "font": {
           "color": "white",
           "family": "Cambria",
           "size": 12
          },
          "showarrow": false,
          "text": "<b>2.05</b>",
          "x": 2018,
          "xanchor": "center",
          "y": 1.9499999999999997,
          "yanchor": "top"
         },
         {
          "bgcolor": "#636EFA",
          "bordercolor": "black",
          "borderpad": 4,
          "borderwidth": 1,
          "font": {
           "color": "white",
           "family": "Cambria",
           "size": 12
          },
          "showarrow": false,
          "text": "<b>1.76</b>",
          "x": 2023,
          "xanchor": "center",
          "y": 1.66,
          "yanchor": "top"
         },
         {
          "bgcolor": "#EF553B",
          "bordercolor": "black",
          "borderpad": 4,
          "borderwidth": 1,
          "font": {
           "color": "white",
           "family": "Cambria",
           "size": 12
          },
          "showarrow": false,
          "text": "<b>3.4</b>",
          "x": 2013,
          "xanchor": "center",
          "y": 3.5,
          "yanchor": "bottom"
         },
         {
          "bgcolor": "#EF553B",
          "bordercolor": "black",
          "borderpad": 4,
          "borderwidth": 1,
          "font": {
           "color": "white",
           "family": "Cambria",
           "size": 12
          },
          "showarrow": false,
          "text": "<b>2.82</b>",
          "x": 2018,
          "xanchor": "center",
          "y": 2.92,
          "yanchor": "bottom"
         },
         {
          "bgcolor": "#EF553B",
          "bordercolor": "black",
          "borderpad": 4,
          "borderwidth": 1,
          "font": {
           "color": "white",
           "family": "Cambria",
           "size": 12
          },
          "showarrow": false,
          "text": "<b>2.56</b>",
          "x": 2023,
          "xanchor": "center",
          "y": 2.66,
          "yanchor": "bottom"
         }
        ],
        "autosize": true,
        "dragmode": false,
        "hovermode": false,
        "legend": {
         "font": {
          "color": "black",
          "family": "Cambria",
          "size": 14
         },
         "itemclick": false,
         "itemdoubleclick": false,
         "orientation": "h",
         "title": {
          "font": {
           "color": "black",
           "family": "Cambria",
           "size": 14
          },
          "text": "Type"
         },
         "x": 0.5,
         "xanchor": "center",
         "y": 0.85,
         "yanchor": "top",
         "yref": "container"
        },
        "margin": {
         "b": 20,
         "l": 20,
         "pad": 10,
         "r": 20,
         "t": 50
        },
        "paper_bgcolor": "#f8f8f8",
        "plot_bgcolor": "#f8f8f8",
        "template": {
         "data": {
          "bar": [
           {
            "error_x": {
             "color": "#2a3f5f"
            },
            "error_y": {
             "color": "#2a3f5f"
            },
            "marker": {
             "line": {
              "color": "#E5ECF6",
              "width": 0.5
             },
             "pattern": {
              "fillmode": "overlay",
              "size": 10,
              "solidity": 0.2
             }
            },
            "type": "bar"
           }
          ],
          "barpolar": [
           {
            "marker": {
             "line": {
              "color": "#E5ECF6",
              "width": 0.5
             },
             "pattern": {
              "fillmode": "overlay",
              "size": 10,
              "solidity": 0.2
             }
            },
            "type": "barpolar"
           }
          ],
          "carpet": [
           {
            "aaxis": {
             "endlinecolor": "#2a3f5f",
             "gridcolor": "white",
             "linecolor": "white",
             "minorgridcolor": "white",
             "startlinecolor": "#2a3f5f"
            },
            "baxis": {
             "endlinecolor": "#2a3f5f",
             "gridcolor": "white",
             "linecolor": "white",
             "minorgridcolor": "white",
             "startlinecolor": "#2a3f5f"
            },
            "type": "carpet"
           }
          ],
          "choropleth": [
           {
            "colorbar": {
             "outlinewidth": 0,
             "ticks": ""
            },
            "type": "choropleth"
           }
          ],
          "contour": [
           {
            "colorbar": {
             "outlinewidth": 0,
             "ticks": ""
            },
            "colorscale": [
             [
              0,
              "#0d0887"
             ],
             [
              0.1111111111111111,
              "#46039f"
             ],
             [
              0.2222222222222222,
              "#7201a8"
             ],
             [
              0.3333333333333333,
              "#9c179e"
             ],
             [
              0.4444444444444444,
              "#bd3786"
             ],
             [
              0.5555555555555556,
              "#d8576b"
             ],
             [
              0.6666666666666666,
              "#ed7953"
             ],
             [
              0.7777777777777778,
              "#fb9f3a"
             ],
             [
              0.8888888888888888,
              "#fdca26"
             ],
             [
              1,
              "#f0f921"
             ]
            ],
            "type": "contour"
           }
          ],
          "contourcarpet": [
           {
            "colorbar": {
             "outlinewidth": 0,
             "ticks": ""
            },
            "type": "contourcarpet"
           }
          ],
          "heatmap": [
           {
            "colorbar": {
             "outlinewidth": 0,
             "ticks": ""
            },
            "colorscale": [
             [
              0,
              "#0d0887"
             ],
             [
              0.1111111111111111,
              "#46039f"
             ],
             [
              0.2222222222222222,
              "#7201a8"
             ],
             [
              0.3333333333333333,
              "#9c179e"
             ],
             [
              0.4444444444444444,
              "#bd3786"
             ],
             [
              0.5555555555555556,
              "#d8576b"
             ],
             [
              0.6666666666666666,
              "#ed7953"
             ],
             [
              0.7777777777777778,
              "#fb9f3a"
             ],
             [
              0.8888888888888888,
              "#fdca26"
             ],
             [
              1,
              "#f0f921"
             ]
            ],
            "type": "heatmap"
           }
          ],
          "heatmapgl": [
           {
            "colorbar": {
             "outlinewidth": 0,
             "ticks": ""
            },
            "colorscale": [
             [
              0,
              "#0d0887"
             ],
             [
              0.1111111111111111,
              "#46039f"
             ],
             [
              0.2222222222222222,
              "#7201a8"
             ],
             [
              0.3333333333333333,
              "#9c179e"
             ],
             [
              0.4444444444444444,
              "#bd3786"
             ],
             [
              0.5555555555555556,
              "#d8576b"
             ],
             [
              0.6666666666666666,
              "#ed7953"
             ],
             [
              0.7777777777777778,
              "#fb9f3a"
             ],
             [
              0.8888888888888888,
              "#fdca26"
             ],
             [
              1,
              "#f0f921"
             ]
            ],
            "type": "heatmapgl"
           }
          ],
          "histogram": [
           {
            "marker": {
             "pattern": {
              "fillmode": "overlay",
              "size": 10,
              "solidity": 0.2
             }
            },
            "type": "histogram"
           }
          ],
          "histogram2d": [
           {
            "colorbar": {
             "outlinewidth": 0,
             "ticks": ""
            },
            "colorscale": [
             [
              0,
              "#0d0887"
             ],
             [
              0.1111111111111111,
              "#46039f"
             ],
             [
              0.2222222222222222,
              "#7201a8"
             ],
             [
              0.3333333333333333,
              "#9c179e"
             ],
             [
              0.4444444444444444,
              "#bd3786"
             ],
             [
              0.5555555555555556,
              "#d8576b"
             ],
             [
              0.6666666666666666,
              "#ed7953"
             ],
             [
              0.7777777777777778,
              "#fb9f3a"
             ],
             [
              0.8888888888888888,
              "#fdca26"
             ],
             [
              1,
              "#f0f921"
             ]
            ],
            "type": "histogram2d"
           }
          ],
          "histogram2dcontour": [
           {
            "colorbar": {
             "outlinewidth": 0,
             "ticks": ""
            },
            "colorscale": [
             [
              0,
              "#0d0887"
             ],
             [
              0.1111111111111111,
              "#46039f"
             ],
             [
              0.2222222222222222,
              "#7201a8"
             ],
             [
              0.3333333333333333,
              "#9c179e"
             ],
             [
              0.4444444444444444,
              "#bd3786"
             ],
             [
              0.5555555555555556,
              "#d8576b"
             ],
             [
              0.6666666666666666,
              "#ed7953"
             ],
             [
              0.7777777777777778,
              "#fb9f3a"
             ],
             [
              0.8888888888888888,
              "#fdca26"
             ],
             [
              1,
              "#f0f921"
             ]
            ],
            "type": "histogram2dcontour"
           }
          ],
          "mesh3d": [
           {
            "colorbar": {
             "outlinewidth": 0,
             "ticks": ""
            },
            "type": "mesh3d"
           }
          ],
          "parcoords": [
           {
            "line": {
             "colorbar": {
              "outlinewidth": 0,
              "ticks": ""
             }
            },
            "type": "parcoords"
           }
          ],
          "pie": [
           {
            "automargin": true,
            "type": "pie"
           }
          ],
          "scatter": [
           {
            "fillpattern": {
             "fillmode": "overlay",
             "size": 10,
             "solidity": 0.2
            },
            "type": "scatter"
           }
          ],
          "scatter3d": [
           {
            "line": {
             "colorbar": {
              "outlinewidth": 0,
              "ticks": ""
             }
            },
            "marker": {
             "colorbar": {
              "outlinewidth": 0,
              "ticks": ""
             }
            },
            "type": "scatter3d"
           }
          ],
          "scattercarpet": [
           {
            "marker": {
             "colorbar": {
              "outlinewidth": 0,
              "ticks": ""
             }
            },
            "type": "scattercarpet"
           }
          ],
          "scattergeo": [
           {
            "marker": {
             "colorbar": {
              "outlinewidth": 0,
              "ticks": ""
             }
            },
            "type": "scattergeo"
           }
          ],
          "scattergl": [
           {
            "marker": {
             "colorbar": {
              "outlinewidth": 0,
              "ticks": ""
             }
            },
            "type": "scattergl"
           }
          ],
          "scattermapbox": [
           {
            "marker": {
             "colorbar": {
              "outlinewidth": 0,
              "ticks": ""
             }
            },
            "type": "scattermapbox"
           }
          ],
          "scatterpolar": [
           {
            "marker": {
             "colorbar": {
              "outlinewidth": 0,
              "ticks": ""
             }
            },
            "type": "scatterpolar"
           }
          ],
          "scatterpolargl": [
           {
            "marker": {
             "colorbar": {
              "outlinewidth": 0,
              "ticks": ""
             }
            },
            "type": "scatterpolargl"
           }
          ],
          "scatterternary": [
           {
            "marker": {
             "colorbar": {
              "outlinewidth": 0,
              "ticks": ""
             }
            },
            "type": "scatterternary"
           }
          ],
          "surface": [
           {
            "colorbar": {
             "outlinewidth": 0,
             "ticks": ""
            },
            "colorscale": [
             [
              0,
              "#0d0887"
             ],
             [
              0.1111111111111111,
              "#46039f"
             ],
             [
              0.2222222222222222,
              "#7201a8"
             ],
             [
              0.3333333333333333,
              "#9c179e"
             ],
             [
              0.4444444444444444,
              "#bd3786"
             ],
             [
              0.5555555555555556,
              "#d8576b"
             ],
             [
              0.6666666666666666,
              "#ed7953"
             ],
             [
              0.7777777777777778,
              "#fb9f3a"
             ],
             [
              0.8888888888888888,
              "#fdca26"
             ],
             [
              1,
              "#f0f921"
             ]
            ],
            "type": "surface"
           }
          ],
          "table": [
           {
            "cells": {
             "fill": {
              "color": "#EBF0F8"
             },
             "line": {
              "color": "white"
             }
            },
            "header": {
             "fill": {
              "color": "#C8D4E3"
             },
             "line": {
              "color": "white"
             }
            },
            "type": "table"
           }
          ]
         },
         "layout": {
          "annotationdefaults": {
           "arrowcolor": "#2a3f5f",
           "arrowhead": 0,
           "arrowwidth": 1
          },
          "autotypenumbers": "strict",
          "coloraxis": {
           "colorbar": {
            "outlinewidth": 0,
            "ticks": ""
           }
          },
          "colorscale": {
           "diverging": [
            [
             0,
             "#8e0152"
            ],
            [
             0.1,
             "#c51b7d"
            ],
            [
             0.2,
             "#de77ae"
            ],
            [
             0.3,
             "#f1b6da"
            ],
            [
             0.4,
             "#fde0ef"
            ],
            [
             0.5,
             "#f7f7f7"
            ],
            [
             0.6,
             "#e6f5d0"
            ],
            [
             0.7,
             "#b8e186"
            ],
            [
             0.8,
             "#7fbc41"
            ],
            [
             0.9,
             "#4d9221"
            ],
            [
             1,
             "#276419"
            ]
           ],
           "sequential": [
            [
             0,
             "#0d0887"
            ],
            [
             0.1111111111111111,
             "#46039f"
            ],
            [
             0.2222222222222222,
             "#7201a8"
            ],
            [
             0.3333333333333333,
             "#9c179e"
            ],
            [
             0.4444444444444444,
             "#bd3786"
            ],
            [
             0.5555555555555556,
             "#d8576b"
            ],
            [
             0.6666666666666666,
             "#ed7953"
            ],
            [
             0.7777777777777778,
             "#fb9f3a"
            ],
            [
             0.8888888888888888,
             "#fdca26"
            ],
            [
             1,
             "#f0f921"
            ]
           ],
           "sequentialminus": [
            [
             0,
             "#0d0887"
            ],
            [
             0.1111111111111111,
             "#46039f"
            ],
            [
             0.2222222222222222,
             "#7201a8"
            ],
            [
             0.3333333333333333,
             "#9c179e"
            ],
            [
             0.4444444444444444,
             "#bd3786"
            ],
            [
             0.5555555555555556,
             "#d8576b"
            ],
            [
             0.6666666666666666,
             "#ed7953"
            ],
            [
             0.7777777777777778,
             "#fb9f3a"
            ],
            [
             0.8888888888888888,
             "#fdca26"
            ],
            [
             1,
             "#f0f921"
            ]
           ]
          },
          "colorway": [
           "#636efa",
           "#EF553B",
           "#00cc96",
           "#ab63fa",
           "#FFA15A",
           "#19d3f3",
           "#FF6692",
           "#B6E880",
           "#FF97FF",
           "#FECB52"
          ],
          "font": {
           "color": "#2a3f5f"
          },
          "geo": {
           "bgcolor": "white",
           "lakecolor": "white",
           "landcolor": "#E5ECF6",
           "showlakes": true,
           "showland": true,
           "subunitcolor": "white"
          },
          "hoverlabel": {
           "align": "left"
          },
          "hovermode": "closest",
          "mapbox": {
           "style": "light"
          },
          "paper_bgcolor": "white",
          "plot_bgcolor": "#E5ECF6",
          "polar": {
           "angularaxis": {
            "gridcolor": "white",
            "linecolor": "white",
            "ticks": ""
           },
           "bgcolor": "#E5ECF6",
           "radialaxis": {
            "gridcolor": "white",
            "linecolor": "white",
            "ticks": ""
           }
          },
          "scene": {
           "xaxis": {
            "backgroundcolor": "#E5ECF6",
            "gridcolor": "white",
            "gridwidth": 2,
            "linecolor": "white",
            "showbackground": true,
            "ticks": "",
            "zerolinecolor": "white"
           },
           "yaxis": {
            "backgroundcolor": "#E5ECF6",
            "gridcolor": "white",
            "gridwidth": 2,
            "linecolor": "white",
            "showbackground": true,
            "ticks": "",
            "zerolinecolor": "white"
           },
           "zaxis": {
            "backgroundcolor": "#E5ECF6",
            "gridcolor": "white",
            "gridwidth": 2,
            "linecolor": "white",
            "showbackground": true,
            "ticks": "",
            "zerolinecolor": "white"
           }
          },
          "shapedefaults": {
           "line": {
            "color": "#2a3f5f"
           }
          },
          "ternary": {
           "aaxis": {
            "gridcolor": "white",
            "linecolor": "white",
            "ticks": ""
           },
           "baxis": {
            "gridcolor": "white",
            "linecolor": "white",
            "ticks": ""
           },
           "bgcolor": "#E5ECF6",
           "caxis": {
            "gridcolor": "white",
            "linecolor": "white",
            "ticks": ""
           }
          },
          "title": {
           "x": 0.05
          },
          "xaxis": {
           "automargin": true,
           "gridcolor": "white",
           "linecolor": "white",
           "ticks": "",
           "title": {
            "standoff": 15
           },
           "zerolinecolor": "white",
           "zerolinewidth": 2
          },
          "yaxis": {
           "automargin": true,
           "gridcolor": "white",
           "linecolor": "white",
           "ticks": "",
           "title": {
            "standoff": 15
           },
           "zerolinecolor": "white",
           "zerolinewidth": 2
          }
         }
        },
        "title": {
         "font": {
          "color": "black",
          "family": "Cambria",
          "size": 18
         },
         "text": "Effective Number of Parties Over the Years",
         "x": 0.5,
         "xanchor": "center",
         "y": 0.95,
         "yanchor": "top"
        },
        "xaxis": {
         "fixedrange": true,
         "showgrid": false,
         "tickfont": {
          "color": "black",
          "family": "Cambria",
          "size": 14
         },
         "tickvals": [
          2013,
          2018,
          2023
         ],
         "title": {
          "font": {
           "color": "black",
           "family": "Cambria",
           "size": 16
          },
          "text": "Year"
         }
        },
        "yaxis": {
         "fixedrange": true,
         "gridcolor": "lightgrey",
         "range": [
          1,
          4
         ],
         "showgrid": true,
         "tickfont": {
          "color": "black",
          "family": "Cambria",
          "size": 14
         },
         "tickvals": [
          1,
          1.5,
          2,
          2.5,
          3,
          3.5,
          4
         ],
         "title": {
          "font": {
           "color": "black",
           "family": "Cambria",
           "size": 16
          },
          "text": "Effective Number of Parties"
         },
         "zeroline": true
        }
       }
      }
     },
     "metadata": {},
     "output_type": "display_data"
    }
   ],
   "source": [
    "# Sort data for proper line plotting\n",
    "enop_results.sort_values(['Type', 'year'], inplace=True)\n",
    "\n",
    "# Unique types and corresponding markers and colors\n",
    "types = enop_results['Type'].unique()\n",
    "markers = ['diamond', 'square']\n",
    "colors = px.colors.qualitative.Plotly[:2]  # First two colors from Plotly's default color scales\n",
    "\n",
    "# Create the figure\n",
    "fig = go.Figure()\n",
    "\n",
    "for i, t in enumerate(types):\n",
    "    df_t = enop_results[enop_results['Type'] == t]\n",
    "    fig.add_trace(go.Scatter(\n",
    "        x=df_t['year'],\n",
    "        y=df_t['ENOP'],\n",
    "        mode='lines+markers',\n",
    "        name=t,\n",
    "        marker_symbol=markers[i],\n",
    "        marker=dict(size=10, color=colors[i]),\n",
    "        line=dict(color=colors[i]),\n",
    "        hoverinfo='none'  # Disable hover\n",
    "    ))\n",
    "\n",
    "    # Add annotations for each data point\n",
    "    for x, y in zip(df_t['year'], df_t['ENOP']):\n",
    "        # Determine position of the annotation\n",
    "        if t == 'With respect to vote share':\n",
    "            y_annot = y + 0.1  # Annotation above the marker\n",
    "            yanchor = 'bottom'\n",
    "        else:\n",
    "            y_annot = y - 0.1  # Annotation below the marker\n",
    "            yanchor = 'top'\n",
    "        fig.add_annotation(\n",
    "            x=x,\n",
    "            y=y_annot,\n",
    "            text=f\"<b>{y}</b>\",\n",
    "            showarrow=False,\n",
    "            font=dict(color='white', family=\"Cambria\", size=12),\n",
    "            bgcolor=colors[i],\n",
    "            xanchor='center',\n",
    "            yanchor=yanchor,\n",
    "            bordercolor='black',\n",
    "            borderwidth=1,\n",
    "            borderpad=4,\n",
    "        )\n",
    "\n",
    "# Update layout as per your settings\n",
    "fig.update_layout(\n",
    "    xaxis_title=\"Year\",\n",
    "    yaxis_title=\"Effective Number of Parties\",\n",
    "    xaxis=dict(\n",
    "        tickvals=enop_results['year'].unique(),\n",
    "        tickfont=dict(family=\"Cambria\", size=14, color=\"black\"),\n",
    "        titlefont=dict(family=\"Cambria\", size=16, color=\"black\"),\n",
    "        fixedrange=True,\n",
    "        showgrid=False,\n",
    "    ),\n",
    "    yaxis=dict(\n",
    "        range=[1, 4],\n",
    "        tickvals=[1.0, 1.5, 2, 2.5, 3, 3.5, 4],\n",
    "        tickfont=dict(family=\"Cambria\", size=14, color=\"black\"),\n",
    "        titlefont=dict(family=\"Cambria\", size=16, color=\"black\"),\n",
    "        fixedrange=True,\n",
    "        showgrid=True,\n",
    "        zeroline=True,\n",
    "        gridcolor='lightgrey',\n",
    "    ),\n",
    "    title=dict(\n",
    "        font=dict(family=\"Cambria\", size=18, color=\"black\"),\n",
    "        text=\"Effective Number of Parties Over the Years\",\n",
    "        xanchor=\"center\",\n",
    "        x=0.5,\n",
    "        yanchor=\"top\",\n",
    "        y=0.95\n",
    "    ),\n",
    "    legend=dict(\n",
    "        title=dict(\n",
    "            text='Type',\n",
    "            font=dict(family=\"Cambria\", size=14, color=\"black\")\n",
    "        ),\n",
    "        font=dict(family=\"Cambria\", size=14, color=\"black\"),\n",
    "        orientation=\"h\",\n",
    "        xanchor='center',\n",
    "        x=0.5,\n",
    "        yanchor='top',\n",
    "        yref = 'container',\n",
    "        y=0.85\n",
    "    ),\n",
    "    autosize=True,\n",
    "    dragmode=False,\n",
    "    plot_bgcolor=\"#f8f8f8\",\n",
    "    paper_bgcolor=\"#f8f8f8\",\n",
    "    margin=dict(pad=10, t=50, b=20, l=20, r=20),\n",
    "    legend_itemclick=False,\n",
    "    legend_itemdoubleclick=False,\n",
    "    hovermode=False  # Disable hover globally\n",
    ")\n",
    "\n",
    "# Save the figure to JSON\n",
    "pio.write_json(fig, 'plots/enop.json')\n",
    "\n",
    "# Display the figure\n",
    "fig.show()\n"
   ]
  },
  {
   "cell_type": "code",
   "execution_count": null,
   "metadata": {},
   "outputs": [],
   "source": []
  },
  {
   "cell_type": "markdown",
   "metadata": {},
   "source": [
    "## Paradox of Participation"
   ]
  },
  {
   "cell_type": "markdown",
   "metadata": {},
   "source": [
    "### Unique Number of Parties"
   ]
  },
  {
   "cell_type": "code",
   "execution_count": 57,
   "metadata": {},
   "outputs": [
    {
     "data": {
      "text/html": [
       "<div>\n",
       "<style scoped>\n",
       "    .dataframe tbody tr th:only-of-type {\n",
       "        vertical-align: middle;\n",
       "    }\n",
       "\n",
       "    .dataframe tbody tr th {\n",
       "        vertical-align: top;\n",
       "    }\n",
       "\n",
       "    .dataframe thead th {\n",
       "        text-align: right;\n",
       "    }\n",
       "</style>\n",
       "<table border=\"1\" class=\"dataframe\">\n",
       "  <thead>\n",
       "    <tr style=\"text-align: right;\">\n",
       "      <th></th>\n",
       "      <th>Year</th>\n",
       "      <th>Number of Parties</th>\n",
       "    </tr>\n",
       "  </thead>\n",
       "  <tbody>\n",
       "    <tr>\n",
       "      <th>0</th>\n",
       "      <td>2013</td>\n",
       "      <td>59</td>\n",
       "    </tr>\n",
       "    <tr>\n",
       "      <th>1</th>\n",
       "      <td>2018</td>\n",
       "      <td>91</td>\n",
       "    </tr>\n",
       "    <tr>\n",
       "      <th>2</th>\n",
       "      <td>2023</td>\n",
       "      <td>91</td>\n",
       "    </tr>\n",
       "  </tbody>\n",
       "</table>\n",
       "</div>"
      ],
      "text/plain": [
       "   Year  Number of Parties\n",
       "0  2013                 59\n",
       "1  2018                 91\n",
       "2  2023                 91"
      ]
     },
     "execution_count": 57,
     "metadata": {},
     "output_type": "execute_result"
    }
   ],
   "source": [
    "# Calculate unique number of parties for each year\n",
    "unique_parties_13 = candid13['party'].nunique()\n",
    "unique_parties_18 = candid18['party'].nunique()\n",
    "unique_parties_23 = candid23['party'].nunique()\n",
    "\n",
    "# Create a dataframe with the results\n",
    "party_counts_df = pd.DataFrame({\n",
    "    'Year': [2013, 2018, 2023],\n",
    "    'Number of Parties': [unique_parties_13, unique_parties_18, unique_parties_23]\n",
    "})\n",
    "\n",
    "# Display the resulting dataframe\n",
    "party_counts_df.sort_values(by='Year', inplace=True)\n",
    "party_counts_df"
   ]
  },
  {
   "cell_type": "code",
   "execution_count": 73,
   "metadata": {},
   "outputs": [
    {
     "data": {
      "application/vnd.plotly.v1+json": {
       "config": {
        "plotlyServerURL": "https://plot.ly"
       },
       "data": [
        {
         "hoverinfo": "none",
         "line": {
          "color": "#636EFA"
         },
         "marker": {
          "color": "#636EFA",
          "size": 10,
          "symbol": "square"
         },
         "mode": "lines+markers",
         "showlegend": false,
         "type": "scatter",
         "x": [
          2013,
          2018,
          2023
         ],
         "y": [
          59,
          91,
          91
         ]
        }
       ],
       "layout": {
        "annotations": [
         {
          "bgcolor": "#636EFA",
          "bordercolor": "black",
          "borderpad": 4,
          "borderwidth": 1,
          "font": {
           "color": "white",
           "family": "Cambria",
           "size": 12
          },
          "showarrow": false,
          "text": "<b>59</b>",
          "x": 2013,
          "xanchor": "center",
          "y": 64,
          "yanchor": "middle",
          "yref": "y"
         },
         {
          "bgcolor": "#636EFA",
          "bordercolor": "black",
          "borderpad": 4,
          "borderwidth": 1,
          "font": {
           "color": "white",
           "family": "Cambria",
           "size": 12
          },
          "showarrow": false,
          "text": "<b>91</b>",
          "x": 2018,
          "xanchor": "center",
          "y": 96,
          "yanchor": "middle",
          "yref": "y"
         },
         {
          "bgcolor": "#636EFA",
          "bordercolor": "black",
          "borderpad": 4,
          "borderwidth": 1,
          "font": {
           "color": "white",
           "family": "Cambria",
           "size": 12
          },
          "showarrow": false,
          "text": "<b>91</b>",
          "x": 2023,
          "xanchor": "center",
          "y": 96,
          "yanchor": "middle",
          "yref": "y"
         }
        ],
        "autosize": true,
        "dragmode": false,
        "hovermode": false,
        "legend": {
         "itemclick": false,
         "itemdoubleclick": false
        },
        "margin": {
         "b": 20,
         "l": 20,
         "pad": 10,
         "r": 20,
         "t": 50
        },
        "paper_bgcolor": "#f8f8f8",
        "plot_bgcolor": "#f8f8f8",
        "template": {
         "data": {
          "bar": [
           {
            "error_x": {
             "color": "#2a3f5f"
            },
            "error_y": {
             "color": "#2a3f5f"
            },
            "marker": {
             "line": {
              "color": "#E5ECF6",
              "width": 0.5
             },
             "pattern": {
              "fillmode": "overlay",
              "size": 10,
              "solidity": 0.2
             }
            },
            "type": "bar"
           }
          ],
          "barpolar": [
           {
            "marker": {
             "line": {
              "color": "#E5ECF6",
              "width": 0.5
             },
             "pattern": {
              "fillmode": "overlay",
              "size": 10,
              "solidity": 0.2
             }
            },
            "type": "barpolar"
           }
          ],
          "carpet": [
           {
            "aaxis": {
             "endlinecolor": "#2a3f5f",
             "gridcolor": "white",
             "linecolor": "white",
             "minorgridcolor": "white",
             "startlinecolor": "#2a3f5f"
            },
            "baxis": {
             "endlinecolor": "#2a3f5f",
             "gridcolor": "white",
             "linecolor": "white",
             "minorgridcolor": "white",
             "startlinecolor": "#2a3f5f"
            },
            "type": "carpet"
           }
          ],
          "choropleth": [
           {
            "colorbar": {
             "outlinewidth": 0,
             "ticks": ""
            },
            "type": "choropleth"
           }
          ],
          "contour": [
           {
            "colorbar": {
             "outlinewidth": 0,
             "ticks": ""
            },
            "colorscale": [
             [
              0,
              "#0d0887"
             ],
             [
              0.1111111111111111,
              "#46039f"
             ],
             [
              0.2222222222222222,
              "#7201a8"
             ],
             [
              0.3333333333333333,
              "#9c179e"
             ],
             [
              0.4444444444444444,
              "#bd3786"
             ],
             [
              0.5555555555555556,
              "#d8576b"
             ],
             [
              0.6666666666666666,
              "#ed7953"
             ],
             [
              0.7777777777777778,
              "#fb9f3a"
             ],
             [
              0.8888888888888888,
              "#fdca26"
             ],
             [
              1,
              "#f0f921"
             ]
            ],
            "type": "contour"
           }
          ],
          "contourcarpet": [
           {
            "colorbar": {
             "outlinewidth": 0,
             "ticks": ""
            },
            "type": "contourcarpet"
           }
          ],
          "heatmap": [
           {
            "colorbar": {
             "outlinewidth": 0,
             "ticks": ""
            },
            "colorscale": [
             [
              0,
              "#0d0887"
             ],
             [
              0.1111111111111111,
              "#46039f"
             ],
             [
              0.2222222222222222,
              "#7201a8"
             ],
             [
              0.3333333333333333,
              "#9c179e"
             ],
             [
              0.4444444444444444,
              "#bd3786"
             ],
             [
              0.5555555555555556,
              "#d8576b"
             ],
             [
              0.6666666666666666,
              "#ed7953"
             ],
             [
              0.7777777777777778,
              "#fb9f3a"
             ],
             [
              0.8888888888888888,
              "#fdca26"
             ],
             [
              1,
              "#f0f921"
             ]
            ],
            "type": "heatmap"
           }
          ],
          "heatmapgl": [
           {
            "colorbar": {
             "outlinewidth": 0,
             "ticks": ""
            },
            "colorscale": [
             [
              0,
              "#0d0887"
             ],
             [
              0.1111111111111111,
              "#46039f"
             ],
             [
              0.2222222222222222,
              "#7201a8"
             ],
             [
              0.3333333333333333,
              "#9c179e"
             ],
             [
              0.4444444444444444,
              "#bd3786"
             ],
             [
              0.5555555555555556,
              "#d8576b"
             ],
             [
              0.6666666666666666,
              "#ed7953"
             ],
             [
              0.7777777777777778,
              "#fb9f3a"
             ],
             [
              0.8888888888888888,
              "#fdca26"
             ],
             [
              1,
              "#f0f921"
             ]
            ],
            "type": "heatmapgl"
           }
          ],
          "histogram": [
           {
            "marker": {
             "pattern": {
              "fillmode": "overlay",
              "size": 10,
              "solidity": 0.2
             }
            },
            "type": "histogram"
           }
          ],
          "histogram2d": [
           {
            "colorbar": {
             "outlinewidth": 0,
             "ticks": ""
            },
            "colorscale": [
             [
              0,
              "#0d0887"
             ],
             [
              0.1111111111111111,
              "#46039f"
             ],
             [
              0.2222222222222222,
              "#7201a8"
             ],
             [
              0.3333333333333333,
              "#9c179e"
             ],
             [
              0.4444444444444444,
              "#bd3786"
             ],
             [
              0.5555555555555556,
              "#d8576b"
             ],
             [
              0.6666666666666666,
              "#ed7953"
             ],
             [
              0.7777777777777778,
              "#fb9f3a"
             ],
             [
              0.8888888888888888,
              "#fdca26"
             ],
             [
              1,
              "#f0f921"
             ]
            ],
            "type": "histogram2d"
           }
          ],
          "histogram2dcontour": [
           {
            "colorbar": {
             "outlinewidth": 0,
             "ticks": ""
            },
            "colorscale": [
             [
              0,
              "#0d0887"
             ],
             [
              0.1111111111111111,
              "#46039f"
             ],
             [
              0.2222222222222222,
              "#7201a8"
             ],
             [
              0.3333333333333333,
              "#9c179e"
             ],
             [
              0.4444444444444444,
              "#bd3786"
             ],
             [
              0.5555555555555556,
              "#d8576b"
             ],
             [
              0.6666666666666666,
              "#ed7953"
             ],
             [
              0.7777777777777778,
              "#fb9f3a"
             ],
             [
              0.8888888888888888,
              "#fdca26"
             ],
             [
              1,
              "#f0f921"
             ]
            ],
            "type": "histogram2dcontour"
           }
          ],
          "mesh3d": [
           {
            "colorbar": {
             "outlinewidth": 0,
             "ticks": ""
            },
            "type": "mesh3d"
           }
          ],
          "parcoords": [
           {
            "line": {
             "colorbar": {
              "outlinewidth": 0,
              "ticks": ""
             }
            },
            "type": "parcoords"
           }
          ],
          "pie": [
           {
            "automargin": true,
            "type": "pie"
           }
          ],
          "scatter": [
           {
            "fillpattern": {
             "fillmode": "overlay",
             "size": 10,
             "solidity": 0.2
            },
            "type": "scatter"
           }
          ],
          "scatter3d": [
           {
            "line": {
             "colorbar": {
              "outlinewidth": 0,
              "ticks": ""
             }
            },
            "marker": {
             "colorbar": {
              "outlinewidth": 0,
              "ticks": ""
             }
            },
            "type": "scatter3d"
           }
          ],
          "scattercarpet": [
           {
            "marker": {
             "colorbar": {
              "outlinewidth": 0,
              "ticks": ""
             }
            },
            "type": "scattercarpet"
           }
          ],
          "scattergeo": [
           {
            "marker": {
             "colorbar": {
              "outlinewidth": 0,
              "ticks": ""
             }
            },
            "type": "scattergeo"
           }
          ],
          "scattergl": [
           {
            "marker": {
             "colorbar": {
              "outlinewidth": 0,
              "ticks": ""
             }
            },
            "type": "scattergl"
           }
          ],
          "scattermapbox": [
           {
            "marker": {
             "colorbar": {
              "outlinewidth": 0,
              "ticks": ""
             }
            },
            "type": "scattermapbox"
           }
          ],
          "scatterpolar": [
           {
            "marker": {
             "colorbar": {
              "outlinewidth": 0,
              "ticks": ""
             }
            },
            "type": "scatterpolar"
           }
          ],
          "scatterpolargl": [
           {
            "marker": {
             "colorbar": {
              "outlinewidth": 0,
              "ticks": ""
             }
            },
            "type": "scatterpolargl"
           }
          ],
          "scatterternary": [
           {
            "marker": {
             "colorbar": {
              "outlinewidth": 0,
              "ticks": ""
             }
            },
            "type": "scatterternary"
           }
          ],
          "surface": [
           {
            "colorbar": {
             "outlinewidth": 0,
             "ticks": ""
            },
            "colorscale": [
             [
              0,
              "#0d0887"
             ],
             [
              0.1111111111111111,
              "#46039f"
             ],
             [
              0.2222222222222222,
              "#7201a8"
             ],
             [
              0.3333333333333333,
              "#9c179e"
             ],
             [
              0.4444444444444444,
              "#bd3786"
             ],
             [
              0.5555555555555556,
              "#d8576b"
             ],
             [
              0.6666666666666666,
              "#ed7953"
             ],
             [
              0.7777777777777778,
              "#fb9f3a"
             ],
             [
              0.8888888888888888,
              "#fdca26"
             ],
             [
              1,
              "#f0f921"
             ]
            ],
            "type": "surface"
           }
          ],
          "table": [
           {
            "cells": {
             "fill": {
              "color": "#EBF0F8"
             },
             "line": {
              "color": "white"
             }
            },
            "header": {
             "fill": {
              "color": "#C8D4E3"
             },
             "line": {
              "color": "white"
             }
            },
            "type": "table"
           }
          ]
         },
         "layout": {
          "annotationdefaults": {
           "arrowcolor": "#2a3f5f",
           "arrowhead": 0,
           "arrowwidth": 1
          },
          "autotypenumbers": "strict",
          "coloraxis": {
           "colorbar": {
            "outlinewidth": 0,
            "ticks": ""
           }
          },
          "colorscale": {
           "diverging": [
            [
             0,
             "#8e0152"
            ],
            [
             0.1,
             "#c51b7d"
            ],
            [
             0.2,
             "#de77ae"
            ],
            [
             0.3,
             "#f1b6da"
            ],
            [
             0.4,
             "#fde0ef"
            ],
            [
             0.5,
             "#f7f7f7"
            ],
            [
             0.6,
             "#e6f5d0"
            ],
            [
             0.7,
             "#b8e186"
            ],
            [
             0.8,
             "#7fbc41"
            ],
            [
             0.9,
             "#4d9221"
            ],
            [
             1,
             "#276419"
            ]
           ],
           "sequential": [
            [
             0,
             "#0d0887"
            ],
            [
             0.1111111111111111,
             "#46039f"
            ],
            [
             0.2222222222222222,
             "#7201a8"
            ],
            [
             0.3333333333333333,
             "#9c179e"
            ],
            [
             0.4444444444444444,
             "#bd3786"
            ],
            [
             0.5555555555555556,
             "#d8576b"
            ],
            [
             0.6666666666666666,
             "#ed7953"
            ],
            [
             0.7777777777777778,
             "#fb9f3a"
            ],
            [
             0.8888888888888888,
             "#fdca26"
            ],
            [
             1,
             "#f0f921"
            ]
           ],
           "sequentialminus": [
            [
             0,
             "#0d0887"
            ],
            [
             0.1111111111111111,
             "#46039f"
            ],
            [
             0.2222222222222222,
             "#7201a8"
            ],
            [
             0.3333333333333333,
             "#9c179e"
            ],
            [
             0.4444444444444444,
             "#bd3786"
            ],
            [
             0.5555555555555556,
             "#d8576b"
            ],
            [
             0.6666666666666666,
             "#ed7953"
            ],
            [
             0.7777777777777778,
             "#fb9f3a"
            ],
            [
             0.8888888888888888,
             "#fdca26"
            ],
            [
             1,
             "#f0f921"
            ]
           ]
          },
          "colorway": [
           "#636efa",
           "#EF553B",
           "#00cc96",
           "#ab63fa",
           "#FFA15A",
           "#19d3f3",
           "#FF6692",
           "#B6E880",
           "#FF97FF",
           "#FECB52"
          ],
          "font": {
           "color": "#2a3f5f"
          },
          "geo": {
           "bgcolor": "white",
           "lakecolor": "white",
           "landcolor": "#E5ECF6",
           "showlakes": true,
           "showland": true,
           "subunitcolor": "white"
          },
          "hoverlabel": {
           "align": "left"
          },
          "hovermode": "closest",
          "mapbox": {
           "style": "light"
          },
          "paper_bgcolor": "white",
          "plot_bgcolor": "#E5ECF6",
          "polar": {
           "angularaxis": {
            "gridcolor": "white",
            "linecolor": "white",
            "ticks": ""
           },
           "bgcolor": "#E5ECF6",
           "radialaxis": {
            "gridcolor": "white",
            "linecolor": "white",
            "ticks": ""
           }
          },
          "scene": {
           "xaxis": {
            "backgroundcolor": "#E5ECF6",
            "gridcolor": "white",
            "gridwidth": 2,
            "linecolor": "white",
            "showbackground": true,
            "ticks": "",
            "zerolinecolor": "white"
           },
           "yaxis": {
            "backgroundcolor": "#E5ECF6",
            "gridcolor": "white",
            "gridwidth": 2,
            "linecolor": "white",
            "showbackground": true,
            "ticks": "",
            "zerolinecolor": "white"
           },
           "zaxis": {
            "backgroundcolor": "#E5ECF6",
            "gridcolor": "white",
            "gridwidth": 2,
            "linecolor": "white",
            "showbackground": true,
            "ticks": "",
            "zerolinecolor": "white"
           }
          },
          "shapedefaults": {
           "line": {
            "color": "#2a3f5f"
           }
          },
          "ternary": {
           "aaxis": {
            "gridcolor": "white",
            "linecolor": "white",
            "ticks": ""
           },
           "baxis": {
            "gridcolor": "white",
            "linecolor": "white",
            "ticks": ""
           },
           "bgcolor": "#E5ECF6",
           "caxis": {
            "gridcolor": "white",
            "linecolor": "white",
            "ticks": ""
           }
          },
          "title": {
           "x": 0.05
          },
          "xaxis": {
           "automargin": true,
           "gridcolor": "white",
           "linecolor": "white",
           "ticks": "",
           "title": {
            "standoff": 15
           },
           "zerolinecolor": "white",
           "zerolinewidth": 2
          },
          "yaxis": {
           "automargin": true,
           "gridcolor": "white",
           "linecolor": "white",
           "ticks": "",
           "title": {
            "standoff": 15
           },
           "zerolinecolor": "white",
           "zerolinewidth": 2
          }
         }
        },
        "title": {
         "font": {
          "color": "black",
          "family": "Cambria",
          "size": 18
         },
         "text": "Number of Contesting Parties Over the Years",
         "x": 0.5,
         "xanchor": "center",
         "y": 0.95,
         "yanchor": "top",
         "yref": "container"
        },
        "xaxis": {
         "fixedrange": true,
         "showgrid": false,
         "tickfont": {
          "color": "black",
          "family": "Cambria",
          "size": 14
         },
         "tickvals": [
          2013,
          2018,
          2023
         ],
         "title": {
          "font": {
           "color": "black",
           "family": "Cambria",
           "size": 16
          },
          "text": "Year"
         }
        },
        "yaxis": {
         "fixedrange": true,
         "gridcolor": "lightgrey",
         "range": [
          50,
          100
         ],
         "showgrid": true,
         "tickfont": {
          "color": "black",
          "family": "Cambria",
          "size": 14
         },
         "tickvals": [
          50,
          60,
          70,
          80,
          90,
          100
         ],
         "title": {
          "font": {
           "color": "black",
           "family": "Cambria",
           "size": 16
          },
          "text": "Number of Parties"
         },
         "zeroline": true
        }
       }
      }
     },
     "metadata": {},
     "output_type": "display_data"
    }
   ],
   "source": [
    "fig  = go.Figure()\n",
    "\n",
    "fig.add_trace(go.Scatter(\n",
    "        x=party_counts_df['Year'],\n",
    "        y=party_counts_df['Number of Parties'],\n",
    "        mode='lines+markers',\n",
    "        marker_symbol='square',\n",
    "        marker=dict(size=10, color=px.colors.qualitative.Plotly[0]),\n",
    "        line=dict(color=px.colors.qualitative.Plotly[0]),\n",
    "        hoverinfo='none',  # Disable hover\n",
    "        showlegend=False,\n",
    "))\n",
    "\n",
    "for idx, row in party_counts_df.iterrows():\n",
    "        fig.add_annotation(\n",
    "                x=row['Year'],\n",
    "                y=row['Number of Parties'] + 5,\n",
    "                yref='y',\n",
    "                text=f\"<b>{row['Number of Parties']}</b>\",\n",
    "                showarrow=False,\n",
    "                font=dict(color='white', family=\"Cambria\", size=12),\n",
    "                bgcolor=px.colors.qualitative.Plotly[0],\n",
    "                xanchor='center',\n",
    "                yanchor='middle',\n",
    "                bordercolor='black',\n",
    "                borderwidth=1,\n",
    "                borderpad=4,\n",
    "        )\n",
    "\n",
    "# Update layout as per your settings\n",
    "fig.update_layout(\n",
    "    xaxis_title=\"Year\",\n",
    "    yaxis_title=\"Number of Parties\",\n",
    "    xaxis=dict(\n",
    "        tickvals=party_counts_df['Year'].unique(), \n",
    "        tickfont=dict(family=\"Cambria\", size=14, color=\"black\"),\n",
    "        titlefont=dict(family=\"Cambria\", size=16, color=\"black\"),\n",
    "        fixedrange=True,\n",
    "        showgrid=False,\n",
    "    ),\n",
    "    yaxis=dict(\n",
    "        range=[50, 100],\n",
    "        tickvals=[50, 60, 70, 80, 90, 100],\n",
    "        tickfont=dict(family=\"Cambria\", size=14, color=\"black\"),\n",
    "        titlefont=dict(family=\"Cambria\", size=16, color=\"black\"),\n",
    "        fixedrange=True,\n",
    "        showgrid=True,\n",
    "        zeroline=True,\n",
    "        gridcolor='lightgrey',\n",
    "    ),\n",
    "    title=dict(\n",
    "        font=dict(family=\"Cambria\", size=18, color=\"black\"),\n",
    "        text=\"Number of Contesting Parties Over the Years\",\n",
    "        xanchor=\"center\",\n",
    "        x=0.5,\n",
    "        yanchor=\"top\",\n",
    "        y=0.95,\n",
    "        yref='container'\n",
    "    ),\n",
    "    autosize=True,\n",
    "    dragmode=False,\n",
    "    plot_bgcolor=\"#f8f8f8\",\n",
    "    paper_bgcolor=\"#f8f8f8\",\n",
    "    margin=dict(pad=10, t=50, b=20, l=20, r=20),\n",
    "    legend_itemclick=False,\n",
    "    legend_itemdoubleclick=False,\n",
    "    hovermode=False  # Disable hover globally\n",
    ")\n",
    "\n",
    "pio.write_json(fig, \"plots/party_counts.json\")\n",
    "fig"
   ]
  },
  {
   "cell_type": "markdown",
   "metadata": {},
   "source": [
    "### Independent Candidates"
   ]
  },
  {
   "cell_type": "code",
   "execution_count": 62,
   "metadata": {},
   "outputs": [
    {
     "data": {
      "text/html": [
       "<div>\n",
       "<style scoped>\n",
       "    .dataframe tbody tr th:only-of-type {\n",
       "        vertical-align: middle;\n",
       "    }\n",
       "\n",
       "    .dataframe tbody tr th {\n",
       "        vertical-align: top;\n",
       "    }\n",
       "\n",
       "    .dataframe thead th {\n",
       "        text-align: right;\n",
       "    }\n",
       "</style>\n",
       "<table border=\"1\" class=\"dataframe\">\n",
       "  <thead>\n",
       "    <tr style=\"text-align: right;\">\n",
       "      <th></th>\n",
       "      <th>Year</th>\n",
       "      <th>Number of Independent Candidates</th>\n",
       "    </tr>\n",
       "  </thead>\n",
       "  <tbody>\n",
       "    <tr>\n",
       "      <th>0</th>\n",
       "      <td>2013</td>\n",
       "      <td>1157</td>\n",
       "    </tr>\n",
       "    <tr>\n",
       "      <th>1</th>\n",
       "      <td>2018</td>\n",
       "      <td>1107</td>\n",
       "    </tr>\n",
       "    <tr>\n",
       "      <th>2</th>\n",
       "      <td>2023</td>\n",
       "      <td>905</td>\n",
       "    </tr>\n",
       "  </tbody>\n",
       "</table>\n",
       "</div>"
      ],
      "text/plain": [
       "   Year  Number of Independent Candidates\n",
       "0  2013                              1157\n",
       "1  2018                              1107\n",
       "2  2023                               905"
      ]
     },
     "execution_count": 62,
     "metadata": {},
     "output_type": "execute_result"
    }
   ],
   "source": [
    "# Count the number of independent candidates for each year\n",
    "independent_count_13 = candid13[candid13['party'].isin(['IND', 'Independent'])].shape[0]\n",
    "independent_count_18 = candid18[candid18['party'].isin(['IND', 'Independent'])].shape[0]\n",
    "independent_count_23 = candid23[candid23['party'].isin(['IND', 'Independent'])].shape[0]\n",
    "\n",
    "# Create a dataframe with the results\n",
    "independent_counts_df = pd.DataFrame({\n",
    "    'Year': [2013, 2018, 2023],\n",
    "    'Number of Independent Candidates': [independent_count_13, independent_count_18, independent_count_23]\n",
    "})\n",
    "\n",
    "# Display the resulting dataframe\n",
    "independent_counts_df\n"
   ]
  },
  {
   "cell_type": "code",
   "execution_count": 76,
   "metadata": {},
   "outputs": [
    {
     "data": {
      "application/vnd.plotly.v1+json": {
       "config": {
        "plotlyServerURL": "https://plot.ly"
       },
       "data": [
        {
         "hoverinfo": "none",
         "line": {
          "color": "#EF553B"
         },
         "marker": {
          "color": "#EF553B",
          "size": 10,
          "symbol": "diamond"
         },
         "mode": "lines+markers",
         "showlegend": false,
         "type": "scatter",
         "x": [
          2013,
          2018,
          2023
         ],
         "y": [
          1157,
          1107,
          905
         ]
        }
       ],
       "layout": {
        "annotations": [
         {
          "bgcolor": "#EF553B",
          "bordercolor": "black",
          "borderpad": 4,
          "borderwidth": 1,
          "font": {
           "color": "white",
           "family": "Cambria",
           "size": 12
          },
          "showarrow": false,
          "text": "<b>1157</b>",
          "x": 2013,
          "xanchor": "center",
          "y": 1207,
          "yanchor": "middle"
         },
         {
          "bgcolor": "#EF553B",
          "bordercolor": "black",
          "borderpad": 4,
          "borderwidth": 1,
          "font": {
           "color": "white",
           "family": "Cambria",
           "size": 12
          },
          "showarrow": false,
          "text": "<b>1107</b>",
          "x": 2018,
          "xanchor": "center",
          "y": 1157,
          "yanchor": "middle"
         },
         {
          "bgcolor": "#EF553B",
          "bordercolor": "black",
          "borderpad": 4,
          "borderwidth": 1,
          "font": {
           "color": "white",
           "family": "Cambria",
           "size": 12
          },
          "showarrow": false,
          "text": "<b>905</b>",
          "x": 2023,
          "xanchor": "center",
          "y": 955,
          "yanchor": "middle"
         }
        ],
        "autosize": true,
        "dragmode": false,
        "hovermode": false,
        "legend": {
         "itemclick": false,
         "itemdoubleclick": false
        },
        "margin": {
         "b": 20,
         "l": 20,
         "pad": 10,
         "r": 20,
         "t": 70
        },
        "paper_bgcolor": "#f8f8f8",
        "plot_bgcolor": "#f8f8f8",
        "template": {
         "data": {
          "bar": [
           {
            "error_x": {
             "color": "#2a3f5f"
            },
            "error_y": {
             "color": "#2a3f5f"
            },
            "marker": {
             "line": {
              "color": "#E5ECF6",
              "width": 0.5
             },
             "pattern": {
              "fillmode": "overlay",
              "size": 10,
              "solidity": 0.2
             }
            },
            "type": "bar"
           }
          ],
          "barpolar": [
           {
            "marker": {
             "line": {
              "color": "#E5ECF6",
              "width": 0.5
             },
             "pattern": {
              "fillmode": "overlay",
              "size": 10,
              "solidity": 0.2
             }
            },
            "type": "barpolar"
           }
          ],
          "carpet": [
           {
            "aaxis": {
             "endlinecolor": "#2a3f5f",
             "gridcolor": "white",
             "linecolor": "white",
             "minorgridcolor": "white",
             "startlinecolor": "#2a3f5f"
            },
            "baxis": {
             "endlinecolor": "#2a3f5f",
             "gridcolor": "white",
             "linecolor": "white",
             "minorgridcolor": "white",
             "startlinecolor": "#2a3f5f"
            },
            "type": "carpet"
           }
          ],
          "choropleth": [
           {
            "colorbar": {
             "outlinewidth": 0,
             "ticks": ""
            },
            "type": "choropleth"
           }
          ],
          "contour": [
           {
            "colorbar": {
             "outlinewidth": 0,
             "ticks": ""
            },
            "colorscale": [
             [
              0,
              "#0d0887"
             ],
             [
              0.1111111111111111,
              "#46039f"
             ],
             [
              0.2222222222222222,
              "#7201a8"
             ],
             [
              0.3333333333333333,
              "#9c179e"
             ],
             [
              0.4444444444444444,
              "#bd3786"
             ],
             [
              0.5555555555555556,
              "#d8576b"
             ],
             [
              0.6666666666666666,
              "#ed7953"
             ],
             [
              0.7777777777777778,
              "#fb9f3a"
             ],
             [
              0.8888888888888888,
              "#fdca26"
             ],
             [
              1,
              "#f0f921"
             ]
            ],
            "type": "contour"
           }
          ],
          "contourcarpet": [
           {
            "colorbar": {
             "outlinewidth": 0,
             "ticks": ""
            },
            "type": "contourcarpet"
           }
          ],
          "heatmap": [
           {
            "colorbar": {
             "outlinewidth": 0,
             "ticks": ""
            },
            "colorscale": [
             [
              0,
              "#0d0887"
             ],
             [
              0.1111111111111111,
              "#46039f"
             ],
             [
              0.2222222222222222,
              "#7201a8"
             ],
             [
              0.3333333333333333,
              "#9c179e"
             ],
             [
              0.4444444444444444,
              "#bd3786"
             ],
             [
              0.5555555555555556,
              "#d8576b"
             ],
             [
              0.6666666666666666,
              "#ed7953"
             ],
             [
              0.7777777777777778,
              "#fb9f3a"
             ],
             [
              0.8888888888888888,
              "#fdca26"
             ],
             [
              1,
              "#f0f921"
             ]
            ],
            "type": "heatmap"
           }
          ],
          "heatmapgl": [
           {
            "colorbar": {
             "outlinewidth": 0,
             "ticks": ""
            },
            "colorscale": [
             [
              0,
              "#0d0887"
             ],
             [
              0.1111111111111111,
              "#46039f"
             ],
             [
              0.2222222222222222,
              "#7201a8"
             ],
             [
              0.3333333333333333,
              "#9c179e"
             ],
             [
              0.4444444444444444,
              "#bd3786"
             ],
             [
              0.5555555555555556,
              "#d8576b"
             ],
             [
              0.6666666666666666,
              "#ed7953"
             ],
             [
              0.7777777777777778,
              "#fb9f3a"
             ],
             [
              0.8888888888888888,
              "#fdca26"
             ],
             [
              1,
              "#f0f921"
             ]
            ],
            "type": "heatmapgl"
           }
          ],
          "histogram": [
           {
            "marker": {
             "pattern": {
              "fillmode": "overlay",
              "size": 10,
              "solidity": 0.2
             }
            },
            "type": "histogram"
           }
          ],
          "histogram2d": [
           {
            "colorbar": {
             "outlinewidth": 0,
             "ticks": ""
            },
            "colorscale": [
             [
              0,
              "#0d0887"
             ],
             [
              0.1111111111111111,
              "#46039f"
             ],
             [
              0.2222222222222222,
              "#7201a8"
             ],
             [
              0.3333333333333333,
              "#9c179e"
             ],
             [
              0.4444444444444444,
              "#bd3786"
             ],
             [
              0.5555555555555556,
              "#d8576b"
             ],
             [
              0.6666666666666666,
              "#ed7953"
             ],
             [
              0.7777777777777778,
              "#fb9f3a"
             ],
             [
              0.8888888888888888,
              "#fdca26"
             ],
             [
              1,
              "#f0f921"
             ]
            ],
            "type": "histogram2d"
           }
          ],
          "histogram2dcontour": [
           {
            "colorbar": {
             "outlinewidth": 0,
             "ticks": ""
            },
            "colorscale": [
             [
              0,
              "#0d0887"
             ],
             [
              0.1111111111111111,
              "#46039f"
             ],
             [
              0.2222222222222222,
              "#7201a8"
             ],
             [
              0.3333333333333333,
              "#9c179e"
             ],
             [
              0.4444444444444444,
              "#bd3786"
             ],
             [
              0.5555555555555556,
              "#d8576b"
             ],
             [
              0.6666666666666666,
              "#ed7953"
             ],
             [
              0.7777777777777778,
              "#fb9f3a"
             ],
             [
              0.8888888888888888,
              "#fdca26"
             ],
             [
              1,
              "#f0f921"
             ]
            ],
            "type": "histogram2dcontour"
           }
          ],
          "mesh3d": [
           {
            "colorbar": {
             "outlinewidth": 0,
             "ticks": ""
            },
            "type": "mesh3d"
           }
          ],
          "parcoords": [
           {
            "line": {
             "colorbar": {
              "outlinewidth": 0,
              "ticks": ""
             }
            },
            "type": "parcoords"
           }
          ],
          "pie": [
           {
            "automargin": true,
            "type": "pie"
           }
          ],
          "scatter": [
           {
            "fillpattern": {
             "fillmode": "overlay",
             "size": 10,
             "solidity": 0.2
            },
            "type": "scatter"
           }
          ],
          "scatter3d": [
           {
            "line": {
             "colorbar": {
              "outlinewidth": 0,
              "ticks": ""
             }
            },
            "marker": {
             "colorbar": {
              "outlinewidth": 0,
              "ticks": ""
             }
            },
            "type": "scatter3d"
           }
          ],
          "scattercarpet": [
           {
            "marker": {
             "colorbar": {
              "outlinewidth": 0,
              "ticks": ""
             }
            },
            "type": "scattercarpet"
           }
          ],
          "scattergeo": [
           {
            "marker": {
             "colorbar": {
              "outlinewidth": 0,
              "ticks": ""
             }
            },
            "type": "scattergeo"
           }
          ],
          "scattergl": [
           {
            "marker": {
             "colorbar": {
              "outlinewidth": 0,
              "ticks": ""
             }
            },
            "type": "scattergl"
           }
          ],
          "scattermapbox": [
           {
            "marker": {
             "colorbar": {
              "outlinewidth": 0,
              "ticks": ""
             }
            },
            "type": "scattermapbox"
           }
          ],
          "scatterpolar": [
           {
            "marker": {
             "colorbar": {
              "outlinewidth": 0,
              "ticks": ""
             }
            },
            "type": "scatterpolar"
           }
          ],
          "scatterpolargl": [
           {
            "marker": {
             "colorbar": {
              "outlinewidth": 0,
              "ticks": ""
             }
            },
            "type": "scatterpolargl"
           }
          ],
          "scatterternary": [
           {
            "marker": {
             "colorbar": {
              "outlinewidth": 0,
              "ticks": ""
             }
            },
            "type": "scatterternary"
           }
          ],
          "surface": [
           {
            "colorbar": {
             "outlinewidth": 0,
             "ticks": ""
            },
            "colorscale": [
             [
              0,
              "#0d0887"
             ],
             [
              0.1111111111111111,
              "#46039f"
             ],
             [
              0.2222222222222222,
              "#7201a8"
             ],
             [
              0.3333333333333333,
              "#9c179e"
             ],
             [
              0.4444444444444444,
              "#bd3786"
             ],
             [
              0.5555555555555556,
              "#d8576b"
             ],
             [
              0.6666666666666666,
              "#ed7953"
             ],
             [
              0.7777777777777778,
              "#fb9f3a"
             ],
             [
              0.8888888888888888,
              "#fdca26"
             ],
             [
              1,
              "#f0f921"
             ]
            ],
            "type": "surface"
           }
          ],
          "table": [
           {
            "cells": {
             "fill": {
              "color": "#EBF0F8"
             },
             "line": {
              "color": "white"
             }
            },
            "header": {
             "fill": {
              "color": "#C8D4E3"
             },
             "line": {
              "color": "white"
             }
            },
            "type": "table"
           }
          ]
         },
         "layout": {
          "annotationdefaults": {
           "arrowcolor": "#2a3f5f",
           "arrowhead": 0,
           "arrowwidth": 1
          },
          "autotypenumbers": "strict",
          "coloraxis": {
           "colorbar": {
            "outlinewidth": 0,
            "ticks": ""
           }
          },
          "colorscale": {
           "diverging": [
            [
             0,
             "#8e0152"
            ],
            [
             0.1,
             "#c51b7d"
            ],
            [
             0.2,
             "#de77ae"
            ],
            [
             0.3,
             "#f1b6da"
            ],
            [
             0.4,
             "#fde0ef"
            ],
            [
             0.5,
             "#f7f7f7"
            ],
            [
             0.6,
             "#e6f5d0"
            ],
            [
             0.7,
             "#b8e186"
            ],
            [
             0.8,
             "#7fbc41"
            ],
            [
             0.9,
             "#4d9221"
            ],
            [
             1,
             "#276419"
            ]
           ],
           "sequential": [
            [
             0,
             "#0d0887"
            ],
            [
             0.1111111111111111,
             "#46039f"
            ],
            [
             0.2222222222222222,
             "#7201a8"
            ],
            [
             0.3333333333333333,
             "#9c179e"
            ],
            [
             0.4444444444444444,
             "#bd3786"
            ],
            [
             0.5555555555555556,
             "#d8576b"
            ],
            [
             0.6666666666666666,
             "#ed7953"
            ],
            [
             0.7777777777777778,
             "#fb9f3a"
            ],
            [
             0.8888888888888888,
             "#fdca26"
            ],
            [
             1,
             "#f0f921"
            ]
           ],
           "sequentialminus": [
            [
             0,
             "#0d0887"
            ],
            [
             0.1111111111111111,
             "#46039f"
            ],
            [
             0.2222222222222222,
             "#7201a8"
            ],
            [
             0.3333333333333333,
             "#9c179e"
            ],
            [
             0.4444444444444444,
             "#bd3786"
            ],
            [
             0.5555555555555556,
             "#d8576b"
            ],
            [
             0.6666666666666666,
             "#ed7953"
            ],
            [
             0.7777777777777778,
             "#fb9f3a"
            ],
            [
             0.8888888888888888,
             "#fdca26"
            ],
            [
             1,
             "#f0f921"
            ]
           ]
          },
          "colorway": [
           "#636efa",
           "#EF553B",
           "#00cc96",
           "#ab63fa",
           "#FFA15A",
           "#19d3f3",
           "#FF6692",
           "#B6E880",
           "#FF97FF",
           "#FECB52"
          ],
          "font": {
           "color": "#2a3f5f"
          },
          "geo": {
           "bgcolor": "white",
           "lakecolor": "white",
           "landcolor": "#E5ECF6",
           "showlakes": true,
           "showland": true,
           "subunitcolor": "white"
          },
          "hoverlabel": {
           "align": "left"
          },
          "hovermode": "closest",
          "mapbox": {
           "style": "light"
          },
          "paper_bgcolor": "white",
          "plot_bgcolor": "#E5ECF6",
          "polar": {
           "angularaxis": {
            "gridcolor": "white",
            "linecolor": "white",
            "ticks": ""
           },
           "bgcolor": "#E5ECF6",
           "radialaxis": {
            "gridcolor": "white",
            "linecolor": "white",
            "ticks": ""
           }
          },
          "scene": {
           "xaxis": {
            "backgroundcolor": "#E5ECF6",
            "gridcolor": "white",
            "gridwidth": 2,
            "linecolor": "white",
            "showbackground": true,
            "ticks": "",
            "zerolinecolor": "white"
           },
           "yaxis": {
            "backgroundcolor": "#E5ECF6",
            "gridcolor": "white",
            "gridwidth": 2,
            "linecolor": "white",
            "showbackground": true,
            "ticks": "",
            "zerolinecolor": "white"
           },
           "zaxis": {
            "backgroundcolor": "#E5ECF6",
            "gridcolor": "white",
            "gridwidth": 2,
            "linecolor": "white",
            "showbackground": true,
            "ticks": "",
            "zerolinecolor": "white"
           }
          },
          "shapedefaults": {
           "line": {
            "color": "#2a3f5f"
           }
          },
          "ternary": {
           "aaxis": {
            "gridcolor": "white",
            "linecolor": "white",
            "ticks": ""
           },
           "baxis": {
            "gridcolor": "white",
            "linecolor": "white",
            "ticks": ""
           },
           "bgcolor": "#E5ECF6",
           "caxis": {
            "gridcolor": "white",
            "linecolor": "white",
            "ticks": ""
           }
          },
          "title": {
           "x": 0.05
          },
          "xaxis": {
           "automargin": true,
           "gridcolor": "white",
           "linecolor": "white",
           "ticks": "",
           "title": {
            "standoff": 15
           },
           "zerolinecolor": "white",
           "zerolinewidth": 2
          },
          "yaxis": {
           "automargin": true,
           "gridcolor": "white",
           "linecolor": "white",
           "ticks": "",
           "title": {
            "standoff": 15
           },
           "zerolinecolor": "white",
           "zerolinewidth": 2
          }
         }
        },
        "title": {
         "font": {
          "color": "black",
          "family": "Cambria",
          "size": 18
         },
         "text": "Number of Independent Candidates<br>Contesting Over the Years",
         "x": 0.5,
         "xanchor": "center",
         "y": 0.95,
         "yanchor": "top"
        },
        "xaxis": {
         "fixedrange": true,
         "showgrid": false,
         "tickfont": {
          "color": "black",
          "family": "Cambria",
          "size": 14
         },
         "tickvals": [
          2013,
          2018,
          2023
         ],
         "title": {
          "font": {
           "color": "black",
           "family": "Cambria",
           "size": 16
          },
          "text": "Year"
         }
        },
        "yaxis": {
         "fixedrange": true,
         "gridcolor": "lightgrey",
         "range": [
          800,
          1300
         ],
         "showgrid": true,
         "tickfont": {
          "color": "black",
          "family": "Cambria",
          "size": 14
         },
         "tickvals": [
          800,
          900,
          1000,
          1100,
          1200,
          1300
         ],
         "title": {
          "font": {
           "color": "black",
           "family": "Cambria",
           "size": 16
          },
          "text": "Number of Independent Candidates"
         },
         "zeroline": true
        }
       }
      }
     },
     "metadata": {},
     "output_type": "display_data"
    }
   ],
   "source": [
    "fig  = go.Figure()\n",
    "\n",
    "fig.add_trace(go.Scatter(\n",
    "        x=independent_counts_df['Year'],\n",
    "        y=independent_counts_df['Number of Independent Candidates'],\n",
    "        mode='lines+markers',\n",
    "        marker_symbol='diamond',\n",
    "        marker=dict(size=10, color=px.colors.qualitative.Plotly[1]),\n",
    "        line=dict(color=px.colors.qualitative.Plotly[1]),\n",
    "        hoverinfo='none',  # Disable hover\n",
    "        showlegend=False,\n",
    "))\n",
    "\n",
    "for idx, row in independent_counts_df.iterrows():\n",
    "        fig.add_annotation(\n",
    "                x=row['Year'],\n",
    "                y=row['Number of Independent Candidates'] + 50,\n",
    "                text=f\"<b>{row['Number of Independent Candidates']}</b>\",\n",
    "                showarrow=False,\n",
    "                font=dict(color='white', family=\"Cambria\", size=12),\n",
    "                bgcolor=px.colors.qualitative.Plotly[1],\n",
    "                xanchor='center',\n",
    "                yanchor='middle',\n",
    "                bordercolor='black',\n",
    "                borderwidth=1,\n",
    "                borderpad=4,\n",
    "        )\n",
    "\n",
    "# Update layout as per your settings\n",
    "fig.update_layout(\n",
    "    xaxis_title=\"Year\",\n",
    "    yaxis_title=\"Number of Independent Candidates\",\n",
    "    xaxis=dict(\n",
    "        tickvals=independent_counts_df['Year'].unique(), \n",
    "        tickfont=dict(family=\"Cambria\", size=14, color=\"black\"),\n",
    "        titlefont=dict(family=\"Cambria\", size=16, color=\"black\"),\n",
    "        fixedrange=True,\n",
    "        showgrid=False,\n",
    "    ),\n",
    "    yaxis=dict(\n",
    "        range=[800, 1300],\n",
    "        tickvals=[800, 900, 1000, 1100, 1200, 1300],\n",
    "        tickfont=dict(family=\"Cambria\", size=14, color=\"black\"),\n",
    "        titlefont=dict(family=\"Cambria\", size=16, color=\"black\"),\n",
    "        fixedrange=True,\n",
    "        showgrid=True,\n",
    "        zeroline=True,\n",
    "        gridcolor='lightgrey',\n",
    "    ),\n",
    "    title=dict(\n",
    "        font=dict(family=\"Cambria\", size=18, color=\"black\"),\n",
    "        text=\"Number of Independent Candidates<br>Contesting Over the Years\",\n",
    "        xanchor=\"center\",\n",
    "        x=0.5,\n",
    "        yanchor=\"top\",\n",
    "        y=0.95\n",
    "    ),\n",
    "    autosize=True,\n",
    "    dragmode=False,\n",
    "    plot_bgcolor=\"#f8f8f8\",\n",
    "    paper_bgcolor=\"#f8f8f8\",\n",
    "    margin=dict(pad=10, t=70, b=20, l=20, r=20),\n",
    "    legend_itemclick=False,\n",
    "    legend_itemdoubleclick=False,\n",
    "    hovermode=False  # Disable hover globally\n",
    ")\n",
    "\n",
    "pio.write_json(fig, \"plots/independent_candidates.json\")\n",
    "fig"
   ]
  },
  {
   "cell_type": "code",
   "execution_count": null,
   "metadata": {},
   "outputs": [],
   "source": []
  },
  {
   "cell_type": "code",
   "execution_count": null,
   "metadata": {},
   "outputs": [],
   "source": []
  },
  {
   "cell_type": "markdown",
   "metadata": {},
   "source": [
    "## Swing Analysis (Party Turnover)"
   ]
  },
  {
   "cell_type": "code",
   "execution_count": null,
   "metadata": {},
   "outputs": [],
   "source": [
    "\n",
    "# Sort the data by constituency and year for proper comparison\n",
    "df = votemargins.sort_values(by=['const_num', 'Year']) #.reset_index(drop=True)\n",
    "\n",
    "valid_parties = ['BJP', 'INC', 'JD(S)']\n",
    "\n",
    "# # Filter to only include valid parties\n",
    "df['winner_party'] = df['winner_party'].apply(lambda x: x if x in valid_parties or pd.isna(x) else 'Others')\n",
    "df['runner_party'] = df['runner_party'].apply(lambda x: x if x in valid_parties or pd.isna(x) else 'Others')\n",
    "\n",
    "# Create a column to track party turnover\n",
    "df['party_turnover'] = df.groupby('const_num')['winner_party'].transform(\n",
    "    lambda x: x != x.shift()\n",
    ")\n",
    "\n",
    "# Filter to keep only rows where there is a party turnover\n",
    "swing_df = df[(df['party_turnover']) & (df['Year'] > df['Year'].min())] \n",
    "\n",
    "# Ensure the DataFrame is sorted\n",
    "df = df.sort_values(by=['const_num', 'Year'])\n",
    "\n",
    "# Create a lagged column for the previous winner_party\n",
    "df['prev_winner_party'] = df.groupby('const_num')['winner_party'].shift()\n",
    "\n",
    "# Compare to calculate turnover direction\n",
    "df['turnover_direction'] = df.apply(\n",
    "    lambda row: f\"{row['prev_winner_party']} -> {row['winner_party']}\"\n",
    "    if row['prev_winner_party'] != row['winner_party'] else None,\n",
    "    axis=1\n",
    ")\n",
    "\n",
    "# Only keep rows where the turnover direction is not None and parties are BJP, INC, or JD(S)\n",
    "swing_df = df[df['party_turnover']]\n",
    "\n",
    "swing_df = swing_df[swing_df['Year'] > 2013]\n",
    "swing_df = swing_df.dropna(subset=['turnover_direction'])\n",
    "\n",
    "swing_df18 = swing_df[swing_df['Year'] == 2018]\n",
    "swing_df23 = swing_df[swing_df['Year'] == 2023]\n"
   ]
  },
  {
   "cell_type": "code",
   "execution_count": null,
   "metadata": {},
   "outputs": [
    {
     "data": {
      "text/html": [
       "<div>\n",
       "<style scoped>\n",
       "    .dataframe tbody tr th:only-of-type {\n",
       "        vertical-align: middle;\n",
       "    }\n",
       "\n",
       "    .dataframe tbody tr th {\n",
       "        vertical-align: top;\n",
       "    }\n",
       "\n",
       "    .dataframe thead th {\n",
       "        text-align: right;\n",
       "    }\n",
       "</style>\n",
       "<table border=\"1\" class=\"dataframe\">\n",
       "  <thead>\n",
       "    <tr style=\"text-align: right;\">\n",
       "      <th></th>\n",
       "      <th>Turnover Direction</th>\n",
       "      <th>Constituency Count</th>\n",
       "    </tr>\n",
       "  </thead>\n",
       "  <tbody>\n",
       "    <tr>\n",
       "      <th>0</th>\n",
       "      <td>INC -&gt; BJP</td>\n",
       "      <td>58</td>\n",
       "    </tr>\n",
       "    <tr>\n",
       "      <th>1</th>\n",
       "      <td>INC -&gt; JD(S)</td>\n",
       "      <td>13</td>\n",
       "    </tr>\n",
       "    <tr>\n",
       "      <th>2</th>\n",
       "      <td>JD(S) -&gt; INC</td>\n",
       "      <td>13</td>\n",
       "    </tr>\n",
       "    <tr>\n",
       "      <th>3</th>\n",
       "      <td>JD(S) -&gt; BJP</td>\n",
       "      <td>10</td>\n",
       "    </tr>\n",
       "    <tr>\n",
       "      <th>4</th>\n",
       "      <td>Others -&gt; BJP</td>\n",
       "      <td>9</td>\n",
       "    </tr>\n",
       "    <tr>\n",
       "      <th>5</th>\n",
       "      <td>BJP -&gt; INC</td>\n",
       "      <td>9</td>\n",
       "    </tr>\n",
       "    <tr>\n",
       "      <th>6</th>\n",
       "      <td>Others -&gt; INC</td>\n",
       "      <td>8</td>\n",
       "    </tr>\n",
       "    <tr>\n",
       "      <th>7</th>\n",
       "      <td>Others -&gt; JD(S)</td>\n",
       "      <td>4</td>\n",
       "    </tr>\n",
       "    <tr>\n",
       "      <th>8</th>\n",
       "      <td>BJP -&gt; JD(S)</td>\n",
       "      <td>3</td>\n",
       "    </tr>\n",
       "    <tr>\n",
       "      <th>9</th>\n",
       "      <td>INC -&gt; Others</td>\n",
       "      <td>2</td>\n",
       "    </tr>\n",
       "  </tbody>\n",
       "</table>\n",
       "</div>"
      ],
      "text/plain": [
       "  Turnover Direction  Constituency Count\n",
       "0         INC -> BJP                  58\n",
       "1       INC -> JD(S)                  13\n",
       "2       JD(S) -> INC                  13\n",
       "3       JD(S) -> BJP                  10\n",
       "4      Others -> BJP                   9\n",
       "5         BJP -> INC                   9\n",
       "6      Others -> INC                   8\n",
       "7    Others -> JD(S)                   4\n",
       "8       BJP -> JD(S)                   3\n",
       "9      INC -> Others                   2"
      ]
     },
     "metadata": {},
     "output_type": "display_data"
    }
   ],
   "source": [
    "swing_df18_new = (\n",
    "    swing_df18['turnover_direction']\n",
    "    .value_counts()\n",
    "    .sort_values(ascending=False)\n",
    "    .to_frame().reset_index()\n",
    "    .rename(columns={'turnover_direction': 'Turnover Direction', 'count': 'Constituency Count'})\n",
    ")\n",
    "\n",
    "tdict = {}\n",
    "tdict['data'] = swing_df18_new.to_dict('list')\n",
    "tdict['title'] = 'Constitueny Turnover Direction for 2013 to 2018 Assembly Elections'\n",
    "\n",
    "with open('plots/party_turnover_13to18.json', 'w') as f:\n",
    "    json.dump(tdict, f)\n",
    "\n",
    "swing_df18_new"
   ]
  },
  {
   "cell_type": "code",
   "execution_count": null,
   "metadata": {},
   "outputs": [
    {
     "data": {
      "text/html": [
       "<div>\n",
       "<style scoped>\n",
       "    .dataframe tbody tr th:only-of-type {\n",
       "        vertical-align: middle;\n",
       "    }\n",
       "\n",
       "    .dataframe tbody tr th {\n",
       "        vertical-align: top;\n",
       "    }\n",
       "\n",
       "    .dataframe thead th {\n",
       "        text-align: right;\n",
       "    }\n",
       "</style>\n",
       "<table border=\"1\" class=\"dataframe\">\n",
       "  <thead>\n",
       "    <tr style=\"text-align: right;\">\n",
       "      <th></th>\n",
       "      <th>Turnover Direction</th>\n",
       "      <th>Constituency Count</th>\n",
       "    </tr>\n",
       "  </thead>\n",
       "  <tbody>\n",
       "    <tr>\n",
       "      <th>0</th>\n",
       "      <td>BJP -&gt; INC</td>\n",
       "      <td>41</td>\n",
       "    </tr>\n",
       "    <tr>\n",
       "      <th>1</th>\n",
       "      <td>JD(S) -&gt; INC</td>\n",
       "      <td>14</td>\n",
       "    </tr>\n",
       "    <tr>\n",
       "      <th>2</th>\n",
       "      <td>INC -&gt; BJP</td>\n",
       "      <td>11</td>\n",
       "    </tr>\n",
       "    <tr>\n",
       "      <th>3</th>\n",
       "      <td>JD(S) -&gt; BJP</td>\n",
       "      <td>5</td>\n",
       "    </tr>\n",
       "    <tr>\n",
       "      <th>4</th>\n",
       "      <td>BJP -&gt; JD(S)</td>\n",
       "      <td>3</td>\n",
       "    </tr>\n",
       "    <tr>\n",
       "      <th>5</th>\n",
       "      <td>INC -&gt; JD(S)</td>\n",
       "      <td>3</td>\n",
       "    </tr>\n",
       "    <tr>\n",
       "      <th>6</th>\n",
       "      <td>BJP -&gt; Others</td>\n",
       "      <td>2</td>\n",
       "    </tr>\n",
       "    <tr>\n",
       "      <th>7</th>\n",
       "      <td>Others -&gt; INC</td>\n",
       "      <td>1</td>\n",
       "    </tr>\n",
       "    <tr>\n",
       "      <th>8</th>\n",
       "      <td>INC -&gt; Others</td>\n",
       "      <td>1</td>\n",
       "    </tr>\n",
       "    <tr>\n",
       "      <th>9</th>\n",
       "      <td>JD(S) -&gt; Others</td>\n",
       "      <td>1</td>\n",
       "    </tr>\n",
       "  </tbody>\n",
       "</table>\n",
       "</div>"
      ],
      "text/plain": [
       "  Turnover Direction  Constituency Count\n",
       "0         BJP -> INC                  41\n",
       "1       JD(S) -> INC                  14\n",
       "2         INC -> BJP                  11\n",
       "3       JD(S) -> BJP                   5\n",
       "4       BJP -> JD(S)                   3\n",
       "5       INC -> JD(S)                   3\n",
       "6      BJP -> Others                   2\n",
       "7      Others -> INC                   1\n",
       "8      INC -> Others                   1\n",
       "9    JD(S) -> Others                   1"
      ]
     },
     "metadata": {},
     "output_type": "display_data"
    }
   ],
   "source": [
    "swing_df23_new = (\n",
    "    swing_df23['turnover_direction']\n",
    "    .value_counts()\n",
    "    .sort_values(ascending=False)\n",
    "    .to_frame().reset_index()\n",
    "    .rename(columns={'turnover_direction': 'Turnover Direction', 'count': 'Constituency Count'})\n",
    ")\n",
    "\n",
    "tdict = {}\n",
    "tdict['data'] = swing_df23_new.to_dict('list')\n",
    "tdict['title'] = 'Constitueny Turnover Direction for 2018 to 2023 Assembly Elections'\n",
    "\n",
    "with open('plots/party_turnover_18to23.json', 'w') as f:\n",
    "    json.dump(tdict, f)\n",
    "\n",
    "swing_df23_new"
   ]
  },
  {
   "cell_type": "code",
   "execution_count": null,
   "metadata": {},
   "outputs": [],
   "source": []
  },
  {
   "cell_type": "markdown",
   "metadata": {},
   "source": [
    "## Vote Margins Analysis"
   ]
  },
  {
   "cell_type": "markdown",
   "metadata": {},
   "source": [
    "### 2. Margin Trends Over Time:\n",
    "    - Description: Examine how winning margins have changed over the three election years for each constituency.\n",
    "    - Visualization: Line charts showing margin percentages over time or heatmaps indicating margin changes.\n",
    "    - Insight: Identify constituencies becoming more competitive or more one-sided over time.\n",
    "\n",
    "To analyze the \"Margin Trends Over Time\" in an aggregated way, we can group the data by election years and calculate statistics such as the mean, median, and standard deviation of margin percentages across all constituencies. This will help identify overall trends without focusing on individual constituencies. Heatmaps or line charts can then be used to visualize the change in these aggregated metrics over time.\n",
    "\n",
    "#### Python Code for Analysis and Visualization\n",
    "\n",
    "```python\n",
    "import pandas as pd\n",
    "import matplotlib.pyplot as plt\n",
    "import plotly.express as px\n",
    "\n",
    "# Assuming 'votemargins' is your DataFrame\n",
    "\n",
    "# Group by year and calculate aggregate statistics for margin percentages\n",
    "agg_margin_stats = votemargins.groupby('Year')['margin_percent'].agg(['mean', 'median', 'std']).reset_index()\n",
    "\n",
    "# Display the aggregated statistics\n",
    "import ace_tools as tools; tools.display_dataframe_to_user(name=\"Aggregated Margin Statistics\", dataframe=agg_margin_stats)\n",
    "\n",
    "# Line chart to visualize the trends\n",
    "fig = px.line(\n",
    "    agg_margin_stats,\n",
    "    x='Year',\n",
    "    y=['mean', 'median'],\n",
    "    title=\"Winning Margin Trends Over Time\",\n",
    "    labels={'value': 'Margin Percentage', 'Year': 'Election Year'},\n",
    "    markers=True\n",
    ")\n",
    "fig.update_layout(yaxis_title=\"Margin Percentage\", xaxis_title=\"Year\", legend_title=\"Statistics\")\n",
    "fig.show()\n",
    "\n",
    "# Optional: Heatmap of margin distribution over years\n",
    "votemargins['Year'] = votemargins['Year'].astype(str)  # Convert Year to string for heatmap\n",
    "fig_heatmap = px.histogram(\n",
    "    votemargins,\n",
    "    x='margin_percent',\n",
    "    color='Year',\n",
    "    marginal=\"box\",\n",
    "    nbins=30,\n",
    "    title=\"Distribution of Margin Percentages Over Time\",\n",
    "    labels={'margin_percent': 'Margin Percentage'},\n",
    "    opacity=0.7\n",
    ")\n",
    "fig_heatmap.show()\n",
    "```\n",
    "\n",
    "#### How to Interpret the Results\n",
    "\n",
    "1. **Line Chart Trends**:\n",
    "   - **Mean Margin**: Indicates the average competitiveness across all constituencies. A declining trend in the mean suggests elections are becoming more competitive.\n",
    "   - **Median Margin**: Shows the central tendency, which may be less influenced by outliers than the mean.\n",
    "   - Compare the mean and median to assess if outliers (very high or very low margins) significantly impact the average.\n",
    "\n",
    "2. **Heatmap**:\n",
    "   - The histogram and box plots in the heatmap visualize the spread of margin percentages in each election year.\n",
    "   - If the distribution narrows, elections are becoming uniformly competitive; if it spreads, the disparity between closely contested and one-sided seats is increasing.\n",
    "\n",
    "3. **Insights**:\n",
    "   - Look for years where mean/median margins drop sharply – indicating a trend towards tighter races.\n",
    "   - Notice years with high standard deviation, pointing to a mix of highly competitive and one-sided constituencies.\n",
    "\n",
    "With these visualizations and interpretations, you can provide insights into whether Karnataka elections are becoming more competitive overall or if certain years are marked by pronounced trends."
   ]
  },
  {
   "cell_type": "code",
   "execution_count": 73,
   "metadata": {},
   "outputs": [
    {
     "data": {
      "text/html": [
       "<div>\n",
       "<style scoped>\n",
       "    .dataframe tbody tr th:only-of-type {\n",
       "        vertical-align: middle;\n",
       "    }\n",
       "\n",
       "    .dataframe tbody tr th {\n",
       "        vertical-align: top;\n",
       "    }\n",
       "\n",
       "    .dataframe thead th {\n",
       "        text-align: right;\n",
       "    }\n",
       "</style>\n",
       "<table border=\"1\" class=\"dataframe\">\n",
       "  <thead>\n",
       "    <tr style=\"text-align: right;\">\n",
       "      <th></th>\n",
       "      <th>Year</th>\n",
       "      <th>mean</th>\n",
       "      <th>median</th>\n",
       "      <th>std</th>\n",
       "    </tr>\n",
       "  </thead>\n",
       "  <tbody>\n",
       "    <tr>\n",
       "      <th>0</th>\n",
       "      <td>2013</td>\n",
       "      <td>12.171031</td>\n",
       "      <td>9.847724</td>\n",
       "      <td>10.117178</td>\n",
       "    </tr>\n",
       "    <tr>\n",
       "      <th>1</th>\n",
       "      <td>2018</td>\n",
       "      <td>11.291885</td>\n",
       "      <td>9.121775</td>\n",
       "      <td>9.248627</td>\n",
       "    </tr>\n",
       "    <tr>\n",
       "      <th>2</th>\n",
       "      <td>2023</td>\n",
       "      <td>11.978597</td>\n",
       "      <td>9.128374</td>\n",
       "      <td>10.258886</td>\n",
       "    </tr>\n",
       "  </tbody>\n",
       "</table>\n",
       "</div>"
      ],
      "text/plain": [
       "   Year       mean    median        std\n",
       "0  2013  12.171031  9.847724  10.117178\n",
       "1  2018  11.291885  9.121775   9.248627\n",
       "2  2023  11.978597  9.128374  10.258886"
      ]
     },
     "execution_count": 73,
     "metadata": {},
     "output_type": "execute_result"
    }
   ],
   "source": [
    "# Group by year and calculate aggregate statistics for margin percentages\n",
    "agg_margin_percent_stats = votemargins.groupby('Year')['margin_percent'].agg(['mean', 'median', 'std']).reset_index()\n",
    "\n",
    "# Display the aggregated statistics\n",
    "agg_margin_percent_stats"
   ]
  },
  {
   "cell_type": "code",
   "execution_count": 74,
   "metadata": {},
   "outputs": [
    {
     "data": {
      "text/html": [
       "<div>\n",
       "<style scoped>\n",
       "    .dataframe tbody tr th:only-of-type {\n",
       "        vertical-align: middle;\n",
       "    }\n",
       "\n",
       "    .dataframe tbody tr th {\n",
       "        vertical-align: top;\n",
       "    }\n",
       "\n",
       "    .dataframe thead th {\n",
       "        text-align: right;\n",
       "    }\n",
       "</style>\n",
       "<table border=\"1\" class=\"dataframe\">\n",
       "  <thead>\n",
       "    <tr style=\"text-align: right;\">\n",
       "      <th></th>\n",
       "      <th>Year</th>\n",
       "      <th>mean</th>\n",
       "      <th>median</th>\n",
       "      <th>std</th>\n",
       "    </tr>\n",
       "  </thead>\n",
       "  <tbody>\n",
       "    <tr>\n",
       "      <th>0</th>\n",
       "      <td>2013</td>\n",
       "      <td>16753.397321</td>\n",
       "      <td>13573.0</td>\n",
       "      <td>13756.310310</td>\n",
       "    </tr>\n",
       "    <tr>\n",
       "      <th>1</th>\n",
       "      <td>2018</td>\n",
       "      <td>18405.977578</td>\n",
       "      <td>14280.0</td>\n",
       "      <td>14794.802253</td>\n",
       "    </tr>\n",
       "    <tr>\n",
       "      <th>2</th>\n",
       "      <td>2023</td>\n",
       "      <td>20944.839286</td>\n",
       "      <td>15968.5</td>\n",
       "      <td>17840.669642</td>\n",
       "    </tr>\n",
       "  </tbody>\n",
       "</table>\n",
       "</div>"
      ],
      "text/plain": [
       "   Year          mean   median           std\n",
       "0  2013  16753.397321  13573.0  13756.310310\n",
       "1  2018  18405.977578  14280.0  14794.802253\n",
       "2  2023  20944.839286  15968.5  17840.669642"
      ]
     },
     "execution_count": 74,
     "metadata": {},
     "output_type": "execute_result"
    }
   ],
   "source": [
    "# Group by year and calculate aggregate statistics for margin percentages\n",
    "agg_margin_stats = votemargins.groupby('Year')['vote_difference'].agg(['mean', 'median', 'std']).reset_index()\n",
    "\n",
    "# Display the aggregated statistics\n",
    "agg_margin_stats"
   ]
  },
  {
   "cell_type": "code",
   "execution_count": null,
   "metadata": {},
   "outputs": [],
   "source": [
    "# Line chart to visualize the trends\n",
    "fig = px.line(\n",
    "    agg_margin_stats,\n",
    "    x='Year',\n",
    "    y=['mean', 'median'],\n",
    "    title=\"Winning Margin Trends Over Time\",\n",
    "    labels={'value': 'Margin Percentage', 'Year': 'Election Year'},\n",
    "    markers=True\n",
    ")\n",
    "fig.update_layout(yaxis_title=\"Margin Percentage\", xaxis_title=\"Year\", legend_title=\"Statistics\")\n",
    "fig.show()\n",
    "\n",
    "# Optional: Heatmap of margin distribution over years\n",
    "votemargins['Year'] = votemargins['Year'].astype(str)  # Convert Year to string for heatmap\n",
    "fig_heatmap = px.histogram(\n",
    "    votemargins,\n",
    "    x='margin_percent',\n",
    "    color='Year',\n",
    "    marginal=\"box\",\n",
    "    nbins=30,\n",
    "    title=\"Distribution of Margin Percentages Over Time\",\n",
    "    labels={'margin_percent': 'Margin Percentage'},\n",
    "    opacity=0.7\n",
    ")\n",
    "fig_heatmap.show()"
   ]
  },
  {
   "cell_type": "markdown",
   "metadata": {},
   "source": [
    "### 3. Consistent Strongholds:\n",
    "   - **Description:** Identify constituencies consistently won by the same party with large margins in all three elections.\n",
    "   - **Visualization:** Highlight these constituencies on the map with a distinct color.\n",
    "   - **Insight:** These are party strongholds and can be crucial for understanding a party's base."
   ]
  },
  {
   "cell_type": "markdown",
   "metadata": {},
   "source": [
    "#### Notable Trends to Look For\n",
    "\n",
    "- **Party Dominance:** See which party has the most strongholds. This could indicate a strong statewide presence or influence in certain regions.\n",
    "\n",
    "- **Geographical Clustering:** By visualizing these constituencies on a map, you might notice geographical patterns—such as strongholds concentrated in particular districts or regions. This can provide insights into regional political leanings.\n",
    "\n",
    "- **Change Over Time:** While these constituencies have been consistent strongholds, examining any slight changes in margin percentages could reveal shifts in voter sentiment.\n"
   ]
  },
  {
   "cell_type": "markdown",
   "metadata": {},
   "source": [
    "#### Strongholds by margin"
   ]
  },
  {
   "cell_type": "code",
   "execution_count": 79,
   "metadata": {},
   "outputs": [
    {
     "name": "stdout",
     "output_type": "stream",
     "text": [
      "Threshold for Large Margins: 16.004017525507972 \n",
      "\n",
      "Stronghold Constituencies:\n",
      "['Arabhavi', 'Basavanagudi', 'Kanakapura', 'Malleshwaram', 'Sarvagnanagar', 'Varuna']\n",
      "\n",
      "Number of Strongholds per Party:\n",
      "winner_party\n",
      "BJP    3\n",
      "INC    3\n",
      "Name: constituency, dtype: int64\n"
     ]
    },
    {
     "name": "stderr",
     "output_type": "stream",
     "text": [
      "C:\\Users\\bhagy\\AppData\\Local\\Temp\\ipykernel_44784\\1367394571.py:17: DeprecationWarning: DataFrameGroupBy.apply operated on the grouping columns. This behavior is deprecated, and in a future version of pandas the grouping columns will be excluded from the operation. Either pass `include_groups=False` to exclude the groupings or explicitly select the grouping columns after groupby to silence this warning.\n",
      "  grouped = votemargins.groupby('constituency').apply(check_stronghold)\n"
     ]
    }
   ],
   "source": [
    "\n",
    "# Step 1: Define a threshold for \"large\" margins\n",
    "# Let's consider the top 25% of margin_percent as large margins\n",
    "threshold = votemargins['margin_percent'].quantile(0.75)\n",
    "\n",
    "# Step 2: Create a function to check stronghold criteria for each constituency\n",
    "def check_stronghold(group):\n",
    "    same_party = group['winner_party'].nunique() == 1  # Same party won all elections\n",
    "    all_years = group['Year'].nunique() == 3           # Contested in all three elections\n",
    "    large_margins = (group['margin_percent'] >= threshold).all()  # Large margins in all elections\n",
    "    return pd.Series({\n",
    "        'same_party': same_party,\n",
    "        'all_years': all_years,\n",
    "        'large_margins': large_margins\n",
    "    })\n",
    "\n",
    "# Step 3: Apply the function to each group of constituencies\n",
    "grouped = votemargins.groupby('constituency').apply(check_stronghold)\n",
    "\n",
    "# Step 4: Filter constituencies that meet all stronghold criteria\n",
    "strongholds = grouped[\n",
    "    (grouped['same_party']) & \n",
    "    (grouped['all_years']) & \n",
    "    (grouped['large_margins'])\n",
    "]\n",
    "\n",
    "# Step 5: Get the list of stronghold constituencies\n",
    "stronghold_constituencies = strongholds.index.tolist()\n",
    "\n",
    "# Step 6: Extract data for these stronghold constituencies\n",
    "stronghold_data = votemargins[votemargins['constituency'].isin(stronghold_constituencies)]\n",
    "\n",
    "# Step 7: Interpret the results\n",
    "# Count the number of strongholds per party\n",
    "stronghold_counts = stronghold_data.groupby('winner_party')['constituency'].nunique()\n",
    "\n",
    "print(\"Threshold for Large Margins:\", threshold, '\\n')\n",
    "print(\"Stronghold Constituencies:\")\n",
    "print(stronghold_constituencies)\n",
    "print(\"\\nNumber of Strongholds per Party:\")\n",
    "print(stronghold_counts)\n",
    "\n",
    "# Visualization Step (Optional):\n",
    "# Merge 'stronghold_data' with your geo-json data and use Plotly to highlight these constituencies on the map.\n"
   ]
  },
  {
   "cell_type": "code",
   "execution_count": 80,
   "metadata": {},
   "outputs": [
    {
     "data": {
      "text/html": [
       "<div>\n",
       "<style scoped>\n",
       "    .dataframe tbody tr th:only-of-type {\n",
       "        vertical-align: middle;\n",
       "    }\n",
       "\n",
       "    .dataframe tbody tr th {\n",
       "        vertical-align: top;\n",
       "    }\n",
       "\n",
       "    .dataframe thead th {\n",
       "        text-align: right;\n",
       "    }\n",
       "</style>\n",
       "<table border=\"1\" class=\"dataframe\">\n",
       "  <thead>\n",
       "    <tr style=\"text-align: right;\">\n",
       "      <th></th>\n",
       "      <th>Year</th>\n",
       "      <th>const_num</th>\n",
       "      <th>constituency</th>\n",
       "      <th>total_const_votes</th>\n",
       "      <th>winner_name</th>\n",
       "      <th>winner_party</th>\n",
       "      <th>winner_votes</th>\n",
       "      <th>runner_name</th>\n",
       "      <th>runner_party</th>\n",
       "      <th>runner_votes</th>\n",
       "      <th>vote_difference</th>\n",
       "      <th>margin_percent</th>\n",
       "    </tr>\n",
       "  </thead>\n",
       "  <tbody>\n",
       "    <tr>\n",
       "      <th>7</th>\n",
       "      <td>2013</td>\n",
       "      <td>8</td>\n",
       "      <td>Arabhavi</td>\n",
       "      <td>145099.0</td>\n",
       "      <td>Balachandra Laxmanrao Jarkiholi</td>\n",
       "      <td>BJP</td>\n",
       "      <td>99283.0</td>\n",
       "      <td>Utagi Ramappa Kareppa</td>\n",
       "      <td>INC</td>\n",
       "      <td>24062.0</td>\n",
       "      <td>75221.0</td>\n",
       "      <td>51.841157</td>\n",
       "    </tr>\n",
       "    <tr>\n",
       "      <th>231</th>\n",
       "      <td>2018</td>\n",
       "      <td>8</td>\n",
       "      <td>Arabhavi</td>\n",
       "      <td>176936.0</td>\n",
       "      <td>Balachandra Lakshmanarao Jarakiholi</td>\n",
       "      <td>BJP</td>\n",
       "      <td>96144.0</td>\n",
       "      <td>Bhimappa Gundappa Gadad</td>\n",
       "      <td>JD(S)</td>\n",
       "      <td>48816.0</td>\n",
       "      <td>47328.0</td>\n",
       "      <td>26.748655</td>\n",
       "    </tr>\n",
       "    <tr>\n",
       "      <th>452</th>\n",
       "      <td>2023</td>\n",
       "      <td>8</td>\n",
       "      <td>Arabhavi</td>\n",
       "      <td>190105.0</td>\n",
       "      <td>Balachandra Laxmanrao Jarkiholi</td>\n",
       "      <td>BJP</td>\n",
       "      <td>115402.0</td>\n",
       "      <td>Bhimappa Gundappa Gadad</td>\n",
       "      <td>IND</td>\n",
       "      <td>43862.0</td>\n",
       "      <td>71540.0</td>\n",
       "      <td>37.631835</td>\n",
       "    </tr>\n",
       "    <tr>\n",
       "      <th>169</th>\n",
       "      <td>2013</td>\n",
       "      <td>170</td>\n",
       "      <td>Basavanagudi</td>\n",
       "      <td>103647.0</td>\n",
       "      <td>Ravi Subramanya.L.A.</td>\n",
       "      <td>BJP</td>\n",
       "      <td>43876.0</td>\n",
       "      <td>K.Bagegowda</td>\n",
       "      <td>JD(S)</td>\n",
       "      <td>24163.0</td>\n",
       "      <td>19713.0</td>\n",
       "      <td>19.019364</td>\n",
       "    </tr>\n",
       "    <tr>\n",
       "      <th>393</th>\n",
       "      <td>2018</td>\n",
       "      <td>170</td>\n",
       "      <td>Basavanagudi</td>\n",
       "      <td>130043.0</td>\n",
       "      <td>Ravisubramanya.L.A</td>\n",
       "      <td>BJP</td>\n",
       "      <td>76018.0</td>\n",
       "      <td>K.Bagegowda</td>\n",
       "      <td>JD(S)</td>\n",
       "      <td>38009.0</td>\n",
       "      <td>38009.0</td>\n",
       "      <td>29.228025</td>\n",
       "    </tr>\n",
       "    <tr>\n",
       "      <th>570</th>\n",
       "      <td>2023</td>\n",
       "      <td>170</td>\n",
       "      <td>Basavanagudi</td>\n",
       "      <td>128286.0</td>\n",
       "      <td>Ravi Subramanya L.a.</td>\n",
       "      <td>BJP</td>\n",
       "      <td>78854.0</td>\n",
       "      <td>U.b.venkatesh</td>\n",
       "      <td>INC</td>\n",
       "      <td>23876.0</td>\n",
       "      <td>54978.0</td>\n",
       "      <td>42.855807</td>\n",
       "    </tr>\n",
       "    <tr>\n",
       "      <th>183</th>\n",
       "      <td>2013</td>\n",
       "      <td>184</td>\n",
       "      <td>Kanakapura</td>\n",
       "      <td>176151.0</td>\n",
       "      <td>D.K. Shivakumar</td>\n",
       "      <td>INC</td>\n",
       "      <td>100007.0</td>\n",
       "      <td>P.G.R Sindhia</td>\n",
       "      <td>JD(S)</td>\n",
       "      <td>68583.0</td>\n",
       "      <td>31424.0</td>\n",
       "      <td>17.839240</td>\n",
       "    </tr>\n",
       "    <tr>\n",
       "      <th>406</th>\n",
       "      <td>2018</td>\n",
       "      <td>184</td>\n",
       "      <td>Kanakapura</td>\n",
       "      <td>186152.0</td>\n",
       "      <td>D K Shivakumar</td>\n",
       "      <td>INC</td>\n",
       "      <td>127552.0</td>\n",
       "      <td>Narayana Gowda</td>\n",
       "      <td>JD(S)</td>\n",
       "      <td>47643.0</td>\n",
       "      <td>79909.0</td>\n",
       "      <td>42.926748</td>\n",
       "    </tr>\n",
       "    <tr>\n",
       "      <th>579</th>\n",
       "      <td>2023</td>\n",
       "      <td>184</td>\n",
       "      <td>Kanakapura</td>\n",
       "      <td>190623.0</td>\n",
       "      <td>D K Shivakumar</td>\n",
       "      <td>INC</td>\n",
       "      <td>143023.0</td>\n",
       "      <td>B Nagaraju</td>\n",
       "      <td>JD(S)</td>\n",
       "      <td>20631.0</td>\n",
       "      <td>122392.0</td>\n",
       "      <td>64.206313</td>\n",
       "    </tr>\n",
       "    <tr>\n",
       "      <th>156</th>\n",
       "      <td>2013</td>\n",
       "      <td>157</td>\n",
       "      <td>Malleshwaram</td>\n",
       "      <td>108299.0</td>\n",
       "      <td>Dr. Ashwath Narayan C. N.</td>\n",
       "      <td>BJP</td>\n",
       "      <td>57609.0</td>\n",
       "      <td>B. K. Shivaram.</td>\n",
       "      <td>INC</td>\n",
       "      <td>36543.0</td>\n",
       "      <td>21066.0</td>\n",
       "      <td>19.451703</td>\n",
       "    </tr>\n",
       "    <tr>\n",
       "      <th>380</th>\n",
       "      <td>2018</td>\n",
       "      <td>157</td>\n",
       "      <td>Malleshwaram</td>\n",
       "      <td>123665.0</td>\n",
       "      <td>Dr. Ashwath Narayan.C.N.</td>\n",
       "      <td>BJP</td>\n",
       "      <td>83130.0</td>\n",
       "      <td>Kengal Shreepadharenu</td>\n",
       "      <td>INC</td>\n",
       "      <td>29130.0</td>\n",
       "      <td>54000.0</td>\n",
       "      <td>43.666357</td>\n",
       "    </tr>\n",
       "    <tr>\n",
       "      <th>559</th>\n",
       "      <td>2023</td>\n",
       "      <td>157</td>\n",
       "      <td>Malleshwaram</td>\n",
       "      <td>126493.0</td>\n",
       "      <td>Dr Ashwath Narayan C N</td>\n",
       "      <td>BJP</td>\n",
       "      <td>80606.0</td>\n",
       "      <td>Anoop Iyengar</td>\n",
       "      <td>INC</td>\n",
       "      <td>39304.0</td>\n",
       "      <td>41302.0</td>\n",
       "      <td>32.651609</td>\n",
       "    </tr>\n",
       "    <tr>\n",
       "      <th>159</th>\n",
       "      <td>2013</td>\n",
       "      <td>160</td>\n",
       "      <td>Sarvagnanagar</td>\n",
       "      <td>140672.0</td>\n",
       "      <td>K.J. George</td>\n",
       "      <td>INC</td>\n",
       "      <td>69673.0</td>\n",
       "      <td>Padmanabha Reddy</td>\n",
       "      <td>BJP</td>\n",
       "      <td>46820.0</td>\n",
       "      <td>22853.0</td>\n",
       "      <td>16.245593</td>\n",
       "    </tr>\n",
       "    <tr>\n",
       "      <th>383</th>\n",
       "      <td>2018</td>\n",
       "      <td>160</td>\n",
       "      <td>Sarvagnanagar</td>\n",
       "      <td>178092.0</td>\n",
       "      <td>K.J George</td>\n",
       "      <td>INC</td>\n",
       "      <td>109955.0</td>\n",
       "      <td>M.N.Reddy</td>\n",
       "      <td>BJP</td>\n",
       "      <td>56651.0</td>\n",
       "      <td>53304.0</td>\n",
       "      <td>29.930598</td>\n",
       "    </tr>\n",
       "    <tr>\n",
       "      <th>561</th>\n",
       "      <td>2023</td>\n",
       "      <td>160</td>\n",
       "      <td>Sarvagnanagar</td>\n",
       "      <td>194604.0</td>\n",
       "      <td>Kelachandra Joseph George</td>\n",
       "      <td>INC</td>\n",
       "      <td>118783.0</td>\n",
       "      <td>Padmanabha Reddy</td>\n",
       "      <td>BJP</td>\n",
       "      <td>63015.0</td>\n",
       "      <td>55768.0</td>\n",
       "      <td>28.657170</td>\n",
       "    </tr>\n",
       "    <tr>\n",
       "      <th>218</th>\n",
       "      <td>2013</td>\n",
       "      <td>219</td>\n",
       "      <td>Varuna</td>\n",
       "      <td>160641.0</td>\n",
       "      <td>Siddaramaiah</td>\n",
       "      <td>INC</td>\n",
       "      <td>84385.0</td>\n",
       "      <td>Kapu Siddalingaswamy</td>\n",
       "      <td>KJP</td>\n",
       "      <td>54744.0</td>\n",
       "      <td>29641.0</td>\n",
       "      <td>18.451703</td>\n",
       "    </tr>\n",
       "    <tr>\n",
       "      <th>441</th>\n",
       "      <td>2018</td>\n",
       "      <td>219</td>\n",
       "      <td>Varuna</td>\n",
       "      <td>175048.0</td>\n",
       "      <td>Yathindra S</td>\n",
       "      <td>INC</td>\n",
       "      <td>96435.0</td>\n",
       "      <td>T Basavaraju</td>\n",
       "      <td>BJP</td>\n",
       "      <td>37819.0</td>\n",
       "      <td>58616.0</td>\n",
       "      <td>33.485673</td>\n",
       "    </tr>\n",
       "    <tr>\n",
       "      <th>607</th>\n",
       "      <td>2023</td>\n",
       "      <td>219</td>\n",
       "      <td>Varuna</td>\n",
       "      <td>199379.0</td>\n",
       "      <td>Siddaramaiah</td>\n",
       "      <td>INC</td>\n",
       "      <td>119816.0</td>\n",
       "      <td>V. Somanna</td>\n",
       "      <td>BJP</td>\n",
       "      <td>73653.0</td>\n",
       "      <td>46163.0</td>\n",
       "      <td>23.153391</td>\n",
       "    </tr>\n",
       "  </tbody>\n",
       "</table>\n",
       "</div>"
      ],
      "text/plain": [
       "     Year  const_num   constituency  total_const_votes  \\\n",
       "7    2013          8       Arabhavi           145099.0   \n",
       "231  2018          8       Arabhavi           176936.0   \n",
       "452  2023          8       Arabhavi           190105.0   \n",
       "169  2013        170   Basavanagudi           103647.0   \n",
       "393  2018        170   Basavanagudi           130043.0   \n",
       "570  2023        170   Basavanagudi           128286.0   \n",
       "183  2013        184     Kanakapura           176151.0   \n",
       "406  2018        184     Kanakapura           186152.0   \n",
       "579  2023        184     Kanakapura           190623.0   \n",
       "156  2013        157   Malleshwaram           108299.0   \n",
       "380  2018        157   Malleshwaram           123665.0   \n",
       "559  2023        157   Malleshwaram           126493.0   \n",
       "159  2013        160  Sarvagnanagar           140672.0   \n",
       "383  2018        160  Sarvagnanagar           178092.0   \n",
       "561  2023        160  Sarvagnanagar           194604.0   \n",
       "218  2013        219         Varuna           160641.0   \n",
       "441  2018        219         Varuna           175048.0   \n",
       "607  2023        219         Varuna           199379.0   \n",
       "\n",
       "                             winner_name winner_party  winner_votes  \\\n",
       "7        Balachandra Laxmanrao Jarkiholi          BJP       99283.0   \n",
       "231  Balachandra Lakshmanarao Jarakiholi          BJP       96144.0   \n",
       "452      Balachandra Laxmanrao Jarkiholi          BJP      115402.0   \n",
       "169                 Ravi Subramanya.L.A.          BJP       43876.0   \n",
       "393                   Ravisubramanya.L.A          BJP       76018.0   \n",
       "570                 Ravi Subramanya L.a.          BJP       78854.0   \n",
       "183                      D.K. Shivakumar          INC      100007.0   \n",
       "406                       D K Shivakumar          INC      127552.0   \n",
       "579                       D K Shivakumar          INC      143023.0   \n",
       "156            Dr. Ashwath Narayan C. N.          BJP       57609.0   \n",
       "380             Dr. Ashwath Narayan.C.N.          BJP       83130.0   \n",
       "559               Dr Ashwath Narayan C N          BJP       80606.0   \n",
       "159                          K.J. George          INC       69673.0   \n",
       "383                           K.J George          INC      109955.0   \n",
       "561            Kelachandra Joseph George          INC      118783.0   \n",
       "218                         Siddaramaiah          INC       84385.0   \n",
       "441                          Yathindra S          INC       96435.0   \n",
       "607                         Siddaramaiah          INC      119816.0   \n",
       "\n",
       "                 runner_name runner_party  runner_votes  vote_difference  \\\n",
       "7      Utagi Ramappa Kareppa          INC       24062.0          75221.0   \n",
       "231  Bhimappa Gundappa Gadad        JD(S)       48816.0          47328.0   \n",
       "452  Bhimappa Gundappa Gadad          IND       43862.0          71540.0   \n",
       "169              K.Bagegowda        JD(S)       24163.0          19713.0   \n",
       "393              K.Bagegowda        JD(S)       38009.0          38009.0   \n",
       "570            U.b.venkatesh          INC       23876.0          54978.0   \n",
       "183            P.G.R Sindhia        JD(S)       68583.0          31424.0   \n",
       "406           Narayana Gowda        JD(S)       47643.0          79909.0   \n",
       "579               B Nagaraju        JD(S)       20631.0         122392.0   \n",
       "156          B. K. Shivaram.          INC       36543.0          21066.0   \n",
       "380    Kengal Shreepadharenu          INC       29130.0          54000.0   \n",
       "559            Anoop Iyengar          INC       39304.0          41302.0   \n",
       "159         Padmanabha Reddy          BJP       46820.0          22853.0   \n",
       "383                M.N.Reddy          BJP       56651.0          53304.0   \n",
       "561         Padmanabha Reddy          BJP       63015.0          55768.0   \n",
       "218     Kapu Siddalingaswamy          KJP       54744.0          29641.0   \n",
       "441             T Basavaraju          BJP       37819.0          58616.0   \n",
       "607               V. Somanna          BJP       73653.0          46163.0   \n",
       "\n",
       "     margin_percent  \n",
       "7         51.841157  \n",
       "231       26.748655  \n",
       "452       37.631835  \n",
       "169       19.019364  \n",
       "393       29.228025  \n",
       "570       42.855807  \n",
       "183       17.839240  \n",
       "406       42.926748  \n",
       "579       64.206313  \n",
       "156       19.451703  \n",
       "380       43.666357  \n",
       "559       32.651609  \n",
       "159       16.245593  \n",
       "383       29.930598  \n",
       "561       28.657170  \n",
       "218       18.451703  \n",
       "441       33.485673  \n",
       "607       23.153391  "
      ]
     },
     "execution_count": 80,
     "metadata": {},
     "output_type": "execute_result"
    }
   ],
   "source": [
    "stronghold_data.sort_values(by=['constituency', 'Year'])"
   ]
  },
  {
   "cell_type": "markdown",
   "metadata": {},
   "source": [
    "#### Strongholds by voteshare"
   ]
  },
  {
   "cell_type": "code",
   "execution_count": 81,
   "metadata": {},
   "outputs": [
    {
     "name": "stdout",
     "output_type": "stream",
     "text": [
      "Stronghold Constituencies (50% Vote Share Criterion):\n",
      "['Arabhavi', 'Chikkodi-Sadalga', 'Davanagere South', 'Hosakote', 'Hukkeri', 'Kanakapura', 'Malleshwaram', 'Mangalore', 'Shivajinagar', 'Varuna']\n",
      "\n",
      "Number of Strongholds per Party:\n",
      "winner_party\n",
      "BJP    3\n",
      "INC    7\n",
      "Name: constituency, dtype: int64\n"
     ]
    },
    {
     "name": "stderr",
     "output_type": "stream",
     "text": [
      "C:\\Users\\bhagy\\AppData\\Local\\Temp\\ipykernel_44784\\3660011606.py:18: DeprecationWarning: DataFrameGroupBy.apply operated on the grouping columns. This behavior is deprecated, and in a future version of pandas the grouping columns will be excluded from the operation. Either pass `include_groups=False` to exclude the groupings or explicitly select the grouping columns after groupby to silence this warning.\n",
      "  grouped_voteshares = votemargins.groupby('constituency').apply(check_stronghold_voteshare)\n"
     ]
    }
   ],
   "source": [
    "# import pandas as pd\n",
    "\n",
    "# Step 1: Calculate winner's vote share\n",
    "votemargins['vote_share_percent'] = (votemargins['winner_votes'] / votemargins['total_const_votes']) * 100\n",
    "\n",
    "# Step 2: Create a function to check stronghold criteria for each constituency\n",
    "def check_stronghold_voteshare(group):\n",
    "    same_party = group['winner_party'].nunique() == 1  # Same party won all elections\n",
    "    all_years = group['Year'].nunique() == 3           # Contested in all three elections\n",
    "    large_voteshares = (group['vote_share_percent'] >= 50).all()  # Winner always got at least 50% voteshare\n",
    "    return pd.Series({\n",
    "        'same_party': same_party,\n",
    "        'all_years': all_years,\n",
    "        'large_voteshares': large_voteshares\n",
    "    })\n",
    "\n",
    "# Step 3: Apply the function to each group of constituencies\n",
    "grouped_voteshares = votemargins.groupby('constituency').apply(check_stronghold_voteshare)\n",
    "\n",
    "# Step 4: Filter constituencies that meet all stronghold criteria\n",
    "strongholds_voteshares = grouped_voteshares[\n",
    "    (grouped_voteshares['same_party']) & \n",
    "    (grouped_voteshares['all_years']) & \n",
    "    (grouped_voteshares['large_voteshares'])\n",
    "]\n",
    "\n",
    "# Step 5: Get the list of stronghold constituencies\n",
    "stronghold_constituencies_voteshares = strongholds_voteshares.index.tolist()\n",
    "\n",
    "# Step 6: Extract data for these stronghold constituencies\n",
    "stronghold_data_voteshares = votemargins[votemargins['constituency'].isin(stronghold_constituencies_voteshares)]\n",
    "\n",
    "# Step 7: Interpret the results\n",
    "# Count the number of strongholds per party\n",
    "stronghold_counts_voteshares = stronghold_data_voteshares.groupby('winner_party')['constituency'].nunique()\n",
    "\n",
    "print(\"Stronghold Constituencies (50% Vote Share Criterion):\")\n",
    "print(stronghold_constituencies_voteshares)\n",
    "print(\"\\nNumber of Strongholds per Party:\")\n",
    "print(stronghold_counts_voteshares)\n",
    "\n",
    "# Visualization Step (Optional):\n",
    "# Merge 'stronghold_data_voteshares' with your geo-json data and use Plotly to highlight these constituencies on the map.\n"
   ]
  },
  {
   "cell_type": "code",
   "execution_count": null,
   "metadata": {},
   "outputs": [],
   "source": []
  },
  {
   "cell_type": "markdown",
   "metadata": {},
   "source": [
    "### 4. Battleground Constituencies\n",
    "\n",
    "- Description: Identify constituencies with narrow margins in all three elections, indicating high competitiveness.\n",
    "- Visualization: Use a map to highlight these areas, or bar charts comparing margins.\n",
    "- Insight: These are key areas where small changes in voter sentiment can swing the result."
   ]
  },
  {
   "cell_type": "markdown",
   "metadata": {},
   "source": []
  },
  {
   "cell_type": "code",
   "execution_count": null,
   "metadata": {},
   "outputs": [],
   "source": []
  },
  {
   "cell_type": "code",
   "execution_count": 77,
   "metadata": {},
   "outputs": [],
   "source": [
    "# Assume votemargins is your dataframe\n",
    "# For a chosen threshold, say margin_threshold = 0.05 (5%)\n",
    "def trialfunc(group):\n",
    "    if group.shape[0] != 3:\n",
    "        return False\n",
    "    return (group['margin_percent'] < margin_threshold).all()\n",
    "\n",
    "margin_threshold = 5\n",
    "battlegrounds = (\n",
    "    votemargins\n",
    "    .groupby('constituency')\n",
    "    .filter(trialfunc)\n",
    ").astype({'total_const_votes': 'int64', 'winner_votes': 'int64', 'runner_votes': 'int64', 'vote_difference': 'int64'})\n",
    "battlegrounds['margin_percent'] = battlegrounds['margin_percent'].apply(lambda x: round(x, 2))\n"
   ]
  },
  {
   "cell_type": "code",
   "execution_count": 78,
   "metadata": {},
   "outputs": [
    {
     "data": {
      "text/html": [
       "<div>\n",
       "<style scoped>\n",
       "    .dataframe tbody tr th:only-of-type {\n",
       "        vertical-align: middle;\n",
       "    }\n",
       "\n",
       "    .dataframe tbody tr th {\n",
       "        vertical-align: top;\n",
       "    }\n",
       "\n",
       "    .dataframe thead th {\n",
       "        text-align: right;\n",
       "    }\n",
       "</style>\n",
       "<table border=\"1\" class=\"dataframe\">\n",
       "  <thead>\n",
       "    <tr style=\"text-align: right;\">\n",
       "      <th></th>\n",
       "      <th>Year</th>\n",
       "      <th>constituency</th>\n",
       "      <th>total_const_votes</th>\n",
       "      <th>winner_name</th>\n",
       "      <th>winner_party</th>\n",
       "      <th>winner_votes</th>\n",
       "      <th>runner_name</th>\n",
       "      <th>runner_party</th>\n",
       "      <th>runner_votes</th>\n",
       "      <th>vote_difference</th>\n",
       "      <th>margin_percent</th>\n",
       "    </tr>\n",
       "  </thead>\n",
       "  <tbody>\n",
       "    <tr>\n",
       "      <th>15</th>\n",
       "      <td>2013</td>\n",
       "      <td>Bailhongal</td>\n",
       "      <td>126797</td>\n",
       "      <td>Dr Vishwanath Iranagouda Patil</td>\n",
       "      <td>KJP</td>\n",
       "      <td>40709</td>\n",
       "      <td>Jagadish C. Metgud</td>\n",
       "      <td>BJP</td>\n",
       "      <td>37088</td>\n",
       "      <td>3621</td>\n",
       "      <td>2.86</td>\n",
       "    </tr>\n",
       "    <tr>\n",
       "      <th>239</th>\n",
       "      <td>2018</td>\n",
       "      <td>Bailhongal</td>\n",
       "      <td>144800</td>\n",
       "      <td>Koujalagi. Mahantesh. Shivanand.</td>\n",
       "      <td>INC</td>\n",
       "      <td>47040</td>\n",
       "      <td>Jagdish. Channappa Metgud</td>\n",
       "      <td>IND</td>\n",
       "      <td>41918</td>\n",
       "      <td>5122</td>\n",
       "      <td>3.54</td>\n",
       "    </tr>\n",
       "    <tr>\n",
       "      <th>459</th>\n",
       "      <td>2023</td>\n",
       "      <td>Bailhongal</td>\n",
       "      <td>152596</td>\n",
       "      <td>Koujalagi. Mahantesh. Shivanand.</td>\n",
       "      <td>INC</td>\n",
       "      <td>58408</td>\n",
       "      <td>Jagdish Channappa Metgud</td>\n",
       "      <td>BJP</td>\n",
       "      <td>55630</td>\n",
       "      <td>2778</td>\n",
       "      <td>1.82</td>\n",
       "    </tr>\n",
       "    <tr>\n",
       "      <th>75</th>\n",
       "      <td>2013</td>\n",
       "      <td>Haliyal</td>\n",
       "      <td>120150</td>\n",
       "      <td>Deshpande. R. V.</td>\n",
       "      <td>INC</td>\n",
       "      <td>55005</td>\n",
       "      <td>Sunil Hegade</td>\n",
       "      <td>JD(S)</td>\n",
       "      <td>49066</td>\n",
       "      <td>5939</td>\n",
       "      <td>4.94</td>\n",
       "    </tr>\n",
       "    <tr>\n",
       "      <th>299</th>\n",
       "      <td>2018</td>\n",
       "      <td>Haliyal</td>\n",
       "      <td>132685</td>\n",
       "      <td>Deshpande R.V</td>\n",
       "      <td>INC</td>\n",
       "      <td>61577</td>\n",
       "      <td>Sunil Hegade</td>\n",
       "      <td>BJP</td>\n",
       "      <td>56437</td>\n",
       "      <td>5140</td>\n",
       "      <td>3.87</td>\n",
       "    </tr>\n",
       "    <tr>\n",
       "      <th>500</th>\n",
       "      <td>2023</td>\n",
       "      <td>Haliyal</td>\n",
       "      <td>142827</td>\n",
       "      <td>Deshpande Raghunath</td>\n",
       "      <td>INC</td>\n",
       "      <td>57240</td>\n",
       "      <td>Sunil Hegade</td>\n",
       "      <td>BJP</td>\n",
       "      <td>53617</td>\n",
       "      <td>3623</td>\n",
       "      <td>2.54</td>\n",
       "    </tr>\n",
       "    <tr>\n",
       "      <th>177</th>\n",
       "      <td>2013</td>\n",
       "      <td>Hosakote</td>\n",
       "      <td>166395</td>\n",
       "      <td>M.T.B. Nagaraj</td>\n",
       "      <td>INC</td>\n",
       "      <td>85238</td>\n",
       "      <td>B N Bachegowda</td>\n",
       "      <td>BJP</td>\n",
       "      <td>78099</td>\n",
       "      <td>7139</td>\n",
       "      <td>4.29</td>\n",
       "    </tr>\n",
       "    <tr>\n",
       "      <th>400</th>\n",
       "      <td>2018</td>\n",
       "      <td>Hosakote</td>\n",
       "      <td>193071</td>\n",
       "      <td>N Nagaraju (M.T.B)</td>\n",
       "      <td>INC</td>\n",
       "      <td>98824</td>\n",
       "      <td>Sharath Kumar Bachegowda</td>\n",
       "      <td>BJP</td>\n",
       "      <td>91227</td>\n",
       "      <td>7597</td>\n",
       "      <td>3.93</td>\n",
       "    </tr>\n",
       "    <tr>\n",
       "      <th>575</th>\n",
       "      <td>2023</td>\n",
       "      <td>Hosakote</td>\n",
       "      <td>213896</td>\n",
       "      <td>Sharath Kumar Bachegowda</td>\n",
       "      <td>INC</td>\n",
       "      <td>107220</td>\n",
       "      <td>N Nagaraju</td>\n",
       "      <td>BJP</td>\n",
       "      <td>102145</td>\n",
       "      <td>5075</td>\n",
       "      <td>2.37</td>\n",
       "    </tr>\n",
       "    <tr>\n",
       "      <th>122</th>\n",
       "      <td>2013</td>\n",
       "      <td>Sringeri</td>\n",
       "      <td>119957</td>\n",
       "      <td>D.N. Jeevaraj</td>\n",
       "      <td>BJP</td>\n",
       "      <td>58402</td>\n",
       "      <td>T.D. Raje Gowda</td>\n",
       "      <td>INC</td>\n",
       "      <td>54950</td>\n",
       "      <td>3452</td>\n",
       "      <td>2.88</td>\n",
       "    </tr>\n",
       "    <tr>\n",
       "      <th>346</th>\n",
       "      <td>2018</td>\n",
       "      <td>Sringeri</td>\n",
       "      <td>137053</td>\n",
       "      <td>T D Rajegowda</td>\n",
       "      <td>INC</td>\n",
       "      <td>62780</td>\n",
       "      <td>D N Jeevaraj</td>\n",
       "      <td>BJP</td>\n",
       "      <td>60791</td>\n",
       "      <td>1989</td>\n",
       "      <td>1.45</td>\n",
       "    </tr>\n",
       "    <tr>\n",
       "      <th>533</th>\n",
       "      <td>2023</td>\n",
       "      <td>Sringeri</td>\n",
       "      <td>141580</td>\n",
       "      <td>T.d.rajegowda</td>\n",
       "      <td>INC</td>\n",
       "      <td>59171</td>\n",
       "      <td>D.n.jeevaraja.</td>\n",
       "      <td>BJP</td>\n",
       "      <td>58970</td>\n",
       "      <td>201</td>\n",
       "      <td>0.14</td>\n",
       "    </tr>\n",
       "    <tr>\n",
       "      <th>131</th>\n",
       "      <td>2013</td>\n",
       "      <td>Tumkur City</td>\n",
       "      <td>138317</td>\n",
       "      <td>Dr. Rafeeq Ahmed S.</td>\n",
       "      <td>INC</td>\n",
       "      <td>43681</td>\n",
       "      <td>G.B. Jyothi Ganesh</td>\n",
       "      <td>KJP</td>\n",
       "      <td>40073</td>\n",
       "      <td>3608</td>\n",
       "      <td>2.61</td>\n",
       "    </tr>\n",
       "    <tr>\n",
       "      <th>355</th>\n",
       "      <td>2018</td>\n",
       "      <td>Tumkur City</td>\n",
       "      <td>169871</td>\n",
       "      <td>G.B. Jyothi Ganesh</td>\n",
       "      <td>BJP</td>\n",
       "      <td>60421</td>\n",
       "      <td>N. Govindaraju</td>\n",
       "      <td>JD(S)</td>\n",
       "      <td>55128</td>\n",
       "      <td>5293</td>\n",
       "      <td>3.12</td>\n",
       "    </tr>\n",
       "    <tr>\n",
       "      <th>540</th>\n",
       "      <td>2023</td>\n",
       "      <td>Tumkur City</td>\n",
       "      <td>175085</td>\n",
       "      <td>G B Jyothi Ganesh</td>\n",
       "      <td>BJP</td>\n",
       "      <td>59165</td>\n",
       "      <td>N Govindaraju</td>\n",
       "      <td>JD(S)</td>\n",
       "      <td>55967</td>\n",
       "      <td>3198</td>\n",
       "      <td>1.83</td>\n",
       "    </tr>\n",
       "    <tr>\n",
       "      <th>132</th>\n",
       "      <td>2013</td>\n",
       "      <td>Tumkur Rural</td>\n",
       "      <td>146725</td>\n",
       "      <td>B.Suresh Gowda</td>\n",
       "      <td>BJP</td>\n",
       "      <td>55029</td>\n",
       "      <td>Gowrishankar.D.C.</td>\n",
       "      <td>JD(S)</td>\n",
       "      <td>53457</td>\n",
       "      <td>1572</td>\n",
       "      <td>1.07</td>\n",
       "    </tr>\n",
       "    <tr>\n",
       "      <th>356</th>\n",
       "      <td>2018</td>\n",
       "      <td>Tumkur Rural</td>\n",
       "      <td>172333</td>\n",
       "      <td>D C Gowrishankar</td>\n",
       "      <td>JD(S)</td>\n",
       "      <td>82740</td>\n",
       "      <td>B Suresh Gowda</td>\n",
       "      <td>BJP</td>\n",
       "      <td>77100</td>\n",
       "      <td>5640</td>\n",
       "      <td>3.27</td>\n",
       "    </tr>\n",
       "    <tr>\n",
       "      <th>541</th>\n",
       "      <td>2023</td>\n",
       "      <td>Tumkur Rural</td>\n",
       "      <td>182389</td>\n",
       "      <td>B.suresh Gowda</td>\n",
       "      <td>BJP</td>\n",
       "      <td>89191</td>\n",
       "      <td>D.c.gowrishankar Swamy</td>\n",
       "      <td>JD(S)</td>\n",
       "      <td>84597</td>\n",
       "      <td>4594</td>\n",
       "      <td>2.52</td>\n",
       "    </tr>\n",
       "  </tbody>\n",
       "</table>\n",
       "</div>"
      ],
      "text/plain": [
       "     Year  constituency  total_const_votes                       winner_name  \\\n",
       "15   2013    Bailhongal             126797    Dr Vishwanath Iranagouda Patil   \n",
       "239  2018    Bailhongal             144800  Koujalagi. Mahantesh. Shivanand.   \n",
       "459  2023    Bailhongal             152596  Koujalagi. Mahantesh. Shivanand.   \n",
       "75   2013       Haliyal             120150                  Deshpande. R. V.   \n",
       "299  2018       Haliyal             132685                     Deshpande R.V   \n",
       "500  2023       Haliyal             142827               Deshpande Raghunath   \n",
       "177  2013      Hosakote             166395                    M.T.B. Nagaraj   \n",
       "400  2018      Hosakote             193071                N Nagaraju (M.T.B)   \n",
       "575  2023      Hosakote             213896          Sharath Kumar Bachegowda   \n",
       "122  2013      Sringeri             119957                     D.N. Jeevaraj   \n",
       "346  2018      Sringeri             137053                     T D Rajegowda   \n",
       "533  2023      Sringeri             141580                     T.d.rajegowda   \n",
       "131  2013   Tumkur City             138317               Dr. Rafeeq Ahmed S.   \n",
       "355  2018   Tumkur City             169871                G.B. Jyothi Ganesh   \n",
       "540  2023   Tumkur City             175085                 G B Jyothi Ganesh   \n",
       "132  2013  Tumkur Rural             146725                    B.Suresh Gowda   \n",
       "356  2018  Tumkur Rural             172333                  D C Gowrishankar   \n",
       "541  2023  Tumkur Rural             182389                    B.suresh Gowda   \n",
       "\n",
       "    winner_party  winner_votes                runner_name runner_party  \\\n",
       "15           KJP         40709         Jagadish C. Metgud          BJP   \n",
       "239          INC         47040  Jagdish. Channappa Metgud          IND   \n",
       "459          INC         58408   Jagdish Channappa Metgud          BJP   \n",
       "75           INC         55005               Sunil Hegade        JD(S)   \n",
       "299          INC         61577               Sunil Hegade          BJP   \n",
       "500          INC         57240               Sunil Hegade          BJP   \n",
       "177          INC         85238             B N Bachegowda          BJP   \n",
       "400          INC         98824   Sharath Kumar Bachegowda          BJP   \n",
       "575          INC        107220                 N Nagaraju          BJP   \n",
       "122          BJP         58402            T.D. Raje Gowda          INC   \n",
       "346          INC         62780               D N Jeevaraj          BJP   \n",
       "533          INC         59171             D.n.jeevaraja.          BJP   \n",
       "131          INC         43681         G.B. Jyothi Ganesh          KJP   \n",
       "355          BJP         60421             N. Govindaraju        JD(S)   \n",
       "540          BJP         59165              N Govindaraju        JD(S)   \n",
       "132          BJP         55029          Gowrishankar.D.C.        JD(S)   \n",
       "356        JD(S)         82740             B Suresh Gowda          BJP   \n",
       "541          BJP         89191     D.c.gowrishankar Swamy        JD(S)   \n",
       "\n",
       "     runner_votes  vote_difference  margin_percent  \n",
       "15          37088             3621            2.86  \n",
       "239         41918             5122            3.54  \n",
       "459         55630             2778            1.82  \n",
       "75          49066             5939            4.94  \n",
       "299         56437             5140            3.87  \n",
       "500         53617             3623            2.54  \n",
       "177         78099             7139            4.29  \n",
       "400         91227             7597            3.93  \n",
       "575        102145             5075            2.37  \n",
       "122         54950             3452            2.88  \n",
       "346         60791             1989            1.45  \n",
       "533         58970              201            0.14  \n",
       "131         40073             3608            2.61  \n",
       "355         55128             5293            3.12  \n",
       "540         55967             3198            1.83  \n",
       "132         53457             1572            1.07  \n",
       "356         77100             5640            3.27  \n",
       "541         84597             4594            2.52  "
      ]
     },
     "execution_count": 78,
     "metadata": {},
     "output_type": "execute_result"
    }
   ],
   "source": [
    "battlegrounds.sort_values(by=['constituency', 'Year']).drop(columns=['const_num'])"
   ]
  },
  {
   "cell_type": "code",
   "execution_count": 42,
   "metadata": {},
   "outputs": [],
   "source": [
    "bailhongal = battlegrounds.query(\"constituency == 'Bailhongal'\").drop(columns=['constituency', 'const_num', 'runner_votes', 'total_const_votes'])\n",
    "bailhongal = bailhongal.sort_values(by='Year').rename(\n",
    " columns={column: column.replace('_', ' ').title() for column in bailhongal.columns}   \n",
    ").to_dict(orient='list')\n",
    "tdict = {}\n",
    "tdict['title'] = 'Bailhongal' \n",
    "tdict['data'] = bailhongal\n",
    "with open('plots/battleground_constituencies_bailhongal.json', 'w') as f:   \n",
    "    json.dump(tdict, f)"
   ]
  },
  {
   "cell_type": "code",
   "execution_count": 44,
   "metadata": {},
   "outputs": [],
   "source": [
    "haliyal = battlegrounds.query(\"constituency == 'Haliyal'\").drop(columns=['constituency', 'const_num', 'runner_votes', 'total_const_votes'])\n",
    "haliyal = haliyal.sort_values(by='Year').rename(\n",
    " columns={column: column.replace('_', ' ').title() for column in haliyal.columns}   \n",
    ").to_dict(orient='list')\n",
    "tdict = {}\n",
    "tdict['title'] = 'Haliyal' \n",
    "tdict['data'] = haliyal\n",
    "with open('plots/battleground_constituencies_haliyal.json', 'w') as f:   \n",
    "    json.dump(tdict, f)"
   ]
  },
  {
   "cell_type": "code",
   "execution_count": 45,
   "metadata": {},
   "outputs": [],
   "source": [
    "hosakote = battlegrounds.query(\"constituency == 'Hosakote'\").drop(columns=['constituency', 'const_num', 'runner_votes', 'total_const_votes'])\n",
    "hosakote = hosakote.sort_values(by='Year').rename(\n",
    " columns={column: column.replace('_', ' ').title() for column in hosakote.columns}   \n",
    ").to_dict(orient='list')\n",
    "tdict = {}\n",
    "tdict['title'] = 'Hosakote' \n",
    "tdict['data'] = hosakote\n",
    "with open('plots/battleground_constituencies_hosakote.json', 'w') as f:   \n",
    "    json.dump(tdict, f)"
   ]
  },
  {
   "cell_type": "code",
   "execution_count": 60,
   "metadata": {},
   "outputs": [],
   "source": [
    "summary = battlegrounds[['vote_difference', 'margin_percent']].describe().drop(index=['count', 'std', '25%', '75%', '50%']).reset_index()\n",
    "summary.rename(columns={'vote_difference': 'Vote Difference', 'margin_percent': 'Margin Percentage', 'index':'Metric'}, inplace=True)\n",
    "summary.replace({'min':'Minimum', 'max':'Maximum', 'mean':'Mean', '50%':'Median'}, inplace=True)\n",
    "summary['Vote Difference'] = summary['Vote Difference'].astype(int)\n",
    "summary = summary.to_dict(orient='list')\n",
    "tdict = {}\n",
    "tdict['title'] = 'Summary' \n",
    "tdict['data'] = summary\n",
    "with open('plots/battleground_constituencies_summary.json', 'w') as f:   \n",
    "    json.dump(tdict, f)"
   ]
  },
  {
   "cell_type": "markdown",
   "metadata": {},
   "source": [
    "**Approach to the Analysis:**\n",
    "\n",
    "1. **Defining “Narrow Margins”:**  \n",
    "   First, you need to decide on a cutoff that qualifies a margin as \"narrow.\" This could be a specific margin percent (e.g., less than 5%) or a percentile-based threshold (e.g., the bottom 10% of margin_percent values across all constituencies and elections). The choice might depend on the overall distribution of margin_percent.  \n",
    "   - For example, if `margin_percent < 5%` is chosen as a criterion, any constituency that consistently has margins less than 5% across all three elections (2013, 2018, 2023) would be considered a battleground.\n",
    "\n",
    "2. **Identifying Battleground Constituencies:**\n",
    "   - Group the data by constituency.\n",
    "   - For each constituency, check the margin_percent for each of the three election years.\n",
    "   - Filter the constituencies that meet the \"narrow margin\" criterion in all three elections.\n",
    "   \n",
    "   This will give you a subset of the data with only those constituencies that have narrow margins over the last three election cycles.\n",
    "\n",
    "3. **Visualization:**\n",
    "   - **Map Visualization:**  \n",
    "     Using a geo-json of Karnataka, you can highlight these battleground constituencies. For example, with Plotly:\n",
    "     This map would highlight the constituencies with consistently narrow margins. You might choose a uniform color or a gradient to represent how tight the margins are, or simply mark them differently from non-battlegrounds.\n",
    "\n",
    "   - **Bar Charts/Comparative Plots:**  \n",
    "     A bar chart can be used to compare the margin_percent of these battleground constituencies across the three elections. For example, a grouped bar chart showing margin_percent for each year side-by-side for each constituency. This can illustrate how the margins have changed over time within these battlegrounds, even though they remain consistently close.\n",
    "\n",
    "**Interpreting the Results:**\n",
    "\n",
    "- **Temporal Consistency of Battlegrounds:**  \n",
    "  Looking at these constituencies across three different election years allows you to see if competitiveness is a stable characteristic. If the same constituencies are repeatedly battlegrounds, it means these are structurally competitive seats. If new battlegrounds have emerged over time, it might signal changing demographics, shifts in party alignments, or evolving voter preferences."
   ]
  },
  {
   "cell_type": "code",
   "execution_count": null,
   "metadata": {},
   "outputs": [],
   "source": []
  },
  {
   "cell_type": "code",
   "execution_count": null,
   "metadata": {},
   "outputs": [],
   "source": []
  },
  {
   "cell_type": "code",
   "execution_count": null,
   "metadata": {},
   "outputs": [],
   "source": []
  },
  {
   "cell_type": "markdown",
   "metadata": {},
   "source": [
    "## Voter Turnout Analysis"
   ]
  },
  {
   "cell_type": "code",
   "execution_count": 6,
   "metadata": {},
   "outputs": [
    {
     "data": {
      "text/plain": [
       "count    671.000000\n",
       "mean      11.814616\n",
       "std        9.878357\n",
       "min        0.013251\n",
       "25%        4.446522\n",
       "50%        9.277104\n",
       "75%       16.288217\n",
       "max       64.561187\n",
       "Name: margin_percent, dtype: float64"
      ]
     },
     "execution_count": 6,
     "metadata": {},
     "output_type": "execute_result"
    }
   ],
   "source": [
    "votemargins['margin_percent'].describe()"
   ]
  }
 ],
 "metadata": {
  "kernelspec": {
   "display_name": "env",
   "language": "python",
   "name": "python3"
  },
  "language_info": {
   "codemirror_mode": {
    "name": "ipython",
    "version": 3
   },
   "file_extension": ".py",
   "mimetype": "text/x-python",
   "name": "python",
   "nbconvert_exporter": "python",
   "pygments_lexer": "ipython3",
   "version": "3.12.3"
  }
 },
 "nbformat": 4,
 "nbformat_minor": 2
}
