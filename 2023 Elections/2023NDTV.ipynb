{
 "cells": [
  {
   "cell_type": "code",
   "execution_count": 1,
   "id": "e191d0e9",
   "metadata": {},
   "outputs": [],
   "source": [
    "import time\n",
    "from selenium import webdriver\n",
    "from selenium.webdriver.chrome.service import Service\n",
    "from selenium.common.exceptions import TimeoutException, ElementClickInterceptedException, NoSuchElementException\n",
    "from selenium.webdriver.common.by import By\n",
    "from selenium.webdriver.support import expected_conditions as EC\n",
    "from selenium.webdriver.common.desired_capabilities import DesiredCapabilities\n",
    "from selenium.webdriver.support.ui import WebDriverWait\n",
    "from bs4 import BeautifulSoup, SoupStrainer\n",
    "import pandas as pd\n",
    "import numpy as np\n",
    "import requests\n",
    "import re\n",
    "import os\n",
    "import sys\n",
    "\n",
    "DIR = os.getenv('KEA_BASE_DIR')\n",
    "sys.path.append(DIR)\n",
    "\n",
    "import asyncio\n",
    "from cleaning import ndtv_df_cleaner, const_url_extractor, ndtv23_const_corrector, opencity13_const_corrector"
   ]
  },
  {
   "cell_type": "code",
   "execution_count": 4,
   "id": "6bb4e527-7922-445b-83df-088978ed2d8b",
   "metadata": {},
   "outputs": [],
   "source": [
    "DIR = os.getenv('KEA_BASE_DIR')"
   ]
  },
  {
   "cell_type": "code",
   "execution_count": 2,
   "id": "51d40e09",
   "metadata": {},
   "outputs": [],
   "source": [
    "caps = DesiredCapabilities().CHROME\n",
    "caps[\"pageLoadStrategy\"] = \"eager\" # For faster page loading in selenium\n",
    "\n",
    "options = webdriver.ChromeOptions()\n",
    "prefs = {\"profile.managed_default_content_settings.images\": 2} # Limiting the number of images that can be loaded for faster page loading\n",
    "\n",
    "options.add_experimental_option('detach', True) # Detatches the webdriver instance\n",
    "options.add_experimental_option(\"prefs\", prefs)\n",
    "options.add_argument('--headless') # Run browser instance without showing it graphically\n",
    "\n",
    "s = Service(f\"{DIR}/chromedriver/chromedriver.exe\")"
   ]
  },
  {
   "cell_type": "code",
   "execution_count": 3,
   "id": "76223ae7",
   "metadata": {},
   "outputs": [],
   "source": [
    "# Retreiving the HTML code of the NDTV webpage\n",
    "\n",
    "driver = webdriver.Chrome(options=options, service=s, desired_capabilities=caps)\n",
    "driver.set_page_load_timeout(15)\n",
    "driver.get(\"https://www.ndtv.com/elections/karnataka/winning-candidates\")\n",
    "\n",
    "try:\n",
    "    # There is a notification menu that pops up, which hides the HTML of the page underneath untill I dismiss it\n",
    "    WebDriverWait(driver, 20).until(EC.element_to_be_clickable((By.XPATH, '//*[@id=\"__cricketsubscribe\"]/div[2]/div[2]/a[1]'))).click()\n",
    "except TimeoutException:\n",
    "    driver.execute_script(\"window.stop();\")\n",
    "\n",
    "time.sleep(3)\n",
    "html = driver.page_source # Fetching the HTML of the page\n",
    "\n",
    "driver.close()"
   ]
  },
  {
   "cell_type": "code",
   "execution_count": 4,
   "id": "780b545f",
   "metadata": {},
   "outputs": [],
   "source": [
    "lead_c = BeautifulSoup(html, 'lxml')\n",
    "divs = lead_c.find_all('div',class_='kmp_crd-skn') # Finding all the winning candidate info tables"
   ]
  },
  {
   "cell_type": "code",
   "execution_count": 5,
   "id": "aac1e836",
   "metadata": {},
   "outputs": [],
   "source": [
    "# Parsing the tables to extract necessary info into a dictionary\n",
    "\n",
    "temp_dic = {\n",
    "    'name':[],\n",
    "    'constituency':[],\n",
    "    'party':[],\n",
    "    'votes':[],\n",
    "    'age':[],\n",
    "    'gender':[],\n",
    "    'sitting_mla':[]\n",
    "}\n",
    "\n",
    "for div in divs:\n",
    "    temp_dic['name'].append(div.find('span', class_='crd_wrp-ttl').find('a').string)\n",
    "    try:\n",
    "        temp_dic['party'].append(div.find('span', class_='kmp_pty-wrp').text)\n",
    "    except:\n",
    "        temp_dic['party'].append(np.nan)\n",
    "    tags = div.find('div', class_='card_wrp-sum').find_all('li')\n",
    "    temp_dic['constituency'].append(tags[0].text)\n",
    "    temp_dic['votes'].append(tags[1].text)\n",
    "    temp_dic['age'].append(tags[2].text)\n",
    "    temp_dic['gender'].append(tags[3].text)\n",
    "    temp_dic['sitting_mla'].append(tags[9].text)"
   ]
  },
  {
   "cell_type": "code",
   "execution_count": 6,
   "id": "adb338f4",
   "metadata": {},
   "outputs": [
    {
     "name": "stdout",
     "output_type": "stream",
     "text": [
      "<class 'pandas.core.frame.DataFrame'>\n",
      "RangeIndex: 224 entries, 0 to 223\n",
      "Data columns (total 7 columns):\n",
      " #   Column        Non-Null Count  Dtype \n",
      "---  ------        --------------  ----- \n",
      " 0   name          224 non-null    object\n",
      " 1   constituency  224 non-null    object\n",
      " 2   party         224 non-null    object\n",
      " 3   votes         224 non-null    object\n",
      " 4   age           224 non-null    object\n",
      " 5   gender        224 non-null    object\n",
      " 6   sitting_mla   224 non-null    object\n",
      "dtypes: object(7)\n",
      "memory usage: 12.4+ KB\n"
     ]
    }
   ],
   "source": [
    "df1 = pd.DataFrame(temp_dic) # Converting the dictionary to a Dataframe\n",
    "df1.info()"
   ]
  },
  {
   "cell_type": "code",
   "execution_count": 7,
   "id": "40ce59bd",
   "metadata": {
    "scrolled": true
   },
   "outputs": [
    {
     "data": {
      "text/html": [
       "<div>\n",
       "<style scoped>\n",
       "    .dataframe tbody tr th:only-of-type {\n",
       "        vertical-align: middle;\n",
       "    }\n",
       "\n",
       "    .dataframe tbody tr th {\n",
       "        vertical-align: top;\n",
       "    }\n",
       "\n",
       "    .dataframe thead th {\n",
       "        text-align: right;\n",
       "    }\n",
       "</style>\n",
       "<table border=\"1\" class=\"dataframe\">\n",
       "  <thead>\n",
       "    <tr style=\"text-align: right;\">\n",
       "      <th></th>\n",
       "      <th>name</th>\n",
       "      <th>constituency</th>\n",
       "      <th>party</th>\n",
       "      <th>votes</th>\n",
       "      <th>age</th>\n",
       "      <th>gender</th>\n",
       "      <th>sitting_mla</th>\n",
       "    </tr>\n",
       "  </thead>\n",
       "  <tbody>\n",
       "    <tr>\n",
       "      <th>142</th>\n",
       "      <td>Nara Bharath Reddy</td>\n",
       "      <td>Seat :Bellary City</td>\n",
       "      <td>Cong</td>\n",
       "      <td>Votes (% Share) :86440   (48.74%)</td>\n",
       "      <td>Age :33 Years</td>\n",
       "      <td>Gender :M</td>\n",
       "      <td>Sitting MLA :No</td>\n",
       "    </tr>\n",
       "    <tr>\n",
       "      <th>15</th>\n",
       "      <td>Prabhu Chavan</td>\n",
       "      <td>Seat :Aurad</td>\n",
       "      <td>BJP</td>\n",
       "      <td>Votes (% Share) :81382   (51.46%)</td>\n",
       "      <td>Age :53 Years</td>\n",
       "      <td>Gender :M</td>\n",
       "      <td>Sitting MLA :</td>\n",
       "    </tr>\n",
       "    <tr>\n",
       "      <th>212</th>\n",
       "      <td>Karemma</td>\n",
       "      <td>Seat :Devadurga</td>\n",
       "      <td>JDS</td>\n",
       "      <td>Votes (% Share) :99544   (57.65%)</td>\n",
       "      <td>Age :50 Years</td>\n",
       "      <td>Gender :F</td>\n",
       "      <td>Sitting MLA :No</td>\n",
       "    </tr>\n",
       "    <tr>\n",
       "      <th>216</th>\n",
       "      <td>HP Swaroop</td>\n",
       "      <td>Seat :Hassan</td>\n",
       "      <td>JDS</td>\n",
       "      <td>Votes (% Share) :85176   (50.06%)</td>\n",
       "      <td>Age :40 Years</td>\n",
       "      <td>Gender :M</td>\n",
       "      <td>Sitting MLA :No</td>\n",
       "    </tr>\n",
       "    <tr>\n",
       "      <th>28</th>\n",
       "      <td>BP Harish</td>\n",
       "      <td>Seat :Harihar</td>\n",
       "      <td>BJP</td>\n",
       "      <td>Votes (% Share) :63924   (38.07%)</td>\n",
       "      <td>Age :62 Years</td>\n",
       "      <td>Gender :M</td>\n",
       "      <td>Sitting MLA :No</td>\n",
       "    </tr>\n",
       "  </tbody>\n",
       "</table>\n",
       "</div>"
      ],
      "text/plain": [
       "                   name        constituency  party  \\\n",
       "142  Nara Bharath Reddy  Seat :Bellary City   Cong   \n",
       "15        Prabhu Chavan         Seat :Aurad    BJP   \n",
       "212             Karemma     Seat :Devadurga    JDS   \n",
       "216          HP Swaroop        Seat :Hassan    JDS   \n",
       "28            BP Harish       Seat :Harihar    BJP   \n",
       "\n",
       "                                  votes            age     gender  \\\n",
       "142  Votes (% Share) :86440   (48.74%)   Age :33 Years  Gender :M   \n",
       "15   Votes (% Share) :81382   (51.46%)   Age :53 Years  Gender :M   \n",
       "212  Votes (% Share) :99544   (57.65%)   Age :50 Years  Gender :F   \n",
       "216  Votes (% Share) :85176   (50.06%)   Age :40 Years  Gender :M   \n",
       "28   Votes (% Share) :63924   (38.07%)   Age :62 Years  Gender :M   \n",
       "\n",
       "         sitting_mla  \n",
       "142  Sitting MLA :No  \n",
       "15     Sitting MLA :  \n",
       "212  Sitting MLA :No  \n",
       "216  Sitting MLA :No  \n",
       "28   Sitting MLA :No  "
      ]
     },
     "execution_count": 7,
     "metadata": {},
     "output_type": "execute_result"
    }
   ],
   "source": [
    "df1.sample(5)"
   ]
  },
  {
   "cell_type": "code",
   "execution_count": 8,
   "id": "51b9b08a",
   "metadata": {},
   "outputs": [],
   "source": [
    "# The URLs for each constituency have that constituency name in a specific format. Converting the constituencies to that format.\n",
    "list_of_constituencies = sorted(list(df1.constituency.apply(const_url_extractor)))\n",
    "\n",
    "# Cleaning the dataframe.\n",
    "df1 = ndtv_df_cleaner(df1)"
   ]
  },
  {
   "cell_type": "code",
   "execution_count": 18,
   "id": "14e53d73",
   "metadata": {},
   "outputs": [],
   "source": [
    "# Correct party names\n",
    "def party_cleaner(text:str)->str:\n",
    "    text = re.sub(\"^Cong$\",\"INC\",text)\n",
    "    text = re.sub(\"^SKP-Cong$\",\"SKP\",text)\n",
    "    text = re.sub(\"^JDS$\",r\"JD(S)\",text)\n",
    "    return text"
   ]
  },
  {
   "cell_type": "code",
   "execution_count": 13,
   "id": "d24480d2",
   "metadata": {},
   "outputs": [],
   "source": [
    "df1.party = df1.party.apply(party_cleaner) # Correct party names"
   ]
  },
  {
   "cell_type": "code",
   "execution_count": 14,
   "id": "4b9c72ca",
   "metadata": {
    "scrolled": true
   },
   "outputs": [
    {
     "data": {
      "text/html": [
       "<div>\n",
       "<style scoped>\n",
       "    .dataframe tbody tr th:only-of-type {\n",
       "        vertical-align: middle;\n",
       "    }\n",
       "\n",
       "    .dataframe tbody tr th {\n",
       "        vertical-align: top;\n",
       "    }\n",
       "\n",
       "    .dataframe thead th {\n",
       "        text-align: right;\n",
       "    }\n",
       "</style>\n",
       "<table border=\"1\" class=\"dataframe\">\n",
       "  <thead>\n",
       "    <tr style=\"text-align: right;\">\n",
       "      <th></th>\n",
       "      <th>name</th>\n",
       "      <th>constituency</th>\n",
       "      <th>party</th>\n",
       "      <th>votes</th>\n",
       "      <th>age</th>\n",
       "      <th>gender</th>\n",
       "      <th>is_re_elected</th>\n",
       "    </tr>\n",
       "  </thead>\n",
       "  <tbody>\n",
       "    <tr>\n",
       "      <th>102</th>\n",
       "      <td>AC Srinivasa</td>\n",
       "      <td>Pulakeshinagar</td>\n",
       "      <td>INC</td>\n",
       "      <td>87316</td>\n",
       "      <td>56</td>\n",
       "      <td>M</td>\n",
       "      <td>0</td>\n",
       "    </tr>\n",
       "    <tr>\n",
       "      <th>147</th>\n",
       "      <td>KC Veerendra Puppy</td>\n",
       "      <td>Chitradurga</td>\n",
       "      <td>INC</td>\n",
       "      <td>122021</td>\n",
       "      <td>47</td>\n",
       "      <td>M</td>\n",
       "      <td>0</td>\n",
       "    </tr>\n",
       "    <tr>\n",
       "      <th>43</th>\n",
       "      <td>Munirathna</td>\n",
       "      <td>Rajarajeshwarinagar</td>\n",
       "      <td>BJP</td>\n",
       "      <td>127980</td>\n",
       "      <td>59</td>\n",
       "      <td>M</td>\n",
       "      <td>1</td>\n",
       "    </tr>\n",
       "    <tr>\n",
       "      <th>73</th>\n",
       "      <td>C Puttarangashetty</td>\n",
       "      <td>Chamarajanagar</td>\n",
       "      <td>INC</td>\n",
       "      <td>83858</td>\n",
       "      <td>68</td>\n",
       "      <td>M</td>\n",
       "      <td>0</td>\n",
       "    </tr>\n",
       "    <tr>\n",
       "      <th>3</th>\n",
       "      <td>Balachandra L Jarkiholi</td>\n",
       "      <td>Arabhavi</td>\n",
       "      <td>BJP</td>\n",
       "      <td>115402</td>\n",
       "      <td>56</td>\n",
       "      <td>M</td>\n",
       "      <td>1</td>\n",
       "    </tr>\n",
       "  </tbody>\n",
       "</table>\n",
       "</div>"
      ],
      "text/plain": [
       "                        name         constituency party   votes  age gender  \\\n",
       "102             AC Srinivasa       Pulakeshinagar   INC   87316   56      M   \n",
       "147       KC Veerendra Puppy          Chitradurga   INC  122021   47      M   \n",
       "43                Munirathna  Rajarajeshwarinagar   BJP  127980   59      M   \n",
       "73        C Puttarangashetty       Chamarajanagar   INC   83858   68      M   \n",
       "3    Balachandra L Jarkiholi             Arabhavi   BJP  115402   56      M   \n",
       "\n",
       "     is_re_elected  \n",
       "102              0  \n",
       "147              0  \n",
       "43               1  \n",
       "73               0  \n",
       "3                1  "
      ]
     },
     "execution_count": 14,
     "metadata": {},
     "output_type": "execute_result"
    }
   ],
   "source": [
    "# df1.to_csv('constituency2023NDTV.csv') # Converting constituency dataframe to a csv file.\n",
    "df1.sample(5)"
   ]
  },
  {
   "cell_type": "code",
   "execution_count": null,
   "id": "604409e1",
   "metadata": {},
   "outputs": [],
   "source": []
  },
  {
   "cell_type": "code",
   "execution_count": null,
   "id": "a6c623fc",
   "metadata": {},
   "outputs": [],
   "source": []
  },
  {
   "cell_type": "code",
   "execution_count": 9,
   "id": "83bae1b5",
   "metadata": {},
   "outputs": [],
   "source": [
    "# Using a webdriver instance to visit the site, dismiss the notification pop-up which generates cookies.\n",
    "# These cookies ensure that the subsequent visits to this site don't get the same notification pop-up\n",
    "\n",
    "driver = webdriver.Chrome(options=options, service=s, desired_capabilities=caps)\n",
    "driver.get('https://www.ndtv.com/elections/karnataka-vidhan-sabha-election-results-2023/afzalpur')\n",
    "WebDriverWait(driver, 20).until(EC.element_to_be_clickable((By.XPATH, '//*[@id=\"__cricketsubscribe\"]/div[2]/div[2]/a[1]'))).click()\n",
    "time.sleep(5)\n",
    "driver.get('https://www.ndtv.com/elections/karnataka-vidhan-sabha-election-results-2023/aland')\n",
    "time.sleep(5)\n",
    "cookies = driver.get_cookies() # Storing the generated cookies in a dictionary\n",
    "driver.close()"
   ]
  },
  {
   "cell_type": "code",
   "execution_count": 10,
   "id": "bb1b4125",
   "metadata": {},
   "outputs": [],
   "source": [
    "driver = webdriver.Chrome(options=options, service=s, desired_capabilities=caps)\n",
    "if not os.path.exists(f\"{DIR}/2023 Elections/Key candidates NDTV\"):\n",
    "    os.mkdir(f\"{DIR}/2023 Elections/Key candidates NDTV\")\n",
    "# key_candidates = []\n",
    "\n",
    "key_candidates_div = SoupStrainer('div', {'class':'Key_candidates'})"
   ]
  },
  {
   "cell_type": "code",
   "execution_count": 11,
   "id": "4fa7ac71",
   "metadata": {},
   "outputs": [],
   "source": [
    "headers = {'User-Agent':'Mozilla/5.0 (Windows NT 10.0; Win64; x64) AppleWebKit/537.36 (KHTML, like Gecko) Chrome/114.0.0.0 Safari/537.36 Edg/114.0.1823.51',\n",
    "          'Accept':\"text/html,application/xhtml+xml,application/xml;q=0.9,image/webp,image/apng,*/*;q=0.8,application/signed-exchange;v=b3;q=0.7\"}\n",
    "\n",
    "# Adding the stored cookies to a CookieJar object to pass in the GET request\n",
    "jar = requests.cookies.RequestsCookieJar()\n",
    "for cookie_dict in cookies:\n",
    "    for key in cookie_dict:\n",
    "        cookie_dict[key] = str(cookie_dict[key])\n",
    "        jar.update(cookie_dict)\n",
    "\n",
    "# Get HTML of webpage synchronously\n",
    "def get_sync_html(url: str):\n",
    "    response = requests.get(url,headers=headers,timeout=(15.0,30.0),cookies=jar)\n",
    "    return response.text\n",
    "\n",
    "# Get HTML of webpage Asynchronously\n",
    "async def get_html(url: str):\n",
    "    return await asyncio.to_thread(get_sync_html, url)"
   ]
  },
  {
   "cell_type": "code",
   "execution_count": 12,
   "id": "619e7689",
   "metadata": {},
   "outputs": [],
   "source": [
    "# Fetch the HTML of a webpage\n",
    "async def const_details(constituency):\n",
    "    url = f'https://www.ndtv.com/elections/karnataka-vidhan-sabha-election-results-2023/{constituency}'\n",
    "    temp_html = await get_html(url)\n",
    "    temp_html = BeautifulSoup(temp_html, 'lxml', parse_only=key_candidates_div)\n",
    "    with open(f\"{DIR}/2023 Elections/Key candidates NDTV/{constituency}.html\",'w',encoding='utf-8') as f:\n",
    "        f.write(str(temp_html))"
   ]
  },
  {
   "cell_type": "code",
   "execution_count": 13,
   "id": "bf280bb1",
   "metadata": {},
   "outputs": [],
   "source": [
    "# Fetch the HTML of multiple pages at once in multiple batches.\n",
    "for i in range(15):\n",
    "    start = i*15\n",
    "    end = start+15\n",
    "    await asyncio.gather(*[const_details(constituency) for constituency in list_of_constituencies[start:end]])\n",
    "    time.sleep(3.5)"
   ]
  },
  {
   "cell_type": "code",
   "execution_count": 14,
   "id": "18d12fbb",
   "metadata": {},
   "outputs": [],
   "source": [
    "# Save the HTML on local machine.\n",
    "# for i in range(len(key_candidates)):\n",
    "#     with open(f\"{DIR}/2023 Elections/Key candidates NDTV/{list_of_constituencies[i]}.html\",'w',encoding='utf-8') as f:\n",
    "#         f.write(str(key_candidates[i]))"
   ]
  },
  {
   "cell_type": "code",
   "execution_count": null,
   "id": "919adff1",
   "metadata": {},
   "outputs": [],
   "source": []
  },
  {
   "cell_type": "code",
   "execution_count": 15,
   "id": "5a663aff-a3ec-4a9d-ad1c-f5dadc1c988a",
   "metadata": {},
   "outputs": [],
   "source": [
    "temp_dic = {\n",
    "    'constituency':[],\n",
    "    'name':[],\n",
    "    'party':[],\n",
    "    'votes':[],\n",
    "    'gender':[]\n",
    "}\n",
    "\n",
    "headers = {'User-Agent':'Mozilla/5.0 (Windows NT 10.0; Win64; x64) AppleWebKit/537.36 (KHTML, like Gecko) Chrome/114.0.0.0 Safari/537.36 Edg/114.0.1823.51',\n",
    "          'Accept':\"text/html,application/xhtml+xml,application/xml;q=0.9,image/webp,image/apng,*/*;q=0.8,application/signed-exchange;v=b3;q=0.7\"}\n",
    "\n",
    "def http_get_sync(url: str):\n",
    "    response = requests.get(url,headers=headers,timeout=(15.0,30.0))\n",
    "    return response.content\n",
    "    \n",
    "async def http_get(url: str):\n",
    "    return await asyncio.to_thread(http_get_sync, url)\n",
    "    \n",
    "# Parse the HTML to extract necessary info\n",
    "async def candid_details(candidate,filename):\n",
    "    constituency = re.sub(r'\\.html','',filename)\n",
    "    temp_dic['constituency'].append(constituency)\n",
    "    temp_dic['name'].append(candidate.find('span', class_='candidate_nm').a.string.strip())\n",
    "    temp_dic['party'].append(candidate.find('span', class_='party-icon bi').parent.text.strip())\n",
    "    temp_dic['votes'].append(candidate.find_all('li')[-2].text.strip())\n",
    "    html = await http_get(candidate.find('span', class_='candidate_nm').a.attrs['href'])\n",
    "    soup = BeautifulSoup(html,'html.parser')\n",
    "    temp_dic['gender'].append(soup.find('td',class_='lok_lst-tdl',string='Gender').next_sibling.string.strip())\n",
    "\n",
    "# Read the HTML file for a constituency and pass each candidate in that constituency to 'candid_details' function\n",
    "async def candids_from_const(constituency):\n",
    "    with open(f\"{DIR}/2023 Elections/Key candidates NDTV/{constituency}\",'r',encoding='utf-8') as f:\n",
    "        const_html = BeautifulSoup(f.read(),'html.parser')\n",
    "    candidates_table = const_html.find_all('ul',{'id':'key_cand_list'})\n",
    "    await asyncio.gather(*[candid_details(candidate,constituency) for candidate in candidates_table])\n",
    "\n",
    "# List of all HTML files for all constituencies.\n",
    "const_list = os.listdir(f\"{DIR}/2023 Elections/Key candidates NDTV/\")\n",
    "\n",
    "async def main():\n",
    "    for i in range(15):\n",
    "        start = i*15\n",
    "        end = start+15\n",
    "        await asyncio.gather(*[candids_from_const(constituency) for constituency in const_list[start:end]])\n",
    "        time.sleep(2.5)\n",
    "\n",
    "await main()"
   ]
  },
  {
   "cell_type": "code",
   "execution_count": 19,
   "id": "ed6ca7f5",
   "metadata": {},
   "outputs": [
    {
     "name": "stdout",
     "output_type": "stream",
     "text": [
      "<class 'pandas.core.frame.DataFrame'>\n",
      "RangeIndex: 2621 entries, 0 to 2620\n",
      "Data columns (total 5 columns):\n",
      " #   Column        Non-Null Count  Dtype \n",
      "---  ------        --------------  ----- \n",
      " 0   constituency  2621 non-null   object\n",
      " 1   name          2621 non-null   object\n",
      " 2   party         2621 non-null   object\n",
      " 3   votes         2621 non-null   object\n",
      " 4   gender        2621 non-null   object\n",
      "dtypes: object(5)\n",
      "memory usage: 102.5+ KB\n"
     ]
    }
   ],
   "source": [
    "df2 = pd.DataFrame(temp_dic) # Converting the temporary dictionary to a Dataframe\n",
    "df2.info()"
   ]
  },
  {
   "cell_type": "code",
   "execution_count": 20,
   "id": "3e7e4769",
   "metadata": {},
   "outputs": [],
   "source": [
    "# Cleaning the Dataframe\n",
    "\n",
    "df2.constituency = df2.constituency.apply(ndtv23_const_corrector) # Correcting the constituency names\n",
    "df2.party = df2.party.str.strip().astype('category')\n",
    "df2.votes = df2.votes.str.replace(',','') # Removing the commas from votes\n",
    "df2.loc[df2.votes.str.contains('\\D'),'votes'] = pd.NA # Assign a null value to all votes that have anything other than digits\n",
    "df2.votes = df2.votes.astype('Int64') # Converting the votes from str to int\n",
    "df2.gender = df2.gender.apply(lambda x: 'M' if x=='Male' else 'F' if x=='Female' else pd.NA) # Transforming the gender values\n",
    "df2.party = df2.party.apply(party_cleaner) # Correcting the party names"
   ]
  },
  {
   "cell_type": "code",
   "execution_count": 21,
   "id": "df598cde",
   "metadata": {},
   "outputs": [
    {
     "name": "stdout",
     "output_type": "stream",
     "text": [
      "<class 'pandas.core.frame.DataFrame'>\n",
      "RangeIndex: 2621 entries, 0 to 2620\n",
      "Data columns (total 5 columns):\n",
      " #   Column        Non-Null Count  Dtype \n",
      "---  ------        --------------  ----- \n",
      " 0   constituency  2621 non-null   object\n",
      " 1   name          2621 non-null   object\n",
      " 2   party         2621 non-null   object\n",
      " 3   votes         2603 non-null   Int64 \n",
      " 4   gender        2583 non-null   object\n",
      "dtypes: Int64(1), object(4)\n",
      "memory usage: 105.1+ KB\n"
     ]
    }
   ],
   "source": [
    "df2.info()"
   ]
  },
  {
   "cell_type": "code",
   "execution_count": 22,
   "id": "3c7e7e68",
   "metadata": {
    "scrolled": true
   },
   "outputs": [
    {
     "data": {
      "text/html": [
       "<div>\n",
       "<style scoped>\n",
       "    .dataframe tbody tr th:only-of-type {\n",
       "        vertical-align: middle;\n",
       "    }\n",
       "\n",
       "    .dataframe tbody tr th {\n",
       "        vertical-align: top;\n",
       "    }\n",
       "\n",
       "    .dataframe thead th {\n",
       "        text-align: right;\n",
       "    }\n",
       "</style>\n",
       "<table border=\"1\" class=\"dataframe\">\n",
       "  <thead>\n",
       "    <tr style=\"text-align: right;\">\n",
       "      <th></th>\n",
       "      <th>constituency</th>\n",
       "      <th>name</th>\n",
       "      <th>party</th>\n",
       "      <th>votes</th>\n",
       "      <th>gender</th>\n",
       "    </tr>\n",
       "  </thead>\n",
       "  <tbody>\n",
       "    <tr>\n",
       "      <th>852</th>\n",
       "      <td>Gulbarga Dakshin</td>\n",
       "      <td>Krishna Reddy</td>\n",
       "      <td>JD(S)</td>\n",
       "      <td>1409</td>\n",
       "      <td>M</td>\n",
       "    </tr>\n",
       "    <tr>\n",
       "      <th>1437</th>\n",
       "      <td>Koppal</td>\n",
       "      <td>Adavi Hanumappa Godachalli</td>\n",
       "      <td>KRS</td>\n",
       "      <td>651</td>\n",
       "      <td>M</td>\n",
       "    </tr>\n",
       "    <tr>\n",
       "      <th>1845</th>\n",
       "      <td>Nanjangud</td>\n",
       "      <td>HK Swamy Haradanahalli</td>\n",
       "      <td>IND</td>\n",
       "      <td>746</td>\n",
       "      <td>M</td>\n",
       "    </tr>\n",
       "    <tr>\n",
       "      <th>1491</th>\n",
       "      <td>Kudachi</td>\n",
       "      <td>P Rajeev</td>\n",
       "      <td>BJP</td>\n",
       "      <td>60078</td>\n",
       "      <td>M</td>\n",
       "    </tr>\n",
       "    <tr>\n",
       "      <th>2234</th>\n",
       "      <td>Shirahatti</td>\n",
       "      <td>Hanumantappa Peerappa Koravar</td>\n",
       "      <td>IND</td>\n",
       "      <td>445</td>\n",
       "      <td>M</td>\n",
       "    </tr>\n",
       "  </tbody>\n",
       "</table>\n",
       "</div>"
      ],
      "text/plain": [
       "          constituency                           name  party  votes gender\n",
       "852   Gulbarga Dakshin                  Krishna Reddy  JD(S)   1409      M\n",
       "1437            Koppal     Adavi Hanumappa Godachalli    KRS    651      M\n",
       "1845         Nanjangud         HK Swamy Haradanahalli    IND    746      M\n",
       "1491           Kudachi                       P Rajeev    BJP  60078      M\n",
       "2234        Shirahatti  Hanumantappa Peerappa Koravar    IND    445      M"
      ]
     },
     "execution_count": 22,
     "metadata": {},
     "output_type": "execute_result"
    }
   ],
   "source": [
    "df2.sample(5)"
   ]
  },
  {
   "cell_type": "code",
   "execution_count": 23,
   "id": "bb2662fc",
   "metadata": {},
   "outputs": [],
   "source": [
    "df2.to_csv('candidates2023NDTV.csv') # Converting the candidates dataframe to a csv file."
   ]
  },
  {
   "cell_type": "code",
   "execution_count": 40,
   "id": "130f3381",
   "metadata": {},
   "outputs": [],
   "source": [
    "const_ndtv23 = pd.read_csv(\"constituency2023NDTV.csv\",index_col=0)\n",
    "const_myneta23 = pd.read_csv(\"winners2023MyNeta.csv\",index_col=0)"
   ]
  },
  {
   "cell_type": "code",
   "execution_count": 42,
   "id": "0ae7c5f0",
   "metadata": {},
   "outputs": [],
   "source": [
    "# Rename the winning candidates' names in this (NDTV) dataset from the MyNeta dataset\n",
    "temp_dic = {const_myneta23.loc[index,'constituency'] : const_myneta23.loc[index,'name'] for index in const_myneta23.index}\n",
    "\n",
    "for index in const_ndtv23.index:\n",
    "    const = const_ndtv23.loc[index,'constituency']\n",
    "    const_ndtv23.loc[index,'name'] = temp_dic[const]"
   ]
  },
  {
   "cell_type": "code",
   "execution_count": 44,
   "id": "9f23058b",
   "metadata": {},
   "outputs": [],
   "source": [
    "const_ndtv23.to_csv('constituency2023NDTV.csv')"
   ]
  },
  {
   "cell_type": "code",
   "execution_count": null,
   "id": "16ec5e6f",
   "metadata": {},
   "outputs": [],
   "source": []
  },
  {
   "cell_type": "code",
   "execution_count": null,
   "id": "5bf74c82",
   "metadata": {},
   "outputs": [],
   "source": []
  },
  {
   "cell_type": "code",
   "execution_count": 45,
   "id": "a83e3a68",
   "metadata": {},
   "outputs": [],
   "source": [
    "# The eligible_voters_NEW dataset has constituency numbers instead of constituency name.\n",
    "# So, in order to merge the constituency dataframe with the elgible voters dataframe, I first need to convert constituency numbers to names.\n",
    "\n",
    "# Reading the dataset containing both constituency numbers and names\n",
    "df = pd.read_csv(f\"{DIR}/2013 Elections/2013DetailedResults.csv\",index_col='_id')\n",
    "df['Constituency Name'] = df['Constituency Name'].apply(opencity13_const_corrector) # Correcting constituency names\n",
    "\n",
    "const_ndtv23 = pd.read_csv('constituency2023NDTV.csv',index_col=0) # Reading the main constituency dataset\n",
    "\n",
    "eligible_voters = pd.read_csv('eligible_voters_NEW.csv',index_col=0) # Reading the eligible voters dataset\n",
    "eligible_voters = eligible_voters.groupby('const_num')[['male_voters','female_voters','other_voters','total_voters']].sum()\n",
    "merged = eligible_voters.merge(df,left_on='const_num',right_on='Constituency No') # convert constituency numbers to names\n",
    "eligible_voters = merged[['Constituency Name','male_voters','female_voters','other_voters','total_voters']].drop_duplicates()"
   ]
  },
  {
   "cell_type": "code",
   "execution_count": 46,
   "id": "477dde5e",
   "metadata": {},
   "outputs": [],
   "source": [
    "eligible_voters.rename(columns={'Constituency Name':'constituency',\n",
    "                                'male_voters':'eligible_male_voters',\n",
    "                                'female_voters':'eligible_female_voters',\n",
    "                               'other_voters':'eligible_other_voters',\n",
    "                               'total_voters':'eligible_total_voters'},inplace=True)"
   ]
  },
  {
   "cell_type": "code",
   "execution_count": 47,
   "id": "b57faa42",
   "metadata": {},
   "outputs": [
    {
     "data": {
      "text/html": [
       "<div>\n",
       "<style scoped>\n",
       "    .dataframe tbody tr th:only-of-type {\n",
       "        vertical-align: middle;\n",
       "    }\n",
       "\n",
       "    .dataframe tbody tr th {\n",
       "        vertical-align: top;\n",
       "    }\n",
       "\n",
       "    .dataframe thead th {\n",
       "        text-align: right;\n",
       "    }\n",
       "</style>\n",
       "<table border=\"1\" class=\"dataframe\">\n",
       "  <thead>\n",
       "    <tr style=\"text-align: right;\">\n",
       "      <th></th>\n",
       "      <th>name</th>\n",
       "      <th>constituency</th>\n",
       "      <th>party</th>\n",
       "      <th>votes</th>\n",
       "      <th>age</th>\n",
       "      <th>gender</th>\n",
       "      <th>is_re_elected</th>\n",
       "      <th>eligible_male_voters</th>\n",
       "      <th>eligible_female_voters</th>\n",
       "      <th>eligible_other_voters</th>\n",
       "      <th>eligible_total_voters</th>\n",
       "    </tr>\n",
       "  </thead>\n",
       "  <tbody>\n",
       "    <tr>\n",
       "      <th>0</th>\n",
       "      <td>Jolle Shashikala Annasaheb</td>\n",
       "      <td>Nippani</td>\n",
       "      <td>BJP</td>\n",
       "      <td>73348</td>\n",
       "      <td>53.0</td>\n",
       "      <td>F</td>\n",
       "      <td>1</td>\n",
       "      <td>113856</td>\n",
       "      <td>111823</td>\n",
       "      <td>9</td>\n",
       "      <td>225688</td>\n",
       "    </tr>\n",
       "    <tr>\n",
       "      <th>1</th>\n",
       "      <td>Aihole Duryodhan Mahalingappa</td>\n",
       "      <td>Raybag</td>\n",
       "      <td>BJP</td>\n",
       "      <td>57500</td>\n",
       "      <td>65.0</td>\n",
       "      <td>M</td>\n",
       "      <td>1</td>\n",
       "      <td>108127</td>\n",
       "      <td>102369</td>\n",
       "      <td>9</td>\n",
       "      <td>210505</td>\n",
       "    </tr>\n",
       "    <tr>\n",
       "      <th>2</th>\n",
       "      <td>Katti Nikhil Umesh</td>\n",
       "      <td>Hukkeri</td>\n",
       "      <td>BJP</td>\n",
       "      <td>103574</td>\n",
       "      <td>40.0</td>\n",
       "      <td>M</td>\n",
       "      <td>0</td>\n",
       "      <td>103117</td>\n",
       "      <td>103449</td>\n",
       "      <td>8</td>\n",
       "      <td>206574</td>\n",
       "    </tr>\n",
       "  </tbody>\n",
       "</table>\n",
       "</div>"
      ],
      "text/plain": [
       "                            name constituency party   votes   age gender  \\\n",
       "0     Jolle Shashikala Annasaheb      Nippani   BJP   73348  53.0      F   \n",
       "1  Aihole Duryodhan Mahalingappa       Raybag   BJP   57500  65.0      M   \n",
       "2             Katti Nikhil Umesh      Hukkeri   BJP  103574  40.0      M   \n",
       "\n",
       "   is_re_elected  eligible_male_voters  eligible_female_voters  \\\n",
       "0              1                113856                  111823   \n",
       "1              1                108127                  102369   \n",
       "2              0                103117                  103449   \n",
       "\n",
       "   eligible_other_voters  eligible_total_voters  \n",
       "0                      9                 225688  \n",
       "1                      9                 210505  \n",
       "2                      8                 206574  "
      ]
     },
     "execution_count": 47,
     "metadata": {},
     "output_type": "execute_result"
    }
   ],
   "source": [
    "const_ndtv23 = const_ndtv23.merge(eligible_voters,on='constituency') # merge the constituency dataframe with the elgible voters dataframe\n",
    "const_ndtv23.head(3)"
   ]
  },
  {
   "cell_type": "code",
   "execution_count": 48,
   "id": "5458cd00",
   "metadata": {},
   "outputs": [
    {
     "name": "stdout",
     "output_type": "stream",
     "text": [
      "<class 'pandas.core.frame.DataFrame'>\n",
      "Int64Index: 224 entries, 0 to 223\n",
      "Data columns (total 11 columns):\n",
      " #   Column                  Non-Null Count  Dtype  \n",
      "---  ------                  --------------  -----  \n",
      " 0   name                    224 non-null    object \n",
      " 1   constituency            224 non-null    object \n",
      " 2   party                   224 non-null    object \n",
      " 3   votes                   224 non-null    int64  \n",
      " 4   age                     222 non-null    float64\n",
      " 5   gender                  222 non-null    object \n",
      " 6   is_re_elected           224 non-null    int64  \n",
      " 7   eligible_male_voters    224 non-null    int64  \n",
      " 8   eligible_female_voters  224 non-null    int64  \n",
      " 9   eligible_other_voters   224 non-null    int64  \n",
      " 10  eligible_total_voters   224 non-null    int64  \n",
      "dtypes: float64(1), int64(6), object(4)\n",
      "memory usage: 21.0+ KB\n"
     ]
    }
   ],
   "source": [
    "const_ndtv23.info()"
   ]
  },
  {
   "cell_type": "code",
   "execution_count": 49,
   "id": "bcb2907f",
   "metadata": {},
   "outputs": [],
   "source": [
    "const_ndtv23.to_csv('constituency2023NDTV.csv')"
   ]
  },
  {
   "cell_type": "code",
   "execution_count": null,
   "id": "e0855f77-1e22-4f2a-bbbf-b771faecd744",
   "metadata": {},
   "outputs": [],
   "source": []
  },
  {
   "cell_type": "code",
   "execution_count": null,
   "id": "0b195fdb-aad2-4034-8621-9004fc534234",
   "metadata": {},
   "outputs": [],
   "source": []
  }
 ],
 "metadata": {
  "kernelspec": {
   "display_name": "Python 3 (ipykernel)",
   "language": "python",
   "name": "python3"
  },
  "language_info": {
   "codemirror_mode": {
    "name": "ipython",
    "version": 3
   },
   "file_extension": ".py",
   "mimetype": "text/x-python",
   "name": "python",
   "nbconvert_exporter": "python",
   "pygments_lexer": "ipython3",
   "version": "3.11.2"
  }
 },
 "nbformat": 4,
 "nbformat_minor": 5
}
