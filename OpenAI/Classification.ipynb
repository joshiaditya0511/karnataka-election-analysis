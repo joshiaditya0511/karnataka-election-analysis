{
 "cells": [
  {
   "cell_type": "code",
   "execution_count": 78,
   "id": "efb465fd",
   "metadata": {},
   "outputs": [],
   "source": [
    "import pandas as pd\n",
    "import numpy as np\n",
    "from itertools import combinations\n",
    "import re\n",
    "import json\n",
    "from math import ceil\n",
    "import tiktoken\n",
    "import time\n",
    "import os\n",
    "import openai\n",
    "from statistics import mean\n",
    "from json import JSONDecodeError\n",
    "from copy import deepcopy"
   ]
  },
  {
   "cell_type": "code",
   "execution_count": 2,
   "id": "685928ff-5cd3-4502-9580-923296ec3211",
   "metadata": {},
   "outputs": [],
   "source": [
    "DIR = os.getenv('KEA_BASE_DIR')"
   ]
  },
  {
   "cell_type": "markdown",
   "id": "1b89124a",
   "metadata": {},
   "source": [
    "## Profession Segmentation"
   ]
  },
  {
   "cell_type": "code",
   "execution_count": 3,
   "id": "e41117ea",
   "metadata": {},
   "outputs": [],
   "source": [
    "const_myneta13 = pd.read_csv(f'{DIR}/2013 Elections/winners2013MyNeta.csv',index_col=0)\n",
    "const_myneta18 = pd.read_csv(f'{DIR}/2018 Elections/winners2018MyNeta.csv',index_col=0)\n",
    "const_myneta23 = pd.read_csv(f'{DIR}/2023 Elections/winners2023MyNeta.csv',index_col=0)\n",
    "candid_myneta13 = pd.read_csv(f'{DIR}/2013 Elections/candidates2013MyNeta.csv',index_col=0)\n",
    "candid_myneta18 = pd.read_csv(f'{DIR}/2018 Elections/candidates2018MyNeta.csv',index_col=0)\n",
    "candid_myneta23 = pd.read_csv(f'{DIR}/2023 Elections/candidates2023MyNeta.csv',index_col=0)"
   ]
  },
  {
   "cell_type": "code",
   "execution_count": 4,
   "id": "9535c5c2",
   "metadata": {},
   "outputs": [
    {
     "data": {
      "text/plain": [
       "4233"
      ]
     },
     "execution_count": 4,
     "metadata": {},
     "output_type": "execute_result"
    }
   ],
   "source": [
    "self_prof_23 = list(candid_myneta23.self_profession.unique()) + list(const_myneta13.self_profession.unique())\n",
    "self_prof_13 = list(candid_myneta13.self_profession.unique()) + list(const_myneta23.self_profession.unique())\n",
    "self_prof_18 = list(candid_myneta18.self_profession.unique()) + list(const_myneta18.self_profession.unique())\n",
    "\n",
    "spouse_prof_23 = list(candid_myneta23.spouse_profession.unique()) + list(const_myneta13.spouse_profession.unique())\n",
    "spouse_prof_13 = list(candid_myneta13.spouse_profession.unique()) + list(const_myneta23.spouse_profession.unique())\n",
    "spouse_prof_18 = list(candid_myneta18.spouse_profession.unique()) + list(const_myneta18.spouse_profession.unique())\n",
    "\n",
    "temp_list = self_prof_23 + self_prof_13 + self_prof_18 + spouse_prof_23 + spouse_prof_13 + spouse_prof_18\n",
    "total_prof = list(set(temp_list))\n",
    "len(total_prof)"
   ]
  },
  {
   "cell_type": "code",
   "execution_count": 15,
   "id": "4fe4c007",
   "metadata": {},
   "outputs": [],
   "source": [
    "categories_raw = \"\"\"Politics / Public Service\n",
    "Business / Entrepreneurship\n",
    "Law / Judiciary\n",
    "Education / Academia\n",
    "Medicine / Healthcare\n",
    "Engineering / Technology\n",
    "Agriculture / Farming\n",
    "Media / Journalism\n",
    "Arts / Entertainment\n",
    "Social Work / Activism\n",
    "Sports / Athletics\n",
    "Military / Defense\n",
    "Information Technology\n",
    "Banking / Finance\n",
    "Environmental Conservation\n",
    "Transportation / Logistics\n",
    "Science / Research\n",
    "Hospitality / Tourism\n",
    "Construction / Real Estate\n",
    "Religion / Spirituality\n",
    "Law Enforcement / Security\n",
    "Consulting / Advisory\"\"\""
   ]
  },
  {
   "cell_type": "code",
   "execution_count": 16,
   "id": "12d27afe",
   "metadata": {},
   "outputs": [
    {
     "data": {
      "text/plain": [
       "'1. Politics / Public Service\\n2. Business / Entrepreneurship\\n3. Law / Judiciary\\n4. Education / Academia\\n5. Medicine / Healthcare\\n6. Engineering / Technology\\n7. Agriculture / Farming\\n8. Media / Journalism\\n9. Arts / Entertainment\\n10. Social Work / Activism\\n11. Sports / Athletics\\n12. Military / Defense\\n13. Information Technology\\n14. Banking / Finance\\n15. Environmental Conservation\\n16. Transportation / Logistics\\n17. Science / Research\\n18. Hospitality / Tourism\\n19. Construction / Real Estate\\n20. Religion / Spirituality\\n21. Law Enforcement / Security\\n22. Consulting / Advisory'"
      ]
     },
     "execution_count": 16,
     "metadata": {},
     "output_type": "execute_result"
    }
   ],
   "source": [
    "categories = [str(i+1) + '. ' + categories_raw.split('\\n')[i] for i in range(len(categories_raw.split('\\n')))]\n",
    "categories = '\\n'.join(categories)\n",
    "categories"
   ]
  },
  {
   "cell_type": "code",
   "execution_count": 17,
   "id": "898d3f71",
   "metadata": {},
   "outputs": [
    {
     "data": {
      "text/plain": [
       "{1: 'Politics / Public Service',\n",
       " 2: 'Business / Entrepreneurship',\n",
       " 3: 'Law / Judiciary',\n",
       " 4: 'Education / Academia',\n",
       " 5: 'Medicine / Healthcare',\n",
       " 6: 'Engineering / Technology',\n",
       " 7: 'Agriculture / Farming',\n",
       " 8: 'Media / Journalism',\n",
       " 9: 'Arts / Entertainment',\n",
       " 10: 'Social Work / Activism',\n",
       " 11: 'Sports / Athletics',\n",
       " 12: 'Military / Defense',\n",
       " 13: 'Information Technology',\n",
       " 14: 'Banking / Finance',\n",
       " 15: 'Environmental Conservation',\n",
       " 16: 'Transportation / Logistics',\n",
       " 17: 'Science / Research',\n",
       " 18: 'Hospitality / Tourism',\n",
       " 19: 'Construction / Real Estate',\n",
       " 20: 'Religion / Spirituality',\n",
       " 21: 'Law Enforcement / Security',\n",
       " 22: 'Consulting / Advisory',\n",
       " 101: 'Unknown',\n",
       " 201: \"Cound't Classify\",\n",
       " 301: 'Not Given'}"
      ]
     },
     "execution_count": 17,
     "metadata": {},
     "output_type": "execute_result"
    }
   ],
   "source": [
    "categ_dict = {(i+1):categories_raw.split('\\n')[i] for i in range(len(categories_raw.split('\\n')))}\n",
    "categ_dict[101] = 'Unknown'\n",
    "categ_dict[201] = \"Cound't Classify\"\n",
    "categ_dict[301] = 'Not Given'\n",
    "categ_dict"
   ]
  },
  {
   "cell_type": "code",
   "execution_count": 82,
   "id": "56b252bb",
   "metadata": {},
   "outputs": [],
   "source": [
    "command1 = f\"\"\"I am sending a list of responses submitted by people which contains information about their profession. Classify them\n",
    "into the following categories:  \n",
    "\n",
    "{categories}\n",
    "\n",
    "I want you to send only the category numbers on new lines for all professions. Do not send the professions\n",
    "Do not use any other category than those given to you.\n",
    "Do not change or mix any of the categories. If some profession lies into multiple categories, list those categories' numbers on the same line separated by a comma.\n",
    "Don't send anything else in the response. If you cannot classify a profession into any category listed, use number 101 as the category number.\n",
    "If you cannot understand what's the profession, use number 201 as the category number.\n",
    "If the profession is 'Not Given', then use number 301 as the category number.\n",
    "The professions given to you are of Indian people. Some of the professions might be local language words which are phonetically spelled in english.\n",
    "So, take that in account too, when classifying the professions.\n",
    "Also, don't change the sequence of category numbers and professions.\n",
    "\n",
    "Example:\n",
    "\n",
    "example_profession1\n",
    "category1, category2\n",
    "example_profession2\n",
    "category2\n",
    "example profession3\n",
    "category1\n",
    "\n",
    "\n",
    "List of responses:\n",
    "\n",
    "\"\"\"\n",
    "\n",
    "command2 = f\"\"\"I am sending a list of responses submitted by people which contains information about their profession. Classify them\n",
    "into the following categories:  \n",
    "\n",
    "{categories}\n",
    "\n",
    "I want you to send the output in json format only. The keys will be the professions I send you, and their corresponding values will be a list of category numbers that you have classified the profession into.\n",
    "The profession can be classified into multiple categories.\n",
    "Do not use any other category than those given to you.\n",
    "Do not change or mix any of the categories.\n",
    "Don't send anything else in the response. If you cannot classify a profession into any category listed, use number 101 as the category number.\n",
    "If you cannot understand what's the profession, use number 201 as the category number.\n",
    "If the profession is 'Not Given', then use number 301 as the category number.\n",
    "The professions given to you are of Indian people. Some of the professions might be local language words which are phonetically spelled in english.\n",
    "So, take that in account too, when classifying the professions.\n",
    "Also, don't change the sequence of category numbers and professions.\n",
    "\n",
    "\n",
    "List of responses:\n",
    "\n",
    "\"\"\"\n",
    "\n",
    "command3 = f\"\"\"I am sending a list of responses submitted by people which contains information about their profession. Classify them\n",
    "into the following categories:  \n",
    "\n",
    "{categories}\n",
    "\n",
    "I want you to send the output in json format only. The keys will be the professions I send you, and their corresponding values will be a list of category numbers that you have classified the profession into.\n",
    "The professions will be sent to you in double quotes. Use them as as they are for the keys. Do not change their wording, spacing or anything.\n",
    "The profession can be classified into multiple categories.\n",
    "Do not use any other category than those given to you.\n",
    "Do not change or mix any of the categories.\n",
    "Don't send anything else in the response. If you cannot classify a profession into any category listed, use number 101 as the category number.\n",
    "If you cannot understand what's the profession, use number 201 as the category number.\n",
    "If the profession is 'Not Given', then use number 301 as the category number.\n",
    "The professions given to you are of Indian people. Some of the professions might be local language words which are phonetically spelled in english.\n",
    "So, take that in account too, when classifying the professions.\n",
    "Also, don't change the sequence of category numbers and professions.\n",
    "Do not send anything else other than the JSON format.\"\"\"\n",
    "\n",
    "command4 = f\"\"\"I am sending a single response submitted by a person which contains information about their profession. Classify the profession\n",
    "into the following categories:  \n",
    "\n",
    "{categories}\n",
    "\n",
    "I want you to send the output in json format only. The key will be the profession I send you, and its corresponding value will be a list of category numbers that you have classified the profession into.\n",
    "The profession will be sent to you in double quotes. Use it as as it is as the key. Do not change it's wording, spacing or anything.\n",
    "The profession can be classified into multiple categories.\n",
    "Do not use any other category than those given to you.\n",
    "Do not change or mix any of the categories.\n",
    "Don't send anything else in the response. If you cannot classify a profession into any category listed, use number 101 as the category number.\n",
    "If you cannot understand what's the profession, use number 201 as the category number.\n",
    "If the profession has value \"Not Given\", then use number 301 as the category number.\n",
    "The profession given to you is of Indian people. The profession might be local language words which are phonetically spelled in english.\n",
    "So, take that in account too, when classifying the profession.\n",
    "Do not send anything else other than the JSON format.\"\"\"\n"
   ]
  },
  {
   "cell_type": "code",
   "execution_count": 83,
   "id": "63b413a8-4624-4c44-8de2-ef415b1981c1",
   "metadata": {},
   "outputs": [
    {
     "data": {
      "text/plain": [
       "399"
      ]
     },
     "execution_count": 83,
     "metadata": {},
     "output_type": "execute_result"
    }
   ],
   "source": [
    "encoding = tiktoken.encoding_for_model(\"gpt-3.5-turbo\")\n",
    "len(encoding.encode(command3))"
   ]
  },
  {
   "cell_type": "code",
   "execution_count": 89,
   "id": "21d33468",
   "metadata": {},
   "outputs": [
    {
     "name": "stdout",
     "output_type": "stream",
     "text": [
      "\"Press and Editor of Echarike 24 7\"\n",
      "\"Urdu Teacher\"\n",
      "\"Housewife and Agriculturlist\"\n",
      "\"Photographer\"\n",
      "\"Agriculture,\"\n",
      "\"BDA Retired Employee\"\n",
      "\"House wife and agriculture\"\n",
      "\"Self Employment and Buisness\"\n",
      "\"Agricultural Business\"\n",
      "\"business trading\"\n",
      "\"BEAUTION\"\n",
      "\"Advocate Profession\"\n",
      "\"SMALL SCALE LABOUR\"\n",
      "\"House Wife and Municipality Member in Mundaragi\"\n",
      "\"agriculter and editor for paper\"\n",
      "\"Social service and coolie\"\n",
      "\"Tenacity Tailor housewife\"\n",
      "\"Salesman\"\n",
      "\"Retired officer KEB\"\n",
      "\"Cine Artist Consultant\"\n",
      "\"House Wife and agriculture\"\n",
      "\"Self Employement\"\n",
      "\"Business-Real Estate\"\n",
      "\"Bamboo Business\"\n",
      "\"Holly Lawmaker\"\n",
      "\"H H Work\"\n",
      "\"CONTRACTER\"\n",
      "\"Homemaker and Business\"\n",
      "\"Farmer and Editor in sogadu newspaper,chickpete\"\n",
      "\"Byatarayanapura Assembly Constituency,Karnataka\"\n",
      "\"Hobbyist -Electrician\"\n",
      "\"Buisiness\"\n",
      "\"Medical Doctor\"\n",
      "\"Permanent job\"\n",
      "\"Household, Social Service\"\n",
      "\"Farming ,Constructed items\"\n",
      "\"ADVOCATE\"\n",
      "\"Social work\"\n",
      "\"Business, Agriculturist and other Business(Sales and Services of Agricultural Equipment).\"\n",
      "\"LAWYER , KAR 1727 12\"\n",
      "\"IT company worker\"\n",
      "\"Sitting MLA\"\n",
      "\"Scrap Trading-Proprietor\"\n",
      "\"social service and agriculture\"\n",
      "\"Retired Govt Employee\"\n",
      "\"Social service and agriculture\"\n",
      "\"Farmer and Real Estate consultant and commission\"\n",
      "\"Agriculturist\"\n",
      "\"Socal Service\"\n",
      "\"SHETKI, SOCIAL WORKER\" \n",
      "\n",
      "\n",
      "{'Press and Editor of Echarike 24 7': [8], 'Urdu Teacher': [4], 'Housewife and Agriculturlist': [7, 3], 'Photographer': [9], 'Agriculture,': [7], 'BDA Retired Employee': [19], 'House wife and agriculture': [7, 3], 'Self Employment and Buisness': [2], 'Agricultural Business': [7, 2], 'business trading': [2], 'BEAUTION': [9], 'Advocate Profession': [3], 'SMALL SCALE LABOUR': [22], 'House Wife and Municipality Member in Mundaragi': [10, 3], 'agriculter and editor for paper': [7, 8], 'Social service and coolie': [10, 22], 'Tenacity Tailor housewife': [9, 3], 'Salesman': [2], 'Retired officer KEB': [12], 'Cine Artist Consultant': [9, 22], 'Self Employement': [2], 'Business-Real Estate': [2, 19], 'Bamboo Business': [2], 'Holly Lawmaker': [1], 'H H Work': [22], 'CONTRACTER': [22], 'Homemaker and Business': [3, 2], 'Farmer and Editor in sogadu newspaper,chickpete': [7, 8], 'Byatarayanapura Assembly Constituency,Karnataka': [1], 'Hobbyist -Electrician': [22], 'Buisiness': [2], 'Medical Doctor': [5], 'Permanent job': [22], 'Household, Social Service': [3, 10], 'Farming ,Constructed items': [7, 19], 'ADVOCATE': [3], 'Social work': [10], 'Business, Agriculturist and other Business(Sales and Services of Agricultural Equipment).': [2, 7], 'LAWYER , KAR 1727 12': [3], 'IT company worker': [13], 'Sitting MLA': [1], 'Scrap Trading-Proprietor': [2], 'social service and agriculture': [10, 7], 'Retired Govt Employee': [22], 'Farmer and Real Estate consultant and commission': [7, 19], 'Agriculturist': [7], 'Socal Service': [10], 'SHETKI, SOCIAL WORKER': [10, 7]} \n",
      "\n",
      "0\n",
      "1\n",
      "2\n",
      "3\n",
      "4\n",
      "5\n",
      "6\n",
      "7\n",
      "8\n",
      "9\n",
      "10\n",
      "11\n",
      "12\n",
      "13\n",
      "14\n",
      "15\n",
      "16\n",
      "17\n",
      "18\n",
      "19\n",
      "20\n",
      "21\n",
      "22\n",
      "23\n",
      "24\n",
      "25\n",
      "26\n",
      "27\n",
      "28\n",
      "29\n",
      "30\n",
      "31\n",
      "32\n",
      "33\n",
      "34\n",
      "35\n",
      "36\n",
      "37\n",
      "38\n",
      "39\n",
      "40\n",
      "41\n",
      "42\n",
      "43\n",
      "44\n",
      "45\n",
      "46\n",
      "47\n",
      "48\n",
      "49\n",
      "setdiff is []\n",
      "1550 1600\n",
      "48 50\n",
      "False\n",
      "{'1. Press and Editor of Echarike 24 7': [8], '2. Urdu Teacher': [4], '3. Housewife and Agriculturlist': [7, 3], '4. Photographer': [9], '5. Agriculture,': [7], '6. BDA Retired Employee': [19], '7. House wife and agriculture': [7, 3], '8. Self Employment and Buisness': [2], '9. Agricultural Business': [7, 2], '10. business trading': [2], '11. BEAUTION': [9], '12. Advocate Profession': [3], '13. SMALL SCALE LABOUR': [22], '14. House Wife and Municipality Member in Mundaragi': [10, 3], '15. agriculter and editor for paper': [7, 8], '16. Social service and coolie': [10, 22], '17. Tenacity Tailor housewife': [9, 3], '18. Salesman': [2], '19. Retired officer KEB': [12], '20. Cine Artist Consultant': [9, 22], '21. House Wife and agriculture': [2], '22. Self Employement': [2, 19], '23. Business-Real Estate': [2], '24. Bamboo Business': [1], '25. Holly Lawmaker': [22], '26. H H Work': [22], '27. CONTRACTER': [3, 2], '28. Homemaker and Business': [7, 8], '29. Farmer and Editor in sogadu newspaper,chickpete': [1], '30. Byatarayanapura Assembly Constituency,Karnataka': [22], '31. Hobbyist -Electrician': [2], '32. Buisiness': [5], '33. Medical Doctor': [22], '34. Permanent job': [3, 10], '35. Household, Social Service': [7, 19], '36. Farming ,Constructed items': [3], '37. ADVOCATE': [10], '38. Social work': [2, 7], '39. Business, Agriculturist and other Business(Sales and Services of Agricultural Equipment).': [3], '40. LAWYER , KAR 1727 12': [13], '41. IT company worker': [1], '42. Sitting MLA': [2], '43. Scrap Trading-Proprietor': [10, 7], '44. social service and agriculture': [22], '45. Retired Govt Employee': [7, 19], '46. Social service and agriculture': [7], '47. Farmer and Real Estate consultant and commission': [10], '48. Agriculturist': [10, 7]}\n",
      "average time taken 20.862827599979937\n"
     ]
    }
   ],
   "source": [
    "import os\n",
    "import openai\n",
    "\n",
    "openai.api_key = os.getenv('OPENAI_API_KEY')\n",
    "\n",
    "new_dict = {}\n",
    "completion = ''\n",
    "encoding = tiktoken.encoding_for_model(\"gpt-3.5-turbo\")\n",
    "length = []\n",
    "BATCH_SIZE = 50\n",
    "\n",
    "for i in range(ceil(len(total_prof)/BATCH_SIZE)):\n",
    "    before = time.perf_counter()\n",
    "    prev_response = completion\n",
    "    print(i-1,'number of runs completed') if (i%100==0 and i!=0) else None\n",
    "    success, break_outer = False, False\n",
    "    count = 0\n",
    "    \n",
    "    while (not success) and (count<2):\n",
    "        try:\n",
    "            start = i*BATCH_SIZE\n",
    "            end = len(total_prof) if (start + BATCH_SIZE > len(total_prof)) else start + BATCH_SIZE\n",
    "            \n",
    "            string = '\"' + '\"\\n\"'.join(total_prof[start:end]) + '\"'\n",
    "            print(string,'\\n\\n')\n",
    "            completion = openai.ChatCompletion.create(\n",
    "              model=\"gpt-3.5-turbo\",\n",
    "              messages=[\n",
    "                {\"role\": \"system\", \"content\": f\"You are a helpful assistant and also a python programmer. {command3}\"},\n",
    "                {\"role\": \"user\", \"content\": \"Horticulture and Business\"},\n",
    "                {\"role\": \"assistant\", \"content\": '{\"Horticulture and Business\": [7, 2]}'},\n",
    "                {\"role\": \"user\", \"content\": \"BTM Investments Pvt Ltd Hubballi Director BTM forging Pvt Ltd Director Veetech Valves Pvt Ltd Director S R Process Controls Pvt Ltd Partner Future Auto Solutions Hubballi\"},\n",
    "                {\"role\": \"assistant\", \"content\": '{\"BTM Investments Pvt Ltd Hubballi Director BTM forging Pvt Ltd Director Veetech Valves Pvt Ltd Director S R Process Controls Pvt Ltd Partner Future Auto Solutions Hubballi\": [2]}'},\n",
    "                {\"role\": \"user\", \"content\": string}\n",
    "              ]\n",
    "            )\n",
    "        except:\n",
    "            count += 1\n",
    "            print('count',count,'for run number',i)\n",
    "            time.sleep(60) if count == 1 else None\n",
    "            break_outer = True if count > 1 else False\n",
    "        else:\n",
    "            try:\n",
    "                temp_dict = dict(json.loads(completion['choices'][0]['message']['content']))\n",
    "                assert len(list(temp_dict.keys()))==(end-start)\n",
    "                new_dict.update({f\"{total_prof[j]}\":list(temp_dict.values())[j-start] for j in range(start,end)}) # = str_dict + completion['choices'][0]['message']['content'].strip() + '\\n'\n",
    "            except AssertionError:\n",
    "                count += 1\n",
    "                print(f\"Assertion failed for {i}th run for value {total_prof[start:end]} and response as {completion['choices'][0]['message']['content']}\\n\")\n",
    "            except JSONDecodeError:\n",
    "                count += 1\n",
    "                print(f\"JSON decoding failed for {i}th run for value {total_prof[i]} and response as {completion['choices'][0]['message']['content']}\\n\")\n",
    "            else:\n",
    "                success = True\n",
    "                prev_response = completion\n",
    "                time.sleep(2)\n",
    "    length.append(time.perf_counter()-before)\n",
    "    if break_outer:\n",
    "        print('breaking at run',i)\n",
    "        break\n",
    "\n",
    "print(\"average time taken\",mean(length))"
   ]
  },
  {
   "cell_type": "code",
   "execution_count": 101,
   "id": "8630a272-654e-4c76-ace3-40d8213dd9dc",
   "metadata": {},
   "outputs": [],
   "source": [
    "data_json = json.dumps(temp_dict)\n",
    "with open('profession.json','w',encoding='utf-8') as file:\n",
    "    file.write(data_json)"
   ]
  },
  {
   "cell_type": "code",
   "execution_count": 113,
   "id": "339ba085",
   "metadata": {},
   "outputs": [],
   "source": []
  },
  {
   "cell_type": "code",
   "execution_count": null,
   "id": "ffc92cac",
   "metadata": {},
   "outputs": [],
   "source": []
  },
  {
   "cell_type": "code",
   "execution_count": null,
   "id": "d4b2caaa",
   "metadata": {},
   "outputs": [],
   "source": []
  },
  {
   "cell_type": "markdown",
   "id": "e3e35992",
   "metadata": {},
   "source": [
    "## Education Segmentation"
   ]
  },
  {
   "cell_type": "code",
   "execution_count": 22,
   "id": "0562c12a-7ed5-491b-86bf-edc9b01a8579",
   "metadata": {},
   "outputs": [
    {
     "data": {
      "text/plain": [
       "\"1. Illiterate: Candidates who have not received any formal education and are illiterate.\\n2. Literate: Candidates who are educated and can read and write but have not completed formal schooling beyond basic literacy.\\n3. Primary Education: Candidates who have completed primary education up to the 5th standard.\\n4. Secondary Education: Candidates who have completed secondary education up to the 10th standard.\\n5. Higher Secondary Education: Candidates who have completed higher secondary education up to the 12th standard.\\n6. Diploma Holders: Candidates who have completed diploma courses in various fields like engineering, pharmacy, nursing, etc.\\n7. Graduates: Candidates who hold a Bachelor's degree in any discipline.\\n8. Postgraduates: Candidates who have completed a Master's degree in any discipline.\\n9. Doctorates: Candidates who have obtained a Doctorate (Ph.D.) in any field.\\n10. Technical/Professional Courses: Candidates who have completed specific technical or professional courses, such as Chartered Accountancy (CA), Company Secretary (CS), and various vocational courses.\\n11. Vocational Training: Candidates who have undergone vocational training programs, such as Industrial Training Institutes (ITI) or other skill development courses.\\n12. Non-Traditional Education: Candidates who have pursued non-traditional forms of education, such as distance learning, open universities, or online courses.\""
      ]
     },
     "execution_count": 22,
     "metadata": {},
     "output_type": "execute_result"
    }
   ],
   "source": [
    "edu_categ_raw = \"\"\"Illiterate: Candidates who have not received any formal education and are illiterate.\n",
    "Literate: Candidates who are educated and can read and write but have not completed formal schooling beyond basic literacy.\n",
    "Primary Education: Candidates who have completed primary education up to the 5th standard.\n",
    "Secondary Education: Candidates who have completed secondary education up to the 10th standard.\n",
    "Higher Secondary Education: Candidates who have completed higher secondary education up to the 12th standard.\n",
    "Diploma Holders: Candidates who have completed diploma courses in various fields like engineering, pharmacy, nursing, etc.\n",
    "Graduates: Candidates who hold a Bachelor's degree in any discipline.\n",
    "Postgraduates: Candidates who have completed a Master's degree in any discipline.\n",
    "Doctorates: Candidates who have obtained a Doctorate (Ph.D.) in any field.\n",
    "Technical/Professional Courses: Candidates who have completed specific technical or professional courses, such as Chartered Accountancy (CA), Company Secretary (CS), and various vocational courses.\n",
    "Vocational Training: Candidates who have undergone vocational training programs, such as Industrial Training Institutes (ITI) or other skill development courses.\n",
    "Non-Traditional Education: Candidates who have pursued non-traditional forms of education, such as distance learning, open universities, or online courses.\"\"\"\n",
    "\n",
    "edu_categ = [str(i+1) + '. ' + edu_categ_raw.split('\\n')[i] for i in range(len(edu_categ_raw.split('\\n')))]\n",
    "edu_categ = \"\\n\".join(edu_categ)\n",
    "edu_categ"
   ]
  },
  {
   "cell_type": "code",
   "execution_count": 23,
   "id": "2da0a790-ac36-47c3-8454-da9d021b8f1a",
   "metadata": {},
   "outputs": [
    {
     "data": {
      "text/plain": [
       "{1: 'Illiterate: Candidates who have not received any formal education and are illiterate.',\n",
       " 2: 'Literate: Candidates who are educated and can read and write but have not completed formal schooling beyond basic literacy.',\n",
       " 3: 'Primary Education: Candidates who have completed primary education up to the 5th standard.',\n",
       " 4: 'Secondary Education: Candidates who have completed secondary education up to the 10th standard.',\n",
       " 5: 'Higher Secondary Education: Candidates who have completed higher secondary education up to the 12th standard.',\n",
       " 6: 'Diploma Holders: Candidates who have completed diploma courses in various fields like engineering, pharmacy, nursing, etc.',\n",
       " 7: \"Graduates: Candidates who hold a Bachelor's degree in any discipline.\",\n",
       " 8: \"Postgraduates: Candidates who have completed a Master's degree in any discipline.\",\n",
       " 9: 'Doctorates: Candidates who have obtained a Doctorate (Ph.D.) in any field.',\n",
       " 10: 'Technical/Professional Courses: Candidates who have completed specific technical or professional courses, such as Chartered Accountancy (CA), Company Secretary (CS), and various vocational courses.',\n",
       " 11: 'Vocational Training: Candidates who have undergone vocational training programs, such as Industrial Training Institutes (ITI) or other skill development courses.',\n",
       " 12: 'Non-Traditional Education: Candidates who have pursued non-traditional forms of education, such as distance learning, open universities, or online courses.',\n",
       " 101: 'Unknown'}"
      ]
     },
     "execution_count": 23,
     "metadata": {},
     "output_type": "execute_result"
    }
   ],
   "source": [
    "edu_categ_dict = {(i+1):edu_categ_raw.split('\\n')[i] for i in range(len(edu_categ_raw.split('\\n')))}\n",
    "edu_categ_dict[101] = 'Unknown'\n",
    "edu_categ_dict"
   ]
  },
  {
   "cell_type": "code",
   "execution_count": null,
   "id": "1155de07-c549-4431-a65f-a4814aa3057f",
   "metadata": {},
   "outputs": [],
   "source": []
  },
  {
   "cell_type": "code",
   "execution_count": 7,
   "id": "37d29be2-2be6-40fe-899e-7617db54bd18",
   "metadata": {},
   "outputs": [],
   "source": [
    "abbreviations = \"\"\"\n",
    "Here's a comprehensive list of degrees and their abbreviations commonly used in India:\n",
    "\n",
    "Bachelor's Degrees:\n",
    "    B.A. - Bachelor of Arts\n",
    "    B.Sc. - Bachelor of Science\n",
    "    B.Com. - Bachelor of Commerce\n",
    "    B.Tech. - Bachelor of Technology\n",
    "    B.E. - Bachelor of Engineering\n",
    "    BBA - Bachelor of Business Administration\n",
    "    BCA - Bachelor of Computer Applications\n",
    "    B.Arch. - Bachelor of Architecture\n",
    "    B.Pharma - Bachelor of Pharmacy\n",
    "    B.Ed. - Bachelor of Education\n",
    "    BFA - Bachelor of Fine Arts\n",
    "    B.S.W. - Bachelor of Social Work\n",
    "    B.Lib. - Bachelor of Library Science\n",
    "    B.P.Ed. - Bachelor of Physical Education\n",
    "    B.H.M. - Bachelor of Hotel Management\n",
    "    B.Sc. (Nursing) - Bachelor of Science in Nursing\n",
    "    B.A.M.S. - Bachelor of Ayurvedic Medicine and Surgery\n",
    "    B.H.M.S. - Bachelor of Homeopathic Medicine and Surgery\n",
    "    B.U.M.S. - Bachelor of Unani Medicine and Surgery\n",
    "    B.D.S. - Bachelor of Dental Surgery\n",
    "    B.V.Sc. - Bachelor of Veterinary Science\n",
    "    \n",
    "Master's Degrees:\n",
    "    M.A. - Master of Arts\n",
    "    M.Sc. - Master of Science\n",
    "    M.Com. - Master of Commerce\n",
    "    M.Tech. - Master of Technology\n",
    "    M.E. - Master of Engineering\n",
    "    MBA - Master of Business Administration\n",
    "    MCA - Master of Computer Applications\n",
    "    M.Arch. - Master of Architecture\n",
    "    M.Pharma - Master of Pharmacy\n",
    "    M.Ed. - Master of Education\n",
    "    MFA - Master of Fine Arts\n",
    "    M.S.W. - Master of Social Work\n",
    "    M.Lib. - Master of Library Science\n",
    "    M.P.Ed. - Master of Physical Education\n",
    "    M.Sc. (Nursing) - Master of Science in Nursing\n",
    "    M.D. - Doctor of Medicine (Medicine)\n",
    "    M.S. - Master of Surgery\n",
    "    M.R.C.P. - Member of the Royal College of Physicians\n",
    "    M.R.C.S. - Member of the Royal College of Surgeons\n",
    "    \n",
    "Doctoral Degrees:\n",
    "    Ph.D. - Doctor of Philosophy\n",
    "    D.Sc. - Doctor of Science\n",
    "    D.Litt. - Doctor of Literature\n",
    "    D.Lit. - Doctor of Literature\n",
    "    D.M. - Doctor of Medicine (Specialized Medical Degree)\n",
    "    \n",
    "Professional Degrees:\n",
    "    M.B.B.S. - Bachelor of Medicine and Bachelor of Surgery\n",
    "    LLB - Bachelor of Laws\n",
    "    LLM - Master of Laws\n",
    "    CA - Chartered Accountant\n",
    "    CS - Company Secretary\n",
    "    ICWA - Institute of Cost and Works Accountants of India\n",
    "    \n",
    "Other Degrees:\n",
    "    D.Pharm. - Diploma in Pharmacy\n",
    "    D.Ed. - Diploma in Education\n",
    "    DSW - Diploma in Social Work\n",
    "    D.Lib. - Diploma in Library Science\n",
    "    DPT - Diploma in Physical Therapy\n",
    "    DHMS - Diploma in Homeopathic Medicine and Surgery\n",
    "    DOTT - Diploma in Operation Theater Technology\n",
    "    DMLT - Diploma in Medical Laboratory Technology\n",
    "    DCH - Diploma in Child Health\n",
    "    DMRD - Diploma in Medical Radiodiagnosis\n",
    "\"\"\""
   ]
  },
  {
   "cell_type": "code",
   "execution_count": 8,
   "id": "6e1437a7",
   "metadata": {},
   "outputs": [],
   "source": [
    "edu_command = f\"\"\"You will be provided with a list of electoral candidates from Indian Assembly elections along with their education details. Classify each candidate's education level into one of the predefined categories based on their highest qualification achieved. Use the following categories for classification:\n",
    "\n",
    "{edu_categ_dict}\n",
    "\n",
    "Note - The education values will be sent to you in double quotes with each candidates education on a new line with double quotes.\n",
    "Only use the category numbers in the output. Don't send the categories themselves in the output.\n",
    "If the candidate's education is not explicitly mentioned, and you are unable to determine their education level, please classify them as \"Unknown.\" with category number 101.\n",
    "Please provide the classification for each candidate in JSON format, where keys are the cabdidate names and values are their corresponding education category numbers.\n",
    "Classify each candidate's education level into one of the predefined categories based on their highest qualification achieved.\n",
    "If a candidate has multiple qualifications, consider their highest level of education attained.\"\"\""
   ]
  },
  {
   "cell_type": "code",
   "execution_count": 21,
   "id": "6b459c28",
   "metadata": {},
   "outputs": [
    {
     "data": {
      "text/plain": [
       "7271"
      ]
     },
     "execution_count": 21,
     "metadata": {},
     "output_type": "execute_result"
    }
   ],
   "source": [
    "edu = []\n",
    "\n",
    "edu_23 = list(pd.Series(candid_myneta23.education.unique()).fillna('Unknown').values) + list(pd.Series(const_myneta13.education.unique()).fillna('Unknown').values)\n",
    "edu_13 = list(pd.Series(candid_myneta13.education.unique()).fillna('Unknown').values) + list(pd.Series(const_myneta23.education.unique()).fillna('Unknown').values)\n",
    "edu_18 = list(pd.Series(candid_myneta18.education.unique()).fillna('Unknown').values) + list(pd.Series(candid_myneta18.education.unique()).fillna('Unknown').values)\n",
    "\n",
    "temp_list = edu_23 + edu_13 + edu_18\n",
    "edu = list(set(temp_list))\n",
    "len(edu)"
   ]
  },
  {
   "cell_type": "code",
   "execution_count": 10,
   "id": "6155c4df-8e90-4a7e-9381-c8b7efefe7e7",
   "metadata": {},
   "outputs": [
    {
     "data": {
      "text/plain": [
       "1427"
      ]
     },
     "execution_count": 10,
     "metadata": {},
     "output_type": "execute_result"
    }
   ],
   "source": [
    "encoding = tiktoken.encoding_for_model(\"gpt-3.5-turbo\")\n",
    "len(encoding.encode(edu_command + '\"' + '\"\\n\"'.join(edu[:50]) + '\"'))"
   ]
  },
  {
   "cell_type": "code",
   "execution_count": 63,
   "id": "51a9f99b-0b21-40fa-bdc3-d8907fff26d1",
   "metadata": {},
   "outputs": [
    {
     "name": "stdout",
     "output_type": "stream",
     "text": [
      "133th run for count 0, start 6650 and end 6700\n",
      "{'10 th fail govt school gollahalli,tumkur district madhugiri': 4, '10th Fail, Govt High School, Chintamani': 4, '2nd PUC from B.A.J.S.S.P.U.College Rannebanur 2007': 5, '2nd PUC, Govt. Pre-University College, Arasikere Hassan Dist.': 5, '5th std,medical uppunda,kundapura taluk,udupi district': 3, '7 th standard Government urdu school kolar 1966-67': 3, '7TH STANDARD GOVERNMENT HIGHER PRIMARY SCHOOL DONABAGATT BHADRAVATI TALUK': 3, '7th Standard in Govt. High School, Arkere Shrirangapattana Taluk (1994-95).': 4, '7th pass urdu government high school,alipura in 1996-97': 4, '7th standard, MVVS, Afzalpur, year of passing - 1988': 4, '7th std,ahamadhiya primary school,mandi mohalla, mysore': 4, '9th Pass Dayananda Boys High School Banglore-78 Karnataka In Year 1995-96': 4, '9th from Govt. Urdu School Atnoor': 4, '9th std.,Silver jublee high school, New town, bhadravathi': 4, 'B.Com. From Canara College Mangalore University 2000': 7, 'B.Sc. from Government Arts Science College, Karwar in 1992': 7, 'B.sc from kalpathuru college, Tiptor, 7 to 12th huliyuru kankahalli Chikknayakanhalli Taluk.': 7, 'BA Degree': 7, 'BA Mysore universiry 1989-90': 7, 'BA from Government first grade collage in 2022': 7, 'Bachelor of Arts, Kuvempu University, Shivamogga, 2016-17': 7, 'Correspondent Candidate-2007': 101, 'Diploma In Electrical And electronics 2017 Impal Politechnical Karnataka Banglore': 6, 'Diploma In Multimedia [Computer Course] 4tth Year DMC [Diploma in Fine Arta 2004]': 6, 'Diploma in Civil Engineering From D.A.C.G. Polytechnic Chikkamagalur-2005-06': 6, 'Govt High School, Gunjahalli , Raichur(Dis)': 4, 'I.T.I from S .Training Centre Davanagere-1986-87': 10, 'ITI Passed from Government College Dharwad in 2004': 10, 'KBMPS - 1996': 7, 'M.A(ECO),BA.LIB(sic),KSAS': 8, 'M.D(Ayurveda) Govt Ayurveda Medical University, Bangalore Year Year 1992 and B.S.M.A, From Govt Ayurveda Medical University, Bangalore Year 1977': 9, 'MA GULBARGA UNIVERSITY 2002': 8, 'MA,Mphil ,PHD': 9, 'MBA from Dr. C.V. Raman University, Bilaspur in 2014': 8, 'MBBS From Bangalore Medical College In 2005 MD From Jawaharlala Neharu Medical Colleg Belgaum In 2009': 9, 'PASSED PUC IN THE YEAR 1972-73': 5, 'PDJ pu college ,bijapur,2002': 7, 'PUC 1977-78 St josef colleg banglore': 5, 'PUC 2011 Kadasideshwara Kala College Hubbali , University PU Educational Board Bangalore': 5, 'PUC Form B.E.S. College, Banglorge-1984': 5, 'PUC from Poorna Prajna Evening College, Udupi in 1995-97, Diploma in Information Technology from MAHE, Manipal in 2000-2001': 7, 'S.S.L.C.Pass At Darga Road Gulbarga 1985': 4, 'SECOND CLASS, -GOVERNMENT SENIOR PRIMARY KANNADA SCHOOL , MASUR TALUK , HIREKERUR.': 3, 'SSLC ,Jawahar Navodaya School Dharwad': 4, 'SSLC FROM THE NEW ENGLISH HIGH SCHOOL ALNAVAR': 4, 'SSLC Gyanajyothi Village High school Chithrdurga 1993': 4, 'SSLC SPP College Nelmangala,1997-98': 4, 'Secondary School Leaving Certificate Pass From H C E S Gadag - 1976': 4, 'government girls pre university college chitradurga': 7, 'in 1997-98': 101} \n",
      "\n",
      "setdiff is []\n",
      "50 50\n",
      "True\n",
      "average time taken for 20 runs 36.27839659998426\n"
     ]
    }
   ],
   "source": [
    "\n",
    "new_dict = {}\n",
    "completion = ''\n",
    "encoding = tiktoken.encoding_for_model(\"gpt-3.5-turbo\")\n",
    "length = []\n",
    "asserts = []\n",
    "decodes = []\n",
    "BATCH_SIZE = 50\n",
    "###################################### CHANGE BEFORE PRODUCTION ########################################\n",
    "for i in range(ceil(len(edu)/BATCH_SIZE)): #116,125,133\n",
    "###################################### CHANGE BEFORE PRODUCTION ########################################\n",
    "    before = time.perf_counter()\n",
    "    prev_response = completion\n",
    "    print(i-1,'number of runs completed') if (i%100==0 and i!=0) else None\n",
    "    success, break_outer = False, False\n",
    "    count = 0\n",
    "    \n",
    "    \n",
    "    while (not success) and (count<2):\n",
    "        try:\n",
    "            start = i*BATCH_SIZE\n",
    "            end = len(edu) if (start + BATCH_SIZE > len(edu)) else start + BATCH_SIZE\n",
    "            print(f\"{i}th run for count {count}, start {start} and end {end}\")\n",
    "            \n",
    "            string = '\"' + '\"\\n\"'.join(temp_list) + '\"'\n",
    "            completion = openai.ChatCompletion.create(\n",
    "              model=\"gpt-3.5-turbo\",\n",
    "                \n",
    "              messages=[\n",
    "                {\"role\": \"system\", \"content\": f\"You are a helpful assistant and also a python programmer. {edu_command}\"},\n",
    "                {\"role\": \"user\", \"content\": \"vijaya collage\"},\n",
    "                {\"role\": \"assistant\", \"content\": '{\"vijaya collage\": 7}'},\n",
    "                {\"role\": \"user\", \"content\": \"B.COM DEGREE FROM SB HIGH SCHOOL KALABURAGI AND SB COLLEGE KALABURAGI IN 1970-71,L.L.B FROM SSL LAW COLLEGE KALBURAGI IN 1973-74\"},\n",
    "                {\"role\": \"assistant\", \"content\": '{\"B.COM DEGREE FROM SB HIGH SCHOOL KALABURAGI AND SB COLLEGE KALABURAGI IN 1970-71,L.L.B FROM SSL LAW COLLEGE KALBURAGI IN 1973-74\": 7}'},\n",
    "                {\"role\": \"user\", \"content\": \"5th Pass From Marathi Primary School Kuduchi 1992\"},\n",
    "                {\"role\": \"assistant\", \"content\": '{\"5th Pass From Marathi Primary School Kuduchi 1992\": 4}'},\n",
    "                {\"role\": \"user\", \"content\": \"B.Ed from Kamala Nehru College Bengalore in 2007, B.A from B K College Belagavi in 2004\"},\n",
    "                {\"role\": \"assistant\", \"content\": '{\"B.Ed from Kamala Nehru College Bengalore in 2007, B.A from B K College Belagavi in 2004\": 7}'}, \n",
    "                {\"role\": \"user\", \"content\": string}\n",
    "              ]\n",
    "            )\n",
    "            # print(completion)\n",
    "        except:\n",
    "            count += 1\n",
    "            print('count',count,'for run number',i)\n",
    "            time.sleep(60) if count == 1 else None\n",
    "            break_outer = True if count > 1 else False\n",
    "        else:\n",
    "            try:\n",
    "                temp_dict = dict(json.loads(completion['choices'][0]['message']['content']))\n",
    "                assert len(list(temp_dict.keys()))==(end-start)\n",
    "                new_dict.update({edu[j]:list(temp_dict.values())[j-start] for j in range(start,end)}) # = str_dict + completion['choices'][0]['message']['content'].strip() + '\\n'\n",
    "            except AssertionError:\n",
    "                count += 1\n",
    "                asserts.append(i)\n",
    "                print(f\"Assertion failed for {i}th run for count {count}, start {start} and end {end}\")\n",
    "            except JSONDecodeError:\n",
    "                count += 1\n",
    "                decodes.append(i)\n",
    "                print(f\"JSON decoding failed for {i}th run for count {count}, start {start} and end {end}\")\n",
    "            else:\n",
    "                success = True\n",
    "                prev_response = completion\n",
    "                time.sleep(1)\n",
    "    length.append(time.perf_counter()-before)\n",
    "    if break_outer:\n",
    "        print('breaking at run',i)\n",
    "        break\n",
    "\n",
    "print(\"average time taken for 20 runs\",mean(length))"
   ]
  },
  {
   "cell_type": "code",
   "execution_count": 67,
   "id": "7b052c6e-be2d-4cd1-b10a-9a3caaa1594b",
   "metadata": {},
   "outputs": [],
   "source": [
    "data_json = json.dumps(temp_dict)\n",
    "with open('education.json','w',encoding='utf-8') as file:\n",
    "    file.write(data_json)"
   ]
  },
  {
   "cell_type": "markdown",
   "id": "e2b411cf",
   "metadata": {},
   "source": [
    "### Cleaning the JSONs"
   ]
  },
  {
   "cell_type": "code",
   "execution_count": 7,
   "id": "c18e0b7d-f67b-4ad5-b70e-7730c50dd4e9",
   "metadata": {},
   "outputs": [],
   "source": [
    "with open('education.json','r',encoding='utf-8') as file:\n",
    "    education = dict(json.loads(file.read()))\n",
    "with open('profession.json','r',encoding='utf-8') as file:\n",
    "    profession = dict(json.loads(file.read()))"
   ]
  },
  {
   "cell_type": "code",
   "execution_count": 34,
   "id": "eaa63d2a-779d-480a-b7f0-dd4c11413e48",
   "metadata": {},
   "outputs": [],
   "source": [
    "for key in profession.keys():\n",
    "    temp = profession[key]\n",
    "    temp = [categ_dict[value] for value in temp]\n",
    "    profession[key] = temp"
   ]
  },
  {
   "cell_type": "code",
   "execution_count": 35,
   "id": "9741c9ba",
   "metadata": {},
   "outputs": [],
   "source": [
    "for key in education.keys():\n",
    "    temp = education[key]\n",
    "    temp = edu_categ_dict[temp].split(':')[0]\n",
    "    education[key] = temp"
   ]
  },
  {
   "cell_type": "code",
   "execution_count": 9,
   "id": "8e7f5109",
   "metadata": {},
   "outputs": [],
   "source": [
    "with open('education.json','w',encoding='utf-8') as file:\n",
    "    file.write(json.dumps(education))\n",
    "with open('profession.json','w',encoding='utf-8') as file:\n",
    "    file.write(json.dumps(profession))"
   ]
  },
  {
   "cell_type": "code",
   "execution_count": null,
   "id": "f638597a",
   "metadata": {},
   "outputs": [],
   "source": []
  },
  {
   "cell_type": "code",
   "execution_count": null,
   "id": "c509d897",
   "metadata": {},
   "outputs": [],
   "source": []
  },
  {
   "cell_type": "markdown",
   "id": "b4b5d2fc",
   "metadata": {},
   "source": [
    "## Resolving Name conflicts for candidates' names\n",
    "\n",
    "The names from the MyNeta dataset and other votes dataset were slightly different in spellings, positions, abbreviations, titles, etc.\n",
    "So, GPT 3.5 Turbo was used to match similar names for candidates in a particular constituency in a particular year."
   ]
  },
  {
   "cell_type": "code",
   "execution_count": 70,
   "id": "77505fa5",
   "metadata": {},
   "outputs": [],
   "source": [
    "const_myneta13 = pd.read_csv(f'{DIR}/2013 Elections/winners2013MyNeta.csv',index_col=0)\n",
    "const_myneta18 = pd.read_csv(f'{DIR}/2018 Elections/winners2018MyNeta.csv',index_col=0)\n",
    "const_myneta23 = pd.read_csv(f'{DIR}/2023 Elections/winners2023MyNeta.csv',index_col=0)\n",
    "candid_myneta13 = pd.read_csv(f'{DIR}/2013 Elections/candidates2013MyNeta.csv',index_col=0)\n",
    "candid_myneta18 = pd.read_csv(f'{DIR}/2018 Elections/candidates2018MyNeta.csv',index_col=0)\n",
    "candid_myneta23 = pd.read_csv(f'{DIR}/2023 Elections/candidates2023MyNeta.csv',index_col=0)\n",
    "candid_opencity13 = pd.read_csv(f'{DIR}/2013 Elections/candidates2013OpenCity.csv',index_col=0)\n",
    "const_opencity13 = pd.read_csv(f'{DIR}/2013 Elections/constituency2013OpenCity.csv',index_col=0)\n",
    "candid_eci18 = pd.read_csv(f'{DIR}/2018 Elections/candidates2018ECI.csv',index_col=0)\n",
    "const_eci18 = pd.read_csv(f'{DIR}/2018 Elections/constituency2018ECI.csv',index_col=0)\n",
    "candid_ndtv23 = pd.read_csv(f'{DIR}/2023 Elections/candidates2023NDTV.csv',index_col=0)\n",
    "const_ndtv23 = pd.read_csv(f'{DIR}/2023 Elections/constituency2023NDTV.csv',index_col=0)"
   ]
  },
  {
   "cell_type": "code",
   "execution_count": 71,
   "id": "46ba6ef9",
   "metadata": {},
   "outputs": [],
   "source": [
    "candid = {\n",
    "    2013:{},\n",
    "    2018:{},\n",
    "    2023:{}\n",
    "}\n",
    "\n",
    "for constituency in const_myneta13.constituency.unique():\n",
    "    temp_dict = {}\n",
    "    myneta = [name for name in candid_myneta13.loc[candid_myneta13.constituency==constituency,'name']]\n",
    "    opencity = [name for name in candid_opencity13.loc[candid_opencity13.constituency==constituency,'name']]\n",
    "    temp_dict['myneta'] = myneta\n",
    "    temp_dict['opencity'] = opencity\n",
    "    candid[2013][constituency] = temp_dict\n",
    "    temp_dict = {}\n",
    "    myneta = [name for name in candid_myneta18.loc[candid_myneta18.constituency==constituency,'name']]\n",
    "    eci = [name for name in candid_eci18.loc[candid_eci18.constituency==constituency,'name']]\n",
    "    temp_dict['myneta'] = myneta\n",
    "    temp_dict['eci'] = eci\n",
    "    candid[2018][constituency] = temp_dict\n",
    "    temp_dict = {}\n",
    "    myneta = [name for name in candid_myneta23.loc[candid_myneta23.constituency==constituency,'name']]\n",
    "    ndtv = [name for name in candid_ndtv23.loc[candid_ndtv23.constituency==constituency,'name']]\n",
    "    temp_dict['myneta'] = myneta\n",
    "    temp_dict['ndtv'] = ndtv\n",
    "    candid[2023][constituency] = temp_dict\n",
    "    "
   ]
  },
  {
   "cell_type": "code",
   "execution_count": 72,
   "id": "1acbb983",
   "metadata": {},
   "outputs": [],
   "source": [
    "with open('candid_names.json','w',encoding='utf-8') as file:\n",
    "    json.dump(candid, file)"
   ]
  },
  {
   "cell_type": "code",
   "execution_count": 73,
   "id": "765fc6e5",
   "metadata": {},
   "outputs": [],
   "source": [
    "with open('candid_names.json','r',encoding='utf-8') as file:\n",
    "    candid = json.load(file)"
   ]
  },
  {
   "cell_type": "code",
   "execution_count": 74,
   "id": "7931dc16",
   "metadata": {},
   "outputs": [],
   "source": [
    "name_command= f\"\"\"I am sending you two lists of names of people. You must match the names of people in the first list to the corresponding similar names in the second list.\n",
    "Give the output in a json format where the keys are the names in the first list and their corresponding values are their corresponding similar names from the second list.\n",
    "Note - You only need to exhaust the first list of names. That is, each name in the first list must match at most one similar name from the second list. However, vice versa need not be true in case that the second list has more names that the first.\n",
    "For a particular name in the first list, if you can't find a similar name in the second list, you must use its value in the json as \"Unknown\".\n",
    "Don't send anything else in the output other than the json because I will use python to convert it into a dictionary.\n",
    "\"\"\"\n",
    "input_ex1 = f\"\"\"list1 = {candid['2018']['Nippani']['myneta']}\n",
    "\n",
    "list1 = {candid['2018']['Nippani']['eci']}\"\"\"\n",
    "\n",
    "input_ex2 = f\"\"\"list1 = {candid['2018']['Anekal']['myneta']}\n",
    "\n",
    "list1 = {candid['2018']['Anekal']['eci']}\"\"\"\n",
    "\n",
    "input_ex3 = f\"\"\"list1 = {candid['2023']['Dharwad']['myneta']}\n",
    "\n",
    "list1 = {candid['2023']['Dharwad']['ndtv']}\"\"\""
   ]
  },
  {
   "cell_type": "code",
   "execution_count": 79,
   "id": "d13a71b2",
   "metadata": {},
   "outputs": [
    {
     "name": "stdout",
     "output_type": "stream",
     "text": [
      "76 th constituency starting\n",
      "151 th constituency starting\n",
      "76 th constituency starting\n",
      "count 1 for run number 113\n",
      "JSON decoding failed for 137th run for count 1, for constituency Chikkaballapur\n",
      "151 th constituency starting\n",
      "Assertion failed for 154th run for count 1, for constituency Gulbarga Uttar\n",
      "Assertion failed for 164th run for count 1, for constituency Kolar\n",
      "Assertion failed for 181th run for count 1, for constituency Bagepalli\n",
      "Assertion failed for 181th run for count 2, for constituency Bagepalli\n",
      "Assertion failed for 184th run for count 1, for constituency Molakalmuru\n",
      "Assertion failed for 184th run for count 2, for constituency Molakalmuru\n",
      "JSON decoding failed for 200th run for count 1, for constituency Nippani\n",
      "JSON decoding failed for 200th run for count 2, for constituency Nippani\n",
      "76 th constituency starting\n",
      "151 th constituency starting\n",
      "count 1 for run number 215\n",
      "average time taken for 1 constituency 12.378182662349511\n"
     ]
    }
   ],
   "source": [
    "new_dict = {year:{} for year in list(candid.keys())} \n",
    "completion = ''\n",
    "encoding = tiktoken.encoding_for_model(\"gpt-3.5-turbo\")\n",
    "openai.api_key = os.getenv('OPENAI_API_KEY')\n",
    "length = []\n",
    "asserts = []\n",
    "decodes = []\n",
    "error_dict = deepcopy(new_dict) ############################### change before production\n",
    "###################################### CHANGE BEFORE PRODUCTION ########################################\n",
    "for year in list(candid.keys()): ############################### change before production -- add list(candid.keys())\n",
    "###################################### CHANGE BEFORE PRODUCTION ########################################\n",
    "    constituencies = list(candid[year].keys())\n",
    "    list2_key = 'opencity' if year=='2013' else 'eci' if year=='2018' else 'ndtv'\n",
    "    const_dict = {constituency:{} for constituency in constituencies}\n",
    "    const_error_dict = deepcopy(const_dict)\n",
    "    for i in range(len(constituencies)):\n",
    "        before = time.perf_counter()\n",
    "        prev_response = completion\n",
    "        print(i+1,'th constituency starting') if (i%75==0 and i!=0) else None\n",
    "        success, break_outer = False, False\n",
    "        count = 0\n",
    "\n",
    "        while (not success) and (count<2): \n",
    "            try:\n",
    "                input_string = f\"\"\"list1 = {candid[year][constituencies[i]]['myneta']}\\n\\nlist2 = {candid[year][constituencies[i]][list2_key]}\"\"\"\n",
    "\n",
    "                completion = openai.ChatCompletion.create(\n",
    "                model=\"gpt-3.5-turbo\",\n",
    "                    \n",
    "                messages=[\n",
    "                    {\"role\": \"system\", \"content\": f\"You are a helpful assistant and also a python programmer. {name_command}\"},\n",
    "                    {\"role\": \"user\", \"content\": input_ex1},\n",
    "                    {\"role\": \"assistant\", \"content\": '{\\n    \"Anil Shivaji Kamate\": \"Anil Shivaji Kamate\",\\n    \"Jayaram Parasharam Mirajakarkaka\": \"Jayaram Parasharam Mirajakarkaka\",\\n    \"Kakasaheb Pandurang Patil\": \"Kakaso Pandurang Patil\",\\n    \"Kamat Ramesh Ishwar\": \"Kamat Ramesh Ishwar\",\\n    \"Rohini Shrimant Dixit\": \"Rohini Shrimant Dixit\",\\n    \"Sachin Kallappa Madhale\": \"Sachin Kallappa Madhale\",\\n    \"Sambhaji Bapuso Thoravat\": \"Sambhaji Bapuso Thoravat\",\\n    \"Sharad Ramagonda Patil\": \"Sharad Ramagowda Patil\",\\n    \"Shashikala Annasaheb Jolle\": \"Jolle Shashikala Annasaheb\",\\n    \"Vijaylakshmi Appasaheb Kurane\": \"Vijaylakshmi Appasaheb Kurane\"\\n}'},\n",
    "                    {\"role\": \"user\", \"content\": input_ex2},\n",
    "                    {\"role\": \"assistant\", \"content\": '{\\n    \"A.Narayanaswamy\": \"A.Narayanaswamy\",\\n    \"Amaresh.Y\": \"Amaresh.Y\",\\n    \"B.Shivanna\": \"B.Shivanna\",\\n    \"C.Narayanaswamy\": \"C.Narayanaswamy\",\\n    \"D.Mahadesh\": \"D.Mahadesh\",\\n    \"G. Srinivas\": \"G. Srinivas\",\\n    \"M.Muniyallamma\": \"M.Muniyallamma\",\\n    \"Munikrishnappa\": \"Munikrishnappa\",\\n    \"Venkateshappa\": \"Venkateshappa\",\\n    \"Y.Ravindra\": \"Y.Ravindra\"\\n}'},\n",
    "                    {\"role\": \"user\", \"content\": input_string}\n",
    "                ]\n",
    "                )\n",
    "            except:\n",
    "                count += 1\n",
    "                print('count',count,'for run number',i)\n",
    "                time.sleep(90) if count == 1 else None\n",
    "                # break_outer = True if count > 1 else False\n",
    "            else:\n",
    "                try:\n",
    "                    temp_dict = dict(json.loads(completion['choices'][0]['message']['content']))\n",
    "                    assert len(np.setxor1d(list(temp_dict.keys()),candid[year][constituencies[i]]['myneta']))==0\n",
    "                    assert len(list(temp_dict))==len(set(candid[year][constituencies[i]]['myneta']))\n",
    "                    const_dict[constituencies[i]].update(temp_dict) # \n",
    "                except AssertionError:\n",
    "                    const_error_dict[constituencies[i]].update({'setxor':np.setxor1d(list(temp_dict.keys()),candid[year][constituencies[i]]['myneta']),\n",
    "                                             'keys':list(temp_dict.keys()),\n",
    "                                             'myneta':set(candid[year][constituencies[i]]['myneta'])})\n",
    "                    count += 1\n",
    "                    asserts.append(i)\n",
    "                    print(f\"Assertion failed for {i+1}th run for count {count}, for constituency {constituencies[i]}\")\n",
    "                except JSONDecodeError:\n",
    "                    const_error_dict[constituencies[i]].update({'completion':completion['choices'][0]['message']['content']})\n",
    "                    count += 1\n",
    "                    decodes.append(i)\n",
    "                    print(f\"JSON decoding failed for {i+1}th run for count {count}, for constituency {constituencies[i]}\")\n",
    "                else:\n",
    "                    success = True\n",
    "                    prev_response = completion\n",
    "                    time.sleep(3)\n",
    "        length.append(time.perf_counter()-before)\n",
    "        if break_outer:\n",
    "            print('breaking at run',i)\n",
    "            break\n",
    "    new_dict[year].update(const_dict)\n",
    "\n",
    "\n",
    "print(\"average time taken for 1 constituency\",mean(length))"
   ]
  },
  {
   "cell_type": "code",
   "execution_count": 125,
   "id": "186a6157",
   "metadata": {},
   "outputs": [],
   "source": [
    "with open('name_merge.json','w',encoding='utf-8') as f:\n",
    "    json.dump(new_dict,f)"
   ]
  },
  {
   "cell_type": "code",
   "execution_count": null,
   "id": "3bf85218",
   "metadata": {},
   "outputs": [],
   "source": []
  },
  {
   "cell_type": "code",
   "execution_count": null,
   "id": "95129643",
   "metadata": {},
   "outputs": [],
   "source": []
  }
 ],
 "metadata": {
  "kernelspec": {
   "display_name": "Python 3 (ipykernel)",
   "language": "python",
   "name": "python3"
  },
  "language_info": {
   "codemirror_mode": {
    "name": "ipython",
    "version": 3
   },
   "file_extension": ".py",
   "mimetype": "text/x-python",
   "name": "python",
   "nbconvert_exporter": "python",
   "pygments_lexer": "ipython3",
   "version": "3.11.2"
  }
 },
 "nbformat": 4,
 "nbformat_minor": 5
}
