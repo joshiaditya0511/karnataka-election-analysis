{
 "cells": [
  {
   "cell_type": "code",
   "execution_count": 3,
   "metadata": {},
   "outputs": [],
   "source": [
    "import pandas as pd\n",
    "import os\n",
    "import json\n",
    "import numpy as np\n",
    "# import streamlit as st\n",
    "# import streamlit.components.v1 as components\n",
    "import plotly.express as px\n",
    "import plotly.graph_objs as go\n",
    "import sys\n",
    "DIR = os.getenv('KEA_BASE_DIR')\n",
    "sys.path.append(DIR)\n",
    "import application\n",
    "from application import *"
   ]
  },
  {
   "cell_type": "code",
   "execution_count": 4,
   "metadata": {},
   "outputs": [],
   "source": [
    "with open(\"combined.json\",'r',encoding='utf-8') as file:\n",
    "    acmap = json.load(file)\n",
    "geojson = acmap"
   ]
  },
  {
   "cell_type": "code",
   "execution_count": null,
   "metadata": {},
   "outputs": [],
   "source": []
  },
  {
   "cell_type": "code",
   "execution_count": null,
   "metadata": {},
   "outputs": [],
   "source": []
  },
  {
   "cell_type": "code",
   "execution_count": null,
   "metadata": {},
   "outputs": [],
   "source": []
  },
  {
   "cell_type": "code",
   "execution_count": 15,
   "metadata": {},
   "outputs": [
    {
     "name": "stderr",
     "output_type": "stream",
     "text": [
      "C:\\Users\\bhagy\\Documents\\Jupyter Notebooks\\Karnataka Election Analysis\\application.py:67: UserWarning:\n",
      "\n",
      "pandas only supports SQLAlchemy connectable (engine/connection) or database string URI or sqlite3 DBAPI2 connection. Other DBAPI2 objects are not tested. Please consider using SQLAlchemy.\n",
      "\n"
     ]
    }
   ],
   "source": [
    "ndf = get_parliament_seats()\n",
    "BJY_const_list = ['Raichur','Raichur Rural','Bellary','Bellary City','Molakalmuru','Challakere','Hiriyur','Chiknayakanhalli',\n",
    "                  'Tiptur','Turuvekere','Nagamangala','Melukote','Mandya','Shrirangapattana','Chamundeshwari','Krishnaraja',\n",
    "                  'Chamaraja','Narasimharaja','Varuna','Nanjangud','Gundlupet']\n",
    "ndf_BJY = ndf.loc[ndf.constituency.isin(BJY_const_list)].copy()\n",
    "\n",
    "def show_year(ndf,ndf_BJY):\n",
    "    base_layer = px.choropleth_mapbox(\n",
    "        ndf,\n",
    "        geojson=geojson,\n",
    "        locations='const_num',\n",
    "        featureidkey='properties.AC_CODE',\n",
    "        color='party',\n",
    "        color_discrete_map={\n",
    "            'INC': '#0D5BE1',\n",
    "            'BJP': '#FF7500',\n",
    "            'IND': 'grey',\n",
    "            'JD(S)': 'green',\n",
    "            'KRPP' : 'brown',\n",
    "            'SKP' : 'yellow'\n",
    "        },\n",
    "        labels={'party': 'Winning Party'},\n",
    "        hover_data=['name', 'constituency', 'party'],\n",
    "        zoom=7,\n",
    "        opacity=0.1,\n",
    "    )\n",
    "    BJY_layer = px.choropleth_mapbox(\n",
    "        ndf_BJY,\n",
    "        geojson=geojson,\n",
    "        locations='const_num',\n",
    "        featureidkey='properties.AC_CODE',\n",
    "        color='party',\n",
    "        color_discrete_map={\n",
    "            'INC': '#0D5BE1',\n",
    "            'BJP': '#FF7500',\n",
    "            'IND': 'grey',\n",
    "            'JD(S)': 'green',\n",
    "            'KRPP' : 'brown',\n",
    "            'SKP' : '#A51C30',\n",
    "            'KJP':'lightgreen',\n",
    "            'BSRC':'blue'\n",
    "        },\n",
    "        labels={'party': 'Winning Party'},\n",
    "        hover_data=['name', 'constituency', 'party'],\n",
    "        zoom=7,\n",
    "        opacity=1\n",
    "    )\n",
    "\n",
    "    fig = go.Figure()\n",
    "    for trace in base_layer.data:\n",
    "        fig.add_trace(trace)\n",
    "    for trace in BJY_layer.data:\n",
    "        fig.add_trace(trace)\n",
    "\n",
    "    fig.update_traces(\n",
    "        hovertemplate=\"<b>Winner:</b> %{customdata[0]}<br><b>Constituency:</b> %{customdata[1]}<br><b>Party:</b> %{customdata[2]}\"\n",
    "    )            \n",
    "\n",
    "    fig.update_layout(\n",
    "        mapbox_style=\"white-bg\",\n",
    "        mapbox_zoom=6,\n",
    "        mapbox_center={\"lat\": 15.3173, \"lon\": 76.7139},  # Center coordinates for Karnataka\n",
    "        uirevision='lock',  # Disable user-driven changes in the view\n",
    "        dragmode=False,  # Disable panning and zooming\n",
    "        plot_bgcolor='rgba(0,0,0,0)',  # This sets the plot background to transparent.\n",
    "        paper_bgcolor='rgba(0,0,0,0)', # rgba(14,17,23,1.000)\n",
    "        title_font=dict(family=\"Cambria\", size=18, color=\"black\"),\n",
    "        legend_title_font=dict(family=\"Cambria\", size=14, color=\"black\"),\n",
    "        legend_font=dict(family=\"Cambria\", size=14, color=\"black\"),\n",
    "    )\n",
    "    fig.update_layout(geo=dict(bgcolor= 'rgba(0,0,0,0)'))\n",
    "    fig.update_geos(visible=False)\n",
    "    fig.update_layout(margin={\"r\": 0, \"t\": 0, \"l\": 0, \"b\": 0})\n",
    "    fig.update_layout(width=600,height=700)\n",
    "    return fig\n",
    "\n",
    "show_year(ndf[ndf.year==2018],ndf_BJY[ndf_BJY.year==2018]).write_html(f'{DIR}/Figures/BJY/Map2018.html')\n",
    "show_year(ndf[ndf.year==2023],ndf_BJY[ndf_BJY.year==2023]).write_html(f'{DIR}/Figures/BJY/Map2023.html')"
   ]
  },
  {
   "cell_type": "code",
   "execution_count": null,
   "metadata": {},
   "outputs": [],
   "source": []
  },
  {
   "cell_type": "code",
   "execution_count": 19,
   "metadata": {},
   "outputs": [
    {
     "name": "stderr",
     "output_type": "stream",
     "text": [
      "C:\\Users\\bhagy\\Documents\\Jupyter Notebooks\\Karnataka Election Analysis\\application.py:67: UserWarning:\n",
      "\n",
      "pandas only supports SQLAlchemy connectable (engine/connection) or database string URI or sqlite3 DBAPI2 connection. Other DBAPI2 objects are not tested. Please consider using SQLAlchemy.\n",
      "\n"
     ]
    }
   ],
   "source": [
    "ndf = get_parliament_seats()\n",
    "ndf.year = ndf.year.astype(str)\n",
    "\n",
    "def show_year(ndf_year):\n",
    "    fig = px.choropleth_mapbox(\n",
    "        ndf_year,\n",
    "        geojson=geojson,\n",
    "        locations='const_num',\n",
    "        featureidkey='properties.AC_CODE',\n",
    "        color='party',\n",
    "        color_discrete_map={\n",
    "            'INC': '#0D5BE1',\n",
    "            'BJP': '#FF7500',\n",
    "            'IND': 'grey',\n",
    "            'JD(S)': 'green',\n",
    "            'KRPP' : 'brown',\n",
    "            'SKP' : '#A51C30',\n",
    "            'KJP':'lightgreen',\n",
    "            'BSRC':'blue'\n",
    "        },\n",
    "        labels={'party': 'Winning Party'},\n",
    "        hover_data=['name', 'constituency', 'party'],\n",
    "        zoom=7,\n",
    "    )\n",
    "\n",
    "    fig.update_traces(\n",
    "        hovertemplate=\"<b>Winner:</b> %{customdata[0]}<br><b>Constituency:</b> %{customdata[1]}<br><b>Party:</b> %{customdata[2]}\"\n",
    "    )\n",
    "\n",
    "\n",
    "    fig.update_layout(\n",
    "        mapbox_style=\"white-bg\",\n",
    "        mapbox_zoom=6.3,\n",
    "        mapbox_center={\"lat\": 13.8173, \"lon\": 76.7139},  # Center coordinates for Karnataka (latitude offset for better visualization)\n",
    "        uirevision='lock',  # Disable user-driven changes in the view\n",
    "        dragmode=False,  # Disable panning and zooming\n",
    "        plot_bgcolor='rgba(0,0,0,0)',  # This sets the plot background to transparent.\n",
    "        paper_bgcolor='rgba(0,0,0,0)', # rgba(14,17,23,1.000)\n",
    "        title_font=dict(family=\"Cambria\", size=18, color=\"black\"),\n",
    "        legend_title_font=dict(family=\"Cambria\", size=14, color=\"black\"),\n",
    "        legend_font=dict(family=\"Cambria\", size=14, color=\"black\"),\n",
    "    )\n",
    "    fig.update_layout(geo=dict(bgcolor= 'rgba(0,0,0,0)'))\n",
    "    fig.update_geos(visible=False)  # Fit the map to the boundaries of the locations\n",
    "    fig.update_layout(margin={\"r\": 0, \"t\": 0, \"l\": 0, \"b\": 0})\n",
    "    fig.update_layout(width=1300,height=1150)\n",
    "    return fig\n",
    "\n",
    "show_year(ndf[ndf.year=='2013']).write_html('Seat Distribution/Map2013.html')\n",
    "show_year(ndf[ndf.year=='2018']).write_html('Seat Distribution/Map2018.html')\n",
    "show_year(ndf[ndf.year=='2023']).write_html('Seat Distribution/Map2023.html')"
   ]
  },
  {
   "cell_type": "code",
   "execution_count": null,
   "metadata": {},
   "outputs": [],
   "source": []
  },
  {
   "cell_type": "code",
   "execution_count": null,
   "metadata": {},
   "outputs": [],
   "source": []
  },
  {
   "cell_type": "code",
   "execution_count": null,
   "metadata": {},
   "outputs": [],
   "source": []
  },
  {
   "cell_type": "code",
   "execution_count": null,
   "metadata": {},
   "outputs": [],
   "source": []
  },
  {
   "cell_type": "code",
   "execution_count": null,
   "metadata": {},
   "outputs": [],
   "source": []
  }
 ],
 "metadata": {
  "kernelspec": {
   "display_name": "Python 3",
   "language": "python",
   "name": "python3"
  },
  "language_info": {
   "codemirror_mode": {
    "name": "ipython",
    "version": 3
   },
   "file_extension": ".py",
   "mimetype": "text/x-python",
   "name": "python",
   "nbconvert_exporter": "python",
   "pygments_lexer": "ipython3",
   "version": "3.11.2"
  },
  "orig_nbformat": 4
 },
 "nbformat": 4,
 "nbformat_minor": 2
}
