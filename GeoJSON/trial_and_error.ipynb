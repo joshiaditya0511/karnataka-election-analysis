{
 "cells": [
  {
   "cell_type": "code",
   "execution_count": 3,
   "id": "e165108a",
   "metadata": {},
   "outputs": [],
   "source": [
    "import pandas as pd\n",
    "import os\n",
    "import json\n",
    "import numpy as np\n",
    "# import streamlit as st\n",
    "# import streamlit.components.v1 as components\n",
    "import plotly.express as px\n",
    "import plotly.graph_objs as go\n",
    "import sys\n",
    "DIR = os.getenv('KEA_BASE_DIR')\n",
    "sys.path.append(DIR)\n",
    "import application\n",
    "from application import *"
   ]
  },
  {
   "cell_type": "code",
   "execution_count": null,
   "id": "a9ad0ad2",
   "metadata": {},
   "outputs": [],
   "source": []
  },
  {
   "cell_type": "code",
   "execution_count": null,
   "id": "65e18332",
   "metadata": {},
   "outputs": [],
   "source": []
  },
  {
   "cell_type": "code",
   "execution_count": 60,
   "id": "32ef612b",
   "metadata": {},
   "outputs": [],
   "source": [
    "# Reading the GeoJSON\n",
    "with open(\"AC_Boundary_simplified.json\",'r',encoding='utf-8') as file:\n",
    "    acmap = json.loads(file.read())"
   ]
  },
  {
   "cell_type": "code",
   "execution_count": 61,
   "id": "aa087bae",
   "metadata": {},
   "outputs": [
    {
     "data": {
      "text/plain": [
       "{'OBJECTID': 610,\n",
       " 'AC_CODE': '1',\n",
       " 'AC_NAME': 'Nippani',\n",
       " 'PC_CODE': '01',\n",
       " 'KGISDistri': '01',\n",
       " 'AC_NAME_KN': 'ನಿಪ್ಪಾಣಿ',\n",
       " 'Shape_STAr': 425991971.009,\n",
       " 'Shape_STLe': 207237.810237}"
      ]
     },
     "execution_count": 61,
     "metadata": {},
     "output_type": "execute_result"
    }
   ],
   "source": [
    "# This part of the JSON contains critical information\n",
    "acmap['features'][0]['properties']"
   ]
  },
  {
   "cell_type": "code",
   "execution_count": 62,
   "id": "1de7c697",
   "metadata": {},
   "outputs": [],
   "source": [
    "# Fetch the constituency number and the corresponding constituency name from GeoJSON and convert to Dataframe\n",
    "\n",
    "temp_dict = {}\n",
    "\n",
    "for feature in acmap['features']:\n",
    "    temp_dict.update({int(feature['properties']['AC_CODE']):feature['properties']['AC_NAME'].strip()})"
   ]
  },
  {
   "cell_type": "code",
   "execution_count": 63,
   "id": "0fe71fc3",
   "metadata": {},
   "outputs": [],
   "source": [
    "# Fetch the constituency number and the corresponding constituency name from OpenCity dataset and convert to Dataframe\n",
    "\n",
    "with open(f\"{DIR}/2013 Elections\\const_num.json\",'r',encoding='utf-8') as file:\n",
    "    const_num = json.loads(file.read())"
   ]
  },
  {
   "cell_type": "code",
   "execution_count": 66,
   "id": "a43730e3",
   "metadata": {},
   "outputs": [],
   "source": [
    "# Correcting constituency names and numbers in the GeoJSON\n",
    "for feature in acmap['features']:\n",
    "    feature['properties']['AC_NAME'] = const_num['Constituency Name'][feature['properties']['AC_CODE'].lstrip('0')]\n",
    "    feature['properties']['AC_CODE'] = feature['properties']['AC_CODE'].lstrip('0')"
   ]
  },
  {
   "cell_type": "code",
   "execution_count": 67,
   "id": "5da5d988",
   "metadata": {},
   "outputs": [],
   "source": [
    "# Saving the JSON\n",
    "with open(\"AC_Boundary_simplified.json\",'w',encoding='utf-8') as file:\n",
    "    file.write(json.dumps(acmap))"
   ]
  },
  {
   "cell_type": "code",
   "execution_count": null,
   "id": "e9dc54e8",
   "metadata": {},
   "outputs": [],
   "source": []
  },
  {
   "cell_type": "code",
   "execution_count": 68,
   "id": "33fd9d63-666d-49e3-900d-67111f380971",
   "metadata": {},
   "outputs": [],
   "source": [
    "with open(\"BBMP.json\",'r',encoding='utf-8') as file:\n",
    "    bbmp = json.loads(file.read())"
   ]
  },
  {
   "cell_type": "code",
   "execution_count": 69,
   "id": "513188a5-43d8-46bb-a23b-cbb421655814",
   "metadata": {},
   "outputs": [],
   "source": [
    "# Correcting constituency names and numbers in the GeoJSON\n",
    "for feature in bbmp['features']:\n",
    "    feature['properties']['AC_NAME'] = const_num['Constituency Name'][feature['properties']['AC_CODE'].lstrip('0')]\n",
    "    feature['properties']['AC_CODE'] = feature['properties']['AC_CODE'].lstrip('0')"
   ]
  },
  {
   "cell_type": "code",
   "execution_count": 70,
   "id": "c9f29952-b857-41d0-9469-b46ec9c6afb5",
   "metadata": {},
   "outputs": [],
   "source": [
    "# Saving the JSON\n",
    "with open(\"BBMP.json\",'w',encoding='utf-8') as file:\n",
    "    json.dump(bbmp, file)"
   ]
  },
  {
   "cell_type": "code",
   "execution_count": null,
   "id": "2268444d-cbf4-433a-8a0a-4ad3d6cbdc7d",
   "metadata": {},
   "outputs": [],
   "source": []
  },
  {
   "cell_type": "code",
   "execution_count": 71,
   "id": "488858e6-85c8-4c16-9913-ab121445da67",
   "metadata": {},
   "outputs": [],
   "source": [
    "# Define a scaling factor\n",
    "scale_factor = 6.25\n",
    "\n",
    "VERTICAL_OFFSET = 1.9\n",
    "HORIZONTAL_OFFSET = 0.6\n",
    "\n",
    "# Define center point of your map for scaling\n",
    "# Update the code here to handle list of coordinates\n",
    "num_coords = 0\n",
    "total_lat = 0\n",
    "total_lon = 0\n",
    "\n",
    "for feature in bbmp['features']:\n",
    "    for ring in feature['geometry']['coordinates']:\n",
    "        for coord in ring:\n",
    "            total_lat += coord[1]\n",
    "            total_lon += coord[0]\n",
    "            num_coords += 1\n",
    "\n",
    "center_lat = total_lat / num_coords\n",
    "center_lon = total_lon / num_coords\n",
    "\n",
    "# Iterate over all coordinates and scale\n",
    "for feature in bbmp['features']:\n",
    "    for ring in feature['geometry']['coordinates']:\n",
    "        for coord in ring:\n",
    "            # Calculate offset from center point\n",
    "            lat_offset = coord[1] - center_lat\n",
    "            lon_offset = coord[0] - center_lon\n",
    "\n",
    "            # Scale offset and recenter\n",
    "            coord[1] = center_lat + (lat_offset * scale_factor) + VERTICAL_OFFSET\n",
    "            coord[0] = center_lon + (lon_offset * scale_factor) + HORIZONTAL_OFFSET\n",
    "\n",
    "# Save your scaled GeoJSON\n",
    "with open('scaled_BBMP.json', 'w') as f:\n",
    "    json.dump(bbmp, f)"
   ]
  },
  {
   "cell_type": "code",
   "execution_count": 72,
   "id": "f1cf2275-5ff1-4ce1-82a2-39c79a8788ab",
   "metadata": {},
   "outputs": [],
   "source": [
    "with open('AC_Boundary_simplified.json', 'r') as f:\n",
    "    acmap = json.load(f)\n",
    "\n",
    "acmap['features'].extend(bbmp['features'])\n",
    "\n",
    "# Save combined GeoJSON\n",
    "with open('combined.json', 'w') as f:\n",
    "    json.dump(acmap, f)"
   ]
  },
  {
   "cell_type": "code",
   "execution_count": null,
   "id": "040a5448",
   "metadata": {},
   "outputs": [],
   "source": []
  },
  {
   "cell_type": "code",
   "execution_count": null,
   "id": "a1623e90",
   "metadata": {},
   "outputs": [],
   "source": []
  }
 ],
 "metadata": {
  "kernelspec": {
   "display_name": "Python 3 (ipykernel)",
   "language": "python",
   "name": "python3"
  },
  "language_info": {
   "codemirror_mode": {
    "name": "ipython",
    "version": 3
   },
   "file_extension": ".py",
   "mimetype": "text/x-python",
   "name": "python",
   "nbconvert_exporter": "python",
   "pygments_lexer": "ipython3",
   "version": "3.11.2"
  }
 },
 "nbformat": 4,
 "nbformat_minor": 5
}
